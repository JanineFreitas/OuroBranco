{
  "nbformat": 4,
  "nbformat_minor": 0,
  "metadata": {
    "colab": {
      "name": "PROJETO_OURO_BRANCO.ipynb",
      "provenance": [],
      "collapsed_sections": [
        "nYJ6lHEo7q41",
        "Q3Q3gzq7U0a2",
        "0NZuAzBC76Mv",
        "ct7i4L0IMU18",
        "4bOW_V2YMpte",
        "JNlBwcFFUSAW",
        "2yftj4FQLIeh"
      ],
      "include_colab_link": true
    },
    "kernelspec": {
      "name": "python3",
      "display_name": "Python 3"
    }
  },
  "cells": [
    {
      "cell_type": "markdown",
      "metadata": {
        "id": "view-in-github",
        "colab_type": "text"
      },
      "source": [
        "<a href=\"https://colab.research.google.com/github/JanineFreitas/OuroBranco/blob/master/PROJETO_OURO_BRANCO.ipynb\" target=\"_parent\"><img src=\"https://colab.research.google.com/assets/colab-badge.svg\" alt=\"Open In Colab\"/></a>"
      ]
    },
    {
      "cell_type": "code",
      "metadata": {
        "id": "WLRh6wW5Doxz",
        "outputId": "ea686f08-6737-447b-a18c-6696a8b7fde0",
        "colab": {
          "base_uri": "https://localhost:8080/",
          "height": 33
        }
      },
      "source": [
        "#Autenticação com Google Drive\n",
        "from google.colab import drive\n",
        "\n",
        "# This will prompt de Autorização.\n",
        "drive.mount('/content/drive')"
      ],
      "execution_count": null,
      "outputs": [
        {
          "output_type": "stream",
          "text": [
            "Drive already mounted at /content/drive; to attempt to forcibly remount, call drive.mount(\"/content/drive\", force_remount=True).\n"
          ],
          "name": "stdout"
        }
      ]
    },
    {
      "cell_type": "code",
      "metadata": {
        "id": "0LCr7qOCESjh"
      },
      "source": [
        "#Bibliotecas\n",
        "import pandas as pd\n",
        "import seaborn as sns\n",
        "import matplotlib.pyplot as plt\n",
        "import numpy as np\n",
        "\n",
        "#matplotlib inline\n",
        "import warnings\n",
        "warnings.filterwarnings('ignore')\n",
        "\n",
        "\n",
        "from sklearn.pipeline import Pipeline\n",
        "from sklearn.preprocessing import StandardScaler\n",
        "from sklearn.preprocessing import MinMaxScaler\n",
        "from sklearn.preprocessing import LabelEncoder\n",
        "from sklearn.preprocessing import PolynomialFeatures\n",
        "from sklearn.tree import DecisionTreeClassifier\n",
        "from sklearn.tree import DecisionTreeRegressor\n",
        "from sklearn.ensemble import RandomForestClassifier\n",
        "from sklearn.ensemble import RandomForestRegressor\n",
        "#from sklearn.model_selection import train_test_split\n",
        "from sklearn.metrics import classification_report\n",
        "from sklearn.metrics import confusion_matrix\n",
        "from sklearn.metrics import mean_squared_error\n",
        "from sklearn.metrics import mean_absolute_error\n",
        "from sklearn.metrics import explained_variance_score\n",
        "from sklearn.metrics import r2_score\n",
        "from sklearn.datasets import make_classification\n",
        "from sklearn.neighbors import KNeighborsClassifier\n",
        "from sklearn.model_selection import train_test_split  \n",
        "from sklearn import datasets, linear_model\n",
        "from sklearn.model_selection import cross_val_score\n",
        "from sklearn.model_selection import GridSearchCV\n",
        "from sklearn.linear_model import LinearRegression\n",
        "from sklearn.linear_model import LogisticRegression\n",
        "from sklearn.svm import SVC\n",
        "from sklearn.svm import SVR\n",
        "#from sklearn.preprocessing import Imputer\n",
        "#from sklearn.impute import SimpleImputer\n",
        "from sklearn.decomposition import PCA\n",
        "from sklearn.ensemble import RandomForestClassifier\n",
        "from sklearn import ensemble\n",
        "from sklearn.neural_network import MLPClassifier\n",
        "from sklearn.cluster import KMeans\n",
        "\n",
        "from sklearn.datasets import load_breast_cancer\n",
        "from sklearn.datasets import load_iris\n",
        "from sklearn.naive_bayes import GaussianNB\n",
        "from sklearn.model_selection import ShuffleSplit\n",
        "\n",
        "from sklearn.preprocessing import StandardScaler\n",
        "from sklearn.cluster import DBSCAN\n",
        "from scipy.cluster.hierarchy import dendrogram, linkage\n",
        "from sklearn.cluster import AgglomerativeClustering\n",
        "from scipy.stats import iqr\n",
        "\n",
        "from sklearn import decomposition\n",
        "#from sklearn.preprocessing import scale\n",
        "from sklearn.decomposition import PCA\n",
        "import seaborn as sb\n",
        "\n",
        "# Visual libraries\n",
        "import plotly.graph_objs as go\n",
        "import seaborn as sns\n",
        "import plotly.figure_factory as ff\n",
        "import matplotlib.pyplot as plt\n",
        "from plotly.offline import iplot\n",
        "\n",
        "# Main libraries\n",
        "from scipy import stats\n",
        "\n",
        "from matplotlib.colors import ListedColormap\n",
        "from matplotlib.colors import BoundaryNorm\n",
        "import time\n",
        "from math import sqrt\n",
        "from math import log2"
      ],
      "execution_count": null,
      "outputs": []
    },
    {
      "cell_type": "code",
      "metadata": {
        "id": "3Hv62IFREUX-"
      },
      "source": [
        "#Importar base de dados\n",
        "df=pd.read_csv('/content/drive/My Drive/Colab Notebooks/TABELA.csv', delimiter=\",\", header=0)"
      ],
      "execution_count": null,
      "outputs": []
    },
    {
      "cell_type": "markdown",
      "metadata": {
        "id": "hsGySnkUeaHB"
      },
      "source": [
        "# Entendimento dos Dados"
      ]
    },
    {
      "cell_type": "markdown",
      "metadata": {
        "id": "1lO4KjU-gwrY"
      },
      "source": [
        "##Tratamento dos dados"
      ]
    },
    {
      "cell_type": "code",
      "metadata": {
        "id": "BB4KHuVRzTOq"
      },
      "source": [
        "#Transformar DD/MM/YYYY em YYYY/MM/DD e inteiro\n",
        "df['DATA_ADMISSAO'] = df['DATA_ADMISSAO'].apply(lambda x: int(str(x).split(\"/\")[2]+str(x).split(\"/\")[1]+str(x).split(\"/\")[0]) )"
      ],
      "execution_count": null,
      "outputs": []
    },
    {
      "cell_type": "code",
      "metadata": {
        "id": "o_69cJn7kPkT"
      },
      "source": [
        "#Se a VERBA_0997 está diferente da soma de todas os descontos, adicionar o valor na coluna VERBA_DESCONTO_FALTANTE\n",
        "df['VERBA_DESCONTO_FALTANTE'] = 0\n",
        "for dataset in [df]:\n",
        "  dataset.loc[dataset.VERBA_0997 > \n",
        "              (dataset.VERBA_0606 + dataset.VERBA_0713 + dataset.VERBA_0682 + dataset.VERBA_0697 + dataset.VERBA_0699 + dataset.VERBA_0698 + dataset.VERBA_0607 + dataset.VERBA_0631 + dataset.VERBA_0983 + dataset.VERBA_0980), 'VERBA_DESCONTO_FALTANTE'] = round(dataset.VERBA_0997 - (dataset.VERBA_0606 + dataset.VERBA_0713 + dataset.VERBA_0682 + dataset.VERBA_0697 + dataset.VERBA_0699 + dataset.VERBA_0698 + dataset.VERBA_0607 + dataset.VERBA_0631 + dataset.VERBA_0983 + dataset.VERBA_0980), 2)"
      ],
      "execution_count": null,
      "outputs": []
    },
    {
      "cell_type": "code",
      "metadata": {
        "id": "SObT5JkHlO7z"
      },
      "source": [
        "#Se a VERBA_0996 está diferente da soma de todas os provetos, adicionar o valor na coluna VERBA_PROVENTO_FALTANTE\n",
        "df['VERBA_PROVENTO_FALTANTE'] = 0\n",
        "for dataset in [df]:\n",
        "  dataset.loc[dataset.VERBA_0996 > (dataset.VERBA_0308 +   dataset.VERBA_0163  +   dataset.VERBA_0122  +   dataset.VERBA_0230  +   dataset.VERBA_0001  +   dataset.VERBA_0099  +   dataset.VERBA_0318  + \n",
        "    dataset.VERBA_0180  +   dataset.VERBA_0005  +   dataset.VERBA_0190  +   dataset.VERBA_0097  +   dataset.VERBA_0170  +   dataset.VERBA_0326  +   dataset.VERBA_0058  +   dataset.VERBA_0219  + \n",
        "    dataset.VERBA_0133  +   dataset.VERBA_0096  +   dataset.VERBA_0159  +   dataset.VERBA_0009  +   dataset.VERBA_0174  +   dataset.VERBA_0165  +   dataset.VERBA_0100  +   dataset.VERBA_0107  + \n",
        "    dataset.VERBA_0004  +   dataset.VERBA_0381  +   dataset.VERBA_0183  +   dataset.VERBA_0271  +   dataset.VERBA_0231  +   dataset.VERBA_0008  +   dataset.VERBA_0207  +   dataset.VERBA_0171  + \n",
        "    dataset.VERBA_0007  +   dataset.VERBA_0138  +   dataset.VERBA_0111  +   dataset.VERBA_0085  +   dataset.VERBA_0116  +   dataset.VERBA_0152  +   dataset.VERBA_0382  +   dataset.VERBA_0093 ), 'VERBA_PROVENTO_FALTANTE'] = round(dataset.VERBA_0996 - (dataset.VERBA_0308 +   dataset.VERBA_0163  +   dataset.VERBA_0122  +   dataset.VERBA_0230  +   dataset.VERBA_0001  +   dataset.VERBA_0099  +   dataset.VERBA_0318  + \n",
        "    dataset.VERBA_0180  +   dataset.VERBA_0005  +   dataset.VERBA_0190  +   dataset.VERBA_0097  +   dataset.VERBA_0170  +   dataset.VERBA_0326  +   dataset.VERBA_0058  +   dataset.VERBA_0219  + \n",
        "    dataset.VERBA_0133  +   dataset.VERBA_0096  +   dataset.VERBA_0159  +   dataset.VERBA_0009  +   dataset.VERBA_0174  +   dataset.VERBA_0165  +   dataset.VERBA_0100  +   dataset.VERBA_0107  + \n",
        "    dataset.VERBA_0004  +   dataset.VERBA_0381  +   dataset.VERBA_0183  +   dataset.VERBA_0271  +   dataset.VERBA_0231  +   dataset.VERBA_0008  +   dataset.VERBA_0207  +   dataset.VERBA_0171  + \n",
        "    dataset.VERBA_0007  +   dataset.VERBA_0138  +   dataset.VERBA_0111  +   dataset.VERBA_0085  +   dataset.VERBA_0116  +   dataset.VERBA_0152  +   dataset.VERBA_0382  +   dataset.VERBA_0093), 4)"
      ],
      "execution_count": null,
      "outputs": []
    },
    {
      "cell_type": "markdown",
      "metadata": {
        "id": "FpgSxRTEYOS7"
      },
      "source": [
        "##Removendo Colunas"
      ]
    },
    {
      "cell_type": "code",
      "metadata": {
        "id": "MSw5ec4bYQwW"
      },
      "source": [
        "#Removendo coluna ativo, porque todas estão como 'S'\n",
        "df = df.drop('ATIVO', axis=1)\n",
        "\n",
        "#Removendo coluna cep lotação porque todos os valores estão igual\n",
        "df = df.drop('CEP_LOTACAO', axis=1)\n",
        "\n",
        "#Removendo coluna data estração, porque não sinifica nada para o modelo apenas controle interno\n",
        "df = df.drop('DATA_EXTRACAO', axis=1)\n",
        "\n",
        "#Remover ID\n",
        "df = df.drop('ID', axis=1)"
      ],
      "execution_count": null,
      "outputs": []
    },
    {
      "cell_type": "markdown",
      "metadata": {
        "id": "fiYzF1aqfa47"
      },
      "source": [
        "##Tranformando string em float - Verbas"
      ]
    },
    {
      "cell_type": "code",
      "metadata": {
        "id": "dNdrSLtpvBM-"
      },
      "source": [
        "#Transformar os dados que estão em string em float\n",
        "df['VERBA_0606'] = df['VERBA_0606'].apply(lambda x: float(str(x).replace(\",\",\".\")))\n",
        "df['VERBA_0308'] = df['VERBA_0308'].apply(lambda x: float(str(x).replace(\",\",\".\")))\n",
        "df['VERBA_0163'] = df['VERBA_0163'].apply(lambda x: float(str(x).replace(\",\",\".\")))\n",
        "df['VERBA_0713'] = df['VERBA_0713'].apply(lambda x: float(str(x).replace(\",\",\".\")))\n",
        "df['VERBA_0122'] = df['VERBA_0122'].apply(lambda x: float(str(x).replace(\",\",\".\")))\n",
        "df['VERBA_0682'] = df['VERBA_0682'].apply(lambda x: float(str(x).replace(\",\",\".\")))\n",
        "df['VERBA_0230'] = df['VERBA_0230'].apply(lambda x: float(str(x).replace(\",\",\".\")))\n",
        "df['VERBA_0001'] = df['VERBA_0001'].apply(lambda x: float(str(x).replace(\",\",\".\")))\n",
        "df['VERBA_0099'] = df['VERBA_0099'].apply(lambda x: float(str(x).replace(\",\",\".\")))\n",
        "df['VERBA_0318'] = df['VERBA_0318'].apply(lambda x: float(str(x).replace(\",\",\".\")))\n",
        "df['VERBA_0180'] = df['VERBA_0180'].apply(lambda x: float(str(x).replace(\",\",\".\")))\n",
        "df['VERBA_0697'] = df['VERBA_0697'].apply(lambda x: float(str(x).replace(\",\",\".\")))\n",
        "df['VERBA_0005'] = df['VERBA_0005'].apply(lambda x: float(str(x).replace(\",\",\".\")))\n",
        "df['VERBA_0190'] = df['VERBA_0190'].apply(lambda x: float(str(x).replace(\",\",\".\")))\n",
        "df['VERBA_0097'] = df['VERBA_0097'].apply(lambda x: float(str(x).replace(\",\",\".\")))\n",
        "df['VERBA_0170'] = df['VERBA_0170'].apply(lambda x: float(str(x).replace(\",\",\".\")))\n",
        "df['VERBA_0326'] = df['VERBA_0326'].apply(lambda x: float(str(x).replace(\",\",\".\")))\n",
        "df['VERBA_0058'] = df['VERBA_0058'].apply(lambda x: float(str(x).replace(\",\",\".\")))\n",
        "df['VERBA_0219'] = df['VERBA_0219'].apply(lambda x: float(str(x).replace(\",\",\".\")))\n",
        "df['VERBA_0133'] = df['VERBA_0133'].apply(lambda x: float(str(x).replace(\",\",\".\")))\n",
        "df['VERBA_0096'] = df['VERBA_0096'].apply(lambda x: float(str(x).replace(\",\",\".\")))\n",
        "df['VERBA_0159'] = df['VERBA_0159'].apply(lambda x: float(str(x).replace(\",\",\".\")))\n",
        "df['VERBA_0699'] = df['VERBA_0699'].apply(lambda x: float(str(x).replace(\",\",\".\")))\n",
        "df['VERBA_0009'] = df['VERBA_0009'].apply(lambda x: float(str(x).replace(\",\",\".\")))\n",
        "df['VERBA_0174'] = df['VERBA_0174'].apply(lambda x: float(str(x).replace(\",\",\".\")))\n",
        "df['VERBA_0165'] = df['VERBA_0165'].apply(lambda x: float(str(x).replace(\",\",\".\")))\n",
        "df['VERBA_0100'] = df['VERBA_0100'].apply(lambda x: float(str(x).replace(\",\",\".\")))\n",
        "df['VERBA_0107'] = df['VERBA_0107'].apply(lambda x: float(str(x).replace(\",\",\".\")))\n",
        "df['VERBA_0698'] = df['VERBA_0698'].apply(lambda x: float(str(x).replace(\",\",\".\")))\n",
        "df['VERBA_0998'] = df['VERBA_0998'].apply(lambda x: float(str(x).replace(\",\",\".\")))\n",
        "df['VERBA_0004'] = df['VERBA_0004'].apply(lambda x: float(str(x).replace(\",\",\".\")))\n",
        "df['VERBA_0980'] = df['VERBA_0980'].apply(lambda x: float(str(x).replace(\",\",\".\")))\n",
        "df['VERBA_0381'] = df['VERBA_0381'].apply(lambda x: float(str(x).replace(\",\",\".\")))\n",
        "df['VERBA_0183'] = df['VERBA_0183'].apply(lambda x: float(str(x).replace(\",\",\".\")))\n",
        "df['VERBA_0997'] = df['VERBA_0997'].apply(lambda x: float(str(x).replace(\",\",\".\")))\n",
        "df['VERBA_0607'] = df['VERBA_0607'].apply(lambda x: float(str(x).replace(\",\",\".\")))\n",
        "df['VERBA_0271'] = df['VERBA_0271'].apply(lambda x: float(str(x).replace(\",\",\".\")))\n",
        "df['VERBA_0231'] = df['VERBA_0231'].apply(lambda x: float(str(x).replace(\",\",\".\")))\n",
        "df['VERBA_0008'] = df['VERBA_0008'].apply(lambda x: float(str(x).replace(\",\",\".\")))\n",
        "df['VERBA_0996'] = df['VERBA_0996'].apply(lambda x: float(str(x).replace(\",\",\".\")))\n",
        "df['VERBA_0207'] = df['VERBA_0207'].apply(lambda x: float(str(x).replace(\",\",\".\")))\n",
        "df['VERBA_0171'] = df['VERBA_0171'].apply(lambda x: float(str(x).replace(\",\",\".\")))\n",
        "df['VERBA_0631'] = df['VERBA_0631'].apply(lambda x: float(str(x).replace(\",\",\".\")))\n",
        "df['VERBA_0007'] = df['VERBA_0007'].apply(lambda x: float(str(x).replace(\",\",\".\")))\n",
        "df['VERBA_0138'] = df['VERBA_0138'].apply(lambda x: float(str(x).replace(\",\",\".\")))\n",
        "df['VERBA_0111'] = df['VERBA_0111'].apply(lambda x: float(str(x).replace(\",\",\".\")))\n",
        "df['VERBA_0085'] = df['VERBA_0085'].apply(lambda x: float(str(x).replace(\",\",\".\")))\n",
        "df['VERBA_0116'] = df['VERBA_0116'].apply(lambda x: float(str(x).replace(\",\",\".\")))\n",
        "df['VERBA_0983'] = df['VERBA_0983'].apply(lambda x: float(str(x).replace(\",\",\".\")))\n",
        "df['VERBA_0152'] = df['VERBA_0152'].apply(lambda x: float(str(x).replace(\",\",\".\")))\n",
        "df['VERBA_0382'] = df['VERBA_0382'].apply(lambda x: float(str(x).replace(\",\",\".\")))\n",
        "df['VERBA_0093'] = df['VERBA_0093'].apply(lambda x: float(str(x).replace(\",\",\".\")))\n",
        "df['VERBA_0206'] = df['VERBA_0206'].apply(lambda x: float(str(x).replace(\",\",\".\")))\n",
        "df['JORNADA_MENSAL'] = df['JORNADA_MENSAL'].apply(lambda x: float(str(x).replace(\",\",\".\")))\n",
        "df['VERBA_DESCONTO_FALTANTE'] = df['VERBA_DESCONTO_FALTANTE'].apply(lambda x: float(str(x).replace(\",\",\".\")))\n",
        "df['VERBA_PROVENTO_FALTANTE'] = df['VERBA_PROVENTO_FALTANTE'].apply(lambda x: float(str(x).replace(\",\",\".\")))\n",
        "\n",
        "#Transformar os dados que estão em string em int\n",
        "df['CEP_RESIDENCIA'] = df['CEP_RESIDENCIA'].apply(lambda x: int(x))"
      ],
      "execution_count": null,
      "outputs": []
    },
    {
      "cell_type": "markdown",
      "metadata": {
        "id": "qTRXO84UYRjU"
      },
      "source": [
        "##Removendo Valores"
      ]
    },
    {
      "cell_type": "code",
      "metadata": {
        "id": "NyG9_sQgFD5i"
      },
      "source": [
        "#Remover todos os bolsisitas\n",
        "listaRemovida = df.loc[df['PLANO'] == 'BOL'].index\n",
        "\n",
        "for i in listaRemovida:\n",
        "  df = df.drop(i, axis=0)"
      ],
      "execution_count": null,
      "outputs": []
    },
    {
      "cell_type": "code",
      "metadata": {
        "id": "nDO54uJKPqE1"
      },
      "source": [
        "#Remover funcionario com salario abaixo de R$ 2.000 - 278 linhas excluídas\n",
        "listaRemovidaFuncionariosSalarioBaixo = df.loc[df['VERBA_0998'] < 1500].index\n",
        "\n",
        "for i in listaRemovidaFuncionariosSalarioBaixo:\n",
        "  df = df.drop(i, axis=0)"
      ],
      "execution_count": null,
      "outputs": []
    },
    {
      "cell_type": "code",
      "metadata": {
        "id": "M_xD99OiGDaX"
      },
      "source": [
        "#Remover secretário - fora do padrão\n",
        "listaRemovida = df.loc[df['NIVEL'] == 'S'].index\n",
        "\n",
        "for i in listaRemovida:\n",
        "  df = df.drop(i, axis=0)"
      ],
      "execution_count": null,
      "outputs": []
    },
    {
      "cell_type": "code",
      "metadata": {
        "id": "uDXChcMaLe4P"
      },
      "source": [
        "#Remover diretor geral - não é o publico do estudo\n",
        "listaRemovidaDG1 = df.loc[df['NIVEL'] == 'DG1'].index\n",
        "\n",
        "for i in listaRemovidaDG1:\n",
        "  df = df.drop(i, axis=0)"
      ],
      "execution_count": null,
      "outputs": []
    },
    {
      "cell_type": "code",
      "metadata": {
        "id": "neqsIVkGLs25"
      },
      "source": [
        "#Removendo coluna VERBA_0058 pq só DG1 tem direito\n",
        "df = df.drop('VERBA_0058', axis=1)"
      ],
      "execution_count": null,
      "outputs": []
    },
    {
      "cell_type": "code",
      "metadata": {
        "id": "Jq9I-5ajUpbc"
      },
      "source": [
        "#Tratamento de Grau de Intrução valor 'NAO INFORMADO' ->'ENSINO MÉDIO COMPLETO'\n",
        "for dataset in [df]:\n",
        "  dataset.loc[dataset.GRAUINSTRUCAO == 'NAO INFORMADO', 'GRAUINSTRUCAO'] = 'ENSINO MÉDIO COMPLETO'"
      ],
      "execution_count": null,
      "outputs": []
    },
    {
      "cell_type": "code",
      "metadata": {
        "id": "6Xj1lEz4IYqz"
      },
      "source": [
        "#Funcionario com salario igual a zero, foi porque tiveram 30 dias de faltas\n",
        "funcionarioSalarioZero = df.loc[df['VERBA_0998'] == 0]\n",
        "funcionarioSalarioZero.head(3)\n",
        "\n",
        "#Remover Funcionarios sem salário\n",
        "listaRemovidaFuncionarios = df.loc[df['VERBA_0998'] == 0].index\n",
        "\n",
        "for i in listaRemovidaFuncionarios:\n",
        "  df = df.drop(i, axis=0)"
      ],
      "execution_count": null,
      "outputs": []
    },
    {
      "cell_type": "code",
      "metadata": {
        "id": "RD2vHqcknpcC"
      },
      "source": [
        "#Funcionário que tem a VERBA_0093 assumiram lugar de cargo comissionado, isso acontece geralmente quando eles tiram ferias, ai a pessoa passa a receber pelo salario do cargo comissionado, essa exceção tbm não é o publico do meu trabalho\n",
        "listaVerba93 = df.loc[df['VERBA_0093'] > 0].index\n",
        "\n",
        "for i in listaVerba93:\n",
        "  df = df.drop(i, axis=0)"
      ],
      "execution_count": null,
      "outputs": []
    },
    {
      "cell_type": "code",
      "metadata": {
        "id": "HW1SF51ioIW3"
      },
      "source": [
        "#Removendo a coluna pq não tem mais ninguem com verba VERBA_0093\n",
        "df = df.drop('VERBA_0093', axis=1)"
      ],
      "execution_count": null,
      "outputs": []
    },
    {
      "cell_type": "markdown",
      "metadata": {
        "id": "qJFf7NtQEnir"
      },
      "source": [
        "## Converter texto em números"
      ]
    },
    {
      "cell_type": "markdown",
      "metadata": {
        "id": "tCGQeqTDKMRd"
      },
      "source": [
        "### Hierarquia Importante"
      ]
    },
    {
      "cell_type": "code",
      "metadata": {
        "id": "d6GU4uC2KW1P",
        "outputId": "f9aa976d-917f-4301-f41a-de2a18d72071",
        "colab": {
          "base_uri": "https://localhost:8080/",
          "height": 33
        }
      },
      "source": [
        "#Mapeamento feito pela area de negocio do plano mais baixo para nível mais alto, ordem crescente\n",
        "plano_mapping={#'BOL':1, \n",
        "               'NM1':1, 'NM2':2, 'NS2': 3, 'CCO':4, #'SEC':6\n",
        "              }\n",
        "\n",
        "for dataset in [df]:\n",
        "  dataset['PLANO'] = dataset['PLANO'].map(plano_mapping)\n",
        "\n",
        "plano_categoria = list(set(df['PLANO']))\n",
        "plano_categoria"
      ],
      "execution_count": null,
      "outputs": [
        {
          "output_type": "execute_result",
          "data": {
            "text/plain": [
              "[1, 2, 3, 4]"
            ]
          },
          "metadata": {
            "tags": []
          },
          "execution_count": 162
        }
      ]
    },
    {
      "cell_type": "code",
      "metadata": {
        "id": "qLorwPHfKd-o",
        "outputId": "33415dfb-0679-45cd-94f6-acfd44cb7fc7",
        "colab": {
          "base_uri": "https://localhost:8080/",
          "height": 33
        }
      },
      "source": [
        "#Mapeamento feito pela area de negocio do nível mais baixo para nível mais alto, ordem crescente\n",
        "#AN3, ANM, DAS, DNS, DG1 - Não pode ser classificado por ordem crescente\n",
        "nilvel_mapping={#'ANM':1, 'AN3':2,\n",
        "                'B2':1, 'B2E': 2, 'B4':3, 'C1':4, 'C2':5, 'C3':6, 'C4':7, 'DAS': 8, 'DNS':9, 'D4':10, 'DG1':11 ,#'S':14\n",
        "                }\n",
        "\n",
        "for dataset in [df]:\n",
        "  dataset['NIVEL'] = dataset['NIVEL'].map(nilvel_mapping)\n",
        "\n",
        "plano_nivel = list(set(df['NIVEL']))\n",
        "plano_nivel"
      ],
      "execution_count": null,
      "outputs": [
        {
          "output_type": "execute_result",
          "data": {
            "text/plain": [
              "[1, 2, 3, 4, 5, 6, 7, 8, 9, 10]"
            ]
          },
          "metadata": {
            "tags": []
          },
          "execution_count": 163
        }
      ]
    },
    {
      "cell_type": "code",
      "metadata": {
        "id": "BrCjrlTkV0uH",
        "outputId": "678c08f4-084a-4fa0-fb1d-035f66b5ec14",
        "colab": {
          "base_uri": "https://localhost:8080/",
          "height": 33
        }
      },
      "source": [
        "#Tratando Grau de Instrução -> 'NAO INFORMADO': 0 agora é 4\n",
        "instrucao_mapping={ #'NAO INFORMADO': 4,\n",
        "                   #'ENSINO MÉDIO INCOMPLETO': 3,\n",
        "                    'ANALFABETO. INCLUSIVE O QUE. EMBORA TENHA RECEBIDO INSTRUÇÃO. NÃO SE ALFABETIZOU':1, \n",
        "                   'ENSINO FUNDAMENTAL COMPLETO':2,  \n",
        "                   'ENSINO MÉDIO COMPLETO':3, \n",
        "                   'ENSINO MÉDIO PROFISSIONALIZANTE COMPLETO':4, \n",
        "                   'EDUCAÇÃO SUPERIOR INCOMPLETA':5, \n",
        "                   'EDUCAÇÃO SUPERIOR COMPLETA':6,\n",
        "                   'PÓS-GRADUAÇÃO COMPLETA':7\n",
        "                   }\n",
        "\n",
        "for dataset in [df]:\n",
        "  dataset['GRAUINSTRUCAO'] = dataset['GRAUINSTRUCAO'].map(instrucao_mapping)\n",
        "\n",
        "tipo_instrucao = list(set(df['GRAUINSTRUCAO']))\n",
        "tipo_instrucao"
      ],
      "execution_count": null,
      "outputs": [
        {
          "output_type": "execute_result",
          "data": {
            "text/plain": [
              "[1, 2, 3, 4, 5, 6, 7]"
            ]
          },
          "metadata": {
            "tags": []
          },
          "execution_count": 164
        }
      ]
    },
    {
      "cell_type": "code",
      "metadata": {
        "id": "bRUQSr9QFjBm",
        "outputId": "553a1cc8-bb4b-40b3-95cc-6cb6be51c660",
        "colab": {
          "base_uri": "https://localhost:8080/",
          "height": 33
        }
      },
      "source": [
        "#Mapeamento das lotações\n",
        "lotacao_mapping={'COMISSAO DE SUPERVISAO. OPERACIONALIZACA':1, 'NUCLEO DE TESOURARIA':2, 'NUCLEO DE ATIVIDADES AUXILIARES': 3, 'NUCLEO DE GESTAO DE PESSOAS':4, \n",
        "                 'DIRETORIA DE TRANSITO':5, 'SUPERINTENDENCIA ADJUNTA':6, 'NUCLEO DE CONTROLE DE MATERIAL E PATRIMO':7, \n",
        "                 'NUCLEO DE CONTABILIDADE':8, 'GERENCIA DE GESTAO ADMINISTRATIVA':9, 'GERENCIA DE GESTAO FINANCEIRA': 10, 'PROCURADORIA JURIDICA': 11, \n",
        "                 'GERENCIA DE OPERACAO E FISCALIZACAO DE T':12, 'DIRETORIA ADMINISTRATIVO FINANCEIRA':13, 'ASSESSORIA TECNICA':14, 'GERENCIA DE EDUCACAO PARA O TRANSITO':15, \n",
        "                 'SUPERINTENDENCIA':16, 'GERENCIA DE ENGENHARIA':17, 'ASSESSORIA DE PLANEJAMENTO E DESENVOLVIM':18, 'GERENCIA DE CONTROLE DE TRAFEGO':19}\n",
        "\n",
        "for dataset in [df]:\n",
        "  dataset['LOTACAO'] = dataset['LOTACAO'].map(lotacao_mapping)\n",
        "\n",
        "tipo_lotacao = list(set(df['LOTACAO']))\n",
        "tipo_lotacao"
      ],
      "execution_count": null,
      "outputs": [
        {
          "output_type": "execute_result",
          "data": {
            "text/plain": [
              "[1, 2, 3, 4, 5, 6, 7, 8, 9, 10, 11, 12, 13, 14, 15, 16, 17, 18, 19]"
            ]
          },
          "metadata": {
            "tags": []
          },
          "execution_count": 165
        }
      ]
    },
    {
      "cell_type": "markdown",
      "metadata": {
        "id": "7oeT1eh-Kkek"
      },
      "source": [
        "### Não tem Hieraquia"
      ]
    },
    {
      "cell_type": "markdown",
      "metadata": {
        "id": "11YaUKmXZ5yg"
      },
      "source": [
        "One Hot Encoding"
      ]
    },
    {
      "cell_type": "code",
      "metadata": {
        "id": "mCQClPssyuwQ"
      },
      "source": [
        "#Transformar linhas em colunas\n",
        "df['TABELA-AMC'] = -1  #4230 LINHAS\n",
        "df['TABELA-PMF'] = -1  #221 LINHAS\n",
        "                  #ADA 72 LINHAS \n",
        "\n",
        "for dataset in [df]:\n",
        "  dataset.loc[dataset.TABELA == 'AMC', 'TABELA-AMC'] = 1\n",
        "  dataset.loc[dataset.TABELA == 'PMF', 'TABELA-PMF'] = 1"
      ],
      "execution_count": null,
      "outputs": []
    },
    {
      "cell_type": "code",
      "metadata": {
        "id": "3-YkmxvdI6ns"
      },
      "source": [
        "#Apagar tabela\n",
        "df = df.drop('TABELA', axis=1)"
      ],
      "execution_count": null,
      "outputs": []
    },
    {
      "cell_type": "code",
      "metadata": {
        "id": "mG2lLRJDL8gh"
      },
      "source": [
        "#Transformar linhas em colunas\n",
        "df['INDÍGENA'] = -1 #  12 LINHAS\n",
        "df['PARDA'] = -1    #3147 LINHAS\n",
        "df['BRANCA'] = -1   #  12 LINHAS\n",
        "\n",
        "# 'NÃO INFORMADO' -> 1352 LINHAS : escolhi essa para remover\n",
        "\n",
        "for dataset in [df]:\n",
        "  dataset.loc[dataset.RACA == 'INDÍGENA', 'INDÍGENA'] = 1\n",
        "  dataset.loc[dataset.RACA == 'PARDA', 'PARDA'] = 1\n",
        "  dataset.loc[dataset.RACA == 'BRANCA', 'BRANCA'] = 1"
      ],
      "execution_count": null,
      "outputs": []
    },
    {
      "cell_type": "code",
      "metadata": {
        "id": "HvTp6U6SMlJ9"
      },
      "source": [
        "#Apagar tabela\n",
        "df = df.drop('RACA', axis=1)"
      ],
      "execution_count": null,
      "outputs": []
    },
    {
      "cell_type": "code",
      "metadata": {
        "id": "NQQ6_9w0P7dA"
      },
      "source": [
        "#Transformar linhas em colunas\n",
        "df['MASCULINO'] = -1 #  3575 LINHAS\n",
        "              #FEMININO 948 LINHAS\n",
        "for dataset in [df]:\n",
        "  dataset.loc[dataset.SEXO == 'M', 'MASCULINO'] = 1"
      ],
      "execution_count": null,
      "outputs": []
    },
    {
      "cell_type": "code",
      "metadata": {
        "id": "ti9M2ic2Qa2_"
      },
      "source": [
        "#Apagar tabela\n",
        "df = df.drop('SEXO', axis=1)"
      ],
      "execution_count": null,
      "outputs": []
    },
    {
      "cell_type": "code",
      "metadata": {
        "id": "gtGFtVMUgrez"
      },
      "source": [
        "#Transformar linhas em colunas\n",
        "df['CASADO'] = -1          #  3210 LINHAS\n",
        "df['SOLTEIRO'] = -1        #   907 LINHAS\n",
        "df['DIVORCIADO'] = -1      #   264 LINHAS\n",
        "df['UNIAO_ESTAVEL'] = -1   #   106 LINHAS\n",
        "                    #VIUVO     36 LINHAS\n",
        "for dataset in [df]:\n",
        "  dataset.loc[dataset.ESTADO_CIVIL == 'CASADO (A)', 'CASADO'] = 1\n",
        "  dataset.loc[dataset.ESTADO_CIVIL == 'SOLTEIRO (A)', 'SOLTEIRO'] = 1\n",
        "  dataset.loc[dataset.ESTADO_CIVIL == 'DIVORCIADO(A)', 'DIVORCIADO'] = 1\n",
        "  dataset.loc[dataset.ESTADO_CIVIL == 'UNIAO ESTAVEL', 'UNIAO_ESTAVEL'] = 1"
      ],
      "execution_count": null,
      "outputs": []
    },
    {
      "cell_type": "code",
      "metadata": {
        "id": "y-epq64Sh50D"
      },
      "source": [
        "#Apagar tabela\n",
        "df = df.drop('ESTADO_CIVIL', axis=1)"
      ],
      "execution_count": null,
      "outputs": []
    },
    {
      "cell_type": "code",
      "metadata": {
        "id": "aU65l-ngq0PR"
      },
      "source": [
        "#Transformar linhas em colunas\n",
        "df['AGENTE_MUNIC_FISC_TRANS'] = -1          #  4230 LINHAS\n",
        "df['DIR_NIV_SUP_3'] = -1                    #   127 LINHAS\n",
        "df['DIR_NIV_SUP_2'] = -1                    #    70 LINHAS\n",
        "df['DIR_ASS_SUP_1'] = -1                    #    12 LINHAS\n",
        "df['AGENTE_ADMINISTRATIVO'] = -1            #    60 LINHAS\n",
        "df['ADMINISTRADOR'] = -1                    #    12 LINHAS\n",
        "                         #ASSESSOR ESPECIAL     12 LINHAS\n",
        "for dataset in [df]:\n",
        "  dataset.loc[dataset.CARGO == 'AGENTE MUNIC FISCALIZ DE TRANS', 'AGENTE_MUNIC_FISC_TRANS'] = 1\n",
        "  dataset.loc[dataset.CARGO == 'DIR NIV SUP 3', 'DIR_NIV_SUP_3'] = 1\n",
        "  dataset.loc[dataset.CARGO == 'DIR NIV SUP 2', 'DIR_NIV_SUP_2'] = 1\n",
        "  dataset.loc[dataset.CARGO == 'DIR ASS SUP 1', 'DIR_ASS_SUP_1'] = 1\n",
        "  dataset.loc[dataset.CARGO == 'AGENTE ADMINISTRATIVO', 'AGENTE_ADMINISTRATIVO'] = 1\n",
        "  dataset.loc[dataset.CARGO == 'ADMINISTRADOR', 'ADMINISTRADOR'] = 1"
      ],
      "execution_count": null,
      "outputs": []
    },
    {
      "cell_type": "code",
      "metadata": {
        "id": "dgxAJS1lueku"
      },
      "source": [
        "#Apagar tabela\n",
        "df = df.drop('CARGO', axis=1)"
      ],
      "execution_count": null,
      "outputs": []
    },
    {
      "cell_type": "markdown",
      "metadata": {
        "id": "oKvyRmUKqTZs"
      },
      "source": [
        "#Dados com Anomalia"
      ]
    },
    {
      "cell_type": "code",
      "metadata": {
        "id": "8o2QQ34NreTF",
        "outputId": "8ff2b0d9-a13c-4929-86ee-303714e43b9f",
        "colab": {
          "base_uri": "https://localhost:8080/",
          "height": 33
        }
      },
      "source": [
        "len(df)"
      ],
      "execution_count": null,
      "outputs": [
        {
          "output_type": "execute_result",
          "data": {
            "text/plain": [
              "4695"
            ]
          },
          "metadata": {
            "tags": []
          },
          "execution_count": 176
        }
      ]
    },
    {
      "cell_type": "code",
      "metadata": {
        "id": "3LDnt3iBqcCu"
      },
      "source": [
        "#PROBLEMA 5: VERBA 206 SEM ESTÁ AGUARDANDO APOSENTADORIA -> 24 LINHAS APAGADAS (2 PESSOAS)\n",
        "listaRemocaoVerba206 = df.loc[(df['VERBA_0206'] > 0) & (df['PROCESSO_APOSENTADORIA'] == 0)].index\n",
        "\n",
        "for i in listaRemocaoVerba206:\n",
        "  df = df.drop(i, axis=0)"
      ],
      "execution_count": null,
      "outputs": []
    },
    {
      "cell_type": "code",
      "metadata": {
        "id": "1YbNBLIhuLy4"
      },
      "source": [
        "#PROBLEMA 2: ANALFABETOS -> 48 LINHAS APAGADAS (4 PESSOAS)\n",
        "listaAnalfabetos = df.loc[df['GRAUINSTRUCAO'] == 1].index\n",
        "\n",
        "for i in listaAnalfabetos:\n",
        "  df = df.drop(i, axis=0)"
      ],
      "execution_count": null,
      "outputs": []
    },
    {
      "cell_type": "code",
      "metadata": {
        "id": "MwYLp8FLzJGu"
      },
      "source": [
        "#PROBLEMA 4.1: VERBA 180 COM CARGO E LOTAÇÃO DIFERENTES DE GERENTE -> 14 LINHAS\n",
        "listaGerentesFake = df.loc[(df['VERBA_0180'] > 0) & (df['DIR_ASS_SUP_1'] == -1) & (df['DIR_NIV_SUP_2'] == -1) & (df['DIR_NIV_SUP_3'] == -1) #NÃO PODE TER CARGO DE DIRETOR\n",
        "  & (df['LOTACAO'] != 1) & (df['LOTACAO'] != 9) & (df['LOTACAO'] != 10) & (df['LOTACAO'] != 12) & (df['LOTACAO'] != 15) & (df['LOTACAO'] != 17) & (df['LOTACAO'] != 19)].index #NÃO PODE TAR LOTADO EM ALGO DE DIREÇÃO OU GERENCIA\n",
        "\n",
        "for i in listaGerentesFake:\n",
        "  df = df.drop(i, axis=0)"
      ],
      "execution_count": null,
      "outputs": []
    },
    {
      "cell_type": "code",
      "metadata": {
        "id": "dumcHQnmuBEf",
        "outputId": "834e180d-f137-482f-98a0-14636984cc48",
        "colab": {
          "base_uri": "https://localhost:8080/",
          "height": 33
        }
      },
      "source": [
        "len(df)"
      ],
      "execution_count": null,
      "outputs": [
        {
          "output_type": "execute_result",
          "data": {
            "text/plain": [
              "4609"
            ]
          },
          "metadata": {
            "tags": []
          },
          "execution_count": 181
        }
      ]
    },
    {
      "cell_type": "markdown",
      "metadata": {
        "id": "nYJ6lHEo7q41"
      },
      "source": [
        "# Fase 2 - Analise de Dados"
      ]
    },
    {
      "cell_type": "markdown",
      "metadata": {
        "id": "KNkem0J1CqLS"
      },
      "source": [
        "##Resumo Descritivo dos Dados"
      ]
    },
    {
      "cell_type": "code",
      "metadata": {
        "id": "S0_EO482CXJO",
        "outputId": "0d466298-0f47-4ddc-d1b8-b1f5d8274cac",
        "colab": {
          "base_uri": "https://localhost:8080/"
        }
      },
      "source": [
        "df.describe()"
      ],
      "execution_count": null,
      "outputs": [
        {
          "output_type": "execute_result",
          "data": {
            "text/html": [
              "<div>\n",
              "<style scoped>\n",
              "    .dataframe tbody tr th:only-of-type {\n",
              "        vertical-align: middle;\n",
              "    }\n",
              "\n",
              "    .dataframe tbody tr th {\n",
              "        vertical-align: top;\n",
              "    }\n",
              "\n",
              "    .dataframe thead th {\n",
              "        text-align: right;\n",
              "    }\n",
              "</style>\n",
              "<table border=\"1\" class=\"dataframe\">\n",
              "  <thead>\n",
              "    <tr style=\"text-align: right;\">\n",
              "      <th></th>\n",
              "      <th>PRONTUARIO</th>\n",
              "      <th>CEP_RESIDENCIA</th>\n",
              "      <th>GRAUINSTRUCAO</th>\n",
              "      <th>IDADE</th>\n",
              "      <th>DATA_ADMISSAO</th>\n",
              "      <th>JORNADA_MENSAL</th>\n",
              "      <th>JORNADA_SEMANAL</th>\n",
              "      <th>LOTACAO</th>\n",
              "      <th>DT_REFER</th>\n",
              "      <th>QTD_DEPENDENTES_IR</th>\n",
              "      <th>QTD_DEPENDENTES_SF</th>\n",
              "      <th>PLANO</th>\n",
              "      <th>NIVEL</th>\n",
              "      <th>REFERENCIA</th>\n",
              "      <th>VERBA_0606</th>\n",
              "      <th>VERBA_0308</th>\n",
              "      <th>VERBA_0163</th>\n",
              "      <th>VERBA_0713</th>\n",
              "      <th>VERBA_0122</th>\n",
              "      <th>VERBA_0682</th>\n",
              "      <th>VERBA_0230</th>\n",
              "      <th>VERBA_0001</th>\n",
              "      <th>VERBA_0099</th>\n",
              "      <th>VERBA_0318</th>\n",
              "      <th>VERBA_0180</th>\n",
              "      <th>VERBA_0697</th>\n",
              "      <th>VERBA_0005</th>\n",
              "      <th>VERBA_0190</th>\n",
              "      <th>VERBA_0097</th>\n",
              "      <th>VERBA_0170</th>\n",
              "      <th>VERBA_0326</th>\n",
              "      <th>VERBA_0219</th>\n",
              "      <th>VERBA_0133</th>\n",
              "      <th>VERBA_0096</th>\n",
              "      <th>VERBA_0159</th>\n",
              "      <th>VERBA_0699</th>\n",
              "      <th>VERBA_0009</th>\n",
              "      <th>VERBA_0174</th>\n",
              "      <th>VERBA_0165</th>\n",
              "      <th>VERBA_0100</th>\n",
              "      <th>...</th>\n",
              "      <th>VERBA_0183</th>\n",
              "      <th>VERBA_0997</th>\n",
              "      <th>VERBA_0607</th>\n",
              "      <th>VERBA_0271</th>\n",
              "      <th>VERBA_0231</th>\n",
              "      <th>VERBA_0008</th>\n",
              "      <th>VERBA_0996</th>\n",
              "      <th>VERBA_0207</th>\n",
              "      <th>VERBA_0171</th>\n",
              "      <th>VERBA_0631</th>\n",
              "      <th>VERBA_0007</th>\n",
              "      <th>VERBA_0138</th>\n",
              "      <th>VERBA_0111</th>\n",
              "      <th>VERBA_0085</th>\n",
              "      <th>VERBA_0116</th>\n",
              "      <th>VERBA_0983</th>\n",
              "      <th>VERBA_0152</th>\n",
              "      <th>VERBA_0382</th>\n",
              "      <th>VERBA_0206</th>\n",
              "      <th>PROCESSO_APOSENTADORIA</th>\n",
              "      <th>DT_INICIO_GOZO</th>\n",
              "      <th>QT_DIAS_GOZO</th>\n",
              "      <th>VERBA_DESCONTO_FALTANTE</th>\n",
              "      <th>VERBA_PROVENTO_FALTANTE</th>\n",
              "      <th>TABELA-AMC</th>\n",
              "      <th>TABELA-PMF</th>\n",
              "      <th>INDÍGENA</th>\n",
              "      <th>PARDA</th>\n",
              "      <th>BRANCA</th>\n",
              "      <th>MASCULINO</th>\n",
              "      <th>CASADO</th>\n",
              "      <th>SOLTEIRO</th>\n",
              "      <th>DIVORCIADO</th>\n",
              "      <th>UNIAO_ESTAVEL</th>\n",
              "      <th>AGENTE_MUNIC_FISC_TRANS</th>\n",
              "      <th>DIR_NIV_SUP_3</th>\n",
              "      <th>DIR_NIV_SUP_2</th>\n",
              "      <th>DIR_ASS_SUP_1</th>\n",
              "      <th>AGENTE_ADMINISTRATIVO</th>\n",
              "      <th>ADMINISTRADOR</th>\n",
              "    </tr>\n",
              "  </thead>\n",
              "  <tbody>\n",
              "    <tr>\n",
              "      <th>count</th>\n",
              "      <td>4.609000e+03</td>\n",
              "      <td>4.609000e+03</td>\n",
              "      <td>4609.000000</td>\n",
              "      <td>4609.000000</td>\n",
              "      <td>4.609000e+03</td>\n",
              "      <td>4609.000000</td>\n",
              "      <td>4609.000000</td>\n",
              "      <td>4609.000000</td>\n",
              "      <td>4609.000000</td>\n",
              "      <td>4609.000000</td>\n",
              "      <td>4609.000000</td>\n",
              "      <td>4609.000000</td>\n",
              "      <td>4609.000000</td>\n",
              "      <td>4609.000000</td>\n",
              "      <td>4609.000000</td>\n",
              "      <td>4609.000000</td>\n",
              "      <td>4609.000000</td>\n",
              "      <td>4609.000000</td>\n",
              "      <td>4609.0</td>\n",
              "      <td>4609.000000</td>\n",
              "      <td>4609.0</td>\n",
              "      <td>4609.0</td>\n",
              "      <td>4609.000000</td>\n",
              "      <td>4609.000000</td>\n",
              "      <td>4609.000000</td>\n",
              "      <td>4609.000000</td>\n",
              "      <td>4609.000000</td>\n",
              "      <td>4609.000000</td>\n",
              "      <td>4609.000000</td>\n",
              "      <td>4609.000000</td>\n",
              "      <td>4609.000000</td>\n",
              "      <td>4609.0</td>\n",
              "      <td>4609.000000</td>\n",
              "      <td>4609.000000</td>\n",
              "      <td>4609.000000</td>\n",
              "      <td>4609.000000</td>\n",
              "      <td>4609.000000</td>\n",
              "      <td>4609.000000</td>\n",
              "      <td>4609.0</td>\n",
              "      <td>4609.000000</td>\n",
              "      <td>...</td>\n",
              "      <td>4609.000000</td>\n",
              "      <td>4609.000000</td>\n",
              "      <td>4609.000000</td>\n",
              "      <td>4609.000000</td>\n",
              "      <td>4609.0</td>\n",
              "      <td>4609.000000</td>\n",
              "      <td>4609.000000</td>\n",
              "      <td>4609.0</td>\n",
              "      <td>4609.000000</td>\n",
              "      <td>4609.000000</td>\n",
              "      <td>4609.000000</td>\n",
              "      <td>4609.000000</td>\n",
              "      <td>4609.0</td>\n",
              "      <td>4609.000000</td>\n",
              "      <td>4609.000000</td>\n",
              "      <td>4609.000000</td>\n",
              "      <td>4609.000000</td>\n",
              "      <td>4609.000000</td>\n",
              "      <td>4609.0</td>\n",
              "      <td>4609.000000</td>\n",
              "      <td>4.609000e+03</td>\n",
              "      <td>4609.000000</td>\n",
              "      <td>4609.000000</td>\n",
              "      <td>4609.000000</td>\n",
              "      <td>4609.000000</td>\n",
              "      <td>4609.000000</td>\n",
              "      <td>4609.000000</td>\n",
              "      <td>4609.000000</td>\n",
              "      <td>4609.000000</td>\n",
              "      <td>4609.000000</td>\n",
              "      <td>4609.000000</td>\n",
              "      <td>4609.000000</td>\n",
              "      <td>4609.000000</td>\n",
              "      <td>4609.000000</td>\n",
              "      <td>4609.000000</td>\n",
              "      <td>4609.000000</td>\n",
              "      <td>4609.000000</td>\n",
              "      <td>4609.000000</td>\n",
              "      <td>4609.000000</td>\n",
              "      <td>4609.0</td>\n",
              "    </tr>\n",
              "    <tr>\n",
              "      <th>mean</th>\n",
              "      <td>6.325205e+06</td>\n",
              "      <td>6.045848e+07</td>\n",
              "      <td>5.406813</td>\n",
              "      <td>44.362985</td>\n",
              "      <td>2.005500e+07</td>\n",
              "      <td>208.939032</td>\n",
              "      <td>34.640920</td>\n",
              "      <td>11.625515</td>\n",
              "      <td>201831.666956</td>\n",
              "      <td>1.004339</td>\n",
              "      <td>0.577132</td>\n",
              "      <td>1.278585</td>\n",
              "      <td>6.249078</td>\n",
              "      <td>7.314168</td>\n",
              "      <td>108.304754</td>\n",
              "      <td>6.474142</td>\n",
              "      <td>150.265908</td>\n",
              "      <td>3.408460</td>\n",
              "      <td>0.0</td>\n",
              "      <td>15.579922</td>\n",
              "      <td>0.0</td>\n",
              "      <td>0.0</td>\n",
              "      <td>217.310790</td>\n",
              "      <td>1093.689460</td>\n",
              "      <td>48.538579</td>\n",
              "      <td>6.458492</td>\n",
              "      <td>3.464873</td>\n",
              "      <td>1.607212</td>\n",
              "      <td>437.146244</td>\n",
              "      <td>227.431953</td>\n",
              "      <td>26.036016</td>\n",
              "      <td>0.0</td>\n",
              "      <td>2.631721</td>\n",
              "      <td>1026.293441</td>\n",
              "      <td>422.851083</td>\n",
              "      <td>551.022478</td>\n",
              "      <td>12.320256</td>\n",
              "      <td>8.604956</td>\n",
              "      <td>0.0</td>\n",
              "      <td>1099.873302</td>\n",
              "      <td>...</td>\n",
              "      <td>620.914628</td>\n",
              "      <td>1801.778716</td>\n",
              "      <td>56.793764</td>\n",
              "      <td>6.023432</td>\n",
              "      <td>0.0</td>\n",
              "      <td>12.122341</td>\n",
              "      <td>5789.769397</td>\n",
              "      <td>0.0</td>\n",
              "      <td>96.949577</td>\n",
              "      <td>0.838818</td>\n",
              "      <td>8.181447</td>\n",
              "      <td>22.791727</td>\n",
              "      <td>0.0</td>\n",
              "      <td>80.158247</td>\n",
              "      <td>4.640926</td>\n",
              "      <td>6.740883</td>\n",
              "      <td>0.169338</td>\n",
              "      <td>1.429640</td>\n",
              "      <td>0.0</td>\n",
              "      <td>0.002170</td>\n",
              "      <td>1.830491e+06</td>\n",
              "      <td>2.602517</td>\n",
              "      <td>537.266598</td>\n",
              "      <td>46.957613</td>\n",
              "      <td>0.800824</td>\n",
              "      <td>-0.817748</td>\n",
              "      <td>-0.994793</td>\n",
              "      <td>0.319592</td>\n",
              "      <td>-0.947928</td>\n",
              "      <td>0.543936</td>\n",
              "      <td>0.382079</td>\n",
              "      <td>-0.573877</td>\n",
              "      <td>-0.869820</td>\n",
              "      <td>-0.948796</td>\n",
              "      <td>0.800824</td>\n",
              "      <td>-0.916685</td>\n",
              "      <td>-0.959210</td>\n",
              "      <td>-0.957475</td>\n",
              "      <td>-0.983077</td>\n",
              "      <td>-1.0</td>\n",
              "    </tr>\n",
              "    <tr>\n",
              "      <th>std</th>\n",
              "      <td>1.961066e+06</td>\n",
              "      <td>2.806320e+06</td>\n",
              "      <td>1.290341</td>\n",
              "      <td>7.270262</td>\n",
              "      <td>5.982738e+04</td>\n",
              "      <td>29.984486</td>\n",
              "      <td>5.579109</td>\n",
              "      <td>3.458448</td>\n",
              "      <td>40.858437</td>\n",
              "      <td>1.072453</td>\n",
              "      <td>0.728992</td>\n",
              "      <td>0.864809</td>\n",
              "      <td>1.337563</td>\n",
              "      <td>3.877774</td>\n",
              "      <td>34.043936</td>\n",
              "      <td>25.820316</td>\n",
              "      <td>485.725178</td>\n",
              "      <td>67.321096</td>\n",
              "      <td>0.0</td>\n",
              "      <td>76.680654</td>\n",
              "      <td>0.0</td>\n",
              "      <td>0.0</td>\n",
              "      <td>239.664157</td>\n",
              "      <td>397.258154</td>\n",
              "      <td>284.236129</td>\n",
              "      <td>40.191928</td>\n",
              "      <td>67.832251</td>\n",
              "      <td>34.475732</td>\n",
              "      <td>297.350769</td>\n",
              "      <td>736.032307</td>\n",
              "      <td>246.007917</td>\n",
              "      <td>0.0</td>\n",
              "      <td>51.521522</td>\n",
              "      <td>385.514165</td>\n",
              "      <td>177.856982</td>\n",
              "      <td>404.438112</td>\n",
              "      <td>170.328058</td>\n",
              "      <td>120.145740</td>\n",
              "      <td>0.0</td>\n",
              "      <td>397.646513</td>\n",
              "      <td>...</td>\n",
              "      <td>645.850608</td>\n",
              "      <td>959.146892</td>\n",
              "      <td>248.807395</td>\n",
              "      <td>40.933337</td>\n",
              "      <td>0.0</td>\n",
              "      <td>179.221119</td>\n",
              "      <td>1733.182270</td>\n",
              "      <td>0.0</td>\n",
              "      <td>130.517824</td>\n",
              "      <td>11.638199</td>\n",
              "      <td>160.169209</td>\n",
              "      <td>109.047750</td>\n",
              "      <td>0.0</td>\n",
              "      <td>87.366473</td>\n",
              "      <td>5.927061</td>\n",
              "      <td>44.617847</td>\n",
              "      <td>1.161179</td>\n",
              "      <td>27.185355</td>\n",
              "      <td>0.0</td>\n",
              "      <td>0.046534</td>\n",
              "      <td>5.796760e+06</td>\n",
              "      <td>8.345796</td>\n",
              "      <td>639.869099</td>\n",
              "      <td>147.530283</td>\n",
              "      <td>0.598964</td>\n",
              "      <td>0.575639</td>\n",
              "      <td>0.101929</td>\n",
              "      <td>0.947658</td>\n",
              "      <td>0.318519</td>\n",
              "      <td>0.839218</td>\n",
              "      <td>0.924230</td>\n",
              "      <td>0.819030</td>\n",
              "      <td>0.493423</td>\n",
              "      <td>0.315924</td>\n",
              "      <td>0.598964</td>\n",
              "      <td>0.399655</td>\n",
              "      <td>0.282724</td>\n",
              "      <td>0.288549</td>\n",
              "      <td>0.183215</td>\n",
              "      <td>0.0</td>\n",
              "    </tr>\n",
              "    <tr>\n",
              "      <th>min</th>\n",
              "      <td>2.528010e+05</td>\n",
              "      <td>6.087030e+06</td>\n",
              "      <td>2.000000</td>\n",
              "      <td>28.000000</td>\n",
              "      <td>1.982010e+07</td>\n",
              "      <td>180.000000</td>\n",
              "      <td>0.000000</td>\n",
              "      <td>1.000000</td>\n",
              "      <td>201804.000000</td>\n",
              "      <td>0.000000</td>\n",
              "      <td>0.000000</td>\n",
              "      <td>1.000000</td>\n",
              "      <td>1.000000</td>\n",
              "      <td>1.000000</td>\n",
              "      <td>11.410000</td>\n",
              "      <td>0.000000</td>\n",
              "      <td>0.000000</td>\n",
              "      <td>0.000000</td>\n",
              "      <td>0.0</td>\n",
              "      <td>0.000000</td>\n",
              "      <td>0.0</td>\n",
              "      <td>0.0</td>\n",
              "      <td>0.000000</td>\n",
              "      <td>0.000000</td>\n",
              "      <td>0.000000</td>\n",
              "      <td>0.000000</td>\n",
              "      <td>0.000000</td>\n",
              "      <td>0.000000</td>\n",
              "      <td>0.000000</td>\n",
              "      <td>0.000000</td>\n",
              "      <td>0.000000</td>\n",
              "      <td>0.0</td>\n",
              "      <td>0.000000</td>\n",
              "      <td>0.000000</td>\n",
              "      <td>0.000000</td>\n",
              "      <td>0.000000</td>\n",
              "      <td>0.000000</td>\n",
              "      <td>0.000000</td>\n",
              "      <td>0.0</td>\n",
              "      <td>0.000000</td>\n",
              "      <td>...</td>\n",
              "      <td>0.000000</td>\n",
              "      <td>79.910000</td>\n",
              "      <td>0.000000</td>\n",
              "      <td>0.000000</td>\n",
              "      <td>0.0</td>\n",
              "      <td>0.000000</td>\n",
              "      <td>1758.180000</td>\n",
              "      <td>0.0</td>\n",
              "      <td>0.000000</td>\n",
              "      <td>0.000000</td>\n",
              "      <td>0.000000</td>\n",
              "      <td>0.000000</td>\n",
              "      <td>0.0</td>\n",
              "      <td>0.000000</td>\n",
              "      <td>0.000000</td>\n",
              "      <td>0.000000</td>\n",
              "      <td>0.000000</td>\n",
              "      <td>0.000000</td>\n",
              "      <td>0.0</td>\n",
              "      <td>0.000000</td>\n",
              "      <td>0.000000e+00</td>\n",
              "      <td>0.000000</td>\n",
              "      <td>0.000000</td>\n",
              "      <td>0.000000</td>\n",
              "      <td>-1.000000</td>\n",
              "      <td>-1.000000</td>\n",
              "      <td>-1.000000</td>\n",
              "      <td>-1.000000</td>\n",
              "      <td>-1.000000</td>\n",
              "      <td>-1.000000</td>\n",
              "      <td>-1.000000</td>\n",
              "      <td>-1.000000</td>\n",
              "      <td>-1.000000</td>\n",
              "      <td>-1.000000</td>\n",
              "      <td>-1.000000</td>\n",
              "      <td>-1.000000</td>\n",
              "      <td>-1.000000</td>\n",
              "      <td>-1.000000</td>\n",
              "      <td>-1.000000</td>\n",
              "      <td>-1.0</td>\n",
              "    </tr>\n",
              "    <tr>\n",
              "      <th>25%</th>\n",
              "      <td>5.172203e+06</td>\n",
              "      <td>6.034744e+07</td>\n",
              "      <td>5.000000</td>\n",
              "      <td>40.000000</td>\n",
              "      <td>2.001081e+07</td>\n",
              "      <td>180.000000</td>\n",
              "      <td>30.000000</td>\n",
              "      <td>12.000000</td>\n",
              "      <td>201807.000000</td>\n",
              "      <td>0.000000</td>\n",
              "      <td>0.000000</td>\n",
              "      <td>1.000000</td>\n",
              "      <td>6.000000</td>\n",
              "      <td>5.000000</td>\n",
              "      <td>84.730000</td>\n",
              "      <td>0.000000</td>\n",
              "      <td>0.000000</td>\n",
              "      <td>0.000000</td>\n",
              "      <td>0.0</td>\n",
              "      <td>0.000000</td>\n",
              "      <td>0.0</td>\n",
              "      <td>0.0</td>\n",
              "      <td>0.000000</td>\n",
              "      <td>988.990000</td>\n",
              "      <td>0.000000</td>\n",
              "      <td>0.000000</td>\n",
              "      <td>0.000000</td>\n",
              "      <td>0.000000</td>\n",
              "      <td>252.190000</td>\n",
              "      <td>0.000000</td>\n",
              "      <td>0.000000</td>\n",
              "      <td>0.0</td>\n",
              "      <td>0.000000</td>\n",
              "      <td>933.610000</td>\n",
              "      <td>395.600000</td>\n",
              "      <td>234.220000</td>\n",
              "      <td>0.000000</td>\n",
              "      <td>0.000000</td>\n",
              "      <td>0.0</td>\n",
              "      <td>998.000000</td>\n",
              "      <td>...</td>\n",
              "      <td>0.000000</td>\n",
              "      <td>1103.330000</td>\n",
              "      <td>0.000000</td>\n",
              "      <td>0.000000</td>\n",
              "      <td>0.0</td>\n",
              "      <td>0.000000</td>\n",
              "      <td>4642.900000</td>\n",
              "      <td>0.0</td>\n",
              "      <td>0.000000</td>\n",
              "      <td>0.000000</td>\n",
              "      <td>0.000000</td>\n",
              "      <td>0.000000</td>\n",
              "      <td>0.0</td>\n",
              "      <td>0.000000</td>\n",
              "      <td>0.000000</td>\n",
              "      <td>0.000000</td>\n",
              "      <td>0.000000</td>\n",
              "      <td>0.000000</td>\n",
              "      <td>0.0</td>\n",
              "      <td>0.000000</td>\n",
              "      <td>0.000000e+00</td>\n",
              "      <td>0.000000</td>\n",
              "      <td>20.110000</td>\n",
              "      <td>0.000000</td>\n",
              "      <td>1.000000</td>\n",
              "      <td>-1.000000</td>\n",
              "      <td>-1.000000</td>\n",
              "      <td>-1.000000</td>\n",
              "      <td>-1.000000</td>\n",
              "      <td>1.000000</td>\n",
              "      <td>-1.000000</td>\n",
              "      <td>-1.000000</td>\n",
              "      <td>-1.000000</td>\n",
              "      <td>-1.000000</td>\n",
              "      <td>1.000000</td>\n",
              "      <td>-1.000000</td>\n",
              "      <td>-1.000000</td>\n",
              "      <td>-1.000000</td>\n",
              "      <td>-1.000000</td>\n",
              "      <td>-1.0</td>\n",
              "    </tr>\n",
              "    <tr>\n",
              "      <th>50%</th>\n",
              "      <td>5.387901e+06</td>\n",
              "      <td>6.052563e+07</td>\n",
              "      <td>6.000000</td>\n",
              "      <td>44.000000</td>\n",
              "      <td>2.002062e+07</td>\n",
              "      <td>180.000000</td>\n",
              "      <td>30.000000</td>\n",
              "      <td>12.000000</td>\n",
              "      <td>201810.000000</td>\n",
              "      <td>1.000000</td>\n",
              "      <td>0.000000</td>\n",
              "      <td>1.000000</td>\n",
              "      <td>6.000000</td>\n",
              "      <td>8.000000</td>\n",
              "      <td>106.210000</td>\n",
              "      <td>0.000000</td>\n",
              "      <td>0.000000</td>\n",
              "      <td>0.000000</td>\n",
              "      <td>0.0</td>\n",
              "      <td>0.000000</td>\n",
              "      <td>0.0</td>\n",
              "      <td>0.0</td>\n",
              "      <td>127.080000</td>\n",
              "      <td>1113.750000</td>\n",
              "      <td>0.000000</td>\n",
              "      <td>0.000000</td>\n",
              "      <td>0.000000</td>\n",
              "      <td>0.000000</td>\n",
              "      <td>327.570000</td>\n",
              "      <td>0.000000</td>\n",
              "      <td>0.000000</td>\n",
              "      <td>0.0</td>\n",
              "      <td>0.000000</td>\n",
              "      <td>1051.380000</td>\n",
              "      <td>444.080000</td>\n",
              "      <td>460.760000</td>\n",
              "      <td>0.000000</td>\n",
              "      <td>0.000000</td>\n",
              "      <td>0.0</td>\n",
              "      <td>1113.750000</td>\n",
              "      <td>...</td>\n",
              "      <td>564.040000</td>\n",
              "      <td>1721.890000</td>\n",
              "      <td>0.000000</td>\n",
              "      <td>0.000000</td>\n",
              "      <td>0.0</td>\n",
              "      <td>0.000000</td>\n",
              "      <td>5817.500000</td>\n",
              "      <td>0.0</td>\n",
              "      <td>0.000000</td>\n",
              "      <td>0.000000</td>\n",
              "      <td>0.000000</td>\n",
              "      <td>0.000000</td>\n",
              "      <td>0.0</td>\n",
              "      <td>95.400000</td>\n",
              "      <td>0.000000</td>\n",
              "      <td>0.000000</td>\n",
              "      <td>0.000000</td>\n",
              "      <td>0.000000</td>\n",
              "      <td>0.0</td>\n",
              "      <td>0.000000</td>\n",
              "      <td>0.000000e+00</td>\n",
              "      <td>0.000000</td>\n",
              "      <td>236.140000</td>\n",
              "      <td>0.000000</td>\n",
              "      <td>1.000000</td>\n",
              "      <td>-1.000000</td>\n",
              "      <td>-1.000000</td>\n",
              "      <td>1.000000</td>\n",
              "      <td>-1.000000</td>\n",
              "      <td>1.000000</td>\n",
              "      <td>1.000000</td>\n",
              "      <td>-1.000000</td>\n",
              "      <td>-1.000000</td>\n",
              "      <td>-1.000000</td>\n",
              "      <td>1.000000</td>\n",
              "      <td>-1.000000</td>\n",
              "      <td>-1.000000</td>\n",
              "      <td>-1.000000</td>\n",
              "      <td>-1.000000</td>\n",
              "      <td>-1.0</td>\n",
              "    </tr>\n",
              "    <tr>\n",
              "      <th>75%</th>\n",
              "      <td>8.818801e+06</td>\n",
              "      <td>6.076772e+07</td>\n",
              "      <td>6.000000</td>\n",
              "      <td>49.000000</td>\n",
              "      <td>2.011050e+07</td>\n",
              "      <td>240.000000</td>\n",
              "      <td>40.000000</td>\n",
              "      <td>12.000000</td>\n",
              "      <td>201901.000000</td>\n",
              "      <td>2.000000</td>\n",
              "      <td>1.000000</td>\n",
              "      <td>1.000000</td>\n",
              "      <td>7.000000</td>\n",
              "      <td>10.000000</td>\n",
              "      <td>126.610000</td>\n",
              "      <td>0.000000</td>\n",
              "      <td>0.000000</td>\n",
              "      <td>0.000000</td>\n",
              "      <td>0.0</td>\n",
              "      <td>0.000000</td>\n",
              "      <td>0.0</td>\n",
              "      <td>0.0</td>\n",
              "      <td>378.500000</td>\n",
              "      <td>1394.890000</td>\n",
              "      <td>0.000000</td>\n",
              "      <td>0.000000</td>\n",
              "      <td>0.000000</td>\n",
              "      <td>0.000000</td>\n",
              "      <td>692.290000</td>\n",
              "      <td>0.000000</td>\n",
              "      <td>0.000000</td>\n",
              "      <td>0.0</td>\n",
              "      <td>0.000000</td>\n",
              "      <td>1316.780000</td>\n",
              "      <td>557.960000</td>\n",
              "      <td>795.990000</td>\n",
              "      <td>0.000000</td>\n",
              "      <td>0.000000</td>\n",
              "      <td>0.0</td>\n",
              "      <td>1399.320000</td>\n",
              "      <td>...</td>\n",
              "      <td>1139.740000</td>\n",
              "      <td>2332.040000</td>\n",
              "      <td>0.000000</td>\n",
              "      <td>0.000000</td>\n",
              "      <td>0.0</td>\n",
              "      <td>0.000000</td>\n",
              "      <td>6749.510000</td>\n",
              "      <td>0.0</td>\n",
              "      <td>264.000000</td>\n",
              "      <td>0.000000</td>\n",
              "      <td>0.000000</td>\n",
              "      <td>0.000000</td>\n",
              "      <td>0.0</td>\n",
              "      <td>145.590000</td>\n",
              "      <td>8.130000</td>\n",
              "      <td>0.000000</td>\n",
              "      <td>0.000000</td>\n",
              "      <td>0.000000</td>\n",
              "      <td>0.0</td>\n",
              "      <td>0.000000</td>\n",
              "      <td>0.000000e+00</td>\n",
              "      <td>0.000000</td>\n",
              "      <td>958.600000</td>\n",
              "      <td>0.000000</td>\n",
              "      <td>1.000000</td>\n",
              "      <td>-1.000000</td>\n",
              "      <td>-1.000000</td>\n",
              "      <td>1.000000</td>\n",
              "      <td>-1.000000</td>\n",
              "      <td>1.000000</td>\n",
              "      <td>1.000000</td>\n",
              "      <td>-1.000000</td>\n",
              "      <td>-1.000000</td>\n",
              "      <td>-1.000000</td>\n",
              "      <td>1.000000</td>\n",
              "      <td>-1.000000</td>\n",
              "      <td>-1.000000</td>\n",
              "      <td>-1.000000</td>\n",
              "      <td>-1.000000</td>\n",
              "      <td>-1.0</td>\n",
              "    </tr>\n",
              "    <tr>\n",
              "      <th>max</th>\n",
              "      <td>1.213210e+07</td>\n",
              "      <td>6.288000e+07</td>\n",
              "      <td>7.000000</td>\n",
              "      <td>67.000000</td>\n",
              "      <td>2.019030e+07</td>\n",
              "      <td>240.000000</td>\n",
              "      <td>40.000000</td>\n",
              "      <td>19.000000</td>\n",
              "      <td>201903.000000</td>\n",
              "      <td>5.000000</td>\n",
              "      <td>3.000000</td>\n",
              "      <td>4.000000</td>\n",
              "      <td>9.000000</td>\n",
              "      <td>30.000000</td>\n",
              "      <td>324.700000</td>\n",
              "      <td>302.660000</td>\n",
              "      <td>3241.680000</td>\n",
              "      <td>1699.620000</td>\n",
              "      <td>0.0</td>\n",
              "      <td>642.330000</td>\n",
              "      <td>0.0</td>\n",
              "      <td>0.0</td>\n",
              "      <td>1103.410000</td>\n",
              "      <td>1540.090000</td>\n",
              "      <td>1823.410000</td>\n",
              "      <td>539.410000</td>\n",
              "      <td>1367.490000</td>\n",
              "      <td>759.790000</td>\n",
              "      <td>2230.800000</td>\n",
              "      <td>3228.990000</td>\n",
              "      <td>3000.000000</td>\n",
              "      <td>0.0</td>\n",
              "      <td>1038.670000</td>\n",
              "      <td>1453.840000</td>\n",
              "      <td>616.040000</td>\n",
              "      <td>3104.130000</td>\n",
              "      <td>2431.230000</td>\n",
              "      <td>1937.390000</td>\n",
              "      <td>0.0</td>\n",
              "      <td>1713.270000</td>\n",
              "      <td>...</td>\n",
              "      <td>2159.280000</td>\n",
              "      <td>7033.820000</td>\n",
              "      <td>2240.890000</td>\n",
              "      <td>324.000000</td>\n",
              "      <td>0.0</td>\n",
              "      <td>2735.110000</td>\n",
              "      <td>16234.890000</td>\n",
              "      <td>0.0</td>\n",
              "      <td>324.000000</td>\n",
              "      <td>187.200000</td>\n",
              "      <td>3228.990000</td>\n",
              "      <td>559.430000</td>\n",
              "      <td>0.0</td>\n",
              "      <td>1295.700000</td>\n",
              "      <td>24.390000</td>\n",
              "      <td>1045.080000</td>\n",
              "      <td>8.130000</td>\n",
              "      <td>1450.060000</td>\n",
              "      <td>0.0</td>\n",
              "      <td>1.000000</td>\n",
              "      <td>2.019030e+07</td>\n",
              "      <td>30.000000</td>\n",
              "      <td>3904.450000</td>\n",
              "      <td>2134.260000</td>\n",
              "      <td>1.000000</td>\n",
              "      <td>1.000000</td>\n",
              "      <td>1.000000</td>\n",
              "      <td>1.000000</td>\n",
              "      <td>1.000000</td>\n",
              "      <td>1.000000</td>\n",
              "      <td>1.000000</td>\n",
              "      <td>1.000000</td>\n",
              "      <td>1.000000</td>\n",
              "      <td>1.000000</td>\n",
              "      <td>1.000000</td>\n",
              "      <td>1.000000</td>\n",
              "      <td>1.000000</td>\n",
              "      <td>1.000000</td>\n",
              "      <td>1.000000</td>\n",
              "      <td>-1.0</td>\n",
              "    </tr>\n",
              "  </tbody>\n",
              "</table>\n",
              "<p>8 rows × 86 columns</p>\n",
              "</div>"
            ],
            "text/plain": [
              "         PRONTUARIO  CEP_RESIDENCIA  ...  AGENTE_ADMINISTRATIVO  ADMINISTRADOR\n",
              "count  4.609000e+03    4.609000e+03  ...            4609.000000         4609.0\n",
              "mean   6.325205e+06    6.045848e+07  ...              -0.983077           -1.0\n",
              "std    1.961066e+06    2.806320e+06  ...               0.183215            0.0\n",
              "min    2.528010e+05    6.087030e+06  ...              -1.000000           -1.0\n",
              "25%    5.172203e+06    6.034744e+07  ...              -1.000000           -1.0\n",
              "50%    5.387901e+06    6.052563e+07  ...              -1.000000           -1.0\n",
              "75%    8.818801e+06    6.076772e+07  ...              -1.000000           -1.0\n",
              "max    1.213210e+07    6.288000e+07  ...               1.000000           -1.0\n",
              "\n",
              "[8 rows x 86 columns]"
            ]
          },
          "metadata": {
            "tags": []
          },
          "execution_count": 182
        }
      ]
    },
    {
      "cell_type": "markdown",
      "metadata": {
        "id": "mDra5FIlWMUj"
      },
      "source": [
        "##Vaviáveis para medidas centrais"
      ]
    },
    {
      "cell_type": "markdown",
      "metadata": {
        "id": "Q3Q3gzq7U0a2"
      },
      "source": [
        "### Média"
      ]
    },
    {
      "cell_type": "code",
      "metadata": {
        "id": "fo7_UUw6U3bk",
        "outputId": "df758fca-950d-493f-8b12-faddb1c1b67b",
        "colab": {
          "base_uri": "https://localhost:8080/"
        }
      },
      "source": [
        "media = df['VERBA_0998'].mean()\n",
        "media"
      ],
      "execution_count": null,
      "outputs": [
        {
          "output_type": "execute_result",
          "data": {
            "text/plain": [
              "4107.257257539581"
            ]
          },
          "metadata": {
            "tags": []
          },
          "execution_count": 183
        }
      ]
    },
    {
      "cell_type": "markdown",
      "metadata": {
        "id": "0NZuAzBC76Mv"
      },
      "source": [
        "###Mediana"
      ]
    },
    {
      "cell_type": "code",
      "metadata": {
        "id": "306teQjHL89-",
        "outputId": "ba9feba9-ba96-48bf-d2aa-90b163fcb542",
        "colab": {
          "base_uri": "https://localhost:8080/"
        }
      },
      "source": [
        "mediana = df['VERBA_0998'].median()\n",
        "mediana"
      ],
      "execution_count": null,
      "outputs": [
        {
          "output_type": "execute_result",
          "data": {
            "text/plain": [
              "4055.8"
            ]
          },
          "metadata": {
            "tags": []
          },
          "execution_count": 184
        }
      ]
    },
    {
      "cell_type": "markdown",
      "metadata": {
        "id": "ct7i4L0IMU18"
      },
      "source": [
        "###Moda"
      ]
    },
    {
      "cell_type": "code",
      "metadata": {
        "id": "22EVWnPcMQjc",
        "outputId": "42f4bb33-ad7b-4770-c5ab-ec7be461e8c1",
        "colab": {
          "base_uri": "https://localhost:8080/"
        }
      },
      "source": [
        "moda = df['VERBA_0998'].mode()\n",
        "moda"
      ],
      "execution_count": null,
      "outputs": [
        {
          "output_type": "execute_result",
          "data": {
            "text/plain": [
              "0    2579.24\n",
              "dtype: float64"
            ]
          },
          "metadata": {
            "tags": []
          },
          "execution_count": 185
        }
      ]
    },
    {
      "cell_type": "markdown",
      "metadata": {
        "id": "XzJOcVZrVqu4"
      },
      "source": [
        "##Váriaveis para mensurar a dispersão dos dados"
      ]
    },
    {
      "cell_type": "markdown",
      "metadata": {
        "id": "4bOW_V2YMpte"
      },
      "source": [
        "###Variança"
      ]
    },
    {
      "cell_type": "code",
      "metadata": {
        "id": "_X6aMLkLMr23",
        "outputId": "22aa97fa-1871-4e3b-ef78-cd5b7b0a8c64",
        "colab": {
          "base_uri": "https://localhost:8080/"
        }
      },
      "source": [
        "varianca = df['VERBA_0998'].var()\n",
        "varianca"
      ],
      "execution_count": null,
      "outputs": [
        {
          "output_type": "execute_result",
          "data": {
            "text/plain": [
              "1458996.631620082"
            ]
          },
          "metadata": {
            "tags": []
          },
          "execution_count": 186
        }
      ]
    },
    {
      "cell_type": "markdown",
      "metadata": {
        "id": "V1RFl3yXM-df"
      },
      "source": [
        "###Desvio Padrão"
      ]
    },
    {
      "cell_type": "code",
      "metadata": {
        "id": "NUIQx9ofNAwC",
        "outputId": "44755c54-e1d1-4fda-a3ea-571914df6a8f",
        "colab": {
          "base_uri": "https://localhost:8080/"
        }
      },
      "source": [
        "desvioPadrao = df['VERBA_0998'].std()\n",
        "desvioPadrao"
      ],
      "execution_count": null,
      "outputs": [
        {
          "output_type": "execute_result",
          "data": {
            "text/plain": [
              "1207.8893292102891"
            ]
          },
          "metadata": {
            "tags": []
          },
          "execution_count": 187
        }
      ]
    },
    {
      "cell_type": "markdown",
      "metadata": {
        "id": "AlPW1txlNRzw"
      },
      "source": [
        "### Desvio Absoleto"
      ]
    },
    {
      "cell_type": "code",
      "metadata": {
        "id": "fBD1_mUiNdpO",
        "outputId": "469c20ac-8e3c-410e-9fea-5deef0a64ab8",
        "colab": {
          "base_uri": "https://localhost:8080/"
        }
      },
      "source": [
        "desvioAbsoleto = df['VERBA_0998'].mad()\n",
        "desvioAbsoleto"
      ],
      "execution_count": null,
      "outputs": [
        {
          "output_type": "execute_result",
          "data": {
            "text/plain": [
              "954.9661981978779"
            ]
          },
          "metadata": {
            "tags": []
          },
          "execution_count": 188
        }
      ]
    },
    {
      "cell_type": "markdown",
      "metadata": {
        "id": "5-i5RCnGun_g"
      },
      "source": [
        "##Interquartile Range"
      ]
    },
    {
      "cell_type": "code",
      "metadata": {
        "id": "oG93sUJNusXC",
        "outputId": "bac42f5f-d066-4203-ef66-0d61503829c7",
        "colab": {
          "base_uri": "https://localhost:8080/"
        }
      },
      "source": [
        "IRQ = iqr(df['VERBA_0998'])\n",
        "IRQ"
      ],
      "execution_count": null,
      "outputs": [
        {
          "output_type": "execute_result",
          "data": {
            "text/plain": [
              "1575.6399999999999"
            ]
          },
          "metadata": {
            "tags": []
          },
          "execution_count": 189
        }
      ]
    },
    {
      "cell_type": "markdown",
      "metadata": {
        "id": "MaQKvWLKvCpJ"
      },
      "source": [
        "# Fase 3 - Preparação dos dados"
      ]
    },
    {
      "cell_type": "markdown",
      "metadata": {
        "id": "4i5Fj_sChEdD"
      },
      "source": [
        "##Removendo atributos"
      ]
    },
    {
      "cell_type": "code",
      "metadata": {
        "id": "wpGtztVBm8nc"
      },
      "source": [
        "#Nova feature - nível de experiencia - engenharia de caracteristica(feature)\n",
        "df['NIVEL_EXPERIENCIA'] = 0\n",
        "for dataset in [df]:\n",
        "  dataset['NIVEL_EXPERIENCIA'] = (dataset['PLANO']*3) + (dataset['NIVEL']*2) + dataset['REFERENCIA']"
      ],
      "execution_count": null,
      "outputs": []
    },
    {
      "cell_type": "code",
      "metadata": {
        "id": "WboMYFfbrw-F"
      },
      "source": [
        "#Remover todos todos os dados com TIPO_VINCULO = 'NAO SERVIDOR'\n",
        "listaRemovida = df.loc[df['TIPO_VINCULO'] == 'NAO SERVIDOR'].index\n",
        "\n",
        "for i in listaRemovida:\n",
        "  df = df.drop(i, axis=0)"
      ],
      "execution_count": null,
      "outputs": []
    },
    {
      "cell_type": "code",
      "metadata": {
        "id": "kErS7ZuRIV4u"
      },
      "source": [
        "#Remover ID\n",
        "df = df.drop('TIPO_VINCULO', axis=1)"
      ],
      "execution_count": null,
      "outputs": []
    },
    {
      "cell_type": "code",
      "metadata": {
        "id": "PXK_6TKLhQGd"
      },
      "source": [
        "#Removendo coluna: nenhum servidor recebe essa verba, logo todos os valores estão com zero na coluna\n",
        "df = df.drop('VERBA_0219', axis=1)\n",
        "\n",
        "#Removendo coluna: nenhum servidor recebe essa verba, logo todos os valores estão com zero na coluna\n",
        "df = df.drop('VERBA_0165', axis=1)\n",
        "\n",
        "#Removendo coluna: nenhum servidor recebe essa verba, logo todos os valores estão com zero na coluna\n",
        "df = df.drop('VERBA_0207', axis=1)\n",
        "\n",
        "#Remover o tipo de situação do processo, pq já existe processo de aposentadoria\n",
        "df = df.drop('SITUACAO_PROCESSO', axis=1)\n",
        "\n",
        "#Remover a data inicio do gozo de férias\n",
        "df = df.drop('DT_INICIO_GOZO', axis=1)\n",
        "\n",
        "#Remover a quantidade de dias de gozo\n",
        "df = df.drop('QT_DIAS_GOZO', axis=1)"
      ],
      "execution_count": null,
      "outputs": []
    },
    {
      "cell_type": "code",
      "metadata": {
        "id": "s-uZoUHdv1Co"
      },
      "source": [
        "#Removendo coluna: só um servidor recebe essa verba\n",
        "df = df.drop('VERBA_0230', axis=1)\n",
        "\n",
        "#Removendo coluna: só um servidor recebe essa verba\n",
        "df = df.drop('VERBA_0152', axis=1)\n",
        "\n",
        "#Removendo coluna: verba do secretário\n",
        "df = df.drop('VERBA_0111', axis=1)"
      ],
      "execution_count": null,
      "outputs": []
    },
    {
      "cell_type": "code",
      "metadata": {
        "id": "zrmlXKdjN_aY"
      },
      "source": [
        "#Removendo coluna\n",
        "df = df.drop('PLANO', axis=1)\n",
        "\n",
        "#Removendo coluna\n",
        "df = df.drop('NIVEL', axis=1)\n",
        "\n",
        "#Removendo coluna\n",
        "df = df.drop('REFERENCIA', axis=1)"
      ],
      "execution_count": null,
      "outputs": []
    },
    {
      "cell_type": "markdown",
      "metadata": {
        "id": "fco4GtnDcrXz"
      },
      "source": [
        "##Tratamento identificados nas correlações"
      ]
    },
    {
      "cell_type": "markdown",
      "metadata": {
        "id": "uJbmYyaUdNzC"
      },
      "source": [
        "Quando transformei linhas em colunas e rodei as correlações novamente percebi que TABELA-AMC / AGENTE_MUNIC_FISC_TRANS = 1.0, por isso apaguei a AGENTE_MUNIC_FISC_TRANS e renomei a coluna para TABELA-AMC_AGENTE_MUNIC_FISC_TRANS"
      ]
    },
    {
      "cell_type": "code",
      "metadata": {
        "id": "DSLwPa1XdGgQ"
      },
      "source": [
        "df = df.drop('AGENTE_MUNIC_FISC_TRANS', axis=1)"
      ],
      "execution_count": null,
      "outputs": []
    },
    {
      "cell_type": "code",
      "metadata": {
        "id": "LFB-5bI5dGgX"
      },
      "source": [
        "df = df.rename(columns={'TABELA-AMC': 'TABELA-AMC_AGEN_MUNI_FISC_TRAN'})"
      ],
      "execution_count": null,
      "outputs": []
    },
    {
      "cell_type": "code",
      "metadata": {
        "id": "1xws-S86dGga"
      },
      "source": [
        "#Removendo coluna: após remover TIPO-VINCULO = 'NAO SERVIDOR' ninguem tem essa verba\n",
        "df = df.drop('VERBA_0326', axis=1)\n",
        "\n",
        "#Removendo coluna: após remover TIPO-VINCULO = 'NAO SERVIDOR' ninguem tem essa verba\n",
        "df = df.drop('VERBA_0682', axis=1)\n",
        "\n",
        "#Removendo coluna: após remover TIPO-VINCULO = 'NAO SERVIDOR' ninguem tem essa verba\n",
        "df = df.drop('VERBA_0138', axis=1)"
      ],
      "execution_count": null,
      "outputs": []
    },
    {
      "cell_type": "code",
      "metadata": {
        "id": "AP13RyxRdGgd"
      },
      "source": [
        "#Removendo coluna: JORNADA_SEMANAL pq já existe JORNADA_MENSAL\n",
        "df = df.drop('JORNADA_SEMANAL', axis=1)\n",
        "\n",
        "#Removendo coluna: VERBA_0122 pq é de bolsistas\n",
        "df = df.drop('VERBA_0122', axis=1)\n",
        "\n",
        "#Removendo coluna: VERBA_0231 pq é de bolsistas\n",
        "df = df.drop('VERBA_0231', axis=1)"
      ],
      "execution_count": null,
      "outputs": []
    },
    {
      "cell_type": "code",
      "metadata": {
        "id": "bbz3JCpCdGgj"
      },
      "source": [
        "#Removendo coluna: QTD_DEPENDENTES_SF pq já tem a informação em VERBA_0116\n",
        "df = df.drop('QTD_DEPENDENTES_SF', axis=1)"
      ],
      "execution_count": null,
      "outputs": []
    },
    {
      "cell_type": "code",
      "metadata": {
        "id": "D9rwgrO8dGgl"
      },
      "source": [
        "#Removendo valor e deixando a porcentagem calculada em cima da VERBA_100\n",
        "for dataset in [df]:\n",
        "  dataset.loc[dataset.VERBA_0159 > 0, 'VERBA_0159'] = round(dataset.VERBA_0159 / dataset.VERBA_0100, 4) #percentual fixo 0.4\n",
        "  dataset.loc[dataset.VERBA_0096 > 0, 'VERBA_0096'] = round(dataset.VERBA_0096 / dataset.VERBA_0100, 4) #percentual fixo 0.9440 <- Possui outros porcentagens a menos (POSSÍVEL ERRO)\n",
        "\n",
        "  dataset.loc[dataset.VERBA_0318 > 0, 'VERBA_0318'] = round(dataset.VERBA_0318 / dataset.VERBA_0100, 4) #percentual variante\n",
        "  dataset.loc[dataset.VERBA_0097 > 0, 'VERBA_0097'] = round(dataset.VERBA_0097 / dataset.VERBA_0100, 4) #percentual variante <- Possui acima de 1  (POSSÍVEL ERRO)\n",
        "  dataset.loc[dataset.VERBA_0085 > 0, 'VERBA_0085'] = round(dataset.VERBA_0085 / dataset.VERBA_0100, 4) #percentual variante "
      ],
      "execution_count": null,
      "outputs": []
    },
    {
      "cell_type": "code",
      "metadata": {
        "id": "s5bPokMbdGgm"
      },
      "source": [
        "#Somar todas as verba de porcentagem\n",
        "df['VERBAS_PORCENTAGEM_100'] = 0\n",
        "\n",
        "for dataset in [df]:\n",
        "  dataset['VERBAS_PORCENTAGEM_100'] = dataset['VERBA_0159'] + dataset['VERBA_0096'] + dataset['VERBA_0318'] + dataset['VERBA_0097'] + dataset['VERBA_0085']"
      ],
      "execution_count": null,
      "outputs": []
    },
    {
      "cell_type": "code",
      "metadata": {
        "id": "-aSPH8rhdGgo"
      },
      "source": [
        "df['VERBAS_PORCENTAGEM_100'] = df['VERBAS_PORCENTAGEM_100'].apply(lambda x: float(str(x).replace(\",\",\".\")))"
      ],
      "execution_count": null,
      "outputs": []
    },
    {
      "cell_type": "code",
      "metadata": {
        "id": "gxPvB-WNdGgr"
      },
      "source": [
        "#Removendo coluna: VERBA_0159, VERBA_0096, VERBA_0318, VERBA_0097, VERBA_0085 pq já está na VERBAS_PORCENTAGEM_100\n",
        "df = df.drop('VERBA_0159', axis=1)\n",
        "df = df.drop('VERBA_0096', axis=1)\n",
        "df = df.drop('VERBA_0318', axis=1)\n",
        "df = df.drop('VERBA_0097', axis=1)\n",
        "df = df.drop('VERBA_0085', axis=1)"
      ],
      "execution_count": null,
      "outputs": []
    },
    {
      "cell_type": "code",
      "metadata": {
        "id": "sTs4T2cOdGgs"
      },
      "source": [
        "#Removendo coluna: VERBA_0996 pq a somatória de todas os proventos\n",
        "df = df.drop('VERBA_0996', axis=1)\n",
        "\n",
        "#Removendo coluna: VERBA_0997 pq a somatória de todas os descontos\n",
        "df = df.drop('VERBA_0997', axis=1)\n",
        "\n",
        "#Transformar os dados que estão em string em int\n",
        "df['CEP_RESIDENCIA'] = df['CEP_RESIDENCIA'].apply(lambda x: float(x))"
      ],
      "execution_count": null,
      "outputs": []
    },
    {
      "cell_type": "code",
      "metadata": {
        "id": "m0J2Q_11dGgu"
      },
      "source": [
        "#removendo colunas: VERBA_0001 e VERBA_0206 pq depois de retirar as anomalias ninguem mais tem essas verbas\n",
        "df = df.drop('VERBA_0001', axis=1)\n",
        "df = df.drop('VERBA_0206', axis=1)"
      ],
      "execution_count": null,
      "outputs": []
    },
    {
      "cell_type": "code",
      "metadata": {
        "id": "ZNm0hFXa-HQ-"
      },
      "source": [
        "#Correlação acima de 90%\n",
        "df = df.drop('LOTACAO', axis=1)\n",
        "df = df.drop('PROCESSO_APOSENTADORIA', axis=1)\n",
        "df = df.drop('ADMINISTRADOR', axis=1)\n",
        "df = df.drop('CEP_RESIDENCIA', axis=1)"
      ],
      "execution_count": null,
      "outputs": []
    },
    {
      "cell_type": "markdown",
      "metadata": {
        "id": "OgVRwwHAiwTM"
      },
      "source": [
        "## Tratamento nos dados"
      ]
    },
    {
      "cell_type": "code",
      "metadata": {
        "id": "FXjf26iyvfiX"
      },
      "source": [
        "df.fillna(0, inplace=True)"
      ],
      "execution_count": null,
      "outputs": []
    },
    {
      "cell_type": "code",
      "metadata": {
        "id": "An2aJRMhi0hF"
      },
      "source": [
        "#df.replace([df.inf, -df.inf], df.nan) #convert infs to nans\n",
        "df = df.dropna(axis = 1, how = 'any') #remove nans\n",
        "df = df._get_numeric_data() #keep only numeric features"
      ],
      "execution_count": null,
      "outputs": []
    },
    {
      "cell_type": "markdown",
      "metadata": {
        "id": "-qcOKs2BXbQ7"
      },
      "source": [
        "##Separando as bases"
      ]
    },
    {
      "cell_type": "code",
      "metadata": {
        "id": "_7o9ug0Cxvey"
      },
      "source": [
        "#Usar para pegar os valores originais\n",
        "dados_completos = df\n",
        "\n",
        "#Excluir o prontuario\n",
        "df = df.drop('PRONTUARIO', axis=1)\n",
        "\n",
        "#Remover Data referencia porque ela não influencia no salário\n",
        "df = df.drop('DT_REFER', axis=1)"
      ],
      "execution_count": null,
      "outputs": []
    },
    {
      "cell_type": "code",
      "metadata": {
        "id": "h5t45fEv4AHC",
        "outputId": "85d9e820-6c1a-4b5d-d36e-6804671b7e6e",
        "colab": {
          "base_uri": "https://localhost:8080/",
          "height": 114
        }
      },
      "source": [
        "df.head(1)"
      ],
      "execution_count": null,
      "outputs": [
        {
          "output_type": "execute_result",
          "data": {
            "text/html": [
              "<div>\n",
              "<style scoped>\n",
              "    .dataframe tbody tr th:only-of-type {\n",
              "        vertical-align: middle;\n",
              "    }\n",
              "\n",
              "    .dataframe tbody tr th {\n",
              "        vertical-align: top;\n",
              "    }\n",
              "\n",
              "    .dataframe thead th {\n",
              "        text-align: right;\n",
              "    }\n",
              "</style>\n",
              "<table border=\"1\" class=\"dataframe\">\n",
              "  <thead>\n",
              "    <tr style=\"text-align: right;\">\n",
              "      <th></th>\n",
              "      <th>GRAUINSTRUCAO</th>\n",
              "      <th>IDADE</th>\n",
              "      <th>DATA_ADMISSAO</th>\n",
              "      <th>JORNADA_MENSAL</th>\n",
              "      <th>QTD_DEPENDENTES_IR</th>\n",
              "      <th>VERBA_0606</th>\n",
              "      <th>VERBA_0308</th>\n",
              "      <th>VERBA_0163</th>\n",
              "      <th>VERBA_0713</th>\n",
              "      <th>VERBA_0099</th>\n",
              "      <th>VERBA_0180</th>\n",
              "      <th>VERBA_0697</th>\n",
              "      <th>VERBA_0005</th>\n",
              "      <th>VERBA_0190</th>\n",
              "      <th>VERBA_0170</th>\n",
              "      <th>VERBA_0133</th>\n",
              "      <th>VERBA_0699</th>\n",
              "      <th>VERBA_0009</th>\n",
              "      <th>VERBA_0174</th>\n",
              "      <th>VERBA_0100</th>\n",
              "      <th>VERBA_0107</th>\n",
              "      <th>VERBA_0698</th>\n",
              "      <th>VERBA_0998</th>\n",
              "      <th>VERBA_0004</th>\n",
              "      <th>VERBA_0980</th>\n",
              "      <th>VERBA_0381</th>\n",
              "      <th>VERBA_0183</th>\n",
              "      <th>VERBA_0607</th>\n",
              "      <th>VERBA_0271</th>\n",
              "      <th>VERBA_0008</th>\n",
              "      <th>VERBA_0171</th>\n",
              "      <th>VERBA_0631</th>\n",
              "      <th>VERBA_0007</th>\n",
              "      <th>VERBA_0116</th>\n",
              "      <th>VERBA_0983</th>\n",
              "      <th>VERBA_0382</th>\n",
              "      <th>VERBA_DESCONTO_FALTANTE</th>\n",
              "      <th>VERBA_PROVENTO_FALTANTE</th>\n",
              "      <th>TABELA-AMC_AGEN_MUNI_FISC_TRAN</th>\n",
              "      <th>TABELA-PMF</th>\n",
              "      <th>INDÍGENA</th>\n",
              "      <th>PARDA</th>\n",
              "      <th>BRANCA</th>\n",
              "      <th>MASCULINO</th>\n",
              "      <th>CASADO</th>\n",
              "      <th>SOLTEIRO</th>\n",
              "      <th>DIVORCIADO</th>\n",
              "      <th>UNIAO_ESTAVEL</th>\n",
              "      <th>DIR_NIV_SUP_3</th>\n",
              "      <th>DIR_NIV_SUP_2</th>\n",
              "      <th>DIR_ASS_SUP_1</th>\n",
              "      <th>AGENTE_ADMINISTRATIVO</th>\n",
              "      <th>NIVEL_EXPERIENCIA</th>\n",
              "      <th>VERBAS_PORCENTAGEM_100</th>\n",
              "    </tr>\n",
              "  </thead>\n",
              "  <tbody>\n",
              "    <tr>\n",
              "      <th>1</th>\n",
              "      <td>5</td>\n",
              "      <td>44</td>\n",
              "      <td>20110502</td>\n",
              "      <td>240.0</td>\n",
              "      <td>1</td>\n",
              "      <td>110.14</td>\n",
              "      <td>0.0</td>\n",
              "      <td>0.0</td>\n",
              "      <td>0.0</td>\n",
              "      <td>272.39</td>\n",
              "      <td>0.0</td>\n",
              "      <td>0.0</td>\n",
              "      <td>0.0</td>\n",
              "      <td>0.0</td>\n",
              "      <td>0.0</td>\n",
              "      <td>0.0</td>\n",
              "      <td>524.54</td>\n",
              "      <td>0.0</td>\n",
              "      <td>0.0</td>\n",
              "      <td>1314.44</td>\n",
              "      <td>13.14</td>\n",
              "      <td>521.1</td>\n",
              "      <td>4937.62</td>\n",
              "      <td>0.0</td>\n",
              "      <td>0.0</td>\n",
              "      <td>0.0</td>\n",
              "      <td>769.8</td>\n",
              "      <td>0.0</td>\n",
              "      <td>0.0</td>\n",
              "      <td>0.0</td>\n",
              "      <td>324.0</td>\n",
              "      <td>0.0</td>\n",
              "      <td>0.0</td>\n",
              "      <td>16.26</td>\n",
              "      <td>0.0</td>\n",
              "      <td>0.0</td>\n",
              "      <td>26.29</td>\n",
              "      <td>0.0</td>\n",
              "      <td>1</td>\n",
              "      <td>-1</td>\n",
              "      <td>-1</td>\n",
              "      <td>-1</td>\n",
              "      <td>-1</td>\n",
              "      <td>1</td>\n",
              "      <td>1</td>\n",
              "      <td>-1</td>\n",
              "      <td>-1</td>\n",
              "      <td>-1</td>\n",
              "      <td>-1</td>\n",
              "      <td>-1</td>\n",
              "      <td>-1</td>\n",
              "      <td>-1</td>\n",
              "      <td>14</td>\n",
              "      <td>2.594</td>\n",
              "    </tr>\n",
              "  </tbody>\n",
              "</table>\n",
              "</div>"
            ],
            "text/plain": [
              "   GRAUINSTRUCAO  IDADE  ...  NIVEL_EXPERIENCIA  VERBAS_PORCENTAGEM_100\n",
              "1              5     44  ...                 14                   2.594\n",
              "\n",
              "[1 rows x 54 columns]"
            ]
          },
          "metadata": {
            "tags": []
          },
          "execution_count": 212
        }
      ]
    },
    {
      "cell_type": "code",
      "metadata": {
        "id": "a9qrnhyux8Ur"
      },
      "source": [
        "#Separando x e y\n",
        "x_origem = df.drop('VERBA_0998', axis=1)\n",
        "y_origem = df['VERBA_0998'].values"
      ],
      "execution_count": null,
      "outputs": []
    },
    {
      "cell_type": "markdown",
      "metadata": {
        "id": "Kh0QHlu702az"
      },
      "source": [
        "##Padronizando as base com Scale"
      ]
    },
    {
      "cell_type": "markdown",
      "metadata": {
        "id": "gEht6TLp4xXh"
      },
      "source": [
        "###Técninca Holdout"
      ]
    },
    {
      "cell_type": "code",
      "metadata": {
        "id": "eQShOJzvzUIb",
        "outputId": "b5e645b8-6f94-4ef4-d5df-539dfac26b00",
        "colab": {
          "base_uri": "https://localhost:8080/",
          "height": 33
        }
      },
      "source": [
        "#Criar variaveis para treinamento e teste\n",
        "ini = time.time()\n",
        "x_train_origem, x_test_origem, y_train, y_test = train_test_split(x_origem, y_origem, test_size=0.30, random_state=0)\n",
        "fim = time.time()\n",
        "print(\"Tempo Gasto: \", fim-ini)"
      ],
      "execution_count": null,
      "outputs": [
        {
          "output_type": "stream",
          "text": [
            "Tempo Gasto:  0.004836082458496094\n"
          ],
          "name": "stdout"
        }
      ]
    },
    {
      "cell_type": "code",
      "metadata": {
        "id": "8Sjf26nZ6Gb9",
        "outputId": "bd8c361f-b5e7-4056-b30b-7281d7d7ac41",
        "colab": {
          "base_uri": "https://localhost:8080/",
          "height": 33
        }
      },
      "source": [
        "print(len(x_train_origem), len(x_test_origem), len(y_train), len(y_test), len(df))"
      ],
      "execution_count": null,
      "outputs": [
        {
          "output_type": "stream",
          "text": [
            "3066 1314 3066 1314 4380\n"
          ],
          "name": "stdout"
        }
      ]
    },
    {
      "cell_type": "code",
      "metadata": {
        "id": "Cxgo31fKy3s-"
      },
      "source": [
        "#Variaveis de escalonamento\n",
        "scaler = StandardScaler()\n",
        "#sc_y = StandardScaler() -> Quando escalona o y os valores ficam negativos e alguns modelos não aceito -y\n",
        "\n",
        "#seprar primeiro x teste e treinamento depois aplicar fit\n",
        "#x_train = scaler.fit_transform(x_train_origem)\n",
        "#x_test = scaler.transform(x_test_origem)\n"
      ],
      "execution_count": null,
      "outputs": []
    },
    {
      "cell_type": "code",
      "metadata": {
        "id": "rmAET5jw1jY2"
      },
      "source": [
        "#Treinar x e y - #Escalonar apenas as features que não estão com -1 e 1 -> fazendo isso teve um acrescimo de +0.07% no score do RandomForest\n",
        "x_train = x_train_origem.copy()\n",
        "x_train[['GRAUINSTRUCAO',\t'IDADE',\t'DATA_ADMISSAO',\t'JORNADA_MENSAL',\t'QTD_DEPENDENTES_IR',\t'VERBA_0606',\t'VERBA_0308',\t'VERBA_0163',\t'VERBA_0713',\t'VERBA_0099',\t'VERBA_0180',\t'VERBA_0697',\t'VERBA_0005',\t'VERBA_0190',\t'VERBA_0170',\t'VERBA_0133',\t'VERBA_0699',\t'VERBA_0009',\t'VERBA_0174',\t'VERBA_0100',\t'VERBA_0107',\t'VERBA_0698',\t'VERBA_0004',\t'VERBA_0980',\t'VERBA_0381',\t'VERBA_0183',\t'VERBA_0607',\t'VERBA_0271',\t'VERBA_0008',\t'VERBA_0171',\t'VERBA_0631',\t'VERBA_0007',\t'VERBA_0116',\t'VERBA_0983',\t'VERBA_0382',\t'VERBA_DESCONTO_FALTANTE',\t'VERBA_PROVENTO_FALTANTE', 'NIVEL_EXPERIENCIA',\t'VERBAS_PORCENTAGEM_100']] = scaler.fit_transform(x_train_origem[['GRAUINSTRUCAO',\t'IDADE',\t'DATA_ADMISSAO',\t'JORNADA_MENSAL',\t'QTD_DEPENDENTES_IR',\t'VERBA_0606',\t'VERBA_0308',\t'VERBA_0163',\t'VERBA_0713',\t'VERBA_0099',\t'VERBA_0180',\t'VERBA_0697',\t'VERBA_0005',\t'VERBA_0190',\t'VERBA_0170',\t'VERBA_0133',\t'VERBA_0699',\t'VERBA_0009',\t'VERBA_0174',\t'VERBA_0100',\t'VERBA_0107',\t'VERBA_0698',\t'VERBA_0004',\t'VERBA_0980',\t'VERBA_0381',\t'VERBA_0183',\t'VERBA_0607',\t'VERBA_0271',\t'VERBA_0008',\t'VERBA_0171',\t'VERBA_0631',\t'VERBA_0007',\t'VERBA_0116',\t'VERBA_0983',\t'VERBA_0382',\t'VERBA_DESCONTO_FALTANTE',\t'VERBA_PROVENTO_FALTANTE', 'NIVEL_EXPERIENCIA',\t'VERBAS_PORCENTAGEM_100']])\n",
        "x_train = x_train.values\n",
        "\n",
        "x_test = x_test_origem.copy()\n",
        "x_test[['GRAUINSTRUCAO',\t'IDADE',\t'DATA_ADMISSAO',\t'JORNADA_MENSAL',\t'QTD_DEPENDENTES_IR',\t'VERBA_0606',\t'VERBA_0308',\t'VERBA_0163',\t'VERBA_0713',\t'VERBA_0099',\t'VERBA_0180',\t'VERBA_0697',\t'VERBA_0005',\t'VERBA_0190',\t'VERBA_0170',\t'VERBA_0133',\t'VERBA_0699',\t'VERBA_0009',\t'VERBA_0174',\t'VERBA_0100',\t'VERBA_0107',\t'VERBA_0698',\t'VERBA_0004',\t'VERBA_0980',\t'VERBA_0381',\t'VERBA_0183',\t'VERBA_0607',\t'VERBA_0271',\t'VERBA_0008',\t'VERBA_0171',\t'VERBA_0631',\t'VERBA_0007',\t'VERBA_0116',\t'VERBA_0983',\t'VERBA_0382',\t'VERBA_DESCONTO_FALTANTE',\t'VERBA_PROVENTO_FALTANTE', 'NIVEL_EXPERIENCIA',\t'VERBAS_PORCENTAGEM_100']] = scaler.transform(x_test_origem[['GRAUINSTRUCAO',\t'IDADE',\t'DATA_ADMISSAO',\t'JORNADA_MENSAL',\t'QTD_DEPENDENTES_IR',\t'VERBA_0606',\t'VERBA_0308',\t'VERBA_0163',\t'VERBA_0713',\t'VERBA_0099',\t'VERBA_0180',\t'VERBA_0697',\t'VERBA_0005',\t'VERBA_0190',\t'VERBA_0170',\t'VERBA_0133',\t'VERBA_0699',\t'VERBA_0009',\t'VERBA_0174',\t'VERBA_0100',\t'VERBA_0107',\t'VERBA_0698',\t'VERBA_0004',\t'VERBA_0980',\t'VERBA_0381',\t'VERBA_0183',\t'VERBA_0607',\t'VERBA_0271',\t'VERBA_0008',\t'VERBA_0171',\t'VERBA_0631',\t'VERBA_0007',\t'VERBA_0116',\t'VERBA_0983',\t'VERBA_0382',\t'VERBA_DESCONTO_FALTANTE',\t'VERBA_PROVENTO_FALTANTE', 'NIVEL_EXPERIENCIA',\t'VERBAS_PORCENTAGEM_100']])\n",
        "x_test = x_test.values"
      ],
      "execution_count": null,
      "outputs": []
    },
    {
      "cell_type": "code",
      "metadata": {
        "id": "3bAIg4WN65eJ"
      },
      "source": [
        "#Dados escalonados no formato de tabela\n",
        "x_train_df=pd.DataFrame(x_train, columns=x_origem.columns)\n",
        "x_teste_df=pd.DataFrame(x_test, columns=x_origem.columns)"
      ],
      "execution_count": null,
      "outputs": []
    },
    {
      "cell_type": "code",
      "metadata": {
        "id": "Y0_SrStLavb1",
        "outputId": "d3c3e695-0903-4985-8098-5dd77f53a666",
        "colab": {
          "base_uri": "https://localhost:8080/",
          "height": 322
        }
      },
      "source": [
        "x_train_origem.describe()"
      ],
      "execution_count": null,
      "outputs": [
        {
          "output_type": "execute_result",
          "data": {
            "text/html": [
              "<div>\n",
              "<style scoped>\n",
              "    .dataframe tbody tr th:only-of-type {\n",
              "        vertical-align: middle;\n",
              "    }\n",
              "\n",
              "    .dataframe tbody tr th {\n",
              "        vertical-align: top;\n",
              "    }\n",
              "\n",
              "    .dataframe thead th {\n",
              "        text-align: right;\n",
              "    }\n",
              "</style>\n",
              "<table border=\"1\" class=\"dataframe\">\n",
              "  <thead>\n",
              "    <tr style=\"text-align: right;\">\n",
              "      <th></th>\n",
              "      <th>GRAUINSTRUCAO</th>\n",
              "      <th>IDADE</th>\n",
              "      <th>DATA_ADMISSAO</th>\n",
              "      <th>JORNADA_MENSAL</th>\n",
              "      <th>QTD_DEPENDENTES_IR</th>\n",
              "      <th>VERBA_0606</th>\n",
              "      <th>VERBA_0308</th>\n",
              "      <th>VERBA_0163</th>\n",
              "      <th>VERBA_0713</th>\n",
              "      <th>VERBA_0099</th>\n",
              "      <th>VERBA_0180</th>\n",
              "      <th>VERBA_0697</th>\n",
              "      <th>VERBA_0005</th>\n",
              "      <th>VERBA_0190</th>\n",
              "      <th>VERBA_0170</th>\n",
              "      <th>VERBA_0133</th>\n",
              "      <th>VERBA_0699</th>\n",
              "      <th>VERBA_0009</th>\n",
              "      <th>VERBA_0174</th>\n",
              "      <th>VERBA_0100</th>\n",
              "      <th>VERBA_0107</th>\n",
              "      <th>VERBA_0698</th>\n",
              "      <th>VERBA_0004</th>\n",
              "      <th>VERBA_0980</th>\n",
              "      <th>VERBA_0381</th>\n",
              "      <th>VERBA_0183</th>\n",
              "      <th>VERBA_0607</th>\n",
              "      <th>VERBA_0271</th>\n",
              "      <th>VERBA_0008</th>\n",
              "      <th>VERBA_0171</th>\n",
              "      <th>VERBA_0631</th>\n",
              "      <th>VERBA_0007</th>\n",
              "      <th>VERBA_0116</th>\n",
              "      <th>VERBA_0983</th>\n",
              "      <th>VERBA_0382</th>\n",
              "      <th>VERBA_DESCONTO_FALTANTE</th>\n",
              "      <th>VERBA_PROVENTO_FALTANTE</th>\n",
              "      <th>TABELA-AMC_AGEN_MUNI_FISC_TRAN</th>\n",
              "      <th>TABELA-PMF</th>\n",
              "      <th>INDÍGENA</th>\n",
              "      <th>PARDA</th>\n",
              "      <th>BRANCA</th>\n",
              "      <th>MASCULINO</th>\n",
              "      <th>CASADO</th>\n",
              "      <th>SOLTEIRO</th>\n",
              "      <th>DIVORCIADO</th>\n",
              "      <th>UNIAO_ESTAVEL</th>\n",
              "      <th>DIR_NIV_SUP_3</th>\n",
              "      <th>DIR_NIV_SUP_2</th>\n",
              "      <th>DIR_ASS_SUP_1</th>\n",
              "      <th>AGENTE_ADMINISTRATIVO</th>\n",
              "      <th>NIVEL_EXPERIENCIA</th>\n",
              "      <th>VERBAS_PORCENTAGEM_100</th>\n",
              "    </tr>\n",
              "  </thead>\n",
              "  <tbody>\n",
              "    <tr>\n",
              "      <th>count</th>\n",
              "      <td>3066.000000</td>\n",
              "      <td>3066.000000</td>\n",
              "      <td>3.066000e+03</td>\n",
              "      <td>3066.000000</td>\n",
              "      <td>3066.000000</td>\n",
              "      <td>3066.000000</td>\n",
              "      <td>3066.000000</td>\n",
              "      <td>3066.000000</td>\n",
              "      <td>3066.000000</td>\n",
              "      <td>3066.000000</td>\n",
              "      <td>3066.000000</td>\n",
              "      <td>3066.000000</td>\n",
              "      <td>3066.000000</td>\n",
              "      <td>3066.000000</td>\n",
              "      <td>3066.000000</td>\n",
              "      <td>3066.000000</td>\n",
              "      <td>3066.000000</td>\n",
              "      <td>3066.000000</td>\n",
              "      <td>3066.000000</td>\n",
              "      <td>3066.000000</td>\n",
              "      <td>3066.000000</td>\n",
              "      <td>3066.000000</td>\n",
              "      <td>3066.00000</td>\n",
              "      <td>3066.000000</td>\n",
              "      <td>3066.000000</td>\n",
              "      <td>3066.000000</td>\n",
              "      <td>3066.000000</td>\n",
              "      <td>3066.000000</td>\n",
              "      <td>3066.00000</td>\n",
              "      <td>3066.000000</td>\n",
              "      <td>3066.000000</td>\n",
              "      <td>3066.000000</td>\n",
              "      <td>3066.000000</td>\n",
              "      <td>3066.000000</td>\n",
              "      <td>3066.000000</td>\n",
              "      <td>3066.000000</td>\n",
              "      <td>3066.000000</td>\n",
              "      <td>3066.000000</td>\n",
              "      <td>3066.000000</td>\n",
              "      <td>3066.000000</td>\n",
              "      <td>3066.000000</td>\n",
              "      <td>3066.000000</td>\n",
              "      <td>3066.000000</td>\n",
              "      <td>3066.000000</td>\n",
              "      <td>3066.000000</td>\n",
              "      <td>3066.000000</td>\n",
              "      <td>3066.000000</td>\n",
              "      <td>3066.000000</td>\n",
              "      <td>3066.000000</td>\n",
              "      <td>3066.000000</td>\n",
              "      <td>3066.000000</td>\n",
              "      <td>3066.000000</td>\n",
              "      <td>3066.000000</td>\n",
              "    </tr>\n",
              "    <tr>\n",
              "      <th>mean</th>\n",
              "      <td>5.406719</td>\n",
              "      <td>44.217221</td>\n",
              "      <td>2.004904e+07</td>\n",
              "      <td>207.123288</td>\n",
              "      <td>1.046641</td>\n",
              "      <td>110.315114</td>\n",
              "      <td>6.967521</td>\n",
              "      <td>163.214808</td>\n",
              "      <td>4.759159</td>\n",
              "      <td>231.768467</td>\n",
              "      <td>13.306060</td>\n",
              "      <td>4.944384</td>\n",
              "      <td>3.456451</td>\n",
              "      <td>1.460274</td>\n",
              "      <td>158.266161</td>\n",
              "      <td>2.625323</td>\n",
              "      <td>570.668138</td>\n",
              "      <td>11.610812</td>\n",
              "      <td>6.302991</td>\n",
              "      <td>1155.316142</td>\n",
              "      <td>126.766784</td>\n",
              "      <td>504.641654</td>\n",
              "      <td>8.11332</td>\n",
              "      <td>36.883177</td>\n",
              "      <td>5.431774</td>\n",
              "      <td>649.285209</td>\n",
              "      <td>58.181327</td>\n",
              "      <td>6.628506</td>\n",
              "      <td>12.07424</td>\n",
              "      <td>94.984997</td>\n",
              "      <td>0.992599</td>\n",
              "      <td>8.199237</td>\n",
              "      <td>4.839286</td>\n",
              "      <td>6.346236</td>\n",
              "      <td>1.596008</td>\n",
              "      <td>563.725659</td>\n",
              "      <td>49.896794</td>\n",
              "      <td>0.894977</td>\n",
              "      <td>-0.911937</td>\n",
              "      <td>-0.992172</td>\n",
              "      <td>0.369863</td>\n",
              "      <td>-0.995434</td>\n",
              "      <td>0.560339</td>\n",
              "      <td>0.422701</td>\n",
              "      <td>-0.604044</td>\n",
              "      <td>-0.870841</td>\n",
              "      <td>-0.956947</td>\n",
              "      <td>-0.950424</td>\n",
              "      <td>-0.968689</td>\n",
              "      <td>-0.992825</td>\n",
              "      <td>-0.983040</td>\n",
              "      <td>23.295173</td>\n",
              "      <td>2.650683</td>\n",
              "    </tr>\n",
              "    <tr>\n",
              "      <th>std</th>\n",
              "      <td>1.306256</td>\n",
              "      <td>6.790199</td>\n",
              "      <td>5.474213e+04</td>\n",
              "      <td>29.866628</td>\n",
              "      <td>1.078082</td>\n",
              "      <td>32.640933</td>\n",
              "      <td>27.362462</td>\n",
              "      <td>508.288016</td>\n",
              "      <td>80.004507</td>\n",
              "      <td>241.661347</td>\n",
              "      <td>147.975832</td>\n",
              "      <td>33.904429</td>\n",
              "      <td>67.593901</td>\n",
              "      <td>32.988489</td>\n",
              "      <td>622.370810</td>\n",
              "      <td>51.340464</td>\n",
              "      <td>397.793005</td>\n",
              "      <td>165.643356</td>\n",
              "      <td>101.703778</td>\n",
              "      <td>316.138107</td>\n",
              "      <td>429.355161</td>\n",
              "      <td>169.333152</td>\n",
              "      <td>119.82783</td>\n",
              "      <td>144.474211</td>\n",
              "      <td>69.850809</td>\n",
              "      <td>643.413361</td>\n",
              "      <td>249.529733</td>\n",
              "      <td>42.807761</td>\n",
              "      <td>178.31123</td>\n",
              "      <td>131.650716</td>\n",
              "      <td>12.607398</td>\n",
              "      <td>160.351551</td>\n",
              "      <td>5.998784</td>\n",
              "      <td>43.044143</td>\n",
              "      <td>30.929652</td>\n",
              "      <td>647.572891</td>\n",
              "      <td>150.120841</td>\n",
              "      <td>0.446185</td>\n",
              "      <td>0.410396</td>\n",
              "      <td>0.124898</td>\n",
              "      <td>0.929238</td>\n",
              "      <td>0.095470</td>\n",
              "      <td>0.828398</td>\n",
              "      <td>0.906417</td>\n",
              "      <td>0.797081</td>\n",
              "      <td>0.491644</td>\n",
              "      <td>0.290310</td>\n",
              "      <td>0.311008</td>\n",
              "      <td>0.248318</td>\n",
              "      <td>0.119600</td>\n",
              "      <td>0.183422</td>\n",
              "      <td>5.453821</td>\n",
              "      <td>0.640764</td>\n",
              "    </tr>\n",
              "    <tr>\n",
              "      <th>min</th>\n",
              "      <td>2.000000</td>\n",
              "      <td>29.000000</td>\n",
              "      <td>1.982010e+07</td>\n",
              "      <td>180.000000</td>\n",
              "      <td>0.000000</td>\n",
              "      <td>11.410000</td>\n",
              "      <td>0.000000</td>\n",
              "      <td>0.000000</td>\n",
              "      <td>0.000000</td>\n",
              "      <td>0.000000</td>\n",
              "      <td>0.000000</td>\n",
              "      <td>0.000000</td>\n",
              "      <td>0.000000</td>\n",
              "      <td>0.000000</td>\n",
              "      <td>0.000000</td>\n",
              "      <td>0.000000</td>\n",
              "      <td>0.000000</td>\n",
              "      <td>0.000000</td>\n",
              "      <td>0.000000</td>\n",
              "      <td>0.000000</td>\n",
              "      <td>0.000000</td>\n",
              "      <td>0.000000</td>\n",
              "      <td>0.00000</td>\n",
              "      <td>0.000000</td>\n",
              "      <td>0.000000</td>\n",
              "      <td>0.000000</td>\n",
              "      <td>0.000000</td>\n",
              "      <td>0.000000</td>\n",
              "      <td>0.00000</td>\n",
              "      <td>0.000000</td>\n",
              "      <td>0.000000</td>\n",
              "      <td>0.000000</td>\n",
              "      <td>0.000000</td>\n",
              "      <td>0.000000</td>\n",
              "      <td>0.000000</td>\n",
              "      <td>0.000000</td>\n",
              "      <td>0.000000</td>\n",
              "      <td>-1.000000</td>\n",
              "      <td>-1.000000</td>\n",
              "      <td>-1.000000</td>\n",
              "      <td>-1.000000</td>\n",
              "      <td>-1.000000</td>\n",
              "      <td>-1.000000</td>\n",
              "      <td>-1.000000</td>\n",
              "      <td>-1.000000</td>\n",
              "      <td>-1.000000</td>\n",
              "      <td>-1.000000</td>\n",
              "      <td>-1.000000</td>\n",
              "      <td>-1.000000</td>\n",
              "      <td>-1.000000</td>\n",
              "      <td>-1.000000</td>\n",
              "      <td>11.000000</td>\n",
              "      <td>0.000000</td>\n",
              "    </tr>\n",
              "    <tr>\n",
              "      <th>25%</th>\n",
              "      <td>5.000000</td>\n",
              "      <td>40.000000</td>\n",
              "      <td>2.001081e+07</td>\n",
              "      <td>180.000000</td>\n",
              "      <td>0.000000</td>\n",
              "      <td>87.330000</td>\n",
              "      <td>0.000000</td>\n",
              "      <td>0.000000</td>\n",
              "      <td>0.000000</td>\n",
              "      <td>4.697500</td>\n",
              "      <td>0.000000</td>\n",
              "      <td>0.000000</td>\n",
              "      <td>0.000000</td>\n",
              "      <td>0.000000</td>\n",
              "      <td>0.000000</td>\n",
              "      <td>0.000000</td>\n",
              "      <td>260.787500</td>\n",
              "      <td>0.000000</td>\n",
              "      <td>0.000000</td>\n",
              "      <td>1008.750000</td>\n",
              "      <td>20.180000</td>\n",
              "      <td>419.220000</td>\n",
              "      <td>0.00000</td>\n",
              "      <td>0.000000</td>\n",
              "      <td>0.000000</td>\n",
              "      <td>0.000000</td>\n",
              "      <td>0.000000</td>\n",
              "      <td>0.000000</td>\n",
              "      <td>0.00000</td>\n",
              "      <td>0.000000</td>\n",
              "      <td>0.000000</td>\n",
              "      <td>0.000000</td>\n",
              "      <td>0.000000</td>\n",
              "      <td>0.000000</td>\n",
              "      <td>0.000000</td>\n",
              "      <td>21.840000</td>\n",
              "      <td>0.000000</td>\n",
              "      <td>1.000000</td>\n",
              "      <td>-1.000000</td>\n",
              "      <td>-1.000000</td>\n",
              "      <td>-1.000000</td>\n",
              "      <td>-1.000000</td>\n",
              "      <td>1.000000</td>\n",
              "      <td>-1.000000</td>\n",
              "      <td>-1.000000</td>\n",
              "      <td>-1.000000</td>\n",
              "      <td>-1.000000</td>\n",
              "      <td>-1.000000</td>\n",
              "      <td>-1.000000</td>\n",
              "      <td>-1.000000</td>\n",
              "      <td>-1.000000</td>\n",
              "      <td>20.000000</td>\n",
              "      <td>2.594000</td>\n",
              "    </tr>\n",
              "    <tr>\n",
              "      <th>50%</th>\n",
              "      <td>6.000000</td>\n",
              "      <td>44.000000</td>\n",
              "      <td>2.002062e+07</td>\n",
              "      <td>180.000000</td>\n",
              "      <td>1.000000</td>\n",
              "      <td>107.455000</td>\n",
              "      <td>0.000000</td>\n",
              "      <td>0.000000</td>\n",
              "      <td>0.000000</td>\n",
              "      <td>136.795000</td>\n",
              "      <td>0.000000</td>\n",
              "      <td>0.000000</td>\n",
              "      <td>0.000000</td>\n",
              "      <td>0.000000</td>\n",
              "      <td>0.000000</td>\n",
              "      <td>0.000000</td>\n",
              "      <td>480.770000</td>\n",
              "      <td>0.000000</td>\n",
              "      <td>0.000000</td>\n",
              "      <td>1113.750000</td>\n",
              "      <td>117.750000</td>\n",
              "      <td>476.615000</td>\n",
              "      <td>0.00000</td>\n",
              "      <td>0.000000</td>\n",
              "      <td>0.000000</td>\n",
              "      <td>637.870000</td>\n",
              "      <td>0.000000</td>\n",
              "      <td>0.000000</td>\n",
              "      <td>0.00000</td>\n",
              "      <td>0.000000</td>\n",
              "      <td>0.000000</td>\n",
              "      <td>0.000000</td>\n",
              "      <td>0.000000</td>\n",
              "      <td>0.000000</td>\n",
              "      <td>0.000000</td>\n",
              "      <td>392.430000</td>\n",
              "      <td>0.000000</td>\n",
              "      <td>1.000000</td>\n",
              "      <td>-1.000000</td>\n",
              "      <td>-1.000000</td>\n",
              "      <td>1.000000</td>\n",
              "      <td>-1.000000</td>\n",
              "      <td>1.000000</td>\n",
              "      <td>1.000000</td>\n",
              "      <td>-1.000000</td>\n",
              "      <td>-1.000000</td>\n",
              "      <td>-1.000000</td>\n",
              "      <td>-1.000000</td>\n",
              "      <td>-1.000000</td>\n",
              "      <td>-1.000000</td>\n",
              "      <td>-1.000000</td>\n",
              "      <td>24.000000</td>\n",
              "      <td>2.694000</td>\n",
              "    </tr>\n",
              "    <tr>\n",
              "      <th>75%</th>\n",
              "      <td>6.000000</td>\n",
              "      <td>49.000000</td>\n",
              "      <td>2.011050e+07</td>\n",
              "      <td>240.000000</td>\n",
              "      <td>2.000000</td>\n",
              "      <td>128.115000</td>\n",
              "      <td>0.000000</td>\n",
              "      <td>0.000000</td>\n",
              "      <td>0.000000</td>\n",
              "      <td>401.625000</td>\n",
              "      <td>0.000000</td>\n",
              "      <td>0.000000</td>\n",
              "      <td>0.000000</td>\n",
              "      <td>0.000000</td>\n",
              "      <td>0.000000</td>\n",
              "      <td>0.000000</td>\n",
              "      <td>811.132500</td>\n",
              "      <td>0.000000</td>\n",
              "      <td>0.000000</td>\n",
              "      <td>1427.310000</td>\n",
              "      <td>145.590000</td>\n",
              "      <td>609.890000</td>\n",
              "      <td>0.00000</td>\n",
              "      <td>0.000000</td>\n",
              "      <td>0.000000</td>\n",
              "      <td>1162.055000</td>\n",
              "      <td>0.000000</td>\n",
              "      <td>0.000000</td>\n",
              "      <td>0.00000</td>\n",
              "      <td>264.000000</td>\n",
              "      <td>0.000000</td>\n",
              "      <td>0.000000</td>\n",
              "      <td>8.130000</td>\n",
              "      <td>0.000000</td>\n",
              "      <td>0.000000</td>\n",
              "      <td>977.350000</td>\n",
              "      <td>0.000000</td>\n",
              "      <td>1.000000</td>\n",
              "      <td>-1.000000</td>\n",
              "      <td>-1.000000</td>\n",
              "      <td>1.000000</td>\n",
              "      <td>-1.000000</td>\n",
              "      <td>1.000000</td>\n",
              "      <td>1.000000</td>\n",
              "      <td>-1.000000</td>\n",
              "      <td>-1.000000</td>\n",
              "      <td>-1.000000</td>\n",
              "      <td>-1.000000</td>\n",
              "      <td>-1.000000</td>\n",
              "      <td>-1.000000</td>\n",
              "      <td>-1.000000</td>\n",
              "      <td>28.000000</td>\n",
              "      <td>3.024000</td>\n",
              "    </tr>\n",
              "    <tr>\n",
              "      <th>max</th>\n",
              "      <td>7.000000</td>\n",
              "      <td>65.000000</td>\n",
              "      <td>2.019030e+07</td>\n",
              "      <td>240.000000</td>\n",
              "      <td>5.000000</td>\n",
              "      <td>270.920000</td>\n",
              "      <td>302.660000</td>\n",
              "      <td>3241.680000</td>\n",
              "      <td>1699.620000</td>\n",
              "      <td>1103.410000</td>\n",
              "      <td>1823.410000</td>\n",
              "      <td>322.470000</td>\n",
              "      <td>1367.490000</td>\n",
              "      <td>759.790000</td>\n",
              "      <td>3228.990000</td>\n",
              "      <td>1038.670000</td>\n",
              "      <td>2539.470000</td>\n",
              "      <td>2431.230000</td>\n",
              "      <td>1937.390000</td>\n",
              "      <td>1713.270000</td>\n",
              "      <td>12659.590000</td>\n",
              "      <td>1392.550000</td>\n",
              "      <td>1823.41000</td>\n",
              "      <td>2861.020000</td>\n",
              "      <td>2299.200000</td>\n",
              "      <td>2159.280000</td>\n",
              "      <td>2240.890000</td>\n",
              "      <td>324.000000</td>\n",
              "      <td>2735.11000</td>\n",
              "      <td>324.000000</td>\n",
              "      <td>187.200000</td>\n",
              "      <td>3228.990000</td>\n",
              "      <td>24.390000</td>\n",
              "      <td>1045.080000</td>\n",
              "      <td>1450.060000</td>\n",
              "      <td>3904.450000</td>\n",
              "      <td>1464.860000</td>\n",
              "      <td>1.000000</td>\n",
              "      <td>1.000000</td>\n",
              "      <td>1.000000</td>\n",
              "      <td>1.000000</td>\n",
              "      <td>1.000000</td>\n",
              "      <td>1.000000</td>\n",
              "      <td>1.000000</td>\n",
              "      <td>1.000000</td>\n",
              "      <td>1.000000</td>\n",
              "      <td>1.000000</td>\n",
              "      <td>1.000000</td>\n",
              "      <td>1.000000</td>\n",
              "      <td>1.000000</td>\n",
              "      <td>1.000000</td>\n",
              "      <td>42.000000</td>\n",
              "      <td>4.354100</td>\n",
              "    </tr>\n",
              "  </tbody>\n",
              "</table>\n",
              "</div>"
            ],
            "text/plain": [
              "       GRAUINSTRUCAO        IDADE  ...  NIVEL_EXPERIENCIA  VERBAS_PORCENTAGEM_100\n",
              "count    3066.000000  3066.000000  ...        3066.000000             3066.000000\n",
              "mean        5.406719    44.217221  ...          23.295173                2.650683\n",
              "std         1.306256     6.790199  ...           5.453821                0.640764\n",
              "min         2.000000    29.000000  ...          11.000000                0.000000\n",
              "25%         5.000000    40.000000  ...          20.000000                2.594000\n",
              "50%         6.000000    44.000000  ...          24.000000                2.694000\n",
              "75%         6.000000    49.000000  ...          28.000000                3.024000\n",
              "max         7.000000    65.000000  ...          42.000000                4.354100\n",
              "\n",
              "[8 rows x 53 columns]"
            ]
          },
          "metadata": {
            "tags": []
          },
          "execution_count": 219
        }
      ]
    },
    {
      "cell_type": "code",
      "metadata": {
        "id": "ePf5G0ql8Om4",
        "outputId": "eee570ad-5061-408f-f4e5-d4fe4f6c0a45",
        "colab": {
          "base_uri": "https://localhost:8080/",
          "height": 281
        }
      },
      "source": [
        "# histograms of the variables\n",
        "dataset = pd.DataFrame(x_train)\n",
        "dataset.hist()\n",
        "plt.show()"
      ],
      "execution_count": null,
      "outputs": [
        {
          "output_type": "display_data",
          "data": {
            "image/png": "[encoded data removed]",
            "text/plain": [
              "<Figure size 432x288 with 56 Axes>"
            ]
          },
          "metadata": {
            "tags": [],
            "needs_background": "light"
          }
        }
      ]
    },
    {
      "cell_type": "markdown",
      "metadata": {
        "id": "2oHqFW1uaVk-"
      },
      "source": [
        "##Correlação"
      ]
    },
    {
      "cell_type": "markdown",
      "metadata": {
        "id": "JNlBwcFFUSAW"
      },
      "source": [
        "###Corelação Inicial \n",
        "OBS: Não rodar de novo para não perder a imagem"
      ]
    },
    {
      "cell_type": "code",
      "metadata": {
        "id": "usM4clsuwb3J"
      },
      "source": [
        "#sb.set(font_scale=1.2,style=\"whitegrid\") #set styling preferences\n",
        "\n",
        "#loan = df.sample(frac = .25) #read the dataset and sample 25% of it\n",
        "#loan.head(3)"
      ],
      "execution_count": null,
      "outputs": []
    },
    {
      "cell_type": "code",
      "metadata": {
        "id": "4lTnkzmnw_Z3"
      },
      "source": [
        "#Data Wrangling\n",
        "#loan.replace([np.inf, -np.inf], np.nan) #convert infs to nans\n",
        "#loan = loan.dropna(axis = 1, how = 'any') #remove nans\n",
        "#loan = loan._get_numeric_data() #keep only numeric features\n",
        "\n",
        "#loan.head(3)"
      ],
      "execution_count": null,
      "outputs": []
    },
    {
      "cell_type": "code",
      "metadata": {
        "id": "_vI5PzqqsRQ7"
      },
      "source": [
        "# Heatmap of correlation matrix\n",
        "#corr = df.corr()\n",
        "#data = [go.Heatmap( z=corr.corr().values, x=list(corr.columns), y=list(corr.index), colorscale='Viridis')]\n",
        "#iplot(data, filename='pandas-heatmap')"
      ],
      "execution_count": null,
      "outputs": []
    },
    {
      "cell_type": "markdown",
      "metadata": {
        "id": "2yftj4FQLIeh"
      },
      "source": [
        "###Corelação Inicial - Tentativa de reproduzir dados da 1º corelação"
      ]
    },
    {
      "cell_type": "code",
      "metadata": {
        "id": "ghVUUJPtLiad"
      },
      "source": [
        "#dfInicial = df[['SEXO',\t'GRAUINSTRUCAO',\t'IDADE',\t'CEP_RESIDENCIA',\t'ESTADO_CIVIL',\t'DATA_ADMISSAO',\t'JORNADA_MENSAL',\t'LOTACAO',\t'CARGO',\t'DT_REFER',\t'QTD_DEPENDENTES_IR',\t'QTD_DEPENDENTES_SF',\t'TABELA',\t'PROCESSO_APOSENTADORIA',\t\n",
        "#                'NIVEL_EXPERIENCIA',\t'VERBA_0998',\t'VERBA_0997',\t'VERBA_0996',\t'VERBA_0699',\t'VERBA_0606',\t'VERBA_0099',\t'VERBA_0183',\t'VERBA_0698',\t'VERBA_0983',\t'VERBA_0980',\t'VERBA_0163',\t'VERBA_0107',\t'VERBA_0607',\t\n",
        "#                'VERBA_0097',\t'VERBA_0085',\t'VERBA_0381',\t'VERBA_0100',\t'VERBA_0318',\t'VERBA_0096',\t'VERBA_0171', 'VERBA_0159',\t'VERBA_0682',\t'VERBA_0382',\t'VERBA_0697',\t'VERBA_0631',\t'VERBA_0093',\t'VERBA_0308',\t'VERBA_0713',\t\n",
        "#                'VERBA_0206',\t'VERBA_0170',\t'VERBA_0271',\t'VERBA_0231',\t'VERBA_0133',\t'VERBA_0174',\t'VERBA_0180',\t'VERBA_0116',\t'VERBA_0122',\t'VERBA_0326',\t'VERBA_0001',\t'VERBA_0004',\t'VERBA_0005',\t'VERBA_0007',\t'VERBA_0008',\t\n",
        "#                'VERBA_0009',\t'VERBA_0058',\t'VERBA_0111',\t'VERBA_0138',\t'VERBA_0190',\t'RACA',\t'JORNADA_SEMANAL']]\n",
        "#dfInicial.head(3)"
      ],
      "execution_count": null,
      "outputs": []
    },
    {
      "cell_type": "code",
      "metadata": {
        "id": "KEee-B7YLP1b"
      },
      "source": [
        "#sb.set(font_scale=1.7,style=\"whitegrid\") #set styling preferences\n",
        "\n",
        "#loan = dfInicial.sample(frac = .75) #read the dataset and sample 25% of it\n",
        "#loan.head(3)"
      ],
      "execution_count": null,
      "outputs": []
    },
    {
      "cell_type": "code",
      "metadata": {
        "id": "ze3c99VkLUtW"
      },
      "source": [
        "#Data Wrangling\n",
        "#loan.replace([np.inf, -np.inf], np.nan) #convert infs to nans\n",
        "#loan = loan.dropna(axis = 1, how = 'any') #remove nans\n",
        "#loan = loan._get_numeric_data() #keep only numeric features\n",
        "\n",
        "#loan.head(3)"
      ],
      "execution_count": null,
      "outputs": []
    },
    {
      "cell_type": "code",
      "metadata": {
        "id": "N0pg6tUKLZLM"
      },
      "source": [
        "# Heatmap of correlation matrix\n",
        "#corr = dfInicial.corr()\n",
        "#dfInicial = [go.Heatmap( z=corr.corr().values, x=list(corr.columns), y=list(corr.index), colorscale='Viridis')]\n",
        "#iplot(dfInicial, filename='pandas-heatmap')"
      ],
      "execution_count": null,
      "outputs": []
    },
    {
      "cell_type": "code",
      "metadata": {
        "id": "pTjQbO04LNWU"
      },
      "source": [
        "#CORELAÇÃO MUITO FORTE = Váriaveis acima de + ou - 0.90\n",
        "#quantidade = 0\n",
        "#columns = np.full((corr.shape[0],), True, dtype=bool)\n",
        "#for i in range(corr.shape[0]):\n",
        "#    for j in range(i+1, corr.shape[0]):\n",
        "#        if corr.iloc[i,j] >= 0.90 or corr.iloc[i,j] <= -0.90:\n",
        "#          quantidade = quantidade + 1\n",
        "#          print(quantidade, corr.columns[i],'/', corr.columns[j], '=', corr.iloc[i,j])"
      ],
      "execution_count": null,
      "outputs": []
    },
    {
      "cell_type": "code",
      "metadata": {
        "id": "hTOxo2PLaywS"
      },
      "source": [
        "#CORELAÇÃO FORTE\n",
        "#quantidade = 0\n",
        "#columns = np.full((corr.shape[0],), True, dtype=bool)\n",
        "#for i in range(corr.shape[0]):\n",
        "#    for j in range(i+1, corr.shape[0]):\n",
        "#        if (corr.iloc[i,j] >= 0.70 and corr.iloc[i,j] < 0.90) or (corr.iloc[i,j] <= -0.70 and corr.iloc[i,j] > -0.90):\n",
        "#          quantidade = quantidade + 1\n",
        "#          print(quantidade, corr.columns[i],'/', corr.columns[j], '=', corr.iloc[i,j])"
      ],
      "execution_count": null,
      "outputs": []
    },
    {
      "cell_type": "markdown",
      "metadata": {
        "id": "l1CKkFKndBr2"
      },
      "source": [
        "###Coleração Nova depois dosTratamentos"
      ]
    },
    {
      "cell_type": "code",
      "metadata": {
        "id": "Z1wh0HY23lQf",
        "outputId": "8a26434b-abf2-4c3a-9ed0-688ae749064d",
        "colab": {
          "base_uri": "https://localhost:8080/",
          "height": 542
        }
      },
      "source": [
        "# Heatmap of correlation matrix\n",
        "corr = x_train_df.corr()\n",
        "data = [go.Heatmap( z=corr.corr().values, x=list(corr.columns), y=list(corr.index), colorscale='Viridis')]\n",
        "iplot(data, filename='pandas-heatmap')"
      ],
      "execution_count": null,
      "outputs": [
        {
          "output_type": "display_data",
          "data": {
            "text/html": [
              "<html>\n",
              "<head><meta charset=\"utf-8\" /></head>\n",
              "<body>\n",
              "    <div>\n",
              "            <script src=\"https://cdnjs.cloudflare.com/ajax/libs/mathjax/2.7.5/MathJax.js?config=TeX-AMS-MML_SVG\"></script><script type=\"text/javascript\">if (window.MathJax) {MathJax.Hub.Config({SVG: {font: \"STIX-Web\"}});}</script>\n",
              "                <script type=\"text/javascript\">window.PlotlyConfig = {MathJaxConfig: 'local'};</script>\n",
              "        <script src=\"https://cdn.plot.ly/plotly-latest.min.js\"></script>    \n",
              "            <div id=\"34450d0f-6f7e-4051-8099-7d05a1e3e358\" class=\"plotly-graph-div\" style=\"height:525px; width:100%;\"></div>\n",
              "            <script type=\"text/javascript\">\n",
              "                \n",
              "                    window.PLOTLYENV=window.PLOTLYENV || {};\n",
              "                    \n",
              "                if (document.getElementById(\"34450d0f-6f7e-4051-8099-7d05a1e3e358\")) {\n",
              "                    Plotly.newPlot(\n",
              "                        '34450d0f-6f7e-4051-8099-7d05a1e3e358',\n",
              "                        [{\"colorscale\": [[0.0, \"#440154\"], [0.1111111111111111, \"#482878\"], [0.2222222222222222, \"#3e4989\"], [0.3333333333333333, \"#31688e\"], [0.4444444444444444, \"#26828e\"], [0.5555555555555556, \"#1f9e89\"], [0.6666666666666666, \"#35b779\"], [0.7777777777777778, \"#6ece58\"], [0.8888888888888888, \"#b5de2b\"], [1.0, \"#fde725\"]], \"type\": \"heatmap\", \"x\": [\"GRAUINSTRUCAO\", \"IDADE\", \"DATA_ADMISSAO\", \"JORNADA_MENSAL\", \"QTD_DEPENDENTES_IR\", \"VERBA_0606\", \"VERBA_0308\", \"VERBA_0163\", \"VERBA_0713\", \"VERBA_0099\", \"VERBA_0180\", \"VERBA_0697\", \"VERBA_0005\", \"VERBA_0190\", \"VERBA_0170\", \"VERBA_0133\", \"VERBA_0699\", \"VERBA_0009\", \"VERBA_0174\", \"VERBA_0100\", \"VERBA_0107\", \"VERBA_0698\", \"VERBA_0004\", \"VERBA_0980\", \"VERBA_0381\", \"VERBA_0183\", \"VERBA_0607\", \"VERBA_0271\", \"VERBA_0008\", \"VERBA_0171\", \"VERBA_0631\", \"VERBA_0007\", \"VERBA_0116\", \"VERBA_0983\", \"VERBA_0382\", \"VERBA_DESCONTO_FALTANTE\", \"VERBA_PROVENTO_FALTANTE\", \"TABELA-AMC_AGEN_MUNI_FISC_TRAN\", \"TABELA-PMF\", \"IND\\u00cdGENA\", \"PARDA\", \"BRANCA\", \"MASCULINO\", \"CASADO\", \"SOLTEIRO\", \"DIVORCIADO\", \"UNIAO_ESTAVEL\", \"DIR_NIV_SUP_3\", \"DIR_NIV_SUP_2\", \"DIR_ASS_SUP_1\", \"AGENTE_ADMINISTRATIVO\", \"NIVEL_EXPERIENCIA\", \"VERBAS_PORCENTAGEM_100\"], \"y\": [\"GRAUINSTRUCAO\", \"IDADE\", \"DATA_ADMISSAO\", \"JORNADA_MENSAL\", \"QTD_DEPENDENTES_IR\", \"VERBA_0606\", \"VERBA_0308\", \"VERBA_0163\", \"VERBA_0713\", \"VERBA_0099\", \"VERBA_0180\", \"VERBA_0697\", \"VERBA_0005\", \"VERBA_0190\", \"VERBA_0170\", \"VERBA_0133\", \"VERBA_0699\", \"VERBA_0009\", \"VERBA_0174\", \"VERBA_0100\", \"VERBA_0107\", \"VERBA_0698\", \"VERBA_0004\", \"VERBA_0980\", \"VERBA_0381\", \"VERBA_0183\", \"VERBA_0607\", \"VERBA_0271\", \"VERBA_0008\", \"VERBA_0171\", \"VERBA_0631\", \"VERBA_0007\", \"VERBA_0116\", \"VERBA_0983\", \"VERBA_0382\", \"VERBA_DESCONTO_FALTANTE\", \"VERBA_PROVENTO_FALTANTE\", \"TABELA-AMC_AGEN_MUNI_FISC_TRAN\", \"TABELA-PMF\", \"IND\\u00cdGENA\", \"PARDA\", \"BRANCA\", \"MASCULINO\", \"CASADO\", \"SOLTEIRO\", \"DIVORCIADO\", \"UNIAO_ESTAVEL\", \"DIR_NIV_SUP_3\", \"DIR_NIV_SUP_2\", \"DIR_ASS_SUP_1\", \"AGENTE_ADMINISTRATIVO\", \"NIVEL_EXPERIENCIA\", \"VERBAS_PORCENTAGEM_100\"], \"z\": [[1.0, 0.08036571697373754, 0.14243699647930805, 0.17075451188367968, -0.11345861694807152, -0.0662942584065082, -0.12785139346542138, -0.009844350960645974, 0.11561564703057799, -0.26978368293260463, -0.10207292131665559, -0.0015014023383270237, -0.15484576870638336, 0.025645851310856973, 0.3007231257193276, -0.15484576789383386, 0.011378599385449748, 0.046034211308912505, -0.06357385520905333, -0.15847091262694035, -0.0163661351401815, -0.10053254545344227, -0.09255844442151978, -0.23461742332431998, -0.060543320743810226, -0.23221224685988856, -0.10076549308002704, -0.04679912670281404, 0.07819284125986405, -0.2566682377404896, -0.015146450028831547, 0.11859533527835726, -0.011860419706920635, -0.12521954768242963, -0.04958731389757563, -0.31558696053302504, -0.019245716313987707, -0.23001082388323016, 0.256960803871316, 0.052622956086161236, 0.061786298149881576, -0.05222995125504652, -0.2771170981740006, 0.24348104828514144, -0.20112586531092458, -0.22430037728603985, 0.06559374703727454, 0.26413831273396143, 0.28228036623686414, -0.11972774938755024, -0.03699358083216746, 0.31021529457994074, -0.19962603053102101], [0.08036571697373754, 1.0, -0.5769092125678971, 0.13920935942870732, 0.1378508449799005, 0.11103467797513439, 0.278363649739878, 0.023953522854737272, 0.1717584331750124, -0.007267062245826016, -0.04879403990704959, -0.05642579592789968, 0.2676267934832583, -0.06327996833673022, 0.19772099217267425, 0.2676267888355029, 0.1857364059577506, -0.047626135638958324, 0.2979735065184764, 0.05635258523724025, 0.4647902025233993, 0.10795320657739592, 0.10611082357351949, -0.13002322557451976, 0.04448175661932066, -0.22641803802799076, -0.03436510836807304, -0.09244728434046831, 0.25085435939296497, -0.47422839518892346, 0.046288318627215067, 0.26779694788454544, -0.3011694407245782, -0.10563186358868361, -0.07776315717646749, 0.04064713189390373, -0.1028127645971534, -0.22596335148672178, 0.11733363438169922, -0.20460836698840631, 0.8356042864503469, -0.22570340069025718, 0.07725828183523933, 0.19588141689098273, -0.21612266082088388, -0.06910240995389441, 0.0068739457336546425, 0.1098667151961171, 0.14931623274419561, -0.06676101756619386, 0.4253749060797557, 0.7082263422952418, -0.18795879004090293], [0.14243699647930805, -0.5769092125678971, 1.0, -0.04778944209462631, -0.527351620139501, -0.654221425068208, -0.39155975818731736, -0.16771531103427686, -0.08928973900808326, -0.45086082810794165, 0.2055341186211241, -0.00626864374183229, -0.24100009274042153, -0.03681656269769249, 0.5268875006936686, -0.24100008867448694, -0.5789759109367321, -0.16587102764614384, -0.27183282532310543, -0.7502237499240104, -0.5045533942607506, -0.740245846435003, -0.14364937584630388, 0.07852947966212175, -0.04553908019472287, -0.29408123736127806, -0.01261798488604887, 0.10227241212239674, -0.28149779478788006, 0.3407739971308491, -0.04839607104644719, -0.22146221219005932, -0.21368447413481484, 0.04352091049290049, 0.03749279431705932, -0.4260691980157651, -0.12186596227992802, -0.5037576883724147, 0.6452443452668447, 0.10499691999216788, -0.7166365191710261, 0.1307635463567426, -0.14196759938005565, -0.14905873241560003, 0.16313935952848127, 0.04311386813347075, 0.013520721235268079, 0.6038230672836782, 0.5399939096106051, 0.34795366624888957, -0.36283274513146835, -0.3391853125842699, -0.5610723880236617], [0.17075451188367968, 0.13920935942870732, -0.04778944209462631, 1.0, -0.06006401001687404, 0.5002583166523713, 0.0023992870799470997, 0.2677350324169259, 0.09425440759780107, -0.07130205010565065, 0.1314394842053779, 0.0019284266404629683, 0.0720909271868339, 0.06990170126727217, 0.3559310145617988, 0.07209092683010884, 0.6351069793313102, 0.22312772282048574, 0.16306349135308382, 0.23836412136324397, 0.13482225654297483, 0.38335400944099596, 0.17021071209063401, -0.3795677943170122, -0.09702772107957693, -0.02490055993960017, -0.21289459696236707, -0.32304147100549696, 0.17913117373420973, -0.5180275701756425, -0.22186106700009925, -0.014252870658997992, -0.11337006039488115, -0.1934522204037738, -0.08524568889405598, 0.04051003157430321, 0.12863904513280264, -0.19075418090929364, 0.17941240453753415, 0.10982938968810196, 0.20716905934558724, -0.14482181340404543, -0.20423410221607527, 0.2289082054082044, -0.1731070373053572, -0.25145189070044555, 0.11278144207088565, 0.17294008110955403, 0.1657354985816159, 0.03850495095666603, 0.08446170510106127, 0.5007802182889887, -0.08275300499379391], [-0.11345861694807152, 0.1378508449799005, -0.527351620139501, -0.06006401001687404, 1.0, 0.4285022743412728, 0.08704568068564235, 0.05492679677404251, 0.009155173186570371, 0.40868074531802034, -0.15882693477018706, -0.006216556170354471, -0.005287549223339829, -0.04688460851704757, -0.47022922103333314, -0.0052875627529852835, 0.2984615911583936, 0.17304758022370306, -0.02527737736713432, 0.510798574183697, 0.1720513117429317, 0.4805523012388708, 0.008272430908240794, -0.014354512987313968, 0.03078904274776938, 0.3719359465010109, 0.12459655629498509, -0.09248917990180974, 0.014507924454499152, -0.16980271315151163, -0.0778405059127988, -0.004322170715756878, 0.725949413714928, -0.012663391868986532, -0.021714592436601503, 0.32352505147537713, 0.23657000411436208, 0.4802038961267332, -0.5060018848206059, -0.09816607413695255, 0.28942713789787655, 0.016037639953335122, 0.128165343556489, 0.44548081861516303, -0.48317671601373, -0.0998267151022246, 0.007753969689695368, -0.4663375933064897, -0.4278712639114205, -0.2882507476620847, -0.026885544595519575, 0.025779269495704537, 0.4994490351611377], [-0.0662942584065082, 0.11103467797513439, -0.654221425068208, 0.5002583166523713, 0.4285022743412728, 1.0, 0.20430921349705528, 0.5006273362751477, 0.11925339671863168, 0.4966077216862908, -0.1953083914332668, 0.006403930254379665, -0.03899129649053911, 0.06364231389415265, -0.4613099288628074, -0.03899129868509585, 0.9642784916521097, 0.3823492557297081, 0.1683579261254872, 0.8837165970447398, 0.3197036181434705, 0.9429635378436617, 0.20002576760901894, -0.3226353016232796, -0.03880648624270703, 0.6288328403453894, -0.10753874594398866, -0.2784443128487291, 0.18526831813292152, -0.2829325149937406, -0.151720140917389, -0.050879748022935246, 0.28199682876157833, -0.13743632115637194, -0.03225551477993384, 0.4093300035909884, 0.2843230834933505, 0.6206842827932618, -0.6610683724404135, 0.07810627978239096, 0.29953117229035126, -0.08543355124374205, -0.04415393472028722, 0.15545824983085332, -0.1630928522087486, -0.06651168714522226, 0.04093878494896778, -0.6124494693202017, -0.5526511468487871, -0.3808477675941469, -0.010694971618154026, 0.16348428663486278, 0.7180187780074627], [-0.12785139346542138, 0.278363649739878, -0.39155975818731736, 0.0023992870799470997, 0.08704568068564235, 0.20430921349705528, 1.0, 0.050414427845793336, 0.05383030235218889, -0.00013344318700682286, 0.06001265666172182, -0.00013714965004654945, 0.019159330748458984, -0.028336399231808963, -0.1065087188455325, 0.019159329606087287, 0.18636706872027706, 0.017421433732705, 0.39183657323789406, 0.19408007997239213, 0.1777857028501845, 0.21473162622375455, 0.0967089973435988, -0.07089133798046471, -0.03320927398376346, 0.053925022042375, 0.024307669287564296, -0.03226091623579941, 0.4419521438468841, -0.12945710991475526, 0.04078894433847899, 0.053307950531076266, -0.04708339202761856, -0.06730835923723391, -0.0253059635794468, 0.15830060771211366, -0.02492380364915309, 0.07342510398790457, -0.14935408014888116, -0.0935243688039319, 0.3447340103124581, -0.09202993017636846, 0.10588571255312322, -0.10359356692669792, 0.07426937469399636, 0.03825528648782452, 0.09892111601151277, -0.1414933014868455, -0.1341890959221919, -0.05079955520331356, 0.24189276600133958, 0.19764959799658505, 0.09043802291520815], [-0.009844350960645974, 0.023953522854737272, -0.16771531103427686, 0.2677350324169259, 0.05492679677404251, 0.5006273362751477, 0.050414427845793336, 1.0, 0.03396968147493114, 0.1202809328647125, -0.01753534787246575, -0.03841519492440406, -0.024712709808688258, 0.036600495099851756, -0.060626967567664475, -0.024712714984083995, 0.5436262488367514, 0.11958613022899992, 0.08881090952460093, 0.2704576025737693, 0.089139590369974, 0.31500071736095653, 0.10556043721320084, -0.13826317543497296, -0.05251674892334706, 0.22186466711502634, -0.07071752573159912, -0.15621062328921104, 0.052849647815140045, -0.1276237350228034, -0.06425240365028809, -0.01201836898886263, 0.01856097982776321, -0.09869902738889008, -0.04405634209919952, 0.0969299553311331, 0.0037844042412055, 0.14813849660618475, -0.15700079053245122, 0.014106361442576492, 0.08415430348107542, -0.07318005640669564, -0.05941248638727265, 0.03384959841331574, -0.025476788156632943, -0.027625792561892105, 0.006644224031147756, -0.14151417605753824, -0.13076873462296257, -0.10625534409336047, -0.005205068909871995, 0.09719869404933143, 0.19578034761210858], [0.11561564703057799, 0.1717584331750124, -0.08928973900808326, 0.09425440759780107, 0.009155173186570371, 0.11925339671863168, 0.05383030235218889, 0.03396968147493114, 1.0, 0.008544340444273095, -0.025722625196128952, -0.03796075963102893, -0.030913750052239675, -0.005005119931296671, -0.05042174276528293, -0.030913750714572173, 0.1313062467521018, -0.007951946421823643, -0.0253513367376734, 0.10873904955362126, 0.13184907333073936, 0.10572209704054628, -0.015075676838529794, -0.09036995154642663, -0.03698990949802345, 0.10493294332570935, -0.06843210455189125, -0.055139880053279154, -0.006959400432557511, -0.06472946541119491, -0.0348679859955873, -0.0054255995723473845, -0.1231195691124336, -0.04461005620238591, -0.0297809222739532, -0.0818106446159339, -0.053576829804001844, 0.06381234400155558, -0.06113860617462621, -0.017715052741872, 0.08809828655502826, -0.05666595160853358, -0.23169771777735018, -0.16364354996746078, 0.20187473151825133, -0.010256532462832885, -0.011604420747666636, -0.058065448692427454, -0.05034249825159292, -0.03190875795020138, -0.02442580476111299, 0.07215974554251424, 0.06812352693864568], [-0.26978368293260463, -0.007267062245826016, -0.45086082810794165, -0.07130205010565065, 0.40868074531802034, 0.4966077216862908, -0.00013344318700682286, 0.1202809328647125, 0.008544340444273095, 1.0, -0.2568968862547367, 0.01098908641131784, -0.1420263970413868, -0.0573011836351678, -0.5485425657581466, -0.1420263985041237, 0.45164254615213784, 0.08653966332744707, -0.13401596608721594, 0.5390589952832558, 0.11222818955157733, 0.4767569032321118, -0.08028853859362763, 0.02047340144094883, 0.015614729373038287, 0.6931277367880804, 0.03215456405107105, -0.03872776150015258, -0.11959443576298603, -0.04524197164038258, -0.007127113038803739, -0.15044955901738297, 0.28518801947244704, 0.058904488909600386, 0.020096486422126265, 0.4582154263816316, 0.17057838878857207, 0.5861404313948724, -0.5641476814747559, 0.007775391815800832, 0.17640888569991442, 0.03312392684367366, 0.1557924037573114, -0.012440347689512972, -0.020959068302814257, 0.08206073587160731, -0.00601878434281338, -0.5215502414050669, -0.48442446393665384, -0.2966111321096368, -0.21558917599558752, -0.13170044588756663, 0.600264554558514], [-0.10207292131665559, -0.04879403990704959, 0.2055341186211241, 0.1314394842053779, -0.15882693477018706, -0.1953083914332668, 0.06001265666172182, -0.01753534787246575, -0.025722625196128952, -0.2568968862547367, 1.0, -0.05486237840840257, -0.0017362666716861871, -0.01793426682768946, 0.17011185734101542, -0.0017362666546198982, -0.1421810215227355, -0.05990931343621851, -0.020938959015212456, -0.2684970029309043, -0.06895768698644078, -0.18726943729436446, -0.02614435956291042, -0.08111870340010248, -0.043818462574517145, -0.24736714737149437, -0.0822798276649305, -0.031868826159362845, -0.011081106851023727, -0.0016040593878685935, -0.03850989531869281, 0.01817616560014889, -0.1316934722069722, -0.07206297806642104, -0.03467653850561806, -0.19149771315199016, -0.09900631694248296, -0.31264960206651904, 0.3306811510040794, -0.03153592968988983, 0.03534728077680274, -0.035368942990951266, -0.2549779424093264, -0.08929241064460462, 0.14051663109248339, -0.053583745920341305, -0.021103382087488992, 0.18326687768722277, 0.1662846513615243, 0.9256774170865896, 0.013283724665257391, 0.14252739545480764, -0.3121225341879883], [-0.0015014023383270237, -0.05642579592789968, -0.00626864374183229, 0.0019284266404629683, -0.006216556170354471, 0.006403930254379665, -0.00013714965004654945, -0.03841519492440406, -0.03796075963102893, 0.01098908641131784, -0.05486237840840257, 1.0, -0.045331490588982996, -0.021365088238158806, -0.077963955297626, -0.04533148967170945, -0.02863245609303622, -0.04078397294115147, -0.058725966059314946, 0.06732197356504133, -0.044686885497693465, 0.03043366936821335, -0.044990371463380904, -0.03837251448942473, -0.024905441272982293, -0.007698887187662486, 0.16387152695353163, -0.039904614038458214, -0.053917717980912, 0.007906455529011196, -0.04345597165634215, -0.04375461220718352, 0.009541107295041599, -0.0037377227009180542, 0.06408191708343344, -0.06708047347794184, 0.06202593546649897, 0.08686809087698116, -0.07347219933453634, -0.03460239034331728, -0.0497090413900619, -0.029772959742356456, 0.1089878356912885, -0.026998065990736814, 0.06179549522405399, -0.02877958634307114, -0.05497369855622785, -0.06253565872382576, -0.06593889846639595, -0.05133461311007308, -0.06659212316923746, -0.04713484347941581, 0.06673285366106876], [-0.15484576870638336, 0.2676267934832583, -0.24100009274042153, 0.0720909271868339, -0.005287549223339829, -0.03899129649053911, 0.019159330748458984, -0.024712709808688258, -0.030913750052239675, -0.1420263970413868, -0.0017362666716861871, -0.045331490588982996, 1.0, -0.030038074475359312, 0.05356207424971885, 0.9999999999999997, -0.028560215896309655, -0.04836449405368609, 0.10279400619820944, 0.015922089371357948, 0.21454616446212776, -0.011029594304881606, -0.025422359525563574, -0.07113902023851411, -0.03302039181445532, -0.175365686210764, -0.07016695051114533, -0.042269793781851646, 0.11327319279561975, -0.0454581614835895, -0.010826235960337051, 0.2159540110023439, -0.15087524199213934, -0.06458549425719878, -0.045617176752507496, -0.0024288444658441544, -0.09313292407710136, -0.2557993962541137, 0.05708654830190233, -0.05292167349383653, 0.15467117871108893, -0.0482011323816081, 0.021407625405432253, 0.08595263453196418, -0.06958393210718523, -0.0508577433755686, -0.03786847906709155, 0.05773720630379517, 0.04885719099563092, 0.012068624496367282, 0.7403786425831075, 0.30797962566855513, -0.2123280471030345], [0.025645851310856973, -0.06327996833673022, -0.03681656269769249, 0.06990170126727217, -0.04688460851704757, 0.06364231389415265, -0.028336399231808963, 0.036600495099851756, -0.005005119931296671, -0.0573011836351678, -0.01793426682768946, -0.021365088238158806, -0.030038074475359312, 1.0, -0.03787182086623985, -0.030038074002194524, 0.05402663471991331, -0.005179670187120306, -0.03191554895150067, 0.08175720494916547, -0.006011306146298865, 0.09186158330694817, -0.011653455325454422, -0.05253573689520487, -0.026766322410321466, -0.06082143343232234, -0.0380184928201191, -0.018199568293280812, -0.024405182268252047, -0.06191805545943299, -0.028567087297307475, -0.021184942719743322, -0.003592668140861734, -0.042540068242588804, -0.019768838910366474, -0.02653500231240253, -0.03574613448228605, 0.06097791510206015, -0.05384849207152205, -0.01929749587740886, 0.018941376520212803, -0.03457480531451964, 0.013727931667021928, -0.12921672537650095, 0.16850520287521564, -0.023201888408377377, -0.012798752132313422, -0.04799734171332436, -0.049493068813721, -0.02665522404895216, -0.03897384723557096, 0.005643430227002812, 0.06902699566693378], [0.3007231257193276, 0.19772099217267425, 0.5268875006936686, 0.3559310145617988, -0.47022922103333314, -0.4613099288628074, -0.1065087188455325, -0.060626967567664475, -0.05042174276528293, -0.5485425657581466, 0.17011185734101542, -0.077963955297626, 0.05356207424971885, -0.03787182086623985, 1.0, 0.05356207443149843, -0.2630492023444549, -0.09585204738611462, 0.018219346382891702, -0.7559884983606103, -0.11185012126364048, -0.618974316136339, -0.04445237513793743, -0.14714859528768964, -0.0458627370550812, -0.5597987016776169, -0.06735354436617602, -0.06212854662936309, 0.014750109589055439, -0.31799628570734023, -0.04686413153951371, 0.08394348899763573, -0.4399032545129525, -0.111412202316481, -0.04572986908180944, -0.4491047860409822, -0.17924481891335392, -0.9013183872699382, 0.9343128393437664, -0.04929129356388679, 0.11897498937234534, -0.04888253262485075, -0.040345317960330085, 0.16877416968768802, -0.13397091110645615, -0.16681737560575896, 0.06066614175832121, 0.8895038544374048, 0.8548572100010663, 0.26250360538145395, 0.10318418625716794, 0.5281398252878915, -0.8811611698788703], [-0.15484576789383386, 0.2676267888355029, -0.24100008867448694, 0.07209092683010884, -0.0052875627529852835, -0.03899129868509585, 0.019159329606087287, -0.024712714984083995, -0.030913750714572173, -0.1420263985041237, -0.0017362666546198982, -0.04533148967170945, 0.9999999999999997, -0.030038074002194524, 0.05356207443149843, 1.0, -0.02856021831935347, -0.048364494580692786, 0.10279400472645417, 0.015922088495757866, 0.2145461549078007, -0.011029595587094917, -0.025422359236025607, -0.07113901975049325, -0.03302039196212431, -0.17536568606193428, -0.07016695114468956, -0.04226979350467708, 0.11327319134503445, -0.04545815396634337, -0.010826235273665821, 0.21595400819418975, -0.15087524671524202, -0.06458549341137239, -0.0456171765114118, -0.0024288482509860466, -0.09313292455816738, -0.25579939549997655, 0.057086548357651166, -0.05292167210698434, 0.15467117378838088, -0.04820113174021149, 0.021407624444041543, 0.08595262991892247, -0.06958392734103222, -0.050857741658310744, -0.037868479426442975, 0.05773720618840057, 0.04885719096437197, 0.012068625344271753, 0.7403786396346755, 0.3079796216329983, -0.2123280466928435], [0.011378599385449748, 0.1857364059577506, -0.5789759109367321, 0.6351069793313102, 0.2984615911583936, 0.9642784916521097, 0.18636706872027706, 0.5436262488367514, 0.1313062467521018, 0.45164254615213784, -0.1421810215227355, -0.02863245609303622, -0.028560215896309655, 0.05402663471991331, -0.2630492023444549, -0.02856021831935347, 1.0, 0.38163792430884835, 0.19101681138118873, 0.7602514328525454, 0.3792832933415463, 0.8547362232544922, 0.19905838790501987, -0.37579087589590265, -0.0496490712516137, 0.5565125850496133, -0.2253373483103311, -0.3085471657776683, 0.20714141659221527, -0.39931077410334104, -0.1595426494285958, -0.035749701805983955, 0.14568806404368448, -0.17178334771682385, -0.04463740172965168, 0.3484755190476456, 0.24510099657615983, 0.43423279743597987, -0.47105084575621925, 0.08192770077200229, 0.3661833463157683, -0.10715265679122243, -0.08348718775570318, 0.18673750645464962, -0.18438877269160883, -0.11372102810869264, 0.06728518143197892, -0.4327915270832706, -0.38374963118092803, -0.310264156276759, 0.0217890055591043, 0.3233796018591764, 0.5454571273463944], [0.046034211308912505, -0.047626135638958324, -0.16587102764614384, 0.22312772282048574, 0.17304758022370306, 0.3823492557297081, 0.017421433732705, 0.11958613022899992, -0.007951946421823643, 0.08653966332744707, -0.05990931343621851, -0.04078397294115147, -0.04836449405368609, -0.005179670187120306, -0.09585204738611462, -0.048364494580692786, 0.38163792430884835, 1.0, -0.017522740131421792, 0.2590394467261688, 0.06202355684775055, 0.33610889256620996, 0.013513935576406313, -0.14060211345901308, -0.04041571961217184, 0.27031066031927253, -0.08759336712236335, -0.1073238189691737, 0.009195792217432426, -0.15848642081656567, -0.07047746072748609, -0.03442472249211696, 0.1832639108786726, -0.0804856741726227, -0.03747590026696713, 0.10264440663312245, 0.08037229520677867, 0.16406036733825186, -0.15938507573346083, -0.001539197809739408, 0.10381964757310268, -0.041481432745240084, 0.02760015809314139, 0.13476141116739712, -0.11944719469591952, -0.07199828920879292, -0.018489603981005708, -0.14301600711304482, -0.13177556268391477, -0.11274981014738224, -0.055283850895602914, 0.09538110331065118, 0.2094627524890933], [-0.06357385520905333, 0.2979735065184764, -0.27183282532310543, 0.16306349135308382, -0.02527737736713432, 0.1683579261254872, 0.39183657323789406, 0.08881090952460093, -0.0253513367376734, -0.13401596608721594, -0.020938959015212456, -0.058725966059314946, 0.10279400619820944, -0.03191554895150067, 0.018219346382891702, 0.10279400472645417, 0.19101681138118873, -0.017522740131421792, 1.0, 0.1112763056189099, 0.19602645823175666, 0.15011955685828643, 0.6401731555531434, -0.09352650698448602, -0.043313891467070625, -0.12978205497552053, -0.1021023294738984, -0.06798597180505186, 0.7334193883264795, -0.1870043556755924, -0.031534583196146763, 0.15493234524612812, -0.1279265273086247, -0.08940050130232292, -0.05662478329072433, 0.12467400621051414, -0.021821101101464666, -0.11754698691375222, -0.012873692859806385, -0.04985241266866025, 0.2049108544911332, -0.07462545456717787, -0.018984792098397298, 0.10899764831607973, -0.08773239300355773, -0.06858851010959402, -0.039318762197408014, -0.005668112188782451, -0.006909376875269336, -0.04035781660013252, 0.4738698306661943, 0.24760711483331121, -0.07662713530032295], [-0.15847091262694035, 0.05635258523724025, -0.7502237499240104, 0.23836412136324397, 0.510798574183697, 0.8837165970447398, 0.19408007997239213, 0.2704576025737693, 0.10873904955362126, 0.5390589952832558, -0.2684970029309043, 0.06732197356504133, 0.015922089371357948, 0.08175720494916547, -0.7559884983606103, 0.015922088495757866, 0.7602514328525454, 0.2590394467261688, 0.1112763056189099, 1.0, 0.298673192888584, 0.9726412101307885, 0.15965626170866928, -0.12375350560438181, 0.004438295913914149, 0.5518400598652451, -0.02214353910243778, -0.13247391170308753, 0.1262782189394723, -0.11723947091163013, -0.07595535259983568, -0.050049568116146984, 0.37954543219955494, -0.027185538539413634, -0.006591927836092944, 0.49049110028693965, 0.2730767661002906, 0.8436101119145805, -0.9022579315892959, 0.07057449242877242, 0.2007535184624239, -0.05733213962402388, 0.011173547998236439, 0.04907101366206704, -0.05843294016938926, -0.004744254587905651, 0.004145077843639535, -0.8406357644787809, -0.7752591741479298, -0.4490263977704628, -0.0016888519367271857, -0.09812482510543168, 0.902497556452629], [-0.0163661351401815, 0.4647902025233993, -0.5045533942607506, 0.13482225654297483, 0.1720513117429317, 0.3197036181434705, 0.1777857028501845, 0.089139590369974, 0.13184907333073936, 0.11222818955157733, -0.06895768698644078, -0.044686885497693465, 0.21454616446212776, -0.006011306146298865, -0.11185012126364048, 0.2145461549078007, 0.3792832933415463, 0.06202355684775055, 0.19602645823175666, 0.298673192888584, 1.0, 0.34301051546335914, 0.0613562770485819, -0.13053386054366412, -0.0027478149436436297, 0.03979973225945139, -0.07506540278816232, -0.06936217113644286, 0.21019540440240006, -0.26598115918316567, -0.007929507430099925, 0.1532016570060503, -0.05005744496652279, -0.09597043132681993, -0.0024417739036531536, 0.15827635009773347, -0.018744407310346947, 0.0748126529474721, -0.18339950220289347, -0.07297861637175392, 0.4425786049393691, -0.0991132315632838, 0.006722356063152642, 0.11545680895131047, -0.11453629481778556, -0.08371325696176726, 0.02266476347238233, -0.1676663929646311, -0.14816177590574564, -0.1270643154678654, 0.35316730766569665, 0.3449950323911834, 0.12247233376814926], [-0.10053254545344227, 0.10795320657739592, -0.740245846435003, 0.38335400944099596, 0.4805523012388708, 0.9429635378436617, 0.21473162622375455, 0.31500071736095653, 0.10572209704054628, 0.4767569032321118, -0.18726943729436446, 0.03043366936821335, -0.011029594304881606, 0.09186158330694817, -0.618974316136339, -0.011029595587094917, 0.8547362232544922, 0.33610889256620996, 0.15011955685828643, 0.9726412101307885, 0.34301051546335914, 1.0, 0.2015960263550186, -0.2449414210823114, -0.0021204622442773675, 0.514350908261704, -0.05969907682075156, -0.17187206053528595, 0.1668950987743219, -0.2341932018167698, -0.11944688695431273, -0.035567127960632244, 0.3373838107945023, -0.10144948031993646, -0.011087119687371617, 0.4454326308252205, 0.3040359097327956, 0.7496484692782974, -0.8036136294773446, 0.06583472971862038, 0.28164661532239277, -0.08180102974853438, -0.025452073949905715, 0.10608677772048727, -0.10516700780335587, -0.056505590849172206, 0.019142410060618408, -0.7533563841230435, -0.6897405666272463, -0.3847378552717308, 0.00482004670614266, 0.04630283026091247, 0.828804544507856], [-0.09255844442151978, 0.10611082357351949, -0.14364937584630388, 0.17021071209063401, 0.008272430908240794, 0.20002576760901894, 0.0967089973435988, 0.10556043721320084, -0.015075676838529794, -0.08028853859362763, -0.02614435956291042, -0.044990371463380904, -0.025422359525563574, -0.011653455325454422, -0.04445237513793743, -0.025422359236025607, 0.19905838790501987, 0.013513935576406313, 0.6401731555531434, 0.15965626170866928, 0.0613562770485819, 0.2015960263550186, 1.0, -0.07088409036962717, -0.0308775247135171, -0.07176695289857106, -0.0853872251161671, -0.05544145232593225, 0.15831121572327175, -0.13537555315896097, -0.04994528075895357, -0.01115077108909055, -0.013471978972027494, -0.07022418978390256, -0.03800204480751453, 0.07169922248064838, 0.021765448531996984, 0.06222397807077602, -0.08544418423397081, -0.010525356479447242, 0.09277114266692518, -0.05206145828423523, -0.1231414551205157, 0.09625516041843789, -0.07612281658085503, -0.056115073054896124, -0.04092304469803256, -0.07869241765415677, -0.06951263265934546, -0.05582650011016956, 0.06444626091929805, 0.05359509661597305, 0.07672054063523373], [-0.23461742332431998, -0.13002322557451976, 0.07852947966212175, -0.3795677943170122, -0.014354512987313968, -0.3226353016232796, -0.07089133798046471, -0.13826317543497296, -0.09036995154642663, 0.02047340144094883, -0.08111870340010248, -0.03837251448942473, -0.07113902023851411, -0.05253573689520487, -0.14714859528768964, -0.07113901975049325, -0.37579087589590265, -0.14060211345901308, -0.09352650698448602, -0.12375350560438181, -0.13053386054366412, -0.2449414210823114, -0.07088409036962717, 1.0, 0.07149940088808221, -0.0748322428394639, 0.14993719299586736, 0.04379353778602568, -0.1276333161019055, 0.18728237791967467, 0.23348782327712855, -0.07745306536692147, 0.05665224734937884, 0.4442143255283678, -0.00830617034603682, 0.02505436426201765, -0.05152354004745144, 0.09930061376016142, -0.07352375986261035, -0.04782523948595339, -0.14231141047294876, -0.0024058659522378477, 0.2399300256183382, -0.07708564708892246, 0.10961342455462642, 0.027781800318937105, -0.11071587370308912, -0.0671710915966493, -0.068288802117391, -0.02853224023140319, -0.11188219998171245, -0.4472111640866814, 0.0338363104865184], [-0.060543320743810226, 0.04448175661932066, -0.04553908019472287, -0.09702772107957693, 0.03078904274776938, -0.03880648624270703, -0.03320927398376346, -0.05251674892334706, -0.03698990949802345, 0.015614729373038287, -0.043818462574517145, -0.024905441272982293, -0.03302039181445532, -0.026766322410321466, -0.0458627370550812, -0.03302039196212431, -0.0496490712516137, -0.04041571961217184, -0.043313891467070625, 0.004438295913914149, -0.0027478149436436297, -0.0021204622442773675, -0.0308775247135171, 0.07149940088808221, 1.0, -0.04265152909444182, -0.008976636950681524, 0.005162264638832946, -0.04513520550248942, -0.04164721206140038, 0.02688634214686121, -0.020808529946372376, -0.0017525845181987564, 0.04301054441628582, 0.09699661974378965, 0.01641430093035276, -0.049524194288273954, 0.05293314310428959, -0.04452841932896963, -0.008426470979697499, 0.040299424374412675, -0.02959825884361191, 0.07364740514372632, 0.0210746937304613, -0.008320679333516993, -0.011010420695456585, -0.05107243655547239, -0.03833051288971081, -0.03675210990315208, -0.037671261416531286, -0.04140473841636554, -0.05972045460679443, 0.0353844655353895], [-0.23221224685988856, -0.22641803802799076, -0.29408123736127806, -0.02490055993960017, 0.3719359465010109, 0.6288328403453894, 0.053925022042375, 0.22186466711502634, 0.10493294332570935, 0.6931277367880804, -0.24736714737149437, -0.007698887187662486, -0.175365686210764, -0.06082143343232234, -0.5597987016776169, -0.17536568606193428, 0.5565125850496133, 0.27031066031927253, -0.12978205497552053, 0.5518400598652451, 0.03979973225945139, 0.514350908261704, -0.07176695289857106, -0.0748322428394639, -0.04265152909444182, 1.0, -0.032054672458979645, -0.25725617803484413, -0.06255744845825714, 0.19809191989361238, -0.047059087750164603, -0.1846645228767625, 0.3311830138765124, 0.04189613908264799, 0.003974763751150432, 0.36434867115871394, 0.18089569323528423, 0.6117213847435204, -0.5806714481213325, 0.10628183484739531, -0.06275055320784537, 0.07312957000508093, 0.03380044896142873, -0.015210567744241288, -0.057871070298676976, 0.15335057494714888, 0.014622154311722303, -0.5356175814310548, -0.5018550603593191, -0.30154061651771485, -0.25267053508498033, -0.2257811311239141, 0.6438710146871581], [-0.10076549308002704, -0.03436510836807304, -0.01261798488604887, -0.21289459696236707, 0.12459655629498509, -0.10753874594398866, 0.024307669287564296, -0.07071752573159912, -0.06843210455189125, 0.03215456405107105, -0.0822798276649305, 0.16387152695353163, -0.07016695051114533, -0.0380184928201191, -0.06735354436617602, -0.07016695114468956, -0.2253373483103311, -0.08759336712236335, -0.1021023294738984, -0.02214353910243778, -0.07506540278816232, -0.05969907682075156, -0.0853872251161671, 0.14993719299586736, -0.008976636950681524, -0.032054672458979645, 1.0, 0.033367391421902017, -0.09967567464774654, 0.05525430087821202, -0.019193670587688578, -0.06658922298263796, 0.16169547264335785, 0.05747499827051406, -0.012246921946978646, -0.05597105059529611, -0.05329602493147588, 0.09773366990714388, -0.07352289034771779, -0.08727316984143621, -0.01349565265643209, -0.033994572065097296, 0.24860345388692062, -0.1299023662499715, 0.08576502426347958, 0.1433917842856879, -0.008791988156384758, -0.04955846362164178, -0.08038177435593104, -0.06299470063677212, -0.10615478894324379, -0.17002042583070132, 0.06670589575456005], [-0.04679912670281404, -0.09244728434046831, 0.10227241212239674, -0.32304147100549696, -0.09248917990180974, -0.2784443128487291, -0.03226091623579941, -0.15621062328921104, -0.055139880053279154, -0.03872776150015258, -0.031868826159362845, -0.039904614038458214, -0.042269793781851646, -0.018199568293280812, -0.06212854662936309, -0.04226979350467708, -0.3085471657776683, -0.1073238189691737, -0.06798597180505186, -0.13247391170308753, -0.06936217113644286, -0.17187206053528595, -0.05544145232593225, 0.04379353778602568, 0.005162264638832946, -0.25725617803484413, 0.033367391421902017, 1.0, -0.07920090622295815, -0.03413227586334517, 0.011434284560809404, -0.03142379350320811, -0.022154948500935433, -0.016256936623325384, 0.012765689870766692, -0.043358500560404585, -0.06500575855774443, 0.027819950162694264, -0.01186937507389336, -0.03878453571366014, -0.14206321706767833, -0.004531083301297126, 0.06051228121754008, -0.143850314980985, 0.1251696287383238, 0.10026264321393324, -0.01595836337718332, -0.00896143384420674, -0.01620406416436964, 0.0015795710937407115, -0.06117566607350002, -0.2075330009031475, -0.012105167205545418], [0.07819284125986405, 0.25085435939296497, -0.28149779478788006, 0.17913117373420973, 0.014507924454499152, 0.18526831813292152, 0.4419521438468841, 0.052849647815140045, -0.006959400432557511, -0.11959443576298603, -0.011081106851023727, -0.053917717980912, 0.11327319279561975, -0.024405182268252047, 0.014750109589055439, 0.11327319134503445, 0.20714141659221527, 0.009195792217432426, 0.7334193883264795, 0.1262782189394723, 0.21019540440240006, 0.1668950987743219, 0.15831121572327175, -0.1276333161019055, -0.04513520550248942, -0.06255744845825714, -0.09967567464774654, -0.07920090622295815, 1.0, -0.19259834815003704, -0.027464121217125173, 0.18052628023805084, -0.026753210339349836, -0.08536671825930553, -0.05165844242295243, 0.08532610342626284, -0.011582540906747266, -0.1250512248274321, -0.0186014007077557, -0.034873376554192814, 0.2036093054671601, -0.0681974133188667, -0.09379351930005962, 0.12673573388508824, -0.10799507922334187, -0.07666135912025775, -0.02570539086759391, -0.012715479829400153, -0.009644849838738057, -0.04242788674401185, 0.5208873713454457, 0.2831836261803025, -0.07332189280528738], [-0.2566682377404896, -0.47422839518892346, 0.3407739971308491, -0.5180275701756425, -0.16980271315151163, -0.2829325149937406, -0.12945710991475526, -0.1276237350228034, -0.06472946541119491, -0.04524197164038258, -0.0016040593878685935, 0.007906455529011196, -0.0454581614835895, -0.06191805545943299, -0.31799628570734023, -0.04545815396634337, -0.39931077410334104, -0.15848642081656567, -0.1870043556755924, -0.11723947091163013, -0.26598115918316567, -0.2341932018167698, -0.13537555315896097, 0.18728237791967467, -0.04164721206140038, 0.19809191989361238, 0.05525430087821202, -0.03413227586334517, -0.19259834815003704, 1.0, 0.03206078235605265, -0.13799411668543354, 0.002229995021732402, 0.09933723233016815, 0.021966094497172513, -0.04048414279736869, -0.02772686126069957, 0.20769476620258293, -0.17180039397035812, -0.006182134703128319, -0.61720378306534, 0.19096158012190348, -0.05883727059584395, -0.32614251308704767, 0.2706052067309895, 0.2707927547569256, -0.041450192136701376, -0.180505704855995, -0.18450930787729958, 0.0837907187073774, -0.1724279123104077, -0.6555016398863078, 0.12743509724749014], [-0.015146450028831547, 0.046288318627215067, -0.04839607104644719, -0.22186106700009925, -0.0778405059127988, -0.151720140917389, 0.04078894433847899, -0.06425240365028809, -0.0348679859955873, -0.007127113038803739, -0.03850989531869281, -0.04345597165634215, -0.010826235960337051, -0.028567087297307475, -0.04686413153951371, -0.010826235273665821, -0.1595426494285958, -0.07047746072748609, -0.031534583196146763, -0.07595535259983568, -0.007929507430099925, -0.11944688695431273, -0.04994528075895357, 0.23348782327712855, 0.02688634214686121, -0.047059087750164603, -0.019193670587688578, 0.011434284560809404, -0.027464121217125173, 0.03206078235605265, 1.0, 0.013804939081661883, 0.025589024939601825, 0.05191626658928584, -0.01963648692709298, -0.02165003843008246, -0.0910602227874609, 0.0021183730712221035, -0.014309960191286475, -0.050795906890425645, 0.04086872027365545, -0.024414930979579686, 0.09628783011229364, -0.061281402943781906, 0.0953786486850906, -0.01883035825558337, -0.05281430375101781, -0.011961681612375517, -0.01164757406617048, -0.01384003467515907, 0.04115673357781606, -0.12640396914886412, -0.026836403574519288], [0.11859533527835726, 0.26779694788454544, -0.22146221219005932, -0.014252870658997992, -0.004322170715756878, -0.050879748022935246, 0.053307950531076266, -0.01201836898886263, -0.0054255995723473845, -0.15044955901738297, 0.01817616560014889, -0.04375461220718352, 0.2159540110023439, -0.021184942719743322, 0.08394348899763573, 0.21595400819418975, -0.035749701805983955, -0.03442472249211696, 0.15493234524612812, -0.050049568116146984, 0.1532016570060503, -0.035567127960632244, -0.01115077108909055, -0.07745306536692147, -0.020808529946372376, -0.1846645228767625, -0.06658922298263796, -0.03142379350320811, 0.18052628023805084, -0.13799411668543354, 0.013804939081661883, 1.0, -0.13986588981985773, -0.05543398182664287, -0.03503323597389295, 0.0036472218492701897, -0.08198276733202535, -0.27127195860769887, 0.09048155526807616, -0.03533106248881115, 0.18679839118748384, -0.04234813469217206, -0.17135392033080057, 0.10331840912888501, -0.08946002323691185, -0.0573556906278507, -0.02976654107451941, 0.08542370277948863, 0.08247242011641229, 0.028878206859765998, 0.6828363818037687, 0.3086647994673197, -0.23001272933079325], [-0.011860419706920635, -0.3011694407245782, -0.21368447413481484, -0.11337006039488115, 0.725949413714928, 0.28199682876157833, -0.04708339202761856, 0.01856097982776321, -0.1231195691124336, 0.28518801947244704, -0.1316934722069722, 0.009541107295041599, -0.15087524199213934, -0.003592668140861734, -0.4399032545129525, -0.15087524671524202, 0.14568806404368448, 0.1832639108786726, -0.1279265273086247, 0.37954543219955494, -0.05005744496652279, 0.3373838107945023, -0.013471978972027494, 0.05665224734937884, -0.0017525845181987564, 0.3311830138765124, 0.16169547264335785, -0.022154948500935433, -0.026753210339349836, 0.002229995021732402, 0.025589024939601825, -0.13986588981985773, 1.0, 0.02764584805424237, 0.015449536120751048, 0.22267219115126888, 0.18512544530754996, 0.47197261023570636, -0.44273687088614594, -0.06179289929537837, -0.045880293306917314, 0.06445698310806298, 0.10547838861637641, 0.35143193611842444, -0.3668524463866579, -0.0948081757915205, -0.0031668228424600415, -0.4068798323592151, -0.38183165117174156, -0.23754141732969236, -0.2129890268453454, -0.23994085743486346, 0.4677521631049702], [-0.12521954768242963, -0.10563186358868361, 0.04352091049290049, -0.1934522204037738, -0.012663391868986532, -0.13743632115637194, -0.06730835923723391, -0.09869902738889008, -0.04461005620238591, 0.058904488909600386, -0.07206297806642104, -0.0037377227009180542, -0.06458549425719878, -0.042540068242588804, -0.111412202316481, -0.06458549341137239, -0.17178334771682385, -0.0804856741726227, -0.08940050130232292, -0.027185538539413634, -0.09597043132681993, -0.10144948031993646, -0.07022418978390256, 0.4442143255283678, 0.04301054441628582, 0.04189613908264799, 0.05747499827051406, -0.016256936623325384, -0.08536671825930553, 0.09933723233016815, 0.05191626658928584, -0.05543398182664287, 0.02764584805424237, 1.0, -0.002264183940934157, 0.02856503992890074, -0.03573645597576116, 0.09586554703682894, -0.07472077660956215, 0.025749369591627713, -0.1026452230813615, -0.01695043255356194, 0.12177672830023248, -0.045151577599214274, 0.07500506869487186, 0.0016444759008393695, -0.0807805283970973, -0.06557515893531053, -0.06754293665814554, -0.04366497395288514, -0.09522925303740377, -0.23682197431744909, 0.06880338206509262], [-0.04958731389757563, -0.07776315717646749, 0.03749279431705932, -0.08524568889405598, -0.021714592436601503, -0.03225551477993384, -0.0253059635794468, -0.04405634209919952, -0.0297809222739532, 0.020096486422126265, -0.03467653850561806, 0.06408191708343344, -0.045617176752507496, -0.019768838910366474, -0.04572986908180944, -0.0456171765114118, -0.04463740172965168, -0.03747590026696713, -0.05662478329072433, -0.006591927836092944, -0.0024417739036531536, -0.011087119687371617, -0.03800204480751453, -0.00830617034603682, 0.09699661974378965, 0.003974763751150432, -0.012246921946978646, 0.012765689870766692, -0.05165844242295243, 0.021966094497172513, -0.01963648692709298, -0.03503323597389295, 0.015449536120751048, -0.002264183940934157, 1.0, -0.014903919761981448, -0.03572323792849039, 0.052744888575533784, -0.0387146690779628, -0.023394121565283137, -0.07411745299471853, -0.018121580962445143, 0.027904801545172452, -0.07751713932352225, 0.09058173045479397, 0.013883791046520974, -0.035237407402659446, -0.03278763996037133, -0.03607256197398281, -0.02428730099889862, -0.0605845424593535, -0.10225706823209095, 0.04039441309835932], [-0.31558696053302504, 0.04064713189390373, -0.4260691980157651, 0.04051003157430321, 0.32352505147537713, 0.4093300035909884, 0.15830060771211366, 0.0969299553311331, -0.0818106446159339, 0.4582154263816316, -0.19149771315199016, -0.06708047347794184, -0.0024288444658441544, -0.02653500231240253, -0.4491047860409822, -0.0024288482509860466, 0.3484755190476456, 0.10264440663312245, 0.12467400621051414, 0.49049110028693965, 0.15827635009773347, 0.4454326308252205, 0.07169922248064838, 0.02505436426201765, 0.01641430093035276, 0.36434867115871394, -0.05597105059529611, -0.043358500560404585, 0.08532610342626284, -0.04048414279736869, -0.02165003843008246, 0.0036472218492701897, 0.22267219115126888, 0.02856503992890074, -0.014903919761981448, 1.0, 0.21141767982087148, 0.44050654861930144, -0.48189493466317346, 0.07567605959557613, 0.1295512222343466, -0.009821940885882922, 0.0941747170061392, 0.09257371098850375, -0.11499380184365965, 0.02429974631553141, -0.024570921561357945, -0.4447246850407037, -0.4152045776112827, -0.2526865633347666, 0.035904862065712126, -0.10986514400124564, 0.4585017675283634], [-0.019245716313987707, -0.1028127645971534, -0.12186596227992802, 0.12863904513280264, 0.23657000411436208, 0.2843230834933505, -0.02492380364915309, 0.0037844042412055, -0.053576829804001844, 0.17057838878857207, -0.09900631694248296, 0.06202593546649897, -0.09313292407710136, -0.03574613448228605, -0.17924481891335392, -0.09313292455816738, 0.24510099657615983, 0.08037229520677867, -0.021821101101464666, 0.2730767661002906, -0.018744407310346947, 0.3040359097327956, 0.021765448531996984, -0.05152354004745144, -0.049524194288273954, 0.18089569323528423, -0.05329602493147588, -0.06500575855774443, -0.011582540906747266, -0.02772686126069957, -0.0910602227874609, -0.08198276733202535, 0.18512544530754996, -0.03573645597576116, -0.03572323792849039, 0.21141767982087148, 1.0, 0.25360301029483856, -0.2362775882985028, 0.01728398906969339, -0.01908385607639904, 0.0003183665381646542, -0.01606674933326853, 0.0799802507243392, -0.1018344541590391, -0.01791074851347149, 0.06323635744829166, -0.21634318320266713, -0.19872995314306632, -0.14253045992159072, -0.11996814485301233, -0.054410057195867, 0.27650653771475436], [-0.23001082388323016, -0.22596335148672178, -0.5037576883724147, -0.19075418090929364, 0.4802038961267332, 0.6206842827932618, 0.07342510398790457, 0.14813849660618475, 0.06381234400155558, 0.5861404313948724, -0.31264960206651904, 0.08686809087698116, -0.2557993962541137, 0.06097791510206015, -0.9013183872699382, -0.25579939549997655, 0.43423279743597987, 0.16406036733825186, -0.11754698691375222, 0.8436101119145805, 0.0748126529474721, 0.7496484692782974, 0.06222397807077602, 0.09930061376016142, 0.05293314310428959, 0.6117213847435204, 0.09773366990714388, 0.027819950162694264, -0.1250512248274321, 0.20769476620258293, 0.0021183730712221035, -0.27127195860769887, 0.47197261023570636, 0.09586554703682894, 0.052744888575533784, 0.44050654861930144, 0.25360301029483856, 1.0, -0.9622893863169604, 0.07026215206939077, -0.09206062473660466, 0.0389342719331855, 0.09584961048798862, -0.11589805958094222, 0.08136771467651285, 0.13369340406305744, -0.03513300142810847, -0.9003439740881249, -0.835629757722873, -0.44261315177110233, -0.36845845197849775, -0.5250574331093946, 0.9891779097478042], [0.256960803871316, 0.11733363438169922, 0.6452443452668447, 0.17941240453753415, -0.5060018848206059, -0.6610683724404135, -0.14935408014888116, -0.15700079053245122, -0.06113860617462621, -0.5641476814747559, 0.3306811510040794, -0.07347219933453634, 0.05708654830190233, -0.05384849207152205, 0.9343128393437664, 0.057086548357651166, -0.47105084575621925, -0.15938507573346083, -0.012873692859806385, -0.9022579315892959, -0.18339950220289347, -0.8036136294773446, -0.08544418423397081, -0.07352375986261035, -0.04452841932896963, -0.5806714481213325, -0.07352289034771779, -0.01186937507389336, -0.0186014007077557, -0.17180039397035812, -0.014309960191286475, 0.09048155526807616, -0.44273687088614594, -0.07472077660956215, -0.0387146690779628, -0.48189493466317346, -0.2362775882985028, -0.9622893863169604, 1.0, -0.05423281724071232, 0.01475435182387866, -0.019647611380082464, -0.08481298136598085, 0.08353421716809847, -0.0534197754337349, -0.11802210106861731, 0.05059743988799781, 0.9341484995052505, 0.8676531444498876, 0.4672666366054521, 0.10167456442734048, 0.42753320262897226, -0.9690050242078387], [0.052622956086161236, -0.20460836698840631, 0.10499691999216788, 0.10982938968810196, -0.09816607413695255, 0.07810627978239096, -0.0935243688039319, 0.014106361442576492, -0.017715052741872, 0.007775391815800832, -0.03153592968988983, -0.03460239034331728, -0.05292167349383653, -0.01929749587740886, -0.04929129356388679, -0.05292167210698434, 0.08192770077200229, -0.001539197809739408, -0.04985241266866025, 0.07057449242877242, -0.07297861637175392, 0.06583472971862038, -0.010525356479447242, -0.04782523948595339, -0.008426470979697499, 0.10628183484739531, -0.08727316984143621, -0.03878453571366014, -0.034873376554192814, -0.006182134703128319, -0.050795906890425645, -0.03533106248881115, -0.06179289929537837, 0.025749369591627713, -0.023394121565283137, 0.07567605959557613, 0.01728398906969339, 0.07026215206939077, -0.05423281724071232, 1.0, -0.1993292210334589, -0.009783380513658626, -0.2536909863202601, 0.050823452968467096, -0.03296489787600161, -0.02714479604445077, -0.042344765769253036, -0.048286565429661296, -0.0464242077471619, -0.0357311911609073, -0.07161329415807037, -0.10618850108188209, 0.0836429367013496], [0.061786298149881576, 0.8356042864503469, -0.7166365191710261, 0.20716905934558724, 0.28942713789787655, 0.29953117229035126, 0.3447340103124581, 0.08415430348107542, 0.08809828655502826, 0.17640888569991442, 0.03534728077680274, -0.0497090413900619, 0.15467117871108893, 0.018941376520212803, 0.11897498937234534, 0.15467117378838088, 0.3661833463157683, 0.10381964757310268, 0.2049108544911332, 0.2007535184624239, 0.4425786049393691, 0.28164661532239277, 0.09277114266692518, -0.14231141047294876, 0.040299424374412675, -0.06275055320784537, -0.01349565265643209, -0.14206321706767833, 0.2036093054671601, -0.61720378306534, 0.04086872027365545, 0.18679839118748384, -0.045880293306917314, -0.1026452230813615, -0.07411745299471853, 0.1295512222343466, -0.01908385607639904, -0.09206062473660466, 0.01475435182387866, -0.1993292210334589, 1.0, -0.1971138425193193, 0.1366902214165866, 0.2452088050497366, -0.2474919126079771, -0.1575482184416767, 0.07504999874378133, -0.003001617153703761, 0.05547824103818903, -0.03935126499939398, 0.286247344985583, 0.7781157728152555, -0.037885899905541365], [-0.05222995125504652, -0.22570340069025718, 0.1307635463567426, -0.14482181340404543, 0.016037639953335122, -0.08543355124374205, -0.09202993017636846, -0.07318005640669564, -0.05666595160853358, 0.03312392684367366, -0.035368942990951266, -0.029772959742356456, -0.0482011323816081, -0.03457480531451964, -0.04888253262485075, -0.04820113174021149, -0.10715265679122243, -0.041481432745240084, -0.07462545456717787, -0.05733213962402388, -0.0991132315632838, -0.08180102974853438, -0.05206145828423523, -0.0024058659522378477, -0.02959825884361191, 0.07312957000508093, -0.033994572065097296, -0.004531083301297126, -0.0681974133188667, 0.19096158012190348, -0.024414930979579686, -0.04234813469217206, 0.06445698310806298, -0.01695043255356194, -0.018121580962445143, -0.009821940885882922, 0.0003183665381646542, 0.0389342719331855, -0.019647611380082464, -0.009783380513658626, -0.1971138425193193, 1.0, 0.025682148869167917, 0.032684201383428806, -0.023213693277085376, -0.005217581311404049, -0.04223259544293975, -0.01382772879978836, -0.02102479465916337, -0.015829666513940056, -0.07523941778402456, -0.15034793696985546, 0.018675984381367795], [-0.2771170981740006, 0.07725828183523933, -0.14196759938005565, -0.20423410221607527, 0.128165343556489, -0.04415393472028722, 0.10588571255312322, -0.05941248638727265, -0.23169771777735018, 0.1557924037573114, -0.2549779424093264, 0.1089878356912885, 0.021407625405432253, 0.013727931667021928, -0.040345317960330085, 0.021407624444041543, -0.08348718775570318, 0.02760015809314139, -0.018984792098397298, 0.011173547998236439, 0.006722356063152642, -0.025452073949905715, -0.1231414551205157, 0.2399300256183382, 0.07364740514372632, 0.03380044896142873, 0.24860345388692062, 0.06051228121754008, -0.09379351930005962, -0.05883727059584395, 0.09628783011229364, -0.17135392033080057, 0.10547838861637641, 0.12177672830023248, 0.027904801545172452, 0.0941747170061392, -0.01606674933326853, 0.09584961048798862, -0.08481298136598085, -0.2536909863202601, 0.1366902214165866, 0.025682148869167917, 1.0, 0.026732684086601288, -0.0037099604905914355, -0.0821261542767819, 0.028533583014745026, -0.01998994919509277, -0.08128484197576483, -0.2392828488833698, -0.06068126596414514, -0.0771658662422186, 0.08176268263730617], [0.24348104828514144, 0.19588141689098273, -0.14905873241560003, 0.2289082054082044, 0.44548081861516303, 0.15545824983085332, -0.10359356692669792, 0.03384959841331574, -0.16364354996746078, -0.012440347689512972, -0.08929241064460462, -0.026998065990736814, 0.08595263453196418, -0.12921672537650095, 0.16877416968768802, 0.08595262991892247, 0.18673750645464962, 0.13476141116739712, 0.10899764831607973, 0.04907101366206704, 0.11545680895131047, 0.10608677772048727, 0.09625516041843789, -0.07708564708892246, 0.0210746937304613, -0.015210567744241288, -0.1299023662499715, -0.143850314980985, 0.12673573388508824, -0.32614251308704767, -0.061281402943781906, 0.10331840912888501, 0.35143193611842444, -0.045151577599214274, -0.07751713932352225, 0.09257371098850375, 0.0799802507243392, -0.11589805958094222, 0.08353421716809847, 0.050823452968467096, 0.2452088050497366, 0.032684201383428806, 0.026732684086601288, 1.0, -0.8774733867563923, -0.5015437134438783, -0.23085125556462266, 0.09219404654477656, 0.13333501491318625, -0.16787253301411278, 0.13836945139068502, 0.3315621087427617, -0.06462758012178035], [-0.20112586531092458, -0.21612266082088388, 0.16313935952848127, -0.1731070373053572, -0.48317671601373, -0.1630928522087486, 0.07426937469399636, -0.025476788156632943, 0.20187473151825133, -0.020959068302814257, 0.14051663109248339, 0.06179549522405399, -0.06958393210718523, 0.16850520287521564, -0.13397091110645615, -0.06958392734103222, -0.18438877269160883, -0.11944719469591952, -0.08773239300355773, -0.05843294016938926, -0.11453629481778556, -0.10516700780335587, -0.07612281658085503, 0.10961342455462642, -0.008320679333516993, -0.057871070298676976, 0.08576502426347958, 0.1251696287383238, -0.10799507922334187, 0.2706052067309895, 0.0953786486850906, -0.08946002323691185, -0.3668524463866579, 0.07500506869487186, 0.09058173045479397, -0.11499380184365965, -0.1018344541590391, 0.08136771467651285, -0.0534197754337349, -0.03296489787600161, -0.2474919126079771, -0.023213693277085376, -0.0037099604905914355, -0.8774733867563923, 1.0, 0.0947120931571423, -0.00011873615828566606, -0.07709697181660274, -0.10179631149815663, 0.21643876307191148, -0.11500536281862403, -0.3198573844630081, 0.038372650177419323], [-0.22430037728603985, -0.06910240995389441, 0.04311386813347075, -0.25145189070044555, -0.0998267151022246, -0.06651168714522226, 0.03825528648782452, -0.027625792561892105, -0.010256532462832885, 0.08206073587160731, -0.053583745920341305, -0.02877958634307114, -0.0508577433755686, -0.023201888408377377, -0.16681737560575896, -0.050857741658310744, -0.11372102810869264, -0.07199828920879292, -0.06858851010959402, -0.004744254587905651, -0.08371325696176726, -0.056505590849172206, -0.056115073054896124, 0.027781800318937105, -0.011010420695456585, 0.15335057494714888, 0.1433917842856879, 0.10026264321393324, -0.07666135912025775, 0.2707927547569256, -0.01883035825558337, -0.0573556906278507, -0.0948081757915205, 0.0016444759008393695, 0.013883791046520974, 0.02429974631553141, -0.01791074851347149, 0.13369340406305744, -0.11802210106861731, -0.02714479604445077, -0.1575482184416767, -0.005217581311404049, -0.0821261542767819, -0.5015437134438783, 0.0947120931571423, 1.0, 0.0022611673193266885, -0.11292962892669531, -0.11263352287972972, -0.019257077342980985, -0.08558684374528787, -0.23213196224440757, 0.09214136839097202], [0.06559374703727454, 0.0068739457336546425, 0.013520721235268079, 0.11278144207088565, 0.007753969689695368, 0.04093878494896778, 0.09892111601151277, 0.006644224031147756, -0.011604420747666636, -0.00601878434281338, -0.021103382087488992, -0.05497369855622785, -0.03786847906709155, -0.012798752132313422, 0.06066614175832121, -0.037868479426442975, 0.06728518143197892, -0.018489603981005708, -0.039318762197408014, 0.004145077843639535, 0.02266476347238233, 0.019142410060618408, -0.04092304469803256, -0.11071587370308912, -0.05107243655547239, 0.014622154311722303, -0.008791988156384758, -0.01595836337718332, -0.02570539086759391, -0.041450192136701376, -0.05281430375101781, -0.02976654107451941, -0.0031668228424600415, -0.0807805283970973, -0.035237407402659446, -0.024570921561357945, 0.06323635744829166, -0.03513300142810847, 0.05059743988799781, -0.042344765769253036, 0.07504999874378133, -0.04223259544293975, 0.028533583014745026, -0.23085125556462266, -0.00011873615828566606, 0.0022611673193266885, 1.0, 0.08982507987543255, -0.001770654407595899, -0.017881581321631788, -0.044431797594721906, 0.11344965949905494, -0.02587194357452154], [0.26413831273396143, 0.1098667151961171, 0.6038230672836782, 0.17294008110955403, -0.4663375933064897, -0.6124494693202017, -0.1414933014868455, -0.14151417605753824, -0.058065448692427454, -0.5215502414050669, 0.18326687768722277, -0.06253565872382576, 0.05773720630379517, -0.04799734171332436, 0.8895038544374048, 0.05773720618840057, -0.4327915270832706, -0.14301600711304482, -0.005668112188782451, -0.8406357644787809, -0.1676663929646311, -0.7533563841230435, -0.07869241765415677, -0.0671710915966493, -0.03833051288971081, -0.5356175814310548, -0.04955846362164178, -0.00896143384420674, -0.012715479829400153, -0.180505704855995, -0.011961681612375517, 0.08542370277948863, -0.4068798323592151, -0.06557515893531053, -0.03278763996037133, -0.4447246850407037, -0.21634318320266713, -0.9003439740881249, 0.9341484995052505, -0.048286565429661296, -0.003001617153703761, -0.01382772879978836, -0.01998994919509277, 0.09219404654477656, -0.07709697181660274, -0.11292962892669531, 0.08982507987543255, 1.0, 0.6745060312900083, 0.3105294572096954, 0.10018233923534425, 0.4105687036869818, -0.9045497207337949], [0.28228036623686414, 0.14931623274419561, 0.5399939096106051, 0.1657354985816159, -0.4278712639114205, -0.5526511468487871, -0.1341890959221919, -0.13076873462296257, -0.05034249825159292, -0.48442446393665384, 0.1662846513615243, -0.06593889846639595, 0.04885719099563092, -0.049493068813721, 0.8548572100010663, 0.04885719096437197, -0.38374963118092803, -0.13177556268391477, -0.006909376875269336, -0.7752591741479298, -0.14816177590574564, -0.6897405666272463, -0.06951263265934546, -0.068288802117391, -0.03675210990315208, -0.5018550603593191, -0.08038177435593104, -0.01620406416436964, -0.009644849838738057, -0.18450930787729958, -0.01164757406617048, 0.08247242011641229, -0.38183165117174156, -0.06754293665814554, -0.03607256197398281, -0.4152045776112827, -0.19872995314306632, -0.835629757722873, 0.8676531444498876, -0.0464242077471619, 0.05547824103818903, -0.02102479465916337, -0.08128484197576483, 0.13333501491318625, -0.10179631149815663, -0.11263352287972972, -0.001770654407595899, 0.6745060312900083, 1.0, 0.2811363547044732, 0.09076482279765846, 0.3914399513236381, -0.8389894618679006], [-0.11972774938755024, -0.06676101756619386, 0.34795366624888957, 0.03850495095666603, -0.2882507476620847, -0.3808477675941469, -0.05079955520331356, -0.10625534409336047, -0.03190875795020138, -0.2966111321096368, 0.9256774170865896, -0.05133461311007308, 0.012068624496367282, -0.02665522404895216, 0.26250360538145395, 0.012068625344271753, -0.310264156276759, -0.11274981014738224, -0.04035781660013252, -0.4490263977704628, -0.1270643154678654, -0.3847378552717308, -0.05582650011016956, -0.02853224023140319, -0.037671261416531286, -0.30154061651771485, -0.06299470063677212, 0.0015795710937407115, -0.04242788674401185, 0.0837907187073774, -0.01384003467515907, 0.028878206859765998, -0.23754141732969236, -0.04366497395288514, -0.02428730099889862, -0.2526865633347666, -0.14253045992159072, -0.44261315177110233, 0.4672666366054521, -0.0357311911609073, -0.03935126499939398, -0.015829666513940056, -0.2392828488833698, -0.16787253301411278, 0.21643876307191148, -0.019257077342980985, -0.017881581321631788, 0.3105294572096954, 0.2811363547044732, 1.0, 0.021790702272808462, 0.10634903081290696, -0.4596657324535747], [-0.03699358083216746, 0.4253749060797557, -0.36283274513146835, 0.08446170510106127, -0.026885544595519575, -0.010694971618154026, 0.24189276600133958, -0.005205068909871995, -0.02442580476111299, -0.21558917599558752, 0.013283724665257391, -0.06659212316923746, 0.7403786425831075, -0.03897384723557096, 0.10318418625716794, 0.7403786396346755, 0.0217890055591043, -0.055283850895602914, 0.4738698306661943, -0.0016888519367271857, 0.35316730766569665, 0.00482004670614266, 0.06444626091929805, -0.11188219998171245, -0.04140473841636554, -0.25267053508498033, -0.10615478894324379, -0.06117566607350002, 0.5208873713454457, -0.1724279123104077, 0.04115673357781606, 0.6828363818037687, -0.2129890268453454, -0.09522925303740377, -0.0605845424593535, 0.035904862065712126, -0.11996814485301233, -0.36845845197849775, 0.10167456442734048, -0.07161329415807037, 0.286247344985583, -0.07523941778402456, -0.06068126596414514, 0.13836945139068502, -0.11500536281862403, -0.08558684374528787, -0.044431797594721906, 0.10018233923534425, 0.09076482279765846, 0.021790702272808462, 1.0, 0.4590804869409844, -0.3059311679689731], [0.31021529457994074, 0.7082263422952418, -0.3391853125842699, 0.5007802182889887, 0.025779269495704537, 0.16348428663486278, 0.19764959799658505, 0.09719869404933143, 0.07215974554251424, -0.13170044588756663, 0.14252739545480764, -0.04713484347941581, 0.30797962566855513, 0.005643430227002812, 0.5281398252878915, 0.3079796216329983, 0.3233796018591764, 0.09538110331065118, 0.24760711483331121, -0.09812482510543168, 0.3449950323911834, 0.04630283026091247, 0.05359509661597305, -0.4472111640866814, -0.05972045460679443, -0.2257811311239141, -0.17002042583070132, -0.2075330009031475, 0.2831836261803025, -0.6555016398863078, -0.12640396914886412, 0.3086647994673197, -0.23994085743486346, -0.23682197431744909, -0.10225706823209095, -0.10986514400124564, -0.054410057195867, -0.5250574331093946, 0.42753320262897226, -0.10618850108188209, 0.7781157728152555, -0.15034793696985546, -0.0771658662422186, 0.3315621087427617, -0.3198573844630081, -0.23213196224440757, 0.11344965949905494, 0.4105687036869818, 0.3914399513236381, 0.10634903081290696, 0.4590804869409844, 1.0, -0.43375030862730807], [-0.19962603053102101, -0.18795879004090293, -0.5610723880236617, -0.08275300499379391, 0.4994490351611377, 0.7180187780074627, 0.09043802291520815, 0.19578034761210858, 0.06812352693864568, 0.600264554558514, -0.3121225341879883, 0.06673285366106876, -0.2123280471030345, 0.06902699566693378, -0.8811611698788703, -0.2123280466928435, 0.5454571273463944, 0.2094627524890933, -0.07662713530032295, 0.902497556452629, 0.12247233376814926, 0.828804544507856, 0.07672054063523373, 0.0338363104865184, 0.0353844655353895, 0.6438710146871581, 0.06670589575456005, -0.012105167205545418, -0.07332189280528738, 0.12743509724749014, -0.026836403574519288, -0.23001272933079325, 0.4677521631049702, 0.06880338206509262, 0.04039441309835932, 0.4585017675283634, 0.27650653771475436, 0.9891779097478042, -0.9690050242078387, 0.0836429367013496, -0.037885899905541365, 0.018675984381367795, 0.08176268263730617, -0.06462758012178035, 0.038372650177419323, 0.09214136839097202, -0.02587194357452154, -0.9045497207337949, -0.8389894618679006, -0.4596657324535747, -0.3059311679689731, -0.43375030862730807, 1.0]]}],\n",
              "                        {\"template\": {\"data\": {\"bar\": [{\"error_x\": {\"color\": \"#2a3f5f\"}, \"error_y\": {\"color\": \"#2a3f5f\"}, \"marker\": {\"line\": {\"color\": \"#E5ECF6\", \"width\": 0.5}}, \"type\": \"bar\"}], \"barpolar\": [{\"marker\": {\"line\": {\"color\": \"#E5ECF6\", \"width\": 0.5}}, \"type\": \"barpolar\"}], \"carpet\": [{\"aaxis\": {\"endlinecolor\": \"#2a3f5f\", \"gridcolor\": \"white\", \"linecolor\": \"white\", \"minorgridcolor\": \"white\", \"startlinecolor\": \"#2a3f5f\"}, \"baxis\": {\"endlinecolor\": \"#2a3f5f\", \"gridcolor\": \"white\", \"linecolor\": \"white\", \"minorgridcolor\": \"white\", \"startlinecolor\": \"#2a3f5f\"}, \"type\": \"carpet\"}], \"choropleth\": [{\"colorbar\": {\"outlinewidth\": 0, \"ticks\": \"\"}, \"type\": \"choropleth\"}], \"contour\": [{\"colorbar\": {\"outlinewidth\": 0, \"ticks\": \"\"}, \"colorscale\": [[0.0, \"#0d0887\"], [0.1111111111111111, \"#46039f\"], [0.2222222222222222, \"#7201a8\"], [0.3333333333333333, \"#9c179e\"], [0.4444444444444444, \"#bd3786\"], [0.5555555555555556, \"#d8576b\"], [0.6666666666666666, \"#ed7953\"], [0.7777777777777778, \"#fb9f3a\"], [0.8888888888888888, \"#fdca26\"], [1.0, \"#f0f921\"]], \"type\": \"contour\"}], \"contourcarpet\": [{\"colorbar\": {\"outlinewidth\": 0, \"ticks\": \"\"}, \"type\": \"contourcarpet\"}], \"heatmap\": [{\"colorbar\": {\"outlinewidth\": 0, \"ticks\": \"\"}, \"colorscale\": [[0.0, \"#0d0887\"], [0.1111111111111111, \"#46039f\"], [0.2222222222222222, \"#7201a8\"], [0.3333333333333333, \"#9c179e\"], [0.4444444444444444, \"#bd3786\"], [0.5555555555555556, \"#d8576b\"], [0.6666666666666666, \"#ed7953\"], [0.7777777777777778, \"#fb9f3a\"], [0.8888888888888888, \"#fdca26\"], [1.0, \"#f0f921\"]], \"type\": \"heatmap\"}], \"heatmapgl\": [{\"colorbar\": {\"outlinewidth\": 0, \"ticks\": \"\"}, \"colorscale\": [[0.0, \"#0d0887\"], [0.1111111111111111, \"#46039f\"], [0.2222222222222222, \"#7201a8\"], [0.3333333333333333, \"#9c179e\"], [0.4444444444444444, \"#bd3786\"], [0.5555555555555556, \"#d8576b\"], [0.6666666666666666, \"#ed7953\"], [0.7777777777777778, \"#fb9f3a\"], [0.8888888888888888, \"#fdca26\"], [1.0, \"#f0f921\"]], \"type\": \"heatmapgl\"}], \"histogram\": [{\"marker\": {\"colorbar\": {\"outlinewidth\": 0, \"ticks\": \"\"}}, \"type\": \"histogram\"}], \"histogram2d\": [{\"colorbar\": {\"outlinewidth\": 0, \"ticks\": \"\"}, \"colorscale\": [[0.0, \"#0d0887\"], [0.1111111111111111, \"#46039f\"], [0.2222222222222222, \"#7201a8\"], [0.3333333333333333, \"#9c179e\"], [0.4444444444444444, \"#bd3786\"], [0.5555555555555556, \"#d8576b\"], [0.6666666666666666, \"#ed7953\"], [0.7777777777777778, \"#fb9f3a\"], [0.8888888888888888, \"#fdca26\"], [1.0, \"#f0f921\"]], \"type\": \"histogram2d\"}], \"histogram2dcontour\": [{\"colorbar\": {\"outlinewidth\": 0, \"ticks\": \"\"}, \"colorscale\": [[0.0, \"#0d0887\"], [0.1111111111111111, \"#46039f\"], [0.2222222222222222, \"#7201a8\"], [0.3333333333333333, \"#9c179e\"], [0.4444444444444444, \"#bd3786\"], [0.5555555555555556, \"#d8576b\"], [0.6666666666666666, \"#ed7953\"], [0.7777777777777778, \"#fb9f3a\"], [0.8888888888888888, \"#fdca26\"], [1.0, \"#f0f921\"]], \"type\": \"histogram2dcontour\"}], \"mesh3d\": [{\"colorbar\": {\"outlinewidth\": 0, \"ticks\": \"\"}, \"type\": \"mesh3d\"}], \"parcoords\": [{\"line\": {\"colorbar\": {\"outlinewidth\": 0, \"ticks\": \"\"}}, \"type\": \"parcoords\"}], \"pie\": [{\"automargin\": true, \"type\": \"pie\"}], \"scatter\": [{\"marker\": {\"colorbar\": {\"outlinewidth\": 0, \"ticks\": \"\"}}, \"type\": \"scatter\"}], \"scatter3d\": [{\"line\": {\"colorbar\": {\"outlinewidth\": 0, \"ticks\": \"\"}}, \"marker\": {\"colorbar\": {\"outlinewidth\": 0, \"ticks\": \"\"}}, \"type\": \"scatter3d\"}], \"scattercarpet\": [{\"marker\": {\"colorbar\": {\"outlinewidth\": 0, \"ticks\": \"\"}}, \"type\": \"scattercarpet\"}], \"scattergeo\": [{\"marker\": {\"colorbar\": {\"outlinewidth\": 0, \"ticks\": \"\"}}, \"type\": \"scattergeo\"}], \"scattergl\": [{\"marker\": {\"colorbar\": {\"outlinewidth\": 0, \"ticks\": \"\"}}, \"type\": \"scattergl\"}], \"scattermapbox\": [{\"marker\": {\"colorbar\": {\"outlinewidth\": 0, \"ticks\": \"\"}}, \"type\": \"scattermapbox\"}], \"scatterpolar\": [{\"marker\": {\"colorbar\": {\"outlinewidth\": 0, \"ticks\": \"\"}}, \"type\": \"scatterpolar\"}], \"scatterpolargl\": [{\"marker\": {\"colorbar\": {\"outlinewidth\": 0, \"ticks\": \"\"}}, \"type\": \"scatterpolargl\"}], \"scatterternary\": [{\"marker\": {\"colorbar\": {\"outlinewidth\": 0, \"ticks\": \"\"}}, \"type\": \"scatterternary\"}], \"surface\": [{\"colorbar\": {\"outlinewidth\": 0, \"ticks\": \"\"}, \"colorscale\": [[0.0, \"#0d0887\"], [0.1111111111111111, \"#46039f\"], [0.2222222222222222, \"#7201a8\"], [0.3333333333333333, \"#9c179e\"], [0.4444444444444444, \"#bd3786\"], [0.5555555555555556, \"#d8576b\"], [0.6666666666666666, \"#ed7953\"], [0.7777777777777778, \"#fb9f3a\"], [0.8888888888888888, \"#fdca26\"], [1.0, \"#f0f921\"]], \"type\": \"surface\"}], \"table\": [{\"cells\": {\"fill\": {\"color\": \"#EBF0F8\"}, \"line\": {\"color\": \"white\"}}, \"header\": {\"fill\": {\"color\": \"#C8D4E3\"}, \"line\": {\"color\": \"white\"}}, \"type\": \"table\"}]}, \"layout\": {\"annotationdefaults\": {\"arrowcolor\": \"#2a3f5f\", \"arrowhead\": 0, \"arrowwidth\": 1}, \"coloraxis\": {\"colorbar\": {\"outlinewidth\": 0, \"ticks\": \"\"}}, \"colorscale\": {\"diverging\": [[0, \"#8e0152\"], [0.1, \"#c51b7d\"], [0.2, \"#de77ae\"], [0.3, \"#f1b6da\"], [0.4, \"#fde0ef\"], [0.5, \"#f7f7f7\"], [0.6, \"#e6f5d0\"], [0.7, \"#b8e186\"], [0.8, \"#7fbc41\"], [0.9, \"#4d9221\"], [1, \"#276419\"]], \"sequential\": [[0.0, \"#0d0887\"], [0.1111111111111111, \"#46039f\"], [0.2222222222222222, \"#7201a8\"], [0.3333333333333333, \"#9c179e\"], [0.4444444444444444, \"#bd3786\"], [0.5555555555555556, \"#d8576b\"], [0.6666666666666666, \"#ed7953\"], [0.7777777777777778, \"#fb9f3a\"], [0.8888888888888888, \"#fdca26\"], [1.0, \"#f0f921\"]], \"sequentialminus\": [[0.0, \"#0d0887\"], [0.1111111111111111, \"#46039f\"], [0.2222222222222222, \"#7201a8\"], [0.3333333333333333, \"#9c179e\"], [0.4444444444444444, \"#bd3786\"], [0.5555555555555556, \"#d8576b\"], [0.6666666666666666, \"#ed7953\"], [0.7777777777777778, \"#fb9f3a\"], [0.8888888888888888, \"#fdca26\"], [1.0, \"#f0f921\"]]}, \"colorway\": [\"#636efa\", \"#EF553B\", \"#00cc96\", \"#ab63fa\", \"#FFA15A\", \"#19d3f3\", \"#FF6692\", \"#B6E880\", \"#FF97FF\", \"#FECB52\"], \"font\": {\"color\": \"#2a3f5f\"}, \"geo\": {\"bgcolor\": \"white\", \"lakecolor\": \"white\", \"landcolor\": \"#E5ECF6\", \"showlakes\": true, \"showland\": true, \"subunitcolor\": \"white\"}, \"hoverlabel\": {\"align\": \"left\"}, \"hovermode\": \"closest\", \"mapbox\": {\"style\": \"light\"}, \"paper_bgcolor\": \"white\", \"plot_bgcolor\": \"#E5ECF6\", \"polar\": {\"angularaxis\": {\"gridcolor\": \"white\", \"linecolor\": \"white\", \"ticks\": \"\"}, \"bgcolor\": \"#E5ECF6\", \"radialaxis\": {\"gridcolor\": \"white\", \"linecolor\": \"white\", \"ticks\": \"\"}}, \"scene\": {\"xaxis\": {\"backgroundcolor\": \"#E5ECF6\", \"gridcolor\": \"white\", \"gridwidth\": 2, \"linecolor\": \"white\", \"showbackground\": true, \"ticks\": \"\", \"zerolinecolor\": \"white\"}, \"yaxis\": {\"backgroundcolor\": \"#E5ECF6\", \"gridcolor\": \"white\", \"gridwidth\": 2, \"linecolor\": \"white\", \"showbackground\": true, \"ticks\": \"\", \"zerolinecolor\": \"white\"}, \"zaxis\": {\"backgroundcolor\": \"#E5ECF6\", \"gridcolor\": \"white\", \"gridwidth\": 2, \"linecolor\": \"white\", \"showbackground\": true, \"ticks\": \"\", \"zerolinecolor\": \"white\"}}, \"shapedefaults\": {\"line\": {\"color\": \"#2a3f5f\"}}, \"ternary\": {\"aaxis\": {\"gridcolor\": \"white\", \"linecolor\": \"white\", \"ticks\": \"\"}, \"baxis\": {\"gridcolor\": \"white\", \"linecolor\": \"white\", \"ticks\": \"\"}, \"bgcolor\": \"#E5ECF6\", \"caxis\": {\"gridcolor\": \"white\", \"linecolor\": \"white\", \"ticks\": \"\"}}, \"title\": {\"x\": 0.05}, \"xaxis\": {\"automargin\": true, \"gridcolor\": \"white\", \"linecolor\": \"white\", \"ticks\": \"\", \"title\": {\"standoff\": 15}, \"zerolinecolor\": \"white\", \"zerolinewidth\": 2}, \"yaxis\": {\"automargin\": true, \"gridcolor\": \"white\", \"linecolor\": \"white\", \"ticks\": \"\", \"title\": {\"standoff\": 15}, \"zerolinecolor\": \"white\", \"zerolinewidth\": 2}}}},\n",
              "                        {\"responsive\": true}\n",
              "                    ).then(function(){\n",
              "                            \n",
              "var gd = document.getElementById('34450d0f-6f7e-4051-8099-7d05a1e3e358');\n",
              "var x = new MutationObserver(function (mutations, observer) {{\n",
              "        var display = window.getComputedStyle(gd).display;\n",
              "        if (!display || display === 'none') {{\n",
              "            console.log([gd, 'removed!']);\n",
              "            Plotly.purge(gd);\n",
              "            observer.disconnect();\n",
              "        }}\n",
              "}});\n",
              "\n",
              "// Listen for the removal of the full notebook cells\n",
              "var notebookContainer = gd.closest('#notebook-container');\n",
              "if (notebookContainer) {{\n",
              "    x.observe(notebookContainer, {childList: true});\n",
              "}}\n",
              "\n",
              "// Listen for the clearing of the current output cell\n",
              "var outputEl = gd.closest('.output');\n",
              "if (outputEl) {{\n",
              "    x.observe(outputEl, {childList: true});\n",
              "}}\n",
              "\n",
              "                        })\n",
              "                };\n",
              "                \n",
              "            </script>\n",
              "        </div>\n",
              "</body>\n",
              "</html>"
            ]
          },
          "metadata": {
            "tags": []
          }
        }
      ]
    },
    {
      "cell_type": "code",
      "metadata": {
        "id": "SQy82M9rG6_b",
        "outputId": "d9e57c36-aeaa-4603-da55-92cdcebbc6bc",
        "colab": {
          "base_uri": "https://localhost:8080/",
          "height": 100
        }
      },
      "source": [
        "#CORELAÇÃO MUITO FORTE = Váriaveis acima de + ou - 0.90\n",
        "quantidade = 0\n",
        "columns = np.full((corr.shape[0],), True, dtype=bool)\n",
        "for i in range(corr.shape[0]):\n",
        "    for j in range(i+1, corr.shape[0]):\n",
        "        if corr.iloc[i,j] >= 0.90 or corr.iloc[i,j] <= -0.90:\n",
        "          quantidade = quantidade + 1\n",
        "          print(quantidade, corr.columns[i],'/', corr.columns[j], '=', corr.iloc[i,j])\n"
      ],
      "execution_count": null,
      "outputs": [
        {
          "output_type": "stream",
          "text": [
            "1 VERBA_0606 / VERBA_0699 = 0.9192020203405211\n",
            "2 VERBA_0005 / VERBA_0133 = 0.9999999999994538\n",
            "3 VERBA_0100 / VERBA_0698 = 0.9008962493377414\n",
            "4 TABELA-AMC_AGEN_MUNI_FISC_TRAN / TABELA-PMF = -0.9116310429016615\n",
            "5 TABELA-AMC_AGEN_MUNI_FISC_TRAN / VERBAS_PORCENTAGEM_100 = 0.9375992437604178\n"
          ],
          "name": "stdout"
        }
      ]
    },
    {
      "cell_type": "code",
      "metadata": {
        "id": "0TPeFZHScNyR",
        "outputId": "064cbf42-9626-419d-a49e-2f7e1373781f",
        "colab": {
          "base_uri": "https://localhost:8080/",
          "height": 201
        }
      },
      "source": [
        "#CORELAÇÃO FORTE\n",
        "quantidade = 0\n",
        "columns = np.full((corr.shape[0],), True, dtype=bool)\n",
        "for i in range(corr.shape[0]):\n",
        "    for j in range(i+1, corr.shape[0]):\n",
        "        if (corr.iloc[i,j] >= 0.70 and corr.iloc[i,j] < 0.90) or (corr.iloc[i,j] <= -0.70 and corr.iloc[i,j] > -0.90):\n",
        "          quantidade = quantidade + 1\n",
        "          print(quantidade, corr.columns[i],'/', corr.columns[j], '=', corr.iloc[i,j])"
      ],
      "execution_count": null,
      "outputs": [
        {
          "output_type": "stream",
          "text": [
            "1 DATA_ADMISSAO / PARDA = -0.7566831239042363\n",
            "2 VERBA_0606 / VERBA_0100 = 0.7166175721921075\n",
            "3 VERBA_0606 / VERBA_0698 = 0.8435588143070601\n",
            "4 VERBA_0180 / DIR_ASS_SUP_1 = 0.712486716892411\n",
            "5 VERBA_0170 / TABELA-PMF = 0.7318395494495378\n",
            "6 VERBA_0699 / VERBA_0698 = 0.7141967301016472\n",
            "7 VERBA_0100 / TABELA-PMF = -0.784429293026234\n",
            "8 VERBA_0100 / VERBAS_PORCENTAGEM_100 = 0.7530172931274054\n",
            "9 TABELA-PMF / DIR_NIV_SUP_3 = 0.742868985249486\n",
            "10 TABELA-PMF / VERBAS_PORCENTAGEM_100 = -0.8879522838115098\n",
            "11 CASADO / SOLTEIRO = -0.7799581106921395\n"
          ],
          "name": "stdout"
        }
      ]
    },
    {
      "cell_type": "code",
      "metadata": {
        "id": "tbKJRd99-Egr",
        "outputId": "13e40aff-d1c8-4ebf-a0bc-7e1a2ea64daf",
        "colab": {
          "base_uri": "https://localhost:8080/",
          "height": 173
        }
      },
      "source": [
        "corr.corr().head(3)"
      ],
      "execution_count": null,
      "outputs": [
        {
          "output_type": "execute_result",
          "data": {
            "text/html": [
              "<div>\n",
              "<style scoped>\n",
              "    .dataframe tbody tr th:only-of-type {\n",
              "        vertical-align: middle;\n",
              "    }\n",
              "\n",
              "    .dataframe tbody tr th {\n",
              "        vertical-align: top;\n",
              "    }\n",
              "\n",
              "    .dataframe thead th {\n",
              "        text-align: right;\n",
              "    }\n",
              "</style>\n",
              "<table border=\"1\" class=\"dataframe\">\n",
              "  <thead>\n",
              "    <tr style=\"text-align: right;\">\n",
              "      <th></th>\n",
              "      <th>GRAUINSTRUCAO</th>\n",
              "      <th>IDADE</th>\n",
              "      <th>DATA_ADMISSAO</th>\n",
              "      <th>JORNADA_MENSAL</th>\n",
              "      <th>QTD_DEPENDENTES_IR</th>\n",
              "      <th>VERBA_0606</th>\n",
              "      <th>VERBA_0308</th>\n",
              "      <th>VERBA_0163</th>\n",
              "      <th>VERBA_0713</th>\n",
              "      <th>VERBA_0099</th>\n",
              "      <th>VERBA_0180</th>\n",
              "      <th>VERBA_0697</th>\n",
              "      <th>VERBA_0005</th>\n",
              "      <th>VERBA_0190</th>\n",
              "      <th>VERBA_0170</th>\n",
              "      <th>VERBA_0133</th>\n",
              "      <th>VERBA_0699</th>\n",
              "      <th>VERBA_0009</th>\n",
              "      <th>VERBA_0174</th>\n",
              "      <th>VERBA_0100</th>\n",
              "      <th>VERBA_0107</th>\n",
              "      <th>VERBA_0698</th>\n",
              "      <th>VERBA_0004</th>\n",
              "      <th>VERBA_0980</th>\n",
              "      <th>VERBA_0381</th>\n",
              "      <th>VERBA_0183</th>\n",
              "      <th>VERBA_0607</th>\n",
              "      <th>VERBA_0271</th>\n",
              "      <th>VERBA_0008</th>\n",
              "      <th>VERBA_0171</th>\n",
              "      <th>VERBA_0631</th>\n",
              "      <th>VERBA_0007</th>\n",
              "      <th>VERBA_0116</th>\n",
              "      <th>VERBA_0983</th>\n",
              "      <th>VERBA_0382</th>\n",
              "      <th>VERBA_DESCONTO_FALTANTE</th>\n",
              "      <th>VERBA_PROVENTO_FALTANTE</th>\n",
              "      <th>TABELA-AMC_AGEN_MUNI_FISC_TRAN</th>\n",
              "      <th>TABELA-PMF</th>\n",
              "      <th>INDÍGENA</th>\n",
              "      <th>PARDA</th>\n",
              "      <th>BRANCA</th>\n",
              "      <th>MASCULINO</th>\n",
              "      <th>CASADO</th>\n",
              "      <th>SOLTEIRO</th>\n",
              "      <th>DIVORCIADO</th>\n",
              "      <th>UNIAO_ESTAVEL</th>\n",
              "      <th>DIR_NIV_SUP_3</th>\n",
              "      <th>DIR_NIV_SUP_2</th>\n",
              "      <th>DIR_ASS_SUP_1</th>\n",
              "      <th>AGENTE_ADMINISTRATIVO</th>\n",
              "      <th>NIVEL_EXPERIENCIA</th>\n",
              "      <th>VERBAS_PORCENTAGEM_100</th>\n",
              "    </tr>\n",
              "  </thead>\n",
              "  <tbody>\n",
              "    <tr>\n",
              "      <th>GRAUINSTRUCAO</th>\n",
              "      <td>1.000000</td>\n",
              "      <td>0.080366</td>\n",
              "      <td>0.142437</td>\n",
              "      <td>0.170755</td>\n",
              "      <td>-0.113459</td>\n",
              "      <td>-0.066294</td>\n",
              "      <td>-0.127851</td>\n",
              "      <td>-0.009844</td>\n",
              "      <td>0.115616</td>\n",
              "      <td>-0.269784</td>\n",
              "      <td>-0.102073</td>\n",
              "      <td>-0.001501</td>\n",
              "      <td>-0.154846</td>\n",
              "      <td>0.025646</td>\n",
              "      <td>0.300723</td>\n",
              "      <td>-0.154846</td>\n",
              "      <td>0.011379</td>\n",
              "      <td>0.046034</td>\n",
              "      <td>-0.063574</td>\n",
              "      <td>-0.158471</td>\n",
              "      <td>-0.016366</td>\n",
              "      <td>-0.100533</td>\n",
              "      <td>-0.092558</td>\n",
              "      <td>-0.234617</td>\n",
              "      <td>-0.060543</td>\n",
              "      <td>-0.232212</td>\n",
              "      <td>-0.100765</td>\n",
              "      <td>-0.046799</td>\n",
              "      <td>0.078193</td>\n",
              "      <td>-0.256668</td>\n",
              "      <td>-0.015146</td>\n",
              "      <td>0.118595</td>\n",
              "      <td>-0.011860</td>\n",
              "      <td>-0.125220</td>\n",
              "      <td>-0.049587</td>\n",
              "      <td>-0.315587</td>\n",
              "      <td>-0.019246</td>\n",
              "      <td>-0.230011</td>\n",
              "      <td>0.256961</td>\n",
              "      <td>0.052623</td>\n",
              "      <td>0.061786</td>\n",
              "      <td>-0.052230</td>\n",
              "      <td>-0.277117</td>\n",
              "      <td>0.243481</td>\n",
              "      <td>-0.201126</td>\n",
              "      <td>-0.224300</td>\n",
              "      <td>0.065594</td>\n",
              "      <td>0.264138</td>\n",
              "      <td>0.282280</td>\n",
              "      <td>-0.119728</td>\n",
              "      <td>-0.036994</td>\n",
              "      <td>0.310215</td>\n",
              "      <td>-0.199626</td>\n",
              "    </tr>\n",
              "    <tr>\n",
              "      <th>IDADE</th>\n",
              "      <td>0.080366</td>\n",
              "      <td>1.000000</td>\n",
              "      <td>-0.576909</td>\n",
              "      <td>0.139209</td>\n",
              "      <td>0.137851</td>\n",
              "      <td>0.111035</td>\n",
              "      <td>0.278364</td>\n",
              "      <td>0.023954</td>\n",
              "      <td>0.171758</td>\n",
              "      <td>-0.007267</td>\n",
              "      <td>-0.048794</td>\n",
              "      <td>-0.056426</td>\n",
              "      <td>0.267627</td>\n",
              "      <td>-0.063280</td>\n",
              "      <td>0.197721</td>\n",
              "      <td>0.267627</td>\n",
              "      <td>0.185736</td>\n",
              "      <td>-0.047626</td>\n",
              "      <td>0.297974</td>\n",
              "      <td>0.056353</td>\n",
              "      <td>0.464790</td>\n",
              "      <td>0.107953</td>\n",
              "      <td>0.106111</td>\n",
              "      <td>-0.130023</td>\n",
              "      <td>0.044482</td>\n",
              "      <td>-0.226418</td>\n",
              "      <td>-0.034365</td>\n",
              "      <td>-0.092447</td>\n",
              "      <td>0.250854</td>\n",
              "      <td>-0.474228</td>\n",
              "      <td>0.046288</td>\n",
              "      <td>0.267797</td>\n",
              "      <td>-0.301169</td>\n",
              "      <td>-0.105632</td>\n",
              "      <td>-0.077763</td>\n",
              "      <td>0.040647</td>\n",
              "      <td>-0.102813</td>\n",
              "      <td>-0.225963</td>\n",
              "      <td>0.117334</td>\n",
              "      <td>-0.204608</td>\n",
              "      <td>0.835604</td>\n",
              "      <td>-0.225703</td>\n",
              "      <td>0.077258</td>\n",
              "      <td>0.195881</td>\n",
              "      <td>-0.216123</td>\n",
              "      <td>-0.069102</td>\n",
              "      <td>0.006874</td>\n",
              "      <td>0.109867</td>\n",
              "      <td>0.149316</td>\n",
              "      <td>-0.066761</td>\n",
              "      <td>0.425375</td>\n",
              "      <td>0.708226</td>\n",
              "      <td>-0.187959</td>\n",
              "    </tr>\n",
              "    <tr>\n",
              "      <th>DATA_ADMISSAO</th>\n",
              "      <td>0.142437</td>\n",
              "      <td>-0.576909</td>\n",
              "      <td>1.000000</td>\n",
              "      <td>-0.047789</td>\n",
              "      <td>-0.527352</td>\n",
              "      <td>-0.654221</td>\n",
              "      <td>-0.391560</td>\n",
              "      <td>-0.167715</td>\n",
              "      <td>-0.089290</td>\n",
              "      <td>-0.450861</td>\n",
              "      <td>0.205534</td>\n",
              "      <td>-0.006269</td>\n",
              "      <td>-0.241000</td>\n",
              "      <td>-0.036817</td>\n",
              "      <td>0.526888</td>\n",
              "      <td>-0.241000</td>\n",
              "      <td>-0.578976</td>\n",
              "      <td>-0.165871</td>\n",
              "      <td>-0.271833</td>\n",
              "      <td>-0.750224</td>\n",
              "      <td>-0.504553</td>\n",
              "      <td>-0.740246</td>\n",
              "      <td>-0.143649</td>\n",
              "      <td>0.078529</td>\n",
              "      <td>-0.045539</td>\n",
              "      <td>-0.294081</td>\n",
              "      <td>-0.012618</td>\n",
              "      <td>0.102272</td>\n",
              "      <td>-0.281498</td>\n",
              "      <td>0.340774</td>\n",
              "      <td>-0.048396</td>\n",
              "      <td>-0.221462</td>\n",
              "      <td>-0.213684</td>\n",
              "      <td>0.043521</td>\n",
              "      <td>0.037493</td>\n",
              "      <td>-0.426069</td>\n",
              "      <td>-0.121866</td>\n",
              "      <td>-0.503758</td>\n",
              "      <td>0.645244</td>\n",
              "      <td>0.104997</td>\n",
              "      <td>-0.716637</td>\n",
              "      <td>0.130764</td>\n",
              "      <td>-0.141968</td>\n",
              "      <td>-0.149059</td>\n",
              "      <td>0.163139</td>\n",
              "      <td>0.043114</td>\n",
              "      <td>0.013521</td>\n",
              "      <td>0.603823</td>\n",
              "      <td>0.539994</td>\n",
              "      <td>0.347954</td>\n",
              "      <td>-0.362833</td>\n",
              "      <td>-0.339185</td>\n",
              "      <td>-0.561072</td>\n",
              "    </tr>\n",
              "  </tbody>\n",
              "</table>\n",
              "</div>"
            ],
            "text/plain": [
              "               GRAUINSTRUCAO  ...  VERBAS_PORCENTAGEM_100\n",
              "GRAUINSTRUCAO       1.000000  ...               -0.199626\n",
              "IDADE               0.080366  ...               -0.187959\n",
              "DATA_ADMISSAO       0.142437  ...               -0.561072\n",
              "\n",
              "[3 rows x 53 columns]"
            ]
          },
          "metadata": {
            "tags": []
          },
          "execution_count": 235
        }
      ]
    },
    {
      "cell_type": "markdown",
      "metadata": {
        "id": "ZDXzxbXr4Umn"
      },
      "source": [
        "#Fase 4 -Modelagem"
      ]
    },
    {
      "cell_type": "markdown",
      "metadata": {
        "id": "9YrpX6VrfeiK"
      },
      "source": [
        "GRAFICO COM O SALÁRIO -> HISTOGRAMA(DISTRIBUIÇÃO NORMAL)"
      ]
    },
    {
      "cell_type": "code",
      "metadata": {
        "id": "rvzPH2Xqhxjv",
        "outputId": "e6ab8844-ea28-4785-e0ac-741d84b4b35b",
        "colab": {
          "base_uri": "https://localhost:8080/",
          "height": 201
        }
      },
      "source": [
        "for i in y_train:\n",
        "  if i > 8000:\n",
        "    print(i)"
      ],
      "execution_count": null,
      "outputs": [
        {
          "output_type": "stream",
          "text": [
            "8392.09\n",
            "8369.66\n",
            "8246.78\n",
            "8580.1\n",
            "8732.47\n",
            "8304.92\n",
            "8088.61\n",
            "8318.08\n",
            "8534.83\n",
            "8896.18\n",
            "9900.17\n"
          ],
          "name": "stdout"
        }
      ]
    },
    {
      "cell_type": "code",
      "metadata": {
        "id": "_ElYAgAcj7LN",
        "outputId": "c8d0eaa6-5345-4508-827d-46eedad75190",
        "colab": {
          "base_uri": "https://localhost:8080/",
          "height": 295
        }
      },
      "source": [
        "import math\n",
        "bins = np.linspace(math.ceil(min(y_train)), math.floor(max(y_train)), 60)\n",
        "\n",
        "plt.xlim([min(y_train), max(y_train)])\n",
        "plt.hist(y_train, bins=bins)\n",
        "plt.title('Histograma')\n",
        "plt.xlabel('Salário')\n",
        "plt.ylabel('Funcionários')\n",
        "plt.show()\n",
        "plt.close()"
      ],
      "execution_count": null,
      "outputs": [
        {
          "output_type": "display_data",
          "data": {
            "image/png": "[encoded data removed]",
            "text/plain": [
              "<Figure size 432x288 with 1 Axes>"
            ]
          },
          "metadata": {
            "tags": [],
            "needs_background": "light"
          }
        }
      ]
    },
    {
      "cell_type": "code",
      "metadata": {
        "id": "YHhUGJ11xRTa",
        "outputId": "8a8f5288-3a71-41b4-f732-84c39939e98f",
        "colab": {
          "base_uri": "https://localhost:8080/",
          "height": 295
        }
      },
      "source": [
        "import math\n",
        "bins = np.linspace(math.ceil(min(y_test)), math.floor(max(y_test)), 90)\n",
        "\n",
        "plt.xlim([min(y_test), max(y_test)])\n",
        "plt.hist(y_test, bins=bins)\n",
        "plt.title('Histograma Teste')\n",
        "plt.xlabel('Salário')\n",
        "plt.ylabel('Funcionários')\n",
        "plt.show()\n",
        "plt.close()"
      ],
      "execution_count": null,
      "outputs": [
        {
          "output_type": "display_data",
          "data": {
            "image/png": "[encoded data removed]",
            "text/plain": [
              "<Figure size 432x288 with 1 Axes>"
            ]
          },
          "metadata": {
            "tags": [],
            "needs_background": "light"
          }
        }
      ]
    },
    {
      "cell_type": "code",
      "metadata": {
        "id": "U6kPiwVys910"
      },
      "source": [
        "def showPlot(y_test, Y_prev, textoTitulo):\n",
        "  plt.scatter(y_test, Y_prev)\n",
        "  range = [y_test.min(), max(Y_prev)]\n",
        "  plt.plot(range, range, 'red')\n",
        "  #plt.xlabel('Salário Real')\n",
        "  #plt.ylabel('Salário Predito')\n",
        "  plt.title(textoTitulo)\n",
        "  plt.show()"
      ],
      "execution_count": null,
      "outputs": []
    },
    {
      "cell_type": "code",
      "metadata": {
        "id": "2LSvEd82Ot4e"
      },
      "source": [
        "def showPlot2( XTeste, yTeste, XPoints, yPoints, XLine, yLine, textoTitulo):\n",
        "    import matplotlib.pyplot as plt\n",
        "\n",
        "    plt.scatter(XPoints, yPoints, color= 'violet')\n",
        "    plt.scatter(XTeste, yTeste, color= 'blue')\n",
        "    plt.scatter(XLine, yLine, color= 'red')\n",
        "    plt.title(textoTitulo)\n",
        "    plt.show()"
      ],
      "execution_count": null,
      "outputs": []
    },
    {
      "cell_type": "code",
      "metadata": {
        "id": "r9xbBoEHvjns"
      },
      "source": [
        "from sklearn.metrics import mean_squared_log_error\n",
        "\n",
        "# Perda de regressão ao erro logarítmico quadrado médio(RMSE)\n",
        "def rmsle(ytrue, ypred):\n",
        "    return np.sqrt(mean_squared_log_error(ytrue, ypred))"
      ],
      "execution_count": null,
      "outputs": []
    },
    {
      "cell_type": "markdown",
      "metadata": {
        "id": "bL3XVVF9yWly"
      },
      "source": [
        "##Aplicando OLS"
      ]
    },
    {
      "cell_type": "code",
      "metadata": {
        "id": "HJiOr8pnydR6",
        "outputId": "69d2b4f1-55a4-499b-d21f-f0831b42ed4c",
        "colab": {
          "base_uri": "https://localhost:8080/",
          "height": 33
        }
      },
      "source": [
        "#Transforma as colunas em numeros\n",
        "listaOptNumerica = []\n",
        "for i in range(0, len(x_train_df.columns)):\n",
        "  listaOptNumerica.append(i)\n",
        "\n",
        "len(listaOptNumerica)"
      ],
      "execution_count": null,
      "outputs": [
        {
          "output_type": "execute_result",
          "data": {
            "text/plain": [
              "53"
            ]
          },
          "metadata": {
            "tags": []
          },
          "execution_count": 242
        }
      ]
    },
    {
      "cell_type": "code",
      "metadata": {
        "id": "Z9x5_8RY0HKH"
      },
      "source": [
        "#Remove da lista um posição escolhida\n",
        "def removerLitaOp(posicaoElemento, lista):\n",
        "  temp = []\n",
        "  for indice, dado in enumerate(lista):\n",
        "    if(indice != posicaoElemento):\n",
        "      temp.append(dado)\n",
        "  return temp"
      ],
      "execution_count": null,
      "outputs": []
    },
    {
      "cell_type": "markdown",
      "metadata": {
        "id": "LQMyu2ZR1i6m"
      },
      "source": [
        "###Execultando OLS"
      ]
    },
    {
      "cell_type": "code",
      "metadata": {
        "id": "b6YMER__yY1o",
        "outputId": "b6b4550c-a714-4329-bee3-44eb78dd125b",
        "colab": {
          "base_uri": "https://localhost:8080/"
        }
      },
      "source": [
        "#1- Execurção OLS\n",
        "import statsmodels.api as sm\n",
        "tamanhoBase = len(x_train_df)\n",
        "X = np.append(arr = np.ones((tamanhoBase,1)).astype(int), values = x_train_df, axis=1)\n",
        "\n",
        "X_opt = X[:,listaOptNumerica]\n",
        "regressor_OLS = sm.OLS(endog=y_train, exog=X_opt).fit()\n",
        "print(regressor_OLS.summary())"
      ],
      "execution_count": null,
      "outputs": [
        {
          "output_type": "stream",
          "text": [
            "                            OLS Regression Results                            \n",
            "==============================================================================\n",
            "Dep. Variable:                      y   R-squared:                       0.929\n",
            "Model:                            OLS   Adj. R-squared:                  0.927\n",
            "Method:                 Least Squares   F-statistic:                     784.5\n",
            "Date:                Sat, 19 Sep 2020   Prob (F-statistic):               0.00\n",
            "Time:                        00:18:24   Log-Likelihood:                -22007.\n",
            "No. Observations:                3066   AIC:                         4.412e+04\n",
            "Df Residuals:                    3015   BIC:                         4.442e+04\n",
            "Df Model:                          50                                         \n",
            "Covariance Type:            nonrobust                                         \n",
            "==============================================================================\n",
            "                 coef    std err          t      P>|t|      [0.025      0.975]\n",
            "------------------------------------------------------------------------------\n",
            "const       6.866e+14   6.92e+14      0.992      0.321   -6.71e+14    2.04e+15\n",
            "x1            34.4201      6.549      5.256      0.000      21.579      47.262\n",
            "x2            -5.8347      7.762     -0.752      0.452     -21.055       9.386\n",
            "x3            48.2392     31.288      1.542      0.123     -13.108     109.587\n",
            "x4          -133.0907     42.353     -3.142      0.002    -216.134     -50.047\n",
            "x5           -28.0144      7.642     -3.666      0.000     -42.999     -13.030\n",
            "x6          -131.3506    366.910     -0.358      0.720    -850.769     588.068\n",
            "x7           -24.0865      6.309     -3.818      0.000     -36.457     -11.716\n",
            "x8           545.6641    114.722      4.756      0.000     320.723     770.605\n",
            "x9           -69.4516      6.048    -11.484      0.000     -81.310     -57.593\n",
            "x10          217.7918      7.371     29.549      0.000     203.340     232.244\n",
            "x11           15.6472      9.255      1.691      0.091      -2.499      33.793\n",
            "x12            1.8374      9.686      0.190      0.850     -17.154      20.829\n",
            "x13         3.096e+06   5.55e+06      0.557      0.577   -7.79e+06     1.4e+07\n",
            "x14           15.7456      5.942      2.650      0.008       4.094      27.397\n",
            "x15           38.5547     16.867      2.286      0.022       5.484      71.626\n",
            "x16        -3.096e+06   5.55e+06     -0.557      0.577    -1.4e+07    7.79e+06\n",
            "x17         -374.5947     25.540    -14.667      0.000    -424.672    -324.517\n",
            "x18           23.4563      7.021      3.341      0.001       9.691      37.222\n",
            "x19           69.8130     24.495      2.850      0.004      21.785     117.841\n",
            "x20          203.6668     79.788      2.553      0.011      47.223     360.110\n",
            "x21           13.8113      7.984      1.730      0.084      -1.843      29.466\n",
            "x22         1412.9854    349.514      4.043      0.000     727.675    2098.296\n",
            "x23           31.6309      7.654      4.133      0.000      16.624      46.638\n",
            "x24           13.1163      7.194      1.823      0.068      -0.989      27.222\n",
            "x25           -7.3601      5.897     -1.248      0.212     -18.922       4.202\n",
            "x26          671.2914    145.830      4.603      0.000     385.356     957.227\n",
            "x27         -236.5457      6.858    -34.491      0.000    -249.993    -223.098\n",
            "x28           33.1610      6.064      5.468      0.000      21.270      45.052\n",
            "x29           31.5947      8.206      3.850      0.000      15.505      47.685\n",
            "x30          136.6003      6.856     19.924      0.000     123.157     150.043\n",
            "x31          -10.3268      6.045     -1.708      0.088     -22.179       1.525\n",
            "x32            2.3568      9.991      0.236      0.814     -17.234      21.947\n",
            "x33            4.2055      7.036      0.598      0.550      -9.590      18.001\n",
            "x34          -19.9119      5.991     -3.324      0.001     -31.659      -8.165\n",
            "x35           -3.4351      5.862     -0.586      0.558     -14.929       8.059\n",
            "x36         -298.4583      6.258    -47.689      0.000    -310.730    -286.187\n",
            "x37           34.3268      7.218      4.756      0.000      20.174      48.479\n",
            "x38           1.6e+14   1.61e+14      0.992      0.321   -1.56e+14    4.76e+14\n",
            "x39        -1.033e+14   1.04e+14     -0.992      0.321   -3.07e+14    1.01e+14\n",
            "x40         -127.5332     47.492     -2.685      0.007    -220.654     -34.413\n",
            "x41          -30.5892     25.188     -1.214      0.225     -79.977      18.799\n",
            "x42          -19.2969     61.281     -0.315      0.753    -139.454     100.860\n",
            "x43            3.7400      7.686      0.487      0.627     -11.330      18.810\n",
            "x44           11.2426     43.718      0.257      0.797     -74.478      96.963\n",
            "x45           33.4356     44.094      0.758      0.448     -53.022     119.894\n",
            "x46           24.3913     45.081      0.541      0.589     -64.001     112.783\n",
            "x47           31.6728     48.473      0.653      0.514     -63.371     126.716\n",
            "x48         2.633e+14   2.65e+14      0.992      0.321   -2.57e+14    7.84e+14\n",
            "x49         2.633e+14   2.65e+14      0.992      0.321   -2.57e+14    7.84e+14\n",
            "x50         2.633e+14   2.65e+14      0.992      0.321   -2.57e+14    7.84e+14\n",
            "x51           1.6e+14   1.61e+14      0.992      0.321   -1.56e+14    4.76e+14\n",
            "x52           35.1409     16.969      2.071      0.038       1.868      68.414\n",
            "==============================================================================\n",
            "Omnibus:                      855.199   Durbin-Watson:                   1.980\n",
            "Prob(Omnibus):                  0.000   Jarque-Bera (JB):             3215.585\n",
            "Skew:                           1.340   Prob(JB):                         0.00\n",
            "Kurtosis:                       7.241   Cond. No.                     2.27e+15\n",
            "==============================================================================\n",
            "\n",
            "Warnings:\n",
            "[1] Standard Errors assume that the covariance matrix of the errors is correctly specified.\n",
            "[2] The smallest eigenvalue is 6.79e-27. This might indicate that there are\n",
            "strong multicollinearity problems or that the design matrix is singular.\n"
          ],
          "name": "stdout"
        }
      ]
    },
    {
      "cell_type": "code",
      "metadata": {
        "id": "iI2kaVQP0UrA",
        "outputId": "9becbefd-d0a8-47d7-de01-1c9cac9bf07d",
        "colab": {
          "base_uri": "https://localhost:8080/"
        }
      },
      "source": [
        "#2- execurções exclui um e roda novamente\n",
        "listaOptNumerica = removerLitaOp(12, listaOptNumerica) #0,850\n",
        "X_opt = X[:,listaOptNumerica]\n",
        "regressor_OLS = sm.OLS(endog=y_train, exog=X_opt).fit()\n",
        "print(regressor_OLS.summary())"
      ],
      "execution_count": null,
      "outputs": [
        {
          "output_type": "stream",
          "text": [
            "                            OLS Regression Results                            \n",
            "==============================================================================\n",
            "Dep. Variable:                      y   R-squared:                       0.929\n",
            "Model:                            OLS   Adj. R-squared:                  0.927\n",
            "Method:                 Least Squares   F-statistic:                     800.7\n",
            "Date:                Sat, 19 Sep 2020   Prob (F-statistic):               0.00\n",
            "Time:                        00:18:24   Log-Likelihood:                -22007.\n",
            "No. Observations:                3066   AIC:                         4.411e+04\n",
            "Df Residuals:                    3016   BIC:                         4.442e+04\n",
            "Df Model:                          49                                         \n",
            "Covariance Type:            nonrobust                                         \n",
            "==============================================================================\n",
            "                 coef    std err          t      P>|t|      [0.025      0.975]\n",
            "------------------------------------------------------------------------------\n",
            "const       6.617e+14   6.65e+14      0.995      0.320   -6.43e+14    1.97e+15\n",
            "x1            34.5388      6.546      5.276      0.000      21.703      47.375\n",
            "x2            -5.8493      7.761     -0.754      0.451     -21.067       9.368\n",
            "x3            48.2900     31.266      1.545      0.123     -13.014     109.594\n",
            "x4          -132.9819     42.342     -3.141      0.002    -216.004     -49.960\n",
            "x5           -28.0482      7.640     -3.671      0.000     -43.028     -13.069\n",
            "x6           -77.6588    228.761     -0.339      0.734    -526.201     370.884\n",
            "x7           -23.9791      6.307     -3.802      0.000     -36.345     -11.613\n",
            "x8           528.8864     71.844      7.362      0.000     388.019     669.754\n",
            "x9           -69.6273      6.046    -11.516      0.000     -81.483     -57.772\n",
            "x10          217.8447      7.370     29.557      0.000     203.393     232.296\n",
            "x11           15.7195      9.239      1.701      0.089      -2.396      33.835\n",
            "x12         3.067e+06   5.55e+06      0.552      0.581   -7.82e+06     1.4e+07\n",
            "x13           15.7529      5.940      2.652      0.008       4.105      27.401\n",
            "x14           38.9562     16.714      2.331      0.020       6.184      71.728\n",
            "x15        -3.067e+06   5.55e+06     -0.552      0.581    -1.4e+07    7.82e+06\n",
            "x16         -374.5217     25.534    -14.668      0.000    -424.587    -324.456\n",
            "x17           23.5686      6.989      3.372      0.001       9.866      37.272\n",
            "x18           66.4359     16.610      4.000      0.000      33.867      99.005\n",
            "x19          204.1312     79.670      2.562      0.010      47.918     360.344\n",
            "x20           14.1981      7.691      1.846      0.065      -0.881      29.277\n",
            "x21         1361.3394    213.738      6.369      0.000     942.253    1780.426\n",
            "x22           31.6949      7.645      4.146      0.000      16.705      46.685\n",
            "x23           13.0553      7.164      1.822      0.069      -0.992      27.102\n",
            "x24           -7.3175      5.894     -1.242      0.214     -18.874       4.239\n",
            "x25          649.9559     91.352      7.115      0.000     470.836     829.075\n",
            "x26         -236.4099      6.844    -34.544      0.000    -249.829    -222.991\n",
            "x27           33.1868      6.063      5.473      0.000      21.298      45.075\n",
            "x28           31.6819      8.173      3.876      0.000      15.657      47.707\n",
            "x29          136.6486      6.856     19.933      0.000     123.207     150.091\n",
            "x30          -10.3080      6.043     -1.706      0.088     -22.158       1.542\n",
            "x31            2.5056      9.944      0.252      0.801     -16.992      22.003\n",
            "x32            4.2264      7.034      0.601      0.548      -9.565      18.017\n",
            "x33          -19.8524      5.990     -3.314      0.001     -31.597      -8.108\n",
            "x34           -3.4113      5.856     -0.583      0.560     -14.893       8.071\n",
            "x35         -298.4513      6.257    -47.695      0.000    -310.721    -286.182\n",
            "x36           33.9623      6.964      4.877      0.000      20.308      47.616\n",
            "x37         1.985e+14      2e+14      0.995      0.320   -1.93e+14     5.9e+14\n",
            "x38        -3.309e+13   3.33e+13     -0.995      0.320   -9.83e+13    3.21e+13\n",
            "x39         -127.8398     47.483     -2.692      0.007    -220.943     -34.737\n",
            "x40          -30.8549     25.149     -1.227      0.220     -80.166      18.456\n",
            "x41          -19.6313     61.261     -0.320      0.749    -139.749     100.486\n",
            "x42            3.7389      7.677      0.487      0.626     -11.314      18.792\n",
            "x43           11.5372     43.693      0.264      0.792     -74.134      97.209\n",
            "x44           33.6625     44.071      0.764      0.445     -52.751     120.076\n",
            "x45           24.5826     45.066      0.545      0.585     -63.780     112.946\n",
            "x46           32.2301     48.411      0.666      0.506     -62.691     127.151\n",
            "x47         2.316e+14   2.33e+14      0.995      0.320   -2.25e+14    6.88e+14\n",
            "x48         2.316e+14   2.33e+14      0.995      0.320   -2.25e+14    6.88e+14\n",
            "x49         2.316e+14   2.33e+14      0.995      0.320   -2.25e+14    6.88e+14\n",
            "x50         1.985e+14      2e+14      0.995      0.320   -1.93e+14     5.9e+14\n",
            "x51           35.2065     16.943      2.078      0.038       1.986      68.427\n",
            "==============================================================================\n",
            "Omnibus:                      853.563   Durbin-Watson:                   1.979\n",
            "Prob(Omnibus):                  0.000   Jarque-Bera (JB):             3207.202\n",
            "Skew:                           1.338   Prob(JB):                         0.00\n",
            "Kurtosis:                       7.236   Cond. No.                     1.06e+16\n",
            "==============================================================================\n",
            "\n",
            "Warnings:\n",
            "[1] Standard Errors assume that the covariance matrix of the errors is correctly specified.\n",
            "[2] The smallest eigenvalue is 3.08e-28. This might indicate that there are\n",
            "strong multicollinearity problems or that the design matrix is singular.\n"
          ],
          "name": "stdout"
        }
      ]
    },
    {
      "cell_type": "code",
      "metadata": {
        "id": "IIkCQfvG8lBf",
        "outputId": "e60e69c6-4d0b-41c8-cd22-858cce7796e7",
        "colab": {
          "base_uri": "https://localhost:8080/"
        }
      },
      "source": [
        "#3- execurções exclui um e roda novamente\n",
        "listaOptNumerica = removerLitaOp(31, listaOptNumerica) #0,801\n",
        "X_opt = X[:,listaOptNumerica]\n",
        "regressor_OLS = sm.OLS(endog=y_train, exog=X_opt).fit()\n",
        "print(regressor_OLS.summary())"
      ],
      "execution_count": null,
      "outputs": [
        {
          "output_type": "stream",
          "text": [
            "                            OLS Regression Results                            \n",
            "==============================================================================\n",
            "Dep. Variable:                      y   R-squared:                       0.929\n",
            "Model:                            OLS   Adj. R-squared:                  0.927\n",
            "Method:                 Least Squares   F-statistic:                     817.0\n",
            "Date:                Sat, 19 Sep 2020   Prob (F-statistic):               0.00\n",
            "Time:                        00:18:24   Log-Likelihood:                -22008.\n",
            "No. Observations:                3066   AIC:                         4.411e+04\n",
            "Df Residuals:                    3017   BIC:                         4.441e+04\n",
            "Df Model:                          48                                         \n",
            "Covariance Type:            nonrobust                                         \n",
            "==============================================================================\n",
            "                 coef    std err          t      P>|t|      [0.025      0.975]\n",
            "------------------------------------------------------------------------------\n",
            "const       6.608e+14   6.66e+14      0.993      0.321   -6.44e+14    1.97e+15\n",
            "x1            34.6172      6.540      5.293      0.000      21.793      47.441\n",
            "x2            -5.7708      7.751     -0.745      0.457     -20.968       9.427\n",
            "x3            48.3986     31.256      1.548      0.122     -12.887     109.684\n",
            "x4          -133.6956     42.338     -3.158      0.002    -216.711     -50.681\n",
            "x5           -28.0629      7.625     -3.681      0.000     -43.013     -13.113\n",
            "x6           -77.4381    228.797     -0.338      0.735    -526.053     371.176\n",
            "x7           -24.2007      6.279     -3.854      0.000     -36.512     -11.889\n",
            "x8           528.6674     71.848      7.358      0.000     387.792     669.543\n",
            "x9           -69.5100      6.046    -11.496      0.000     -81.366     -57.655\n",
            "x10          217.6764      7.364     29.558      0.000     203.237     232.116\n",
            "x11           15.4775      9.204      1.682      0.093      -2.570      33.525\n",
            "x12         3.064e+06   5.55e+06      0.552      0.581   -7.82e+06     1.4e+07\n",
            "x13           15.5641      5.938      2.621      0.009       3.922      27.206\n",
            "x14           38.1748     16.371      2.332      0.020       6.075      70.274\n",
            "x15        -3.064e+06   5.55e+06     -0.552      0.581    -1.4e+07    7.82e+06\n",
            "x16         -374.1453     25.487    -14.680      0.000    -424.119    -324.171\n",
            "x17           23.3451      6.916      3.375      0.001       9.784      36.906\n",
            "x18           65.6297     16.342      4.016      0.000      33.587      97.672\n",
            "x19          203.3703     79.498      2.558      0.011      47.495     359.246\n",
            "x20           13.6158      7.371      1.847      0.065      -0.836      28.068\n",
            "x21         1363.0576    213.718      6.378      0.000     944.011    1782.104\n",
            "x22           31.8890      7.621      4.184      0.000      16.947      46.831\n",
            "x23           13.2000      7.112      1.856      0.064      -0.744      27.144\n",
            "x24           -7.3579      5.890     -1.249      0.212     -18.906       4.190\n",
            "x25          649.7773     91.358      7.112      0.000     470.648     828.907\n",
            "x26         -236.3543      6.843    -34.540      0.000    -249.772    -222.937\n",
            "x27           33.1537      6.064      5.467      0.000      21.263      45.044\n",
            "x28           30.8956      7.548      4.093      0.000      16.095      45.696\n",
            "x29          136.6832      6.854     19.943      0.000     123.245     150.121\n",
            "x30          -10.5179      6.010     -1.750      0.080     -22.302       1.266\n",
            "x31            4.3119      7.034      0.613      0.540      -9.480      18.103\n",
            "x32          -19.8479      5.988     -3.315      0.001     -31.589      -8.107\n",
            "x33           -3.4291      5.855     -0.586      0.558     -14.909       8.051\n",
            "x34         -298.2727      6.252    -47.709      0.000    -310.531    -286.014\n",
            "x35           33.8626      6.929      4.887      0.000      20.276      47.449\n",
            "x36         1.982e+14      2e+14      0.993      0.321   -1.93e+14     5.9e+14\n",
            "x37        -3.304e+13   3.33e+13     -0.993      0.321   -9.83e+13    3.22e+13\n",
            "x38         -127.8898     47.488     -2.693      0.007    -221.001     -34.778\n",
            "x39          -30.7140     25.137     -1.222      0.222     -80.001      18.573\n",
            "x40          -19.1285     61.267     -0.312      0.755    -139.258     101.002\n",
            "x41            3.5790      7.649      0.468      0.640     -11.420      18.578\n",
            "x42           11.1749     43.694      0.256      0.798     -74.498      96.848\n",
            "x43           33.5009     44.078      0.760      0.447     -52.924     119.926\n",
            "x44           24.3999     45.070      0.541      0.588     -63.971     112.771\n",
            "x45           32.1675     48.415      0.664      0.506     -62.762     127.097\n",
            "x46         2.313e+14   2.33e+14      0.993      0.321   -2.25e+14    6.88e+14\n",
            "x47         2.313e+14   2.33e+14      0.993      0.321   -2.25e+14    6.88e+14\n",
            "x48         2.313e+14   2.33e+14      0.993      0.321   -2.25e+14    6.88e+14\n",
            "x49         1.982e+14      2e+14      0.993      0.321   -1.93e+14     5.9e+14\n",
            "x50           35.0032     16.935      2.067      0.039       1.798      68.209\n",
            "==============================================================================\n",
            "Omnibus:                      853.729   Durbin-Watson:                   1.978\n",
            "Prob(Omnibus):                  0.000   Jarque-Bera (JB):             3205.398\n",
            "Skew:                           1.338   Prob(JB):                         0.00\n",
            "Kurtosis:                       7.234   Cond. No.                     1.06e+16\n",
            "==============================================================================\n",
            "\n",
            "Warnings:\n",
            "[1] Standard Errors assume that the covariance matrix of the errors is correctly specified.\n",
            "[2] The smallest eigenvalue is 3.08e-28. This might indicate that there are\n",
            "strong multicollinearity problems or that the design matrix is singular.\n"
          ],
          "name": "stdout"
        }
      ]
    },
    {
      "cell_type": "code",
      "metadata": {
        "id": "J3q5IxvO82RI",
        "outputId": "93e37781-0eab-4d23-e91a-8d14e53ec161",
        "colab": {
          "base_uri": "https://localhost:8080/"
        }
      },
      "source": [
        "#4- execurções exclui um e roda novamente\n",
        "listaOptNumerica = removerLitaOp(42, listaOptNumerica) #0,798\n",
        "X_opt = X[:,listaOptNumerica]\n",
        "regressor_OLS = sm.OLS(endog=y_train, exog=X_opt).fit()\n",
        "print(regressor_OLS.summary())"
      ],
      "execution_count": null,
      "outputs": [
        {
          "output_type": "stream",
          "text": [
            "                            OLS Regression Results                            \n",
            "==============================================================================\n",
            "Dep. Variable:                      y   R-squared:                       0.928\n",
            "Model:                            OLS   Adj. R-squared:                  0.927\n",
            "Method:                 Least Squares   F-statistic:                     832.6\n",
            "Date:                Sat, 19 Sep 2020   Prob (F-statistic):               0.00\n",
            "Time:                        00:18:24   Log-Likelihood:                -22012.\n",
            "No. Observations:                3066   AIC:                         4.412e+04\n",
            "Df Residuals:                    3018   BIC:                         4.441e+04\n",
            "Df Model:                          47                                         \n",
            "Covariance Type:            nonrobust                                         \n",
            "==============================================================================\n",
            "                 coef    std err          t      P>|t|      [0.025      0.975]\n",
            "------------------------------------------------------------------------------\n",
            "const       6.594e+14   6.66e+14      0.990      0.322   -6.47e+14    1.97e+15\n",
            "x1            34.8285      6.551      5.317      0.000      21.984      47.673\n",
            "x2            -5.7489      7.748     -0.742      0.458     -20.941       9.443\n",
            "x3            48.5185     31.265      1.552      0.121     -12.785     109.822\n",
            "x4          -133.2289     42.373     -3.144      0.002    -216.312     -50.145\n",
            "x5           -27.8856      7.601     -3.669      0.000     -42.789     -12.982\n",
            "x6           -77.4228    229.022     -0.338      0.735    -526.477     371.632\n",
            "x7           -24.2119      6.284     -3.853      0.000     -36.533     -11.890\n",
            "x8           528.4779     71.915      7.349      0.000     387.471     669.485\n",
            "x9           -69.5313      6.052    -11.488      0.000     -81.399     -57.664\n",
            "x10          217.7876      7.366     29.567      0.000     203.345     232.230\n",
            "x11           15.5440      9.214      1.687      0.092      -2.522      33.610\n",
            "x12         3.064e+06   5.56e+06      0.551      0.582   -7.84e+06     1.4e+07\n",
            "x13           15.6533      5.942      2.634      0.008       4.002      27.305\n",
            "x14           38.0204     16.386      2.320      0.020       5.891      70.149\n",
            "x15        -3.064e+06   5.56e+06     -0.551      0.582    -1.4e+07    7.84e+06\n",
            "x16         -373.5230     25.484    -14.657      0.000    -423.490    -323.556\n",
            "x17           23.3238      6.923      3.369      0.001       9.750      36.898\n",
            "x18           65.7090     16.358      4.017      0.000      33.635      97.783\n",
            "x19          202.6192     79.566      2.547      0.011      46.610     358.628\n",
            "x20           13.3900      7.360      1.819      0.069      -1.041      27.821\n",
            "x21         1362.8208    213.924      6.371      0.000     943.369    1782.273\n",
            "x22           31.8581      7.628      4.176      0.000      16.901      46.815\n",
            "x23           13.1961      7.119      1.854      0.064      -0.762      27.154\n",
            "x24           -7.3685      5.896     -1.250      0.211     -18.928       4.191\n",
            "x25          649.6559     91.443      7.104      0.000     470.359     828.953\n",
            "x26         -236.2690      6.847    -34.508      0.000    -249.694    -222.844\n",
            "x27           33.1837      6.069      5.468      0.000      21.284      45.083\n",
            "x28           30.8413      7.555      4.082      0.000      16.027      45.655\n",
            "x29          136.8156      6.855     19.958      0.000     123.375     150.257\n",
            "x30          -10.4509      6.016     -1.737      0.082     -22.246       1.344\n",
            "x31            4.2312      7.041      0.601      0.548      -9.575      18.038\n",
            "x32          -19.8444      5.994     -3.311      0.001     -31.597      -8.092\n",
            "x33           -3.4579      5.857     -0.590      0.555     -14.941       8.026\n",
            "x34         -298.4041      6.256    -47.696      0.000    -310.671    -286.137\n",
            "x35           33.7563      6.935      4.867      0.000      20.158      47.354\n",
            "x36         1.978e+14      2e+14      0.990      0.322   -1.94e+14     5.9e+14\n",
            "x37        -3.297e+13   3.33e+13     -0.990      0.322   -9.83e+13    3.23e+13\n",
            "x38         -127.8670     47.535     -2.690      0.007    -221.071     -34.663\n",
            "x39          -30.4114     25.131     -1.210      0.226     -79.686      18.863\n",
            "x40          -18.6719     61.327     -0.304      0.761    -138.919     101.575\n",
            "x41            3.4977      7.651      0.457      0.648     -11.505      18.500\n",
            "x42           22.3179      8.328      2.680      0.007       5.989      38.646\n",
            "x43           13.3508     12.388      1.078      0.281     -10.939      37.640\n",
            "x44           20.8693     20.845      1.001      0.317     -20.003      61.741\n",
            "x45         2.308e+14   2.33e+14      0.990      0.322   -2.26e+14    6.88e+14\n",
            "x46         2.308e+14   2.33e+14      0.990      0.322   -2.26e+14    6.88e+14\n",
            "x47         2.308e+14   2.33e+14      0.990      0.322   -2.26e+14    6.88e+14\n",
            "x48         1.978e+14      2e+14      0.990      0.322   -1.94e+14     5.9e+14\n",
            "x49           34.9147     16.941      2.061      0.039       1.698      68.131\n",
            "==============================================================================\n",
            "Omnibus:                      851.662   Durbin-Watson:                   1.974\n",
            "Prob(Omnibus):                  0.000   Jarque-Bera (JB):             3197.568\n",
            "Skew:                           1.335   Prob(JB):                         0.00\n",
            "Kurtosis:                       7.231   Cond. No.                     1.06e+16\n",
            "==============================================================================\n",
            "\n",
            "Warnings:\n",
            "[1] Standard Errors assume that the covariance matrix of the errors is correctly specified.\n",
            "[2] The smallest eigenvalue is 3.03e-28. This might indicate that there are\n",
            "strong multicollinearity problems or that the design matrix is singular.\n"
          ],
          "name": "stdout"
        }
      ]
    },
    {
      "cell_type": "code",
      "metadata": {
        "id": "0uTUAOWY9Mnn",
        "outputId": "39334429-6701-47d4-f6f2-56866ca3c205",
        "colab": {
          "base_uri": "https://localhost:8080/"
        }
      },
      "source": [
        "#5- execurções exclui um e roda novamente\n",
        "listaOptNumerica = removerLitaOp(40, listaOptNumerica) #0,761\n",
        "X_opt = X[:,listaOptNumerica]\n",
        "regressor_OLS = sm.OLS(endog=y_train, exog=X_opt).fit()\n",
        "print(regressor_OLS.summary())"
      ],
      "execution_count": null,
      "outputs": [
        {
          "output_type": "stream",
          "text": [
            "                            OLS Regression Results                            \n",
            "==============================================================================\n",
            "Dep. Variable:                      y   R-squared:                       0.928\n",
            "Model:                            OLS   Adj. R-squared:                  0.927\n",
            "Method:                 Least Squares   F-statistic:                     845.4\n",
            "Date:                Sat, 19 Sep 2020   Prob (F-statistic):               0.00\n",
            "Time:                        00:18:24   Log-Likelihood:                -22021.\n",
            "No. Observations:                3066   AIC:                         4.414e+04\n",
            "Df Residuals:                    3019   BIC:                         4.442e+04\n",
            "Df Model:                          46                                         \n",
            "Covariance Type:            nonrobust                                         \n",
            "==============================================================================\n",
            "                 coef    std err          t      P>|t|      [0.025      0.975]\n",
            "------------------------------------------------------------------------------\n",
            "const       6.582e+14   6.68e+14      0.985      0.325   -6.52e+14    1.97e+15\n",
            "x1            34.6272      6.565      5.275      0.000      21.755      47.499\n",
            "x2            -5.7220      7.752     -0.738      0.461     -20.923       9.479\n",
            "x3            48.8716     31.351      1.559      0.119     -12.599     110.342\n",
            "x4          -133.1273     42.483     -3.134      0.002    -216.426     -49.828\n",
            "x5           -27.9097      7.618     -3.664      0.000     -42.847     -12.972\n",
            "x6           -76.6943    229.680     -0.334      0.738    -527.039     373.651\n",
            "x7           -24.1131      6.302     -3.826      0.000     -36.469     -11.757\n",
            "x8           528.4561     72.122      7.327      0.000     387.042     669.870\n",
            "x9           -69.5779      6.069    -11.465      0.000     -81.477     -57.678\n",
            "x10          217.6296      7.384     29.471      0.000     203.151     232.109\n",
            "x11           15.4374      9.240      1.671      0.095      -2.680      33.554\n",
            "x12         3.063e+06   5.57e+06      0.549      0.583   -7.87e+06     1.4e+07\n",
            "x13           15.6448      5.959      2.625      0.009       3.960      27.330\n",
            "x14           37.9405     16.431      2.309      0.021       5.724      70.157\n",
            "x15        -3.063e+06   5.57e+06     -0.549      0.583    -1.4e+07    7.87e+06\n",
            "x16         -373.8132     25.553    -14.629      0.000    -423.917    -323.710\n",
            "x17           23.2751      6.942      3.353      0.001       9.663      36.887\n",
            "x18           65.5543     16.405      3.996      0.000      33.388      97.721\n",
            "x19          202.2751     79.778      2.535      0.011      45.850     358.700\n",
            "x20           13.4419      7.380      1.821      0.069      -1.029      27.913\n",
            "x21         1362.5452    214.541      6.351      0.000     941.885    1783.206\n",
            "x22           31.8756      7.650      4.167      0.000      16.877      46.875\n",
            "x23           13.3702      7.138      1.873      0.061      -0.627      27.367\n",
            "x24           -7.3553      5.913     -1.244      0.214     -18.949       4.238\n",
            "x25          649.3156     91.706      7.080      0.000     469.503     829.128\n",
            "x26         -236.2909      6.867    -34.412      0.000    -249.754    -222.827\n",
            "x27           33.2578      6.086      5.464      0.000      21.324      45.192\n",
            "x28           30.8225      7.577      4.068      0.000      15.967      45.678\n",
            "x29          136.6550      6.862     19.915      0.000     123.201     150.109\n",
            "x30          -10.4773      6.033     -1.737      0.083     -22.306       1.351\n",
            "x31            4.3226      7.061      0.612      0.540      -9.521      18.167\n",
            "x32          -19.7697      6.011     -3.289      0.001     -31.556      -7.984\n",
            "x33           -3.4896      5.874     -0.594      0.552     -15.006       8.027\n",
            "x34         -298.4037      6.274    -47.564      0.000    -310.705    -286.103\n",
            "x35           33.7370      6.955      4.851      0.000      20.100      47.374\n",
            "x36         1.975e+14      2e+14      0.985      0.325   -1.95e+14     5.9e+14\n",
            "x37        -3.291e+13   3.34e+13     -0.985      0.325   -9.84e+13    3.26e+13\n",
            "x38         -127.8376     47.671     -2.682      0.007    -221.309     -34.366\n",
            "x39          -30.0382     25.185     -1.193      0.233     -79.420      19.343\n",
            "x40            3.3373      7.669      0.435      0.663     -11.699      18.373\n",
            "x41           22.5207      8.353      2.696      0.007       6.143      38.898\n",
            "x42           13.5309     12.421      1.089      0.276     -10.824      37.886\n",
            "x43           20.8629     20.904      0.998      0.318     -20.125      61.851\n",
            "x44         2.304e+14   2.34e+14      0.985      0.325   -2.28e+14    6.89e+14\n",
            "x45         2.304e+14   2.34e+14      0.985      0.325   -2.28e+14    6.89e+14\n",
            "x46         2.304e+14   2.34e+14      0.985      0.325   -2.28e+14    6.89e+14\n",
            "x47         1.975e+14      2e+14      0.985      0.325   -1.95e+14     5.9e+14\n",
            "x48           34.8489     16.987      2.051      0.040       1.541      68.157\n",
            "==============================================================================\n",
            "Omnibus:                      855.118   Durbin-Watson:                   1.962\n",
            "Prob(Omnibus):                  0.000   Jarque-Bera (JB):             3216.862\n",
            "Skew:                           1.340   Prob(JB):                         0.00\n",
            "Kurtosis:                       7.243   Cond. No.                     1.07e+16\n",
            "==============================================================================\n",
            "\n",
            "Warnings:\n",
            "[1] Standard Errors assume that the covariance matrix of the errors is correctly specified.\n",
            "[2] The smallest eigenvalue is 2.72e-28. This might indicate that there are\n",
            "strong multicollinearity problems or that the design matrix is singular.\n"
          ],
          "name": "stdout"
        }
      ]
    },
    {
      "cell_type": "code",
      "metadata": {
        "id": "r52BV2Oz9cxX",
        "outputId": "26d27ac3-af62-4281-85a9-2ec722d6a833",
        "colab": {
          "base_uri": "https://localhost:8080/"
        }
      },
      "source": [
        "#6- execurções exclui um e roda novamente\n",
        "listaOptNumerica = removerLitaOp(6, listaOptNumerica) #0,738\n",
        "X_opt = X[:,listaOptNumerica]\n",
        "regressor_OLS = sm.OLS(endog=y_train, exog=X_opt).fit()\n",
        "print(regressor_OLS.summary())"
      ],
      "execution_count": null,
      "outputs": [
        {
          "output_type": "stream",
          "text": [
            "                            OLS Regression Results                            \n",
            "==============================================================================\n",
            "Dep. Variable:                      y   R-squared:                       0.929\n",
            "Model:                            OLS   Adj. R-squared:                  0.928\n",
            "Method:                 Least Squares   F-statistic:                     872.9\n",
            "Date:                Sat, 19 Sep 2020   Prob (F-statistic):               0.00\n",
            "Time:                        00:18:24   Log-Likelihood:                -22008.\n",
            "No. Observations:                3066   AIC:                         4.411e+04\n",
            "Df Residuals:                    3020   BIC:                         4.438e+04\n",
            "Df Model:                          45                                         \n",
            "Covariance Type:            nonrobust                                         \n",
            "==============================================================================\n",
            "                 coef    std err          t      P>|t|      [0.025      0.975]\n",
            "------------------------------------------------------------------------------\n",
            "const       7.564e+14   7.65e+14      0.989      0.323   -7.43e+14    2.26e+15\n",
            "x1            34.6231      6.534      5.299      0.000      21.811      47.435\n",
            "x2            -5.5349      7.711     -0.718      0.473     -20.655       9.585\n",
            "x3            48.7984     31.205      1.564      0.118     -12.387     109.984\n",
            "x4          -133.1048     42.276     -3.148      0.002    -215.997     -50.213\n",
            "x5           -28.0594      7.583     -3.700      0.000     -42.928     -13.191\n",
            "x6           -24.1294      6.271     -3.848      0.000     -36.426     -11.833\n",
            "x7           504.5539     10.480     48.147      0.000     484.006     525.102\n",
            "x8           -69.4136      6.042    -11.489      0.000     -81.260     -57.567\n",
            "x9           217.8376      7.348     29.645      0.000     203.430     232.246\n",
            "x10           15.2772      9.186      1.663      0.096      -2.734      33.289\n",
            "x11         3.075e+06   5.55e+06      0.554      0.580   -7.81e+06     1.4e+07\n",
            "x12           15.5710      5.931      2.625      0.009       3.941      27.201\n",
            "x13           37.4224     16.280      2.299      0.022       5.502      69.343\n",
            "x14        -3.075e+06   5.55e+06     -0.554      0.580    -1.4e+07    7.81e+06\n",
            "x15         -374.1235     25.429    -14.712      0.000    -423.984    -324.263\n",
            "x16           23.0954      6.896      3.349      0.001       9.574      36.617\n",
            "x17           60.9407      8.436      7.224      0.000      44.399      77.482\n",
            "x18          200.8495     79.332      2.532      0.011      45.298     356.401\n",
            "x19           13.8552      7.277      1.904      0.057      -0.413      28.124\n",
            "x20         1292.1075     36.357     35.539      0.000    1220.820    1363.395\n",
            "x21           31.6914      7.596      4.172      0.000      16.798      46.584\n",
            "x22           13.4551      7.089      1.898      0.058      -0.446      27.356\n",
            "x23           -7.4142      5.884     -1.260      0.208     -18.951       4.123\n",
            "x24          619.1412     11.558     53.566      0.000     596.478     641.804\n",
            "x25         -236.4426      6.813    -34.703      0.000    -249.802    -223.084\n",
            "x26           33.1448      6.058      5.471      0.000      21.266      45.024\n",
            "x27           30.8040      7.538      4.086      0.000      16.023      45.585\n",
            "x28          136.6659      6.827     20.019      0.000     123.280     150.052\n",
            "x29          -10.4549      6.005     -1.741      0.082     -22.228       1.319\n",
            "x30            4.3591      7.023      0.621      0.535      -9.411      18.130\n",
            "x31          -19.7763      5.982     -3.306      0.001     -31.505      -8.048\n",
            "x32           -3.5660      5.836     -0.611      0.541     -15.010       7.878\n",
            "x33         -298.2079      6.227    -47.890      0.000    -310.417    -285.998\n",
            "x34           32.9458      6.427      5.126      0.000      20.343      45.548\n",
            "x35         2.042e+14   2.06e+14      0.989      0.323   -2.01e+14    6.09e+14\n",
            "x36         -7.19e+13   7.27e+13     -0.989      0.323   -2.14e+14    7.06e+13\n",
            "x37         -127.6344     47.449     -2.690      0.007    -220.669     -34.600\n",
            "x38          -29.9995     25.067     -1.197      0.231     -79.150      19.151\n",
            "x39            3.1429      7.607      0.413      0.680     -11.773      18.058\n",
            "x40           22.4016      8.311      2.695      0.007       6.106      38.697\n",
            "x41           13.4495     12.362      1.088      0.277     -10.790      37.689\n",
            "x42           21.6479     20.737      1.044      0.297     -19.011      62.307\n",
            "x43         2.761e+14   2.79e+14      0.989      0.323   -2.71e+14    8.23e+14\n",
            "x44         2.761e+14   2.79e+14      0.989      0.323   -2.71e+14    8.23e+14\n",
            "x45         2.761e+14   2.79e+14      0.989      0.323   -2.71e+14    8.23e+14\n",
            "x46         2.042e+14   2.06e+14      0.989      0.323   -2.01e+14    6.09e+14\n",
            "x47           34.5512     16.890      2.046      0.041       1.435      67.668\n",
            "==============================================================================\n",
            "Omnibus:                      857.912   Durbin-Watson:                   1.980\n",
            "Prob(Omnibus):                  0.000   Jarque-Bera (JB):             3228.317\n",
            "Skew:                           1.344   Prob(JB):                         0.00\n",
            "Kurtosis:                       7.247   Cond. No.                     2.25e+15\n",
            "==============================================================================\n",
            "\n",
            "Warnings:\n",
            "[1] Standard Errors assume that the covariance matrix of the errors is correctly specified.\n",
            "[2] The smallest eigenvalue is 6.13e-27. This might indicate that there are\n",
            "strong multicollinearity problems or that the design matrix is singular.\n"
          ],
          "name": "stdout"
        }
      ]
    },
    {
      "cell_type": "code",
      "metadata": {
        "id": "93xJ0YR79tNU",
        "outputId": "0b1a0024-927c-45d6-8c63-d8e2d5b7733d",
        "colab": {
          "base_uri": "https://localhost:8080/"
        }
      },
      "source": [
        "#7- execurções exclui um e roda novamente\n",
        "listaOptNumerica = removerLitaOp(39, listaOptNumerica) #0,680\n",
        "X_opt = X[:,listaOptNumerica]\n",
        "regressor_OLS = sm.OLS(endog=y_train, exog=X_opt).fit()\n",
        "print(regressor_OLS.summary())"
      ],
      "execution_count": null,
      "outputs": [
        {
          "output_type": "stream",
          "text": [
            "                            OLS Regression Results                            \n",
            "==============================================================================\n",
            "Dep. Variable:                      y   R-squared:                       0.929\n",
            "Model:                            OLS   Adj. R-squared:                  0.928\n",
            "Method:                 Least Squares   F-statistic:                     892.8\n",
            "Date:                Sat, 19 Sep 2020   Prob (F-statistic):               0.00\n",
            "Time:                        00:18:24   Log-Likelihood:                -22008.\n",
            "No. Observations:                3066   AIC:                         4.411e+04\n",
            "Df Residuals:                    3021   BIC:                         4.438e+04\n",
            "Df Model:                          44                                         \n",
            "Covariance Type:            nonrobust                                         \n",
            "==============================================================================\n",
            "                 coef    std err          t      P>|t|      [0.025      0.975]\n",
            "------------------------------------------------------------------------------\n",
            "const       7.527e+14   7.65e+14      0.984      0.325   -7.47e+14    2.25e+15\n",
            "x1            34.4538      6.487      5.311      0.000      21.735      47.173\n",
            "x2            -5.5303      7.711     -0.717      0.473     -20.650       9.589\n",
            "x3            47.4814     30.968      1.533      0.125     -13.239     108.202\n",
            "x4          -133.4000     42.275     -3.155      0.002    -216.292     -50.508\n",
            "x5           -27.8732      7.583     -3.676      0.000     -42.742     -13.005\n",
            "x6           -24.1121      6.264     -3.849      0.000     -36.394     -11.830\n",
            "x7           504.4899     10.478     48.146      0.000     483.944     525.035\n",
            "x8           -69.7908      6.010    -11.613      0.000     -81.574     -58.007\n",
            "x9           217.8704      7.348     29.652      0.000     203.464     232.277\n",
            "x10           15.0723      9.162      1.645      0.100      -2.892      33.036\n",
            "x11         3.073e+06   5.55e+06      0.554      0.580   -7.81e+06     1.4e+07\n",
            "x12           15.6396      5.929      2.638      0.008       4.014      27.266\n",
            "x13           37.0427     16.266      2.277      0.023       5.148      68.937\n",
            "x14        -3.073e+06   5.55e+06     -0.554      0.580    -1.4e+07    7.81e+06\n",
            "x15         -374.2295     25.428    -14.717      0.000    -424.088    -324.371\n",
            "x16           23.1702      6.896      3.360      0.001       9.648      36.692\n",
            "x17           61.3163      8.367      7.329      0.000      44.911      77.721\n",
            "x18          200.3171     79.311      2.526      0.012      44.809     355.825\n",
            "x19           13.8274      7.276      1.900      0.057      -0.439      28.094\n",
            "x20         1293.0063     36.291     35.629      0.000    1221.850    1364.163\n",
            "x21           31.1473      7.503      4.151      0.000      16.436      45.858\n",
            "x22           13.6450      7.074      1.929      0.054      -0.225      27.515\n",
            "x23           -7.4338      5.883     -1.264      0.206     -18.969       4.102\n",
            "x24          619.2081     11.556     53.582      0.000     596.549     641.867\n",
            "x25         -236.1900      6.788    -34.798      0.000    -249.499    -222.881\n",
            "x26           33.3110      6.057      5.499      0.000      21.434      45.188\n",
            "x27           30.4403      7.499      4.060      0.000      15.738      45.143\n",
            "x28          136.5396      6.821     20.018      0.000     123.165     149.914\n",
            "x29          -10.4475      6.004     -1.740      0.082     -22.220       1.325\n",
            "x30            4.5681      7.016      0.651      0.515      -9.188      18.324\n",
            "x31          -19.5720      5.977     -3.275      0.001     -31.291      -7.853\n",
            "x32           -3.6317      5.837     -0.622      0.534     -15.076       7.812\n",
            "x33         -298.2295      6.226    -47.898      0.000    -310.438    -286.021\n",
            "x34           32.8381      6.426      5.110      0.000      20.239      45.437\n",
            "x35         2.033e+14   2.07e+14      0.984      0.325   -2.02e+14    6.08e+14\n",
            "x36        -7.134e+13   7.25e+13     -0.984      0.325   -2.13e+14    7.08e+13\n",
            "x37         -130.1568     47.129     -2.762      0.006    -222.566     -37.748\n",
            "x38          -30.9288     24.967     -1.239      0.216     -79.883      18.025\n",
            "x39           22.6587      8.318      2.724      0.006       6.349      38.968\n",
            "x40           13.0207     12.308      1.058      0.290     -11.112      37.153\n",
            "x41           22.0075     20.707      1.063      0.288     -18.593      62.608\n",
            "x42         2.747e+14   2.79e+14      0.984      0.325   -2.72e+14    8.22e+14\n",
            "x43         2.747e+14   2.79e+14      0.984      0.325   -2.72e+14    8.22e+14\n",
            "x44         2.747e+14   2.79e+14      0.984      0.325   -2.72e+14    8.22e+14\n",
            "x45         2.033e+14   2.07e+14      0.984      0.325   -2.02e+14    6.08e+14\n",
            "x46           34.2398     16.861      2.031      0.042       1.180      67.300\n",
            "==============================================================================\n",
            "Omnibus:                      858.532   Durbin-Watson:                   1.979\n",
            "Prob(Omnibus):                  0.000   Jarque-Bera (JB):             3234.184\n",
            "Skew:                           1.345   Prob(JB):                         0.00\n",
            "Kurtosis:                       7.252   Cond. No.                     2.25e+15\n",
            "==============================================================================\n",
            "\n",
            "Warnings:\n",
            "[1] Standard Errors assume that the covariance matrix of the errors is correctly specified.\n",
            "[2] The smallest eigenvalue is 5.93e-27. This might indicate that there are\n",
            "strong multicollinearity problems or that the design matrix is singular.\n"
          ],
          "name": "stdout"
        }
      ]
    },
    {
      "cell_type": "code",
      "metadata": {
        "id": "wcT_TRyh_nCA",
        "outputId": "e59b736d-4207-48ec-8122-0f490c7d26c6",
        "colab": {
          "base_uri": "https://localhost:8080/"
        }
      },
      "source": [
        "#8- execurções exclui um e roda novamente\n",
        "listaOptNumerica = removerLitaOp(14, listaOptNumerica) #0,580\n",
        "X_opt = X[:,listaOptNumerica]\n",
        "regressor_OLS = sm.OLS(endog=y_train, exog=X_opt).fit()\n",
        "print(regressor_OLS.summary())"
      ],
      "execution_count": null,
      "outputs": [
        {
          "output_type": "stream",
          "text": [
            "                            OLS Regression Results                            \n",
            "==============================================================================\n",
            "Dep. Variable:                      y   R-squared:                       0.928\n",
            "Model:                            OLS   Adj. R-squared:                  0.927\n",
            "Method:                 Least Squares   F-statistic:                     912.4\n",
            "Date:                Sat, 19 Sep 2020   Prob (F-statistic):               0.00\n",
            "Time:                        00:18:24   Log-Likelihood:                -22010.\n",
            "No. Observations:                3066   AIC:                         4.411e+04\n",
            "Df Residuals:                    3022   BIC:                         4.437e+04\n",
            "Df Model:                          43                                         \n",
            "Covariance Type:            nonrobust                                         \n",
            "==============================================================================\n",
            "                 coef    std err          t      P>|t|      [0.025      0.975]\n",
            "------------------------------------------------------------------------------\n",
            "const        6.68e+14   6.93e+14      0.964      0.335    -6.9e+14    2.03e+15\n",
            "x1            34.2592      6.489      5.280      0.000      21.536      46.982\n",
            "x2            -5.5441      7.716     -0.719      0.472     -20.672       9.584\n",
            "x3            47.2210     30.986      1.524      0.128     -13.535     107.977\n",
            "x4          -132.5271     42.268     -3.135      0.002    -215.404     -49.651\n",
            "x5           -27.8557      7.582     -3.674      0.000     -42.722     -12.989\n",
            "x6           -24.1345      6.268     -3.851      0.000     -36.424     -11.845\n",
            "x7           504.6547     10.489     48.113      0.000     484.088     525.221\n",
            "x8           -69.7432      6.013    -11.598      0.000     -81.534     -57.952\n",
            "x9           217.8556      7.352     29.632      0.000     203.440     232.271\n",
            "x10           15.0620      9.167      1.643      0.100      -2.912      33.036\n",
            "x11            9.0634      7.530      1.204      0.229      -5.701      23.828\n",
            "x12           15.7102      5.933      2.648      0.008       4.078      27.343\n",
            "x13           37.3126     16.276      2.292      0.022       5.399      69.226\n",
            "x14         -373.9387     25.442    -14.698      0.000    -423.824    -324.053\n",
            "x15           23.1755      6.900      3.359      0.001       9.646      36.705\n",
            "x16           61.3827      8.371      7.333      0.000      44.970      77.796\n",
            "x17          198.9607     79.308      2.509      0.012      43.459     354.463\n",
            "x18           13.7766      7.280      1.893      0.059      -0.497      28.050\n",
            "x19         1292.7022     36.310     35.602      0.000    1221.508    1363.896\n",
            "x20           31.1136      7.507      4.145      0.000      16.394      45.833\n",
            "x21           13.6342      7.078      1.926      0.054      -0.244      27.512\n",
            "x22           -7.4145      5.887     -1.260      0.208     -18.957       4.128\n",
            "x23          619.1029     11.563     53.542      0.000     596.431     641.775\n",
            "x24         -236.2649      6.791    -34.789      0.000    -249.581    -222.949\n",
            "x25           33.2588      6.061      5.488      0.000      21.375      45.142\n",
            "x26           30.4956      7.504      4.064      0.000      15.783      45.208\n",
            "x27          136.5305      6.825     20.005      0.000     123.148     149.912\n",
            "x28          -10.4294      6.008     -1.736      0.083     -22.209       1.350\n",
            "x29            4.4350      7.020      0.632      0.528      -9.330      18.200\n",
            "x30          -19.7031      5.980     -3.295      0.001     -31.428      -7.978\n",
            "x31           -3.6023      5.840     -0.617      0.537     -15.053       7.848\n",
            "x32         -298.2175      6.230    -47.866      0.000    -310.433    -286.002\n",
            "x33           32.8780      6.430      5.114      0.000      20.271      45.485\n",
            "x34         1.575e+14   1.63e+14      0.964      0.335   -1.63e+14    4.78e+14\n",
            "x35        -9.774e+13   1.01e+14     -0.964      0.335   -2.96e+14    1.01e+14\n",
            "x36         -130.4417     47.159     -2.766      0.006    -222.909     -37.975\n",
            "x37          -30.8950     24.981     -1.237      0.216     -79.877      18.087\n",
            "x38           22.5379      8.317      2.710      0.007       6.231      38.845\n",
            "x39           12.8756     12.317      1.045      0.296     -11.275      37.026\n",
            "x40           22.0182     20.719      1.063      0.288     -18.606      62.643\n",
            "x41         2.552e+14   2.65e+14      0.964      0.335   -2.64e+14    7.74e+14\n",
            "x42         2.552e+14   2.65e+14      0.964      0.335   -2.64e+14    7.74e+14\n",
            "x43         2.552e+14   2.65e+14      0.964      0.335   -2.64e+14    7.74e+14\n",
            "x44         1.575e+14   1.63e+14      0.964      0.335   -1.63e+14    4.78e+14\n",
            "x45           34.4661     16.863      2.044      0.041       1.403      67.530\n",
            "==============================================================================\n",
            "Omnibus:                      860.176   Durbin-Watson:                   1.977\n",
            "Prob(Omnibus):                  0.000   Jarque-Bera (JB):             3240.109\n",
            "Skew:                           1.348   Prob(JB):                         0.00\n",
            "Kurtosis:                       7.254   Cond. No.                     2.26e+15\n",
            "==============================================================================\n",
            "\n",
            "Warnings:\n",
            "[1] Standard Errors assume that the covariance matrix of the errors is correctly specified.\n",
            "[2] The smallest eigenvalue is 5.88e-27. This might indicate that there are\n",
            "strong multicollinearity problems or that the design matrix is singular.\n"
          ],
          "name": "stdout"
        }
      ]
    },
    {
      "cell_type": "code",
      "metadata": {
        "id": "yc00_-jOABfC",
        "outputId": "d063cf4c-0c02-4cf7-8f9d-ef0033bcd784",
        "colab": {
          "base_uri": "https://localhost:8080/"
        }
      },
      "source": [
        "#9- execurções exclui um e roda novamente\n",
        "listaOptNumerica = removerLitaOp(31, listaOptNumerica) #0,537\n",
        "X_opt = X[:,listaOptNumerica]\n",
        "regressor_OLS = sm.OLS(endog=y_train, exog=X_opt).fit()\n",
        "print(regressor_OLS.summary())"
      ],
      "execution_count": null,
      "outputs": [
        {
          "output_type": "stream",
          "text": [
            "                            OLS Regression Results                            \n",
            "==============================================================================\n",
            "Dep. Variable:                      y   R-squared:                       0.929\n",
            "Model:                            OLS   Adj. R-squared:                  0.928\n",
            "Method:                 Least Squares   F-statistic:                     935.6\n",
            "Date:                Sat, 19 Sep 2020   Prob (F-statistic):               0.00\n",
            "Time:                        00:18:24   Log-Likelihood:                -22008.\n",
            "No. Observations:                3066   AIC:                         4.410e+04\n",
            "Df Residuals:                    3023   BIC:                         4.436e+04\n",
            "Df Model:                          42                                         \n",
            "Covariance Type:            nonrobust                                         \n",
            "==============================================================================\n",
            "                 coef    std err          t      P>|t|      [0.025      0.975]\n",
            "------------------------------------------------------------------------------\n",
            "const       6.712e+14   6.93e+14      0.968      0.333   -6.88e+14    2.03e+15\n",
            "x1            34.3119      6.483      5.292      0.000      21.600      47.024\n",
            "x2            -5.5337      7.709     -0.718      0.473     -20.650       9.582\n",
            "x3            47.2289     30.962      1.525      0.127     -13.479     107.937\n",
            "x4          -132.3351     42.233     -3.133      0.002    -215.143     -49.527\n",
            "x5           -27.8064      7.577     -3.670      0.000     -42.663     -12.950\n",
            "x6           -24.0576      6.262     -3.842      0.000     -36.336     -11.779\n",
            "x7           504.5104     10.476     48.157      0.000     483.969     525.052\n",
            "x8           -69.8285      6.009    -11.621      0.000     -81.610     -58.047\n",
            "x9           217.6411      7.344     29.634      0.000     203.241     232.041\n",
            "x10           15.3055      9.151      1.673      0.095      -2.636      33.247\n",
            "x11            8.9674      7.523      1.192      0.233      -5.782      23.717\n",
            "x12           15.7925      5.927      2.665      0.008       4.172      27.413\n",
            "x13           38.2795     16.200      2.363      0.018       6.515      70.044\n",
            "x14         -373.8049     25.424    -14.703      0.000    -423.655    -323.955\n",
            "x15           23.3830      6.881      3.398      0.001       9.891      36.875\n",
            "x16           61.2253      8.363      7.321      0.000      44.828      77.622\n",
            "x17          200.5421     79.168      2.533      0.011      45.314     355.770\n",
            "x18           13.8190      7.274      1.900      0.058      -0.443      28.081\n",
            "x19         1290.3220     36.108     35.735      0.000    1219.524    1361.120\n",
            "x20           31.4824      7.494      4.201      0.000      16.789      46.176\n",
            "x21           13.4259      7.070      1.899      0.058      -0.437      27.289\n",
            "x22           -7.5363      5.878     -1.282      0.200     -19.062       3.989\n",
            "x23          619.1374     11.553     53.590      0.000     596.485     641.790\n",
            "x24         -236.2426      6.786    -34.813      0.000    -249.548    -222.937\n",
            "x25           33.4097      6.056      5.517      0.000      21.535      45.284\n",
            "x26           30.6780      7.493      4.094      0.000      15.986      45.370\n",
            "x27          136.5632      6.819     20.027      0.000     123.193     149.933\n",
            "x28          -10.4659      6.003     -1.743      0.081     -22.237       1.305\n",
            "x29            4.2866      7.013      0.611      0.541      -9.464      18.037\n",
            "x30          -19.7125      5.974     -3.300      0.001     -31.427      -7.998\n",
            "x31         -298.2522      6.225    -47.910      0.000    -310.458    -286.046\n",
            "x32           33.0835      6.416      5.156      0.000      20.502      45.665\n",
            "x33         1.611e+14   1.66e+14      0.968      0.333   -1.65e+14    4.87e+14\n",
            "x34        -9.394e+13    9.7e+13     -0.968      0.333   -2.84e+14    9.63e+13\n",
            "x35         -129.9133     47.120     -2.757      0.006    -222.304     -37.522\n",
            "x36          -30.9492     24.963     -1.240      0.215     -79.895      17.997\n",
            "x37           22.3999      8.306      2.697      0.007       6.115      38.685\n",
            "x38           12.9174     12.305      1.050      0.294     -11.210      37.045\n",
            "x39           22.0013     20.703      1.063      0.288     -18.592      62.594\n",
            "x40         2.551e+14   2.63e+14      0.968      0.333   -2.61e+14    7.72e+14\n",
            "x41         2.551e+14   2.63e+14      0.968      0.333   -2.61e+14    7.72e+14\n",
            "x42         2.551e+14   2.63e+14      0.968      0.333   -2.61e+14    7.72e+14\n",
            "x43         1.611e+14   1.66e+14      0.968      0.333   -1.65e+14    4.87e+14\n",
            "x44           34.7703     16.848      2.064      0.039       1.736      67.805\n",
            "==============================================================================\n",
            "Omnibus:                      856.278   Durbin-Watson:                   1.980\n",
            "Prob(Omnibus):                  0.000   Jarque-Bera (JB):             3222.425\n",
            "Skew:                           1.342   Prob(JB):                         0.00\n",
            "Kurtosis:                       7.245   Cond. No.                     2.26e+15\n",
            "==============================================================================\n",
            "\n",
            "Warnings:\n",
            "[1] Standard Errors assume that the covariance matrix of the errors is correctly specified.\n",
            "[2] The smallest eigenvalue is 5.89e-27. This might indicate that there are\n",
            "strong multicollinearity problems or that the design matrix is singular.\n"
          ],
          "name": "stdout"
        }
      ]
    },
    {
      "cell_type": "code",
      "metadata": {
        "id": "l20SbHn4AP5z",
        "outputId": "0503adac-a99e-45c9-8e23-cb368b0a268f",
        "colab": {
          "base_uri": "https://localhost:8080/"
        }
      },
      "source": [
        "#10 execurções exclui um e roda novamente\n",
        "listaOptNumerica = removerLitaOp(29, listaOptNumerica) #0,541\n",
        "X_opt = X[:,listaOptNumerica]\n",
        "regressor_OLS = sm.OLS(endog=y_train, exog=X_opt).fit()\n",
        "print(regressor_OLS.summary())"
      ],
      "execution_count": null,
      "outputs": [
        {
          "output_type": "stream",
          "text": [
            "                            OLS Regression Results                            \n",
            "==============================================================================\n",
            "Dep. Variable:                      y   R-squared:                       0.929\n",
            "Model:                            OLS   Adj. R-squared:                  0.928\n",
            "Method:                 Least Squares   F-statistic:                     957.9\n",
            "Date:                Sat, 19 Sep 2020   Prob (F-statistic):               0.00\n",
            "Time:                        00:18:24   Log-Likelihood:                -22010.\n",
            "No. Observations:                3066   AIC:                         4.410e+04\n",
            "Df Residuals:                    3024   BIC:                         4.436e+04\n",
            "Df Model:                          41                                         \n",
            "Covariance Type:            nonrobust                                         \n",
            "==============================================================================\n",
            "                 coef    std err          t      P>|t|      [0.025      0.975]\n",
            "------------------------------------------------------------------------------\n",
            "const       6.611e+14   6.65e+14      0.994      0.320   -6.42e+14    1.96e+15\n",
            "x1            34.4556      6.472      5.324      0.000      21.765      47.146\n",
            "x2            -6.9110      7.400     -0.934      0.350     -21.421       7.599\n",
            "x3            48.2843     30.902      1.562      0.118     -12.307     108.876\n",
            "x4          -133.4634     42.220     -3.161      0.002    -216.247     -50.680\n",
            "x5           -26.2893      7.123     -3.691      0.000     -40.255     -12.324\n",
            "x6           -24.4171      6.268     -3.896      0.000     -36.707     -12.127\n",
            "x7           504.7534     10.469     48.214      0.000     484.226     525.280\n",
            "x8           -69.9049      6.008    -11.634      0.000     -81.686     -58.124\n",
            "x9           217.6354      7.346     29.626      0.000     203.232     232.039\n",
            "x10           15.2857      9.152      1.670      0.095      -2.660      33.231\n",
            "x11            9.0329      7.524      1.201      0.230      -5.720      23.785\n",
            "x12           15.7517      5.928      2.657      0.008       4.128      27.375\n",
            "x13           37.9937     16.199      2.345      0.019       6.232      69.756\n",
            "x14         -374.7445     25.396    -14.756      0.000    -424.539    -324.950\n",
            "x15           23.5343      6.878      3.422      0.001      10.048      37.020\n",
            "x16           61.1077      8.361      7.309      0.000      44.714      77.501\n",
            "x17          203.0621     79.120      2.567      0.010      47.927     358.197\n",
            "x18           14.0010      7.273      1.925      0.054      -0.259      28.261\n",
            "x19         1290.8518     36.109     35.748      0.000    1220.050    1361.653\n",
            "x20           31.5079      7.490      4.207      0.000      16.822      46.194\n",
            "x21           13.5668      7.071      1.919      0.055      -0.298      27.432\n",
            "x22           -7.5375      5.879     -1.282      0.200     -19.066       3.991\n",
            "x23          619.4487     11.549     53.638      0.000     596.805     642.093\n",
            "x24         -235.9923      6.776    -34.827      0.000    -249.278    -222.706\n",
            "x25           33.3461      6.056      5.506      0.000      21.472      45.220\n",
            "x26           31.0421      7.458      4.162      0.000      16.418      45.666\n",
            "x27          136.5556      6.821     20.021      0.000     123.182     149.929\n",
            "x28          -10.0387      5.976     -1.680      0.093     -21.756       1.679\n",
            "x29          -19.7530      5.976     -3.306      0.001     -31.470      -8.036\n",
            "x30         -298.1753      6.225    -47.902      0.000    -310.380    -285.970\n",
            "x31           33.0179      6.418      5.145      0.000      20.434      45.602\n",
            "x32         1.983e+14   1.99e+14      0.994      0.320   -1.93e+14    5.89e+14\n",
            "x33        -3.305e+13   3.32e+13     -0.994      0.320   -9.82e+13    3.21e+13\n",
            "x34         -132.2444     47.036     -2.812      0.005    -224.469     -40.020\n",
            "x35          -29.6307     24.869     -1.191      0.234     -78.393      19.132\n",
            "x36           21.4229      8.210      2.609      0.009       5.324      37.521\n",
            "x37           12.5651     12.294      1.022      0.307     -11.539      36.670\n",
            "x38           21.6174     20.704      1.044      0.297     -18.978      62.213\n",
            "x39         2.314e+14   2.33e+14      0.994      0.320   -2.25e+14    6.88e+14\n",
            "x40         2.314e+14   2.33e+14      0.994      0.320   -2.25e+14    6.88e+14\n",
            "x41         2.314e+14   2.33e+14      0.994      0.320   -2.25e+14    6.88e+14\n",
            "x42         1.983e+14   1.99e+14      0.994      0.320   -1.93e+14    5.89e+14\n",
            "x43           34.3431     16.846      2.039      0.042       1.313      67.373\n",
            "==============================================================================\n",
            "Omnibus:                      859.524   Durbin-Watson:                   1.979\n",
            "Prob(Omnibus):                  0.000   Jarque-Bera (JB):             3238.073\n",
            "Skew:                           1.347   Prob(JB):                         0.00\n",
            "Kurtosis:                       7.254   Cond. No.                     1.07e+16\n",
            "==============================================================================\n",
            "\n",
            "Warnings:\n",
            "[1] Standard Errors assume that the covariance matrix of the errors is correctly specified.\n",
            "[2] The smallest eigenvalue is 2.63e-28. This might indicate that there are\n",
            "strong multicollinearity problems or that the design matrix is singular.\n"
          ],
          "name": "stdout"
        }
      ]
    },
    {
      "cell_type": "code",
      "metadata": {
        "id": "GpCApDzVAkZl",
        "outputId": "c5d64537-9de1-4958-e460-b79db55a9a6c",
        "colab": {
          "base_uri": "https://localhost:8080/"
        }
      },
      "source": [
        "#11 execurções exclui um e roda novamente\n",
        "listaOptNumerica = removerLitaOp(2, listaOptNumerica) #0,350\n",
        "X_opt = X[:,listaOptNumerica]\n",
        "regressor_OLS = sm.OLS(endog=y_train, exog=X_opt).fit()\n",
        "print(regressor_OLS.summary())"
      ],
      "execution_count": null,
      "outputs": [
        {
          "output_type": "stream",
          "text": [
            "                            OLS Regression Results                            \n",
            "==============================================================================\n",
            "Dep. Variable:                      y   R-squared:                       0.928\n",
            "Model:                            OLS   Adj. R-squared:                  0.927\n",
            "Method:                 Least Squares   F-statistic:                     980.3\n",
            "Date:                Sat, 19 Sep 2020   Prob (F-statistic):               0.00\n",
            "Time:                        00:18:24   Log-Likelihood:                -22012.\n",
            "No. Observations:                3066   AIC:                         4.411e+04\n",
            "Df Residuals:                    3025   BIC:                         4.435e+04\n",
            "Df Model:                          40                                         \n",
            "Covariance Type:            nonrobust                                         \n",
            "==============================================================================\n",
            "                 coef    std err          t      P>|t|      [0.025      0.975]\n",
            "------------------------------------------------------------------------------\n",
            "const       6.456e+14   6.65e+14      0.971      0.332   -6.58e+14    1.95e+15\n",
            "x1            34.6811      6.475      5.357      0.000      21.986      47.376\n",
            "x2            51.2688     30.738      1.668      0.095      -9.000     111.537\n",
            "x3          -132.3972     42.238     -3.135      0.002    -215.216     -49.578\n",
            "x4           -26.3825      7.124     -3.703      0.000     -40.350     -12.415\n",
            "x5           -24.0974      6.266     -3.846      0.000     -36.384     -11.811\n",
            "x6           504.7734     10.477     48.178      0.000     484.230     525.317\n",
            "x7           -70.5851      5.965    -11.833      0.000     -82.281     -58.889\n",
            "x8           217.9993      7.348     29.667      0.000     203.591     232.407\n",
            "x9            15.9906      9.140      1.749      0.080      -1.931      33.912\n",
            "x10            8.8020      7.528      1.169      0.242      -5.958      23.562\n",
            "x11           16.2210      5.918      2.741      0.006       4.616      27.826\n",
            "x12           37.8167     16.209      2.333      0.020       6.035      69.599\n",
            "x13         -374.4418     25.415    -14.733      0.000    -424.274    -324.609\n",
            "x14           23.8045      6.875      3.462      0.001      10.324      37.285\n",
            "x15           60.3935      8.337      7.244      0.000      44.046      76.741\n",
            "x16          200.2850     79.126      2.531      0.011      45.139     355.431\n",
            "x17           13.3394      7.243      1.842      0.066      -0.862      27.541\n",
            "x18         1291.3636     36.127     35.746      0.000    1220.528    1362.199\n",
            "x19           31.6946      7.493      4.230      0.000      17.003      46.386\n",
            "x20           13.6779      7.073      1.934      0.053      -0.191      27.547\n",
            "x21           -7.6978      5.881     -1.309      0.191     -19.229       3.833\n",
            "x22          619.9404     11.542     53.713      0.000     597.310     642.571\n",
            "x23         -235.9311      6.781    -34.795      0.000    -249.226    -222.636\n",
            "x24           33.3534      6.060      5.504      0.000      21.471      45.236\n",
            "x25           31.1289      7.463      4.171      0.000      16.496      45.761\n",
            "x26          136.2710      6.817     19.990      0.000     122.905     149.637\n",
            "x27          -10.1763      5.979     -1.702      0.089     -21.900       1.548\n",
            "x28          -19.7871      5.980     -3.309      0.001     -31.513      -8.061\n",
            "x29         -298.1705      6.229    -47.866      0.000    -310.385    -285.956\n",
            "x30           33.1987      6.422      5.170      0.000      20.607      45.791\n",
            "x31         1.937e+14   1.99e+14      0.971      0.332   -1.97e+14    5.85e+14\n",
            "x32        -3.228e+13   3.32e+13     -0.971      0.332   -9.75e+13    3.29e+13\n",
            "x33         -129.9647     47.032     -2.763      0.006    -222.183     -37.746\n",
            "x34          -30.8389     24.861     -1.240      0.215     -79.585      17.907\n",
            "x35           21.7954      8.217      2.652      0.008       5.684      37.907\n",
            "x36           11.7891     12.275      0.960      0.337     -12.279      35.857\n",
            "x37           22.4051     20.711      1.082      0.279     -18.204      63.014\n",
            "x38         2.259e+14   2.33e+14      0.971      0.332    -2.3e+14    6.82e+14\n",
            "x39         2.259e+14   2.33e+14      0.971      0.332    -2.3e+14    6.82e+14\n",
            "x40         2.259e+14   2.33e+14      0.971      0.332    -2.3e+14    6.82e+14\n",
            "x41         1.937e+14   1.99e+14      0.971      0.332   -1.97e+14    5.85e+14\n",
            "x42           34.3829     16.857      2.040      0.041       1.330      67.436\n",
            "==============================================================================\n",
            "Omnibus:                      855.280   Durbin-Watson:                   1.977\n",
            "Prob(Omnibus):                  0.000   Jarque-Bera (JB):             3219.540\n",
            "Skew:                           1.340   Prob(JB):                         0.00\n",
            "Kurtosis:                       7.245   Cond. No.                     1.07e+16\n",
            "==============================================================================\n",
            "\n",
            "Warnings:\n",
            "[1] Standard Errors assume that the covariance matrix of the errors is correctly specified.\n",
            "[2] The smallest eigenvalue is 2.63e-28. This might indicate that there are\n",
            "strong multicollinearity problems or that the design matrix is singular.\n"
          ],
          "name": "stdout"
        }
      ]
    },
    {
      "cell_type": "code",
      "metadata": {
        "id": "WybOPEVqA3Y6",
        "outputId": "807bcdcd-039b-4fd3-b069-8dc030ea124d",
        "colab": {
          "base_uri": "https://localhost:8080/"
        }
      },
      "source": [
        "#12 execurções exclui um e roda novamente\n",
        "listaOptNumerica = removerLitaOp(36, listaOptNumerica) #0,337\n",
        "X_opt = X[:,listaOptNumerica]\n",
        "regressor_OLS = sm.OLS(endog=y_train, exog=X_opt).fit()\n",
        "print(regressor_OLS.summary())"
      ],
      "execution_count": null,
      "outputs": [
        {
          "output_type": "stream",
          "text": [
            "                            OLS Regression Results                            \n",
            "==============================================================================\n",
            "Dep. Variable:                      y   R-squared:                       0.929\n",
            "Model:                            OLS   Adj. R-squared:                  0.928\n",
            "Method:                 Least Squares   F-statistic:                     1008.\n",
            "Date:                Sat, 19 Sep 2020   Prob (F-statistic):               0.00\n",
            "Time:                        00:18:25   Log-Likelihood:                -22009.\n",
            "No. Observations:                3066   AIC:                         4.410e+04\n",
            "Df Residuals:                    3026   BIC:                         4.434e+04\n",
            "Df Model:                          39                                         \n",
            "Covariance Type:            nonrobust                                         \n",
            "==============================================================================\n",
            "                 coef    std err          t      P>|t|      [0.025      0.975]\n",
            "------------------------------------------------------------------------------\n",
            "const       6.499e+14   6.64e+14      0.979      0.328   -6.52e+14    1.95e+15\n",
            "x1            33.9861      6.440      5.277      0.000      21.359      46.613\n",
            "x2            49.8294     30.651      1.626      0.104     -10.270     109.928\n",
            "x3          -131.4114     42.166     -3.117      0.002    -214.089     -48.734\n",
            "x4           -27.2363      7.076     -3.849      0.000     -41.110     -13.363\n",
            "x5           -23.8122      6.253     -3.808      0.000     -36.073     -11.551\n",
            "x6           504.5605     10.462     48.227      0.000     484.047     525.074\n",
            "x7           -70.5252      5.957    -11.839      0.000     -82.205     -58.845\n",
            "x8           217.8578      7.338     29.690      0.000     203.470     232.245\n",
            "x9            15.9625      9.128      1.749      0.080      -1.935      33.860\n",
            "x10            8.8288      7.518      1.174      0.240      -5.912      23.569\n",
            "x11           16.3214      5.909      2.762      0.006       4.736      27.907\n",
            "x12           37.9568     16.186      2.345      0.019       6.220      69.693\n",
            "x13         -374.0486     25.377    -14.739      0.000    -423.807    -324.290\n",
            "x14           23.9561      6.866      3.489      0.000      10.494      37.419\n",
            "x15           60.3694      8.325      7.251      0.000      44.045      76.693\n",
            "x16          198.7029     79.005      2.515      0.012      43.794     353.612\n",
            "x17           13.2181      7.234      1.827      0.068      -0.965      27.402\n",
            "x18         1289.9367     36.028     35.804      0.000    1219.296    1360.578\n",
            "x19           31.7137      7.483      4.238      0.000      17.041      46.387\n",
            "x20           13.3527      7.054      1.893      0.058      -0.479      27.185\n",
            "x21           -7.7742      5.874     -1.324      0.186     -19.291       3.743\n",
            "x22          620.1895     11.524     53.818      0.000     597.594     642.785\n",
            "x23         -235.4135      6.749    -34.881      0.000    -248.647    -222.180\n",
            "x24           33.5640      6.048      5.550      0.000      21.706      45.422\n",
            "x25           31.0432      7.454      4.165      0.000      16.427      45.659\n",
            "x26          136.4726      6.803     20.059      0.000     123.133     149.812\n",
            "x27          -10.2859      5.970     -1.723      0.085     -21.992       1.420\n",
            "x28          -19.8192      5.971     -3.319      0.001     -31.528      -8.111\n",
            "x29         -298.3191      6.220    -47.964      0.000    -310.514    -286.124\n",
            "x30           33.2427      6.412      5.184      0.000      20.670      45.815\n",
            "x31          1.95e+14   1.99e+14      0.979      0.328   -1.96e+14    5.86e+14\n",
            "x32        -3.249e+13   3.32e+13     -0.979      0.328   -9.76e+13    3.26e+13\n",
            "x33         -131.3934     46.957     -2.798      0.005    -223.463     -39.323\n",
            "x34          -31.9985     24.797     -1.290      0.197     -80.619      16.623\n",
            "x35           20.2062      8.054      2.509      0.012       4.415      35.998\n",
            "x36           21.6538     20.672      1.047      0.295     -18.880      62.187\n",
            "x37         2.275e+14   2.32e+14      0.979      0.328   -2.28e+14    6.83e+14\n",
            "x38         2.275e+14   2.32e+14      0.979      0.328   -2.28e+14    6.83e+14\n",
            "x39         2.275e+14   2.32e+14      0.979      0.328   -2.28e+14    6.83e+14\n",
            "x40          1.95e+14   1.99e+14      0.979      0.328   -1.96e+14    5.86e+14\n",
            "x41           34.6578     16.832      2.059      0.040       1.654      67.661\n",
            "==============================================================================\n",
            "Omnibus:                      859.567   Durbin-Watson:                   1.981\n",
            "Prob(Omnibus):                  0.000   Jarque-Bera (JB):             3242.872\n",
            "Skew:                           1.346   Prob(JB):                         0.00\n",
            "Kurtosis:                       7.259   Cond. No.                     1.08e+16\n",
            "==============================================================================\n",
            "\n",
            "Warnings:\n",
            "[1] Standard Errors assume that the covariance matrix of the errors is correctly specified.\n",
            "[2] The smallest eigenvalue is 2.4e-28. This might indicate that there are\n",
            "strong multicollinearity problems or that the design matrix is singular.\n"
          ],
          "name": "stdout"
        }
      ]
    },
    {
      "cell_type": "code",
      "metadata": {
        "id": "pGENJ_aFB3C9",
        "outputId": "0892426e-2968-47fb-c647-a94941478f86",
        "colab": {
          "base_uri": "https://localhost:8080/"
        }
      },
      "source": [
        "#13 execurções exclui um e roda novamente\n",
        "listaOptNumerica = removerLitaOp(32, listaOptNumerica) #0,328\n",
        "X_opt = X[:,listaOptNumerica]\n",
        "regressor_OLS = sm.OLS(endog=y_train, exog=X_opt).fit()\n",
        "print(regressor_OLS.summary())"
      ],
      "execution_count": null,
      "outputs": [
        {
          "output_type": "stream",
          "text": [
            "                            OLS Regression Results                            \n",
            "==============================================================================\n",
            "Dep. Variable:                      y   R-squared:                       0.928\n",
            "Model:                            OLS   Adj. R-squared:                  0.927\n",
            "Method:                 Least Squares   F-statistic:                     1003.\n",
            "Date:                Sat, 19 Sep 2020   Prob (F-statistic):               0.00\n",
            "Time:                        00:18:25   Log-Likelihood:                -22016.\n",
            "No. Observations:                3066   AIC:                         4.411e+04\n",
            "Df Residuals:                    3026   BIC:                         4.435e+04\n",
            "Df Model:                          39                                         \n",
            "Covariance Type:            nonrobust                                         \n",
            "==============================================================================\n",
            "                 coef    std err          t      P>|t|      [0.025      0.975]\n",
            "------------------------------------------------------------------------------\n",
            "const       6.457e+14   6.66e+14      0.970      0.332    -6.6e+14    1.95e+15\n",
            "x1            34.0757      6.454      5.280      0.000      21.421      46.730\n",
            "x2            49.9204     30.716      1.625      0.104     -10.306     110.147\n",
            "x3          -131.0618     42.253     -3.102      0.002    -213.909     -48.215\n",
            "x4           -27.2362      7.091     -3.841      0.000     -41.140     -13.333\n",
            "x5           -23.7899      6.267     -3.796      0.000     -36.078     -11.502\n",
            "x6           504.5154     10.484     48.120      0.000     483.958     525.073\n",
            "x7           -70.4578      5.969    -11.803      0.000     -82.162     -58.753\n",
            "x8           217.7793      7.353     29.616      0.000     203.361     232.198\n",
            "x9            16.0074      9.147      1.750      0.080      -1.928      33.943\n",
            "x10            8.7952      7.534      1.167      0.243      -5.977      23.568\n",
            "x11           16.3662      5.922      2.764      0.006       4.756      27.977\n",
            "x12           37.9233     16.221      2.338      0.019       6.118      69.729\n",
            "x13         -373.9604     25.433    -14.704      0.000    -423.829    -324.092\n",
            "x14           23.8889      6.881      3.472      0.001      10.397      37.380\n",
            "x15           60.2911      8.344      7.226      0.000      43.931      76.651\n",
            "x16          198.1502     79.170      2.503      0.012      42.919     353.382\n",
            "x17           13.3077      7.249      1.836      0.067      -0.907      27.522\n",
            "x18         1289.8653     36.106     35.724      0.000    1219.070    1360.660\n",
            "x19           31.7082      7.500      4.228      0.000      17.003      46.413\n",
            "x20           13.3304      7.070      1.886      0.059      -0.532      27.192\n",
            "x21           -7.6510      5.887     -1.300      0.194     -19.193       3.891\n",
            "x22          620.2293     11.548     53.708      0.000     597.586     642.872\n",
            "x23         -235.3910      6.764    -34.803      0.000    -248.653    -222.129\n",
            "x24           33.6200      6.061      5.547      0.000      21.736      45.504\n",
            "x25           31.1779      7.469      4.174      0.000      16.532      45.824\n",
            "x26          136.5028      6.819     20.019      0.000     123.133     149.873\n",
            "x27          -10.2971      5.983     -1.721      0.085     -22.029       1.434\n",
            "x28          -19.8392      5.984     -3.315      0.001     -31.573      -8.106\n",
            "x29         -298.3348      6.233    -47.865      0.000    -310.556    -286.114\n",
            "x30           33.2219      6.426      5.170      0.000      20.622      45.822\n",
            "x31         2.152e+14   2.22e+14      0.970      0.332    -2.2e+14    6.51e+14\n",
            "x32         -131.1453     47.058     -2.787      0.005    -223.415     -38.876\n",
            "x33          -31.9058     24.849     -1.284      0.199     -80.628      16.817\n",
            "x34           20.2996      8.074      2.514      0.012       4.468      36.131\n",
            "x35           21.5973     20.717      1.043      0.297     -19.023      62.218\n",
            "x36         2.152e+14   2.22e+14      0.970      0.332    -2.2e+14    6.51e+14\n",
            "x37         2.152e+14   2.22e+14      0.970      0.332    -2.2e+14    6.51e+14\n",
            "x38         2.152e+14   2.22e+14      0.970      0.332    -2.2e+14    6.51e+14\n",
            "x39         2.152e+14   2.22e+14      0.970      0.332    -2.2e+14    6.51e+14\n",
            "x40           34.8087     16.868      2.064      0.039       1.735      67.882\n",
            "==============================================================================\n",
            "Omnibus:                      864.270   Durbin-Watson:                   1.974\n",
            "Prob(Omnibus):                  0.000   Jarque-Bera (JB):             3267.291\n",
            "Skew:                           1.353   Prob(JB):                         0.00\n",
            "Kurtosis:                       7.272   Cond. No.                     4.11e+14\n",
            "==============================================================================\n",
            "\n",
            "Warnings:\n",
            "[1] Standard Errors assume that the covariance matrix of the errors is correctly specified.\n",
            "[2] The smallest eigenvalue is 1.48e-25. This might indicate that there are\n",
            "strong multicollinearity problems or that the design matrix is singular.\n"
          ],
          "name": "stdout"
        }
      ]
    },
    {
      "cell_type": "code",
      "metadata": {
        "id": "-ukjKcleDa0_",
        "outputId": "9435697f-3d52-4f12-a5c9-d764ca27a168",
        "colab": {
          "base_uri": "https://localhost:8080/"
        }
      },
      "source": [
        "#14 execurções exclui um e roda novamente\n",
        "listaOptNumerica = removerLitaOp(39, listaOptNumerica) #0,332\n",
        "X_opt = X[:,listaOptNumerica]\n",
        "regressor_OLS = sm.OLS(endog=y_train, exog=X_opt).fit()\n",
        "print(regressor_OLS.summary())"
      ],
      "execution_count": null,
      "outputs": [
        {
          "output_type": "stream",
          "text": [
            "                            OLS Regression Results                            \n",
            "==============================================================================\n",
            "Dep. Variable:                      y   R-squared:                       0.929\n",
            "Model:                            OLS   Adj. R-squared:                  0.928\n",
            "Method:                 Least Squares   F-statistic:                     1008.\n",
            "Date:                Sat, 19 Sep 2020   Prob (F-statistic):               0.00\n",
            "Time:                        00:18:25   Log-Likelihood:                -22009.\n",
            "No. Observations:                3066   AIC:                         4.410e+04\n",
            "Df Residuals:                    3026   BIC:                         4.434e+04\n",
            "Df Model:                          39                                         \n",
            "Covariance Type:            nonrobust                                         \n",
            "==============================================================================\n",
            "                 coef    std err          t      P>|t|      [0.025      0.975]\n",
            "------------------------------------------------------------------------------\n",
            "const       7563.6231    557.582     13.565      0.000    6470.346    8656.900\n",
            "x1            34.0310      6.440      5.285      0.000      21.405      46.657\n",
            "x2            50.1775     30.648      1.637      0.102      -9.916     110.271\n",
            "x3          -130.7265     42.159     -3.101      0.002    -213.390     -48.063\n",
            "x4           -27.2250      7.075     -3.848      0.000     -41.098     -13.352\n",
            "x5           -23.8122      6.253     -3.808      0.000     -36.073     -11.551\n",
            "x6           504.4707     10.461     48.222      0.000     483.958     524.983\n",
            "x7           -70.4578      5.956    -11.829      0.000     -82.137     -58.779\n",
            "x8           217.8016      7.337     29.684      0.000     203.415     232.188\n",
            "x9            16.0074      9.128      1.754      0.080      -1.889      33.904\n",
            "x10            8.8288      7.518      1.174      0.240      -5.911      23.569\n",
            "x11           16.3438      5.909      2.766      0.006       4.759      27.929\n",
            "x12           37.9792     16.186      2.346      0.019       6.244      69.715\n",
            "x13         -374.2956     25.375    -14.750      0.000    -424.050    -324.541\n",
            "x14           23.9224      6.866      3.484      0.001      10.461      37.384\n",
            "x15           60.3694      8.325      7.251      0.000      44.046      76.693\n",
            "x16          197.6138     78.995      2.502      0.012      42.725     352.503\n",
            "x17           13.2574      7.233      1.833      0.067      -0.926      27.440\n",
            "x18         1290.2117     36.025     35.814      0.000    1219.575    1360.849\n",
            "x19           31.7250      7.483      4.239      0.000      17.052      46.398\n",
            "x20           13.3640      7.054      1.894      0.058      -0.468      27.196\n",
            "x21           -7.7181      5.873     -1.314      0.189     -19.234       3.798\n",
            "x22          620.3243     11.523     53.835      0.000     597.731     642.917\n",
            "x23         -235.3798      6.749    -34.877      0.000    -248.613    -222.147\n",
            "x24           33.5977      6.048      5.556      0.000      21.740      45.455\n",
            "x25           31.1555      7.453      4.180      0.000      16.542      45.769\n",
            "x26          136.3491      6.802     20.045      0.000     123.012     149.686\n",
            "x27          -10.2747      5.970     -1.721      0.085     -21.980       1.431\n",
            "x28          -19.8305      5.971     -3.321      0.001     -31.538      -8.123\n",
            "x29         -298.3865      6.219    -47.979      0.000    -310.581    -286.192\n",
            "x30           33.2708      6.412      5.189      0.000      20.699      45.843\n",
            "x31           95.1602     64.843      1.468      0.142     -31.982     222.302\n",
            "x32         -131.3541     46.955     -2.797      0.005    -223.421     -39.287\n",
            "x33          -31.4981     24.791     -1.271      0.204     -80.107      17.111\n",
            "x34           20.0055      8.051      2.485      0.013       4.220      35.791\n",
            "x35           21.5247     20.671      1.041      0.298     -19.007      62.056\n",
            "x36         1556.2082    195.847      7.946      0.000    1172.202    1940.214\n",
            "x37         1698.5586    199.001      8.535      0.000    1308.367    2088.750\n",
            "x38          445.8961    200.352      2.226      0.026      53.056     838.736\n",
            "x39           34.8171     16.831      2.069      0.039       1.816      67.818\n",
            "==============================================================================\n",
            "Omnibus:                      860.469   Durbin-Watson:                   1.982\n",
            "Prob(Omnibus):                  0.000   Jarque-Bera (JB):             3248.913\n",
            "Skew:                           1.347   Prob(JB):                         0.00\n",
            "Kurtosis:                       7.263   Cond. No.                         306.\n",
            "==============================================================================\n",
            "\n",
            "Warnings:\n",
            "[1] Standard Errors assume that the covariance matrix of the errors is correctly specified.\n"
          ],
          "name": "stdout"
        }
      ]
    },
    {
      "cell_type": "code",
      "metadata": {
        "id": "hd-2sbpRFMOY",
        "outputId": "7912e093-eb9f-41a5-8fe8-f993ff990dc8",
        "colab": {
          "base_uri": "https://localhost:8080/"
        }
      },
      "source": [
        "#15 execurções exclui um e roda novamente\n",
        "listaOptNumerica = removerLitaOp(35, listaOptNumerica) #0,298\n",
        "X_opt = X[:,listaOptNumerica]\n",
        "regressor_OLS = sm.OLS(endog=y_train, exog=X_opt).fit()\n",
        "print(regressor_OLS.summary())"
      ],
      "execution_count": null,
      "outputs": [
        {
          "output_type": "stream",
          "text": [
            "                            OLS Regression Results                            \n",
            "==============================================================================\n",
            "Dep. Variable:                      y   R-squared:                       0.929\n",
            "Model:                            OLS   Adj. R-squared:                  0.928\n",
            "Method:                 Least Squares   F-statistic:                     1035.\n",
            "Date:                Sat, 19 Sep 2020   Prob (F-statistic):               0.00\n",
            "Time:                        00:18:25   Log-Likelihood:                -22010.\n",
            "No. Observations:                3066   AIC:                         4.410e+04\n",
            "Df Residuals:                    3027   BIC:                         4.433e+04\n",
            "Df Model:                          38                                         \n",
            "Covariance Type:            nonrobust                                         \n",
            "==============================================================================\n",
            "                 coef    std err          t      P>|t|      [0.025      0.975]\n",
            "------------------------------------------------------------------------------\n",
            "const       7510.4338    555.245     13.526      0.000    6421.739    8599.129\n",
            "x1            34.0730      6.440      5.291      0.000      21.447      46.699\n",
            "x2            56.9495     29.950      1.901      0.057      -1.776     115.675\n",
            "x3          -131.7220     42.149     -3.125      0.002    -214.366     -49.079\n",
            "x4           -26.9278      7.070     -3.809      0.000     -40.790     -13.066\n",
            "x5           -23.2679      6.231     -3.734      0.000     -35.486     -11.050\n",
            "x6           504.0360     10.453     48.218      0.000     483.540     524.532\n",
            "x7           -70.5863      5.955    -11.853      0.000     -82.263     -58.910\n",
            "x8           217.7237      7.337     29.674      0.000     203.337     232.110\n",
            "x9            15.7502      9.124      1.726      0.084      -2.140      33.641\n",
            "x10            8.7549      7.517      1.165      0.244      -5.985      23.494\n",
            "x11           16.2897      5.908      2.757      0.006       4.705      27.875\n",
            "x12           37.7693     16.184      2.334      0.020       6.036      69.503\n",
            "x13         -372.9487     25.343    -14.716      0.000    -422.639    -323.258\n",
            "x14           23.7396      6.864      3.459      0.001      10.282      37.197\n",
            "x15           60.3361      8.325      7.247      0.000      44.012      76.660\n",
            "x16          200.0669     78.961      2.534      0.011      45.245     354.889\n",
            "x17           13.2211      7.233      1.828      0.068      -0.962      27.404\n",
            "x18         1289.1528     36.012     35.798      0.000    1218.543    1359.763\n",
            "x19           31.6620      7.483      4.231      0.000      16.990      46.334\n",
            "x20           13.3583      7.054      1.894      0.058      -0.474      27.190\n",
            "x21           -7.7584      5.873     -1.321      0.187     -19.275       3.758\n",
            "x22          619.8113     11.512     53.839      0.000     597.239     642.384\n",
            "x23         -235.1276      6.745    -34.862      0.000    -248.352    -221.903\n",
            "x24           33.7926      6.045      5.590      0.000      21.940      45.645\n",
            "x25           30.9945      7.452      4.159      0.000      16.384      45.605\n",
            "x26          136.7284      6.792     20.130      0.000     123.410     150.047\n",
            "x27          -10.1457      5.969     -1.700      0.089     -21.849       1.558\n",
            "x28          -19.9033      5.971     -3.333      0.001     -31.611      -8.196\n",
            "x29         -298.3595      6.219    -47.975      0.000    -310.554    -286.165\n",
            "x30           33.4733      6.409      5.223      0.000      20.907      46.040\n",
            "x31           85.7697     64.214      1.336      0.182     -40.138     211.678\n",
            "x32         -131.4588     46.956     -2.800      0.005    -223.527     -39.390\n",
            "x33          -26.1321     24.250     -1.078      0.281     -73.680      21.416\n",
            "x34           19.5174      8.037      2.428      0.015       3.758      35.277\n",
            "x35         1544.1317    195.506      7.898      0.000    1160.794    1927.469\n",
            "x36         1683.4296    198.473      8.482      0.000    1294.274    2072.585\n",
            "x37          433.3266    199.991      2.167      0.030      41.195     825.458\n",
            "x38           35.1220     16.829      2.087      0.037       2.125      68.118\n",
            "==============================================================================\n",
            "Omnibus:                      862.178   Durbin-Watson:                   1.983\n",
            "Prob(Omnibus):                  0.000   Jarque-Bera (JB):             3266.304\n",
            "Skew:                           1.349   Prob(JB):                         0.00\n",
            "Kurtosis:                       7.276   Cond. No.                         286.\n",
            "==============================================================================\n",
            "\n",
            "Warnings:\n",
            "[1] Standard Errors assume that the covariance matrix of the errors is correctly specified.\n"
          ],
          "name": "stdout"
        }
      ]
    },
    {
      "cell_type": "code",
      "metadata": {
        "id": "BEhy1G2OFexP",
        "outputId": "744a4771-428b-4e4b-c831-3ec626c5ce12",
        "colab": {
          "base_uri": "https://localhost:8080/"
        }
      },
      "source": [
        "#16 execurções exclui um e roda novamente\n",
        "listaOptNumerica = removerLitaOp(33, listaOptNumerica) #0,281\n",
        "X_opt = X[:,listaOptNumerica]\n",
        "regressor_OLS = sm.OLS(endog=y_train, exog=X_opt).fit()\n",
        "print(regressor_OLS.summary())"
      ],
      "execution_count": null,
      "outputs": [
        {
          "output_type": "stream",
          "text": [
            "                            OLS Regression Results                            \n",
            "==============================================================================\n",
            "Dep. Variable:                      y   R-squared:                       0.928\n",
            "Model:                            OLS   Adj. R-squared:                  0.928\n",
            "Method:                 Least Squares   F-statistic:                     1063.\n",
            "Date:                Sat, 19 Sep 2020   Prob (F-statistic):               0.00\n",
            "Time:                        00:18:25   Log-Likelihood:                -22010.\n",
            "No. Observations:                3066   AIC:                         4.410e+04\n",
            "Df Residuals:                    3028   BIC:                         4.433e+04\n",
            "Df Model:                          37                                         \n",
            "Covariance Type:            nonrobust                                         \n",
            "==============================================================================\n",
            "                 coef    std err          t      P>|t|      [0.025      0.975]\n",
            "------------------------------------------------------------------------------\n",
            "const       7309.5514    523.030     13.975      0.000    6284.021    8335.082\n",
            "x1            33.9167      6.438      5.268      0.000      21.293      46.540\n",
            "x2            86.0027     13.045      6.593      0.000      60.426     111.580\n",
            "x3          -133.0674     42.132     -3.158      0.002    -215.677     -50.458\n",
            "x4           -26.6591      7.066     -3.773      0.000     -40.513     -12.805\n",
            "x5           -23.2439      6.231     -3.730      0.000     -35.462     -11.026\n",
            "x6           503.2388     10.427     48.261      0.000     482.793     523.684\n",
            "x7           -70.7700      5.953    -11.888      0.000     -82.442     -59.098\n",
            "x8           217.7128      7.337     29.672      0.000     203.326     232.099\n",
            "x9            15.6995      9.124      1.721      0.085      -2.191      33.590\n",
            "x10            8.8701      7.517      1.180      0.238      -5.868      23.609\n",
            "x11           16.0899      5.906      2.724      0.006       4.510      27.669\n",
            "x12           37.2552     16.178      2.303      0.021       5.535      68.976\n",
            "x13         -370.4508     25.237    -14.679      0.000    -419.935    -320.967\n",
            "x14           23.4631      6.859      3.421      0.001      10.014      36.912\n",
            "x15           60.8587      8.311      7.322      0.000      44.562      77.155\n",
            "x16          201.3178     78.954      2.550      0.011      46.508     356.127\n",
            "x17           12.7387      7.220      1.764      0.078      -1.417      26.895\n",
            "x18         1288.6360     36.009     35.786      0.000    1218.031    1359.241\n",
            "x19           31.4249      7.480      4.201      0.000      16.758      46.091\n",
            "x20           13.1718      7.052      1.868      0.062      -0.656      27.000\n",
            "x21           -7.9026      5.872     -1.346      0.178     -19.416       3.611\n",
            "x22          618.6025     11.458     53.990      0.000     596.137     641.068\n",
            "x23         -234.8928      6.741    -34.844      0.000    -248.111    -221.675\n",
            "x24           33.8748      6.044      5.604      0.000      22.023      45.726\n",
            "x25           30.9018      7.451      4.147      0.000      16.292      45.512\n",
            "x26          137.0764      6.785     20.203      0.000     123.773     150.380\n",
            "x27           -9.8286      5.962     -1.649      0.099     -21.518       1.861\n",
            "x28          -19.8889      5.971     -3.331      0.001     -31.596      -8.181\n",
            "x29         -298.3299      6.219    -47.969      0.000    -310.524    -286.136\n",
            "x30           33.3661      6.408      5.207      0.000      20.801      45.931\n",
            "x31           40.3886     48.478      0.833      0.405     -54.664     135.442\n",
            "x32         -128.4208     46.872     -2.740      0.006    -220.326     -36.516\n",
            "x33           19.4033      8.037      2.414      0.016       3.645      35.162\n",
            "x34         1467.9327    182.275      8.053      0.000    1110.537    1825.328\n",
            "x35         1600.6085    182.993      8.747      0.000    1241.806    1959.411\n",
            "x36          350.6048    184.677      1.898      0.058     -11.499     712.709\n",
            "x37           34.3614     16.814      2.044      0.041       1.393      67.330\n",
            "==============================================================================\n",
            "Omnibus:                      862.387   Durbin-Watson:                   1.984\n",
            "Prob(Omnibus):                  0.000   Jarque-Bera (JB):             3264.513\n",
            "Skew:                           1.350   Prob(JB):                         0.00\n",
            "Kurtosis:                       7.274   Cond. No.                         264.\n",
            "==============================================================================\n",
            "\n",
            "Warnings:\n",
            "[1] Standard Errors assume that the covariance matrix of the errors is correctly specified.\n"
          ],
          "name": "stdout"
        }
      ]
    },
    {
      "cell_type": "code",
      "metadata": {
        "id": "mRSsCDR5GBuv",
        "outputId": "bbe6f67a-c29a-4469-c5f6-4743e30eb1ae",
        "colab": {
          "base_uri": "https://localhost:8080/"
        }
      },
      "source": [
        "#17 execurções exclui um e roda novamente\n",
        "listaOptNumerica = removerLitaOp(31, listaOptNumerica) #0,405\n",
        "X_opt = X[:,listaOptNumerica]\n",
        "regressor_OLS = sm.OLS(endog=y_train, exog=X_opt).fit()\n",
        "print(regressor_OLS.summary())"
      ],
      "execution_count": null,
      "outputs": [
        {
          "output_type": "stream",
          "text": [
            "                            OLS Regression Results                            \n",
            "==============================================================================\n",
            "Dep. Variable:                      y   R-squared:                       0.928\n",
            "Model:                            OLS   Adj. R-squared:                  0.928\n",
            "Method:                 Least Squares   F-statistic:                     1092.\n",
            "Date:                Sat, 19 Sep 2020   Prob (F-statistic):               0.00\n",
            "Time:                        00:18:25   Log-Likelihood:                -22010.\n",
            "No. Observations:                3066   AIC:                         4.409e+04\n",
            "Df Residuals:                    3029   BIC:                         4.432e+04\n",
            "Df Model:                          36                                         \n",
            "Covariance Type:            nonrobust                                         \n",
            "==============================================================================\n",
            "                 coef    std err          t      P>|t|      [0.025      0.975]\n",
            "------------------------------------------------------------------------------\n",
            "const       7310.4168    523.003     13.978      0.000    6284.940    8335.894\n",
            "x1            33.7675      6.435      5.247      0.000      21.150      46.385\n",
            "x2            88.9952     12.540      7.097      0.000      64.408     113.582\n",
            "x3          -140.7593     41.106     -3.424      0.001    -221.357     -60.162\n",
            "x4           -26.2043      7.044     -3.720      0.000     -40.016     -12.393\n",
            "x5           -23.2843      6.231     -3.737      0.000     -35.502     -11.067\n",
            "x6           502.6419     10.402     48.321      0.000     482.246     523.038\n",
            "x7           -70.6825      5.952    -11.876      0.000     -82.352     -59.013\n",
            "x8           218.0238      7.327     29.754      0.000     203.657     232.391\n",
            "x9            15.6199      9.123      1.712      0.087      -2.269      33.509\n",
            "x10            5.3332      6.203      0.860      0.390      -6.829      17.495\n",
            "x11           16.0773      5.905      2.722      0.007       4.498      27.656\n",
            "x12           36.7994     16.168      2.276      0.023       5.098      68.500\n",
            "x13         -368.7916     25.157    -14.659      0.000    -418.119    -319.465\n",
            "x14           23.2538      6.854      3.393      0.001       9.815      36.693\n",
            "x15           58.9436      7.987      7.380      0.000      43.284      74.604\n",
            "x16          213.5953     77.563      2.754      0.006      61.514     365.677\n",
            "x17           11.7780      7.127      1.653      0.099      -2.196      25.752\n",
            "x18         1289.0150     36.005     35.801      0.000    1218.419    1359.611\n",
            "x19           32.2046      7.421      4.340      0.000      17.654      46.755\n",
            "x20           13.5863      7.034      1.931      0.054      -0.206      27.379\n",
            "x21           -7.8352      5.871     -1.335      0.182     -19.347       3.677\n",
            "x22          618.0509     11.438     54.035      0.000     595.624     640.478\n",
            "x23         -234.5881      6.731    -34.852      0.000    -247.786    -221.390\n",
            "x24           33.9025      6.044      5.609      0.000      22.052      45.753\n",
            "x25           29.4651      7.249      4.065      0.000      15.252      43.678\n",
            "x26          137.1633      6.784     20.219      0.000     123.862     150.465\n",
            "x27          -10.0895      5.953     -1.695      0.090     -21.762       1.583\n",
            "x28          -19.8816      5.971     -3.330      0.001     -31.589      -8.175\n",
            "x29         -298.1398      6.215    -47.973      0.000    -310.325    -285.954\n",
            "x30           33.4056      6.408      5.213      0.000      20.842      45.970\n",
            "x31         -129.0735     46.863     -2.754      0.006    -220.961     -37.186\n",
            "x32           19.6412      8.031      2.446      0.015       3.894      35.389\n",
            "x33         1456.4784    181.747      8.014      0.000    1100.119    1812.838\n",
            "x34         1589.0650    182.458      8.709      0.000    1231.310    1946.820\n",
            "x35          337.8040    184.027      1.836      0.067     -23.027     698.635\n",
            "x36           32.1206     16.597      1.935      0.053      -0.422      64.663\n",
            "==============================================================================\n",
            "Omnibus:                      862.510   Durbin-Watson:                   1.986\n",
            "Prob(Omnibus):                  0.000   Jarque-Bera (JB):             3264.914\n",
            "Skew:                           1.350   Prob(JB):                         0.00\n",
            "Kurtosis:                       7.274   Cond. No.                         244.\n",
            "==============================================================================\n",
            "\n",
            "Warnings:\n",
            "[1] Standard Errors assume that the covariance matrix of the errors is correctly specified.\n"
          ],
          "name": "stdout"
        }
      ]
    },
    {
      "cell_type": "code",
      "metadata": {
        "id": "ygsfRrdyGQYR",
        "outputId": "1f334a23-93a3-48c0-9a87-e627a88deadb",
        "colab": {
          "base_uri": "https://localhost:8080/"
        }
      },
      "source": [
        "#18 execurções exclui um e roda novamente\n",
        "listaOptNumerica = removerLitaOp(10, listaOptNumerica) #0,390\n",
        "X_opt = X[:,listaOptNumerica]\n",
        "regressor_OLS = sm.OLS(endog=y_train, exog=X_opt).fit()\n",
        "print(regressor_OLS.summary())"
      ],
      "execution_count": null,
      "outputs": [
        {
          "output_type": "stream",
          "text": [
            "                            OLS Regression Results                            \n",
            "==============================================================================\n",
            "Dep. Variable:                      y   R-squared:                       0.928\n",
            "Model:                            OLS   Adj. R-squared:                  0.928\n",
            "Method:                 Least Squares   F-statistic:                     1123.\n",
            "Date:                Sat, 19 Sep 2020   Prob (F-statistic):               0.00\n",
            "Time:                        00:18:25   Log-Likelihood:                -22011.\n",
            "No. Observations:                3066   AIC:                         4.409e+04\n",
            "Df Residuals:                    3030   BIC:                         4.431e+04\n",
            "Df Model:                          35                                         \n",
            "Covariance Type:            nonrobust                                         \n",
            "==============================================================================\n",
            "                 coef    std err          t      P>|t|      [0.025      0.975]\n",
            "------------------------------------------------------------------------------\n",
            "const       7292.2028    522.551     13.955      0.000    6267.612    8316.794\n",
            "x1            33.2633      6.408      5.191      0.000      20.698      45.828\n",
            "x2            87.6945     12.448      7.045      0.000      63.288     112.101\n",
            "x3          -138.8553     41.044     -3.383      0.001    -219.332     -58.378\n",
            "x4           -26.3325      7.042     -3.739      0.000     -40.141     -12.524\n",
            "x5           -23.5690      6.222     -3.788      0.000     -35.769     -11.369\n",
            "x6           502.9769     10.394     48.389      0.000     482.596     523.358\n",
            "x7           -70.7880      5.950    -11.897      0.000     -82.455     -59.121\n",
            "x8           217.6437      7.314     29.758      0.000     203.303     231.984\n",
            "x9            16.0290      9.111      1.759      0.079      -1.835      33.893\n",
            "x10           16.1495      5.905      2.735      0.006       4.572      27.727\n",
            "x11           38.5477     16.039      2.403      0.016       7.100      69.996\n",
            "x12         -369.6970     25.134    -14.709      0.000    -418.979    -320.415\n",
            "x13           23.8025      6.824      3.488      0.000      10.423      37.182\n",
            "x14           58.5307      7.972      7.342      0.000      42.900      74.162\n",
            "x15          215.5447     77.527      2.780      0.005      63.535     367.555\n",
            "x16           12.3758      7.092      1.745      0.081      -1.531      26.282\n",
            "x17         1284.6336     35.641     36.044      0.000    1214.751    1354.516\n",
            "x18           32.6573      7.402      4.412      0.000      18.144      47.171\n",
            "x19           13.1895      7.019      1.879      0.060      -0.573      26.952\n",
            "x20           -7.7148      5.869     -1.314      0.189     -19.223       3.793\n",
            "x21          618.4002     11.430     54.102      0.000     595.988     640.812\n",
            "x22         -234.7117      6.729    -34.880      0.000    -247.906    -221.517\n",
            "x23           34.0680      6.041      5.640      0.000      22.224      45.912\n",
            "x24           29.6728      7.244      4.096      0.000      15.468      43.877\n",
            "x25          137.5645      6.767     20.327      0.000     124.295     150.834\n",
            "x26          -10.1213      5.953     -1.700      0.089     -21.793       1.551\n",
            "x27          -19.9937      5.969     -3.350      0.001     -31.697      -8.290\n",
            "x28         -298.2629      6.213    -48.008      0.000    -310.445    -286.081\n",
            "x29           33.7225      6.397      5.272      0.000      21.180      46.265\n",
            "x30         -128.2388     46.851     -2.737      0.006    -220.102     -36.375\n",
            "x31           19.5810      8.031      2.438      0.015       3.835      35.327\n",
            "x32         1449.0861    181.535      7.982      0.000    1093.141    1805.031\n",
            "x33         1581.4665    182.236      8.678      0.000    1224.147    1938.786\n",
            "x34          333.1512    183.940      1.811      0.070     -27.508     693.810\n",
            "x35           33.4562     16.523      2.025      0.043       1.058      65.854\n",
            "==============================================================================\n",
            "Omnibus:                      861.541   Durbin-Watson:                   1.986\n",
            "Prob(Omnibus):                  0.000   Jarque-Bera (JB):             3261.559\n",
            "Skew:                           1.348   Prob(JB):                         0.00\n",
            "Kurtosis:                       7.273   Cond. No.                         244.\n",
            "==============================================================================\n",
            "\n",
            "Warnings:\n",
            "[1] Standard Errors assume that the covariance matrix of the errors is correctly specified.\n"
          ],
          "name": "stdout"
        }
      ]
    },
    {
      "cell_type": "code",
      "metadata": {
        "id": "246_zp9iGqIs",
        "outputId": "4002d625-33c9-4707-add8-bbfa600b41af",
        "colab": {
          "base_uri": "https://localhost:8080/"
        }
      },
      "source": [
        "#19 execurções exclui um e roda novamente\n",
        "listaOptNumerica = removerLitaOp(20, listaOptNumerica) #0,189\n",
        "X_opt = X[:,listaOptNumerica]\n",
        "regressor_OLS = sm.OLS(endog=y_train, exog=X_opt).fit()\n",
        "print(regressor_OLS.summary())"
      ],
      "execution_count": null,
      "outputs": [
        {
          "output_type": "stream",
          "text": [
            "                            OLS Regression Results                            \n",
            "==============================================================================\n",
            "Dep. Variable:                      y   R-squared:                       0.928\n",
            "Model:                            OLS   Adj. R-squared:                  0.928\n",
            "Method:                 Least Squares   F-statistic:                     1156.\n",
            "Date:                Sat, 19 Sep 2020   Prob (F-statistic):               0.00\n",
            "Time:                        00:18:25   Log-Likelihood:                -22012.\n",
            "No. Observations:                3066   AIC:                         4.409e+04\n",
            "Df Residuals:                    3031   BIC:                         4.430e+04\n",
            "Df Model:                          34                                         \n",
            "Covariance Type:            nonrobust                                         \n",
            "==============================================================================\n",
            "                 coef    std err          t      P>|t|      [0.025      0.975]\n",
            "------------------------------------------------------------------------------\n",
            "const       7310.5073    522.428     13.993      0.000    6286.157    8334.857\n",
            "x1            33.5270      6.406      5.234      0.000      20.967      46.087\n",
            "x2            88.6788     12.426      7.136      0.000      64.314     113.044\n",
            "x3          -140.8989     41.020     -3.435      0.001    -221.328     -60.470\n",
            "x4           -26.5398      7.041     -3.769      0.000     -40.346     -12.733\n",
            "x5           -23.4516      6.222     -3.769      0.000     -35.651     -11.252\n",
            "x6           503.4888     10.388     48.466      0.000     483.120     523.858\n",
            "x7           -70.8722      5.951    -11.910      0.000     -82.540     -59.205\n",
            "x8           217.8190      7.313     29.783      0.000     203.479     232.159\n",
            "x9            16.7280      9.096      1.839      0.066      -1.107      34.563\n",
            "x10           16.3409      5.903      2.768      0.006       4.766      27.916\n",
            "x11           41.1885     15.914      2.588      0.010       9.985      72.392\n",
            "x12         -370.8948     25.121    -14.765      0.000    -420.150    -321.640\n",
            "x13           24.5340      6.802      3.607      0.000      11.197      37.871\n",
            "x14           58.3591      7.972      7.321      0.000      42.728      73.990\n",
            "x15          224.8493     77.212      2.912      0.004      73.456     376.242\n",
            "x16           12.9880      7.078      1.835      0.067      -0.890      26.866\n",
            "x17         1279.5938     35.438     36.108      0.000    1210.109    1349.079\n",
            "x18           33.2959      7.387      4.507      0.000      18.812      47.780\n",
            "x19           12.6753      7.009      1.808      0.071      -1.067      26.418\n",
            "x20          619.2833     11.412     54.266      0.000     596.907     641.659\n",
            "x21         -234.7730      6.730    -34.886      0.000    -247.968    -221.578\n",
            "x22           34.2315      6.040      5.667      0.000      22.388      46.075\n",
            "x23           30.1593      7.236      4.168      0.000      15.972      44.347\n",
            "x24          137.6796      6.768     20.344      0.000     124.410     150.949\n",
            "x25          -10.1722      5.953     -1.709      0.088     -21.845       1.501\n",
            "x26          -20.2807      5.966     -3.400      0.001     -31.978      -8.584\n",
            "x27         -298.2953      6.213    -48.008      0.000    -310.478    -286.112\n",
            "x28           34.3596      6.379      5.386      0.000      21.851      46.868\n",
            "x29         -128.7940     46.855     -2.749      0.006    -220.665     -36.923\n",
            "x30           19.6475      8.032      2.446      0.014       3.900      35.395\n",
            "x31         1454.4777    181.511      8.013      0.000    1098.581    1810.374\n",
            "x32         1586.3138    182.221      8.705      0.000    1229.025    1943.603\n",
            "x33          342.2115    183.832      1.862      0.063     -18.237     702.660\n",
            "x34           33.5129     16.525      2.028      0.043       1.111      65.915\n",
            "==============================================================================\n",
            "Omnibus:                      862.472   Durbin-Watson:                   1.982\n",
            "Prob(Omnibus):                  0.000   Jarque-Bera (JB):             3266.185\n",
            "Skew:                           1.350   Prob(JB):                         0.00\n",
            "Kurtosis:                       7.276   Cond. No.                         244.\n",
            "==============================================================================\n",
            "\n",
            "Warnings:\n",
            "[1] Standard Errors assume that the covariance matrix of the errors is correctly specified.\n"
          ],
          "name": "stdout"
        }
      ]
    },
    {
      "cell_type": "code",
      "metadata": {
        "id": "RSNO9JjiHBLi",
        "outputId": "9a81dbbe-1fb0-48da-eaf1-1fad0fdd4456",
        "colab": {
          "base_uri": "https://localhost:8080/"
        }
      },
      "source": [
        "#20 execurções exclui um e roda novamente\n",
        "listaOptNumerica = removerLitaOp(25, listaOptNumerica) #0,088\n",
        "X_opt = X[:,listaOptNumerica]\n",
        "regressor_OLS = sm.OLS(endog=y_train, exog=X_opt).fit()\n",
        "print(regressor_OLS.summary())"
      ],
      "execution_count": null,
      "outputs": [
        {
          "output_type": "stream",
          "text": [
            "                            OLS Regression Results                            \n",
            "==============================================================================\n",
            "Dep. Variable:                      y   R-squared:                       0.928\n",
            "Model:                            OLS   Adj. R-squared:                  0.928\n",
            "Method:                 Least Squares   F-statistic:                     1190.\n",
            "Date:                Sat, 19 Sep 2020   Prob (F-statistic):               0.00\n",
            "Time:                        00:18:25   Log-Likelihood:                -22013.\n",
            "No. Observations:                3066   AIC:                         4.409e+04\n",
            "Df Residuals:                    3032   BIC:                         4.430e+04\n",
            "Df Model:                          33                                         \n",
            "Covariance Type:            nonrobust                                         \n",
            "==============================================================================\n",
            "                 coef    std err          t      P>|t|      [0.025      0.975]\n",
            "------------------------------------------------------------------------------\n",
            "const       7288.8097    522.439     13.951      0.000    6264.438    8313.181\n",
            "x1            32.6434      6.387      5.111      0.000      20.120      45.167\n",
            "x2            92.2222     12.256      7.525      0.000      68.191     116.253\n",
            "x3          -140.2783     41.031     -3.419      0.001    -220.729     -59.827\n",
            "x4           -26.1385      7.040     -3.713      0.000     -39.942     -12.336\n",
            "x5           -23.5444      6.224     -3.783      0.000     -35.748     -11.341\n",
            "x6           503.4601     10.392     48.448      0.000     483.085     523.836\n",
            "x7           -70.7156      5.952    -11.882      0.000     -82.385     -59.046\n",
            "x8           218.0369      7.315     29.808      0.000     203.695     232.379\n",
            "x9            16.4776      9.098      1.811      0.070      -1.361      34.316\n",
            "x10           16.3181      5.905      2.763      0.006       4.739      27.897\n",
            "x11           40.5409     15.915      2.547      0.011       9.336      71.746\n",
            "x12         -370.9661     25.128    -14.763      0.000    -420.237    -321.695\n",
            "x13           24.4170      6.804      3.589      0.000      11.076      37.758\n",
            "x14           58.4118      7.974      7.325      0.000      42.776      74.047\n",
            "x15          222.7167     77.226      2.884      0.004      71.295     374.138\n",
            "x16           12.9224      7.080      1.825      0.068      -0.960      26.805\n",
            "x17         1281.2555     35.436     36.157      0.000    1211.774    1350.737\n",
            "x18           33.2873      7.389      4.505      0.000      18.799      47.776\n",
            "x19           12.5154      7.011      1.785      0.074      -1.230      26.261\n",
            "x20          618.5604     11.408     54.223      0.000     596.193     640.928\n",
            "x21         -234.3705      6.728    -34.836      0.000    -247.562    -221.179\n",
            "x22           34.3742      6.041      5.690      0.000      22.528      46.220\n",
            "x23           30.3542      7.237      4.194      0.000      16.164      44.544\n",
            "x24          138.0054      6.767     20.393      0.000     124.737     151.274\n",
            "x25          -20.1660      5.967     -3.379      0.001     -31.866      -8.466\n",
            "x26         -298.2159      6.215    -47.981      0.000    -310.403    -286.029\n",
            "x27           34.2130      6.381      5.362      0.000      21.702      46.724\n",
            "x28         -129.2156     46.869     -2.757      0.006    -221.114     -37.317\n",
            "x29           19.2491      8.031      2.397      0.017       3.503      34.995\n",
            "x30         1447.1192    181.517      7.972      0.000    1091.210    1803.028\n",
            "x31         1579.6338    182.237      8.668      0.000    1222.314    1936.954\n",
            "x32          334.5827    183.836      1.820      0.069     -25.874     695.039\n",
            "x33           36.8804     16.412      2.247      0.025       4.700      69.061\n",
            "==============================================================================\n",
            "Omnibus:                      859.743   Durbin-Watson:                   1.980\n",
            "Prob(Omnibus):                  0.000   Jarque-Bera (JB):             3251.222\n",
            "Skew:                           1.346   Prob(JB):                         0.00\n",
            "Kurtosis:                       7.267   Cond. No.                         244.\n",
            "==============================================================================\n",
            "\n",
            "Warnings:\n",
            "[1] Standard Errors assume that the covariance matrix of the errors is correctly specified.\n"
          ],
          "name": "stdout"
        }
      ]
    },
    {
      "cell_type": "code",
      "metadata": {
        "id": "5GacMotuHOF7",
        "outputId": "ef52587f-e11a-4b52-c8c6-84e73121ce81",
        "colab": {
          "base_uri": "https://localhost:8080/"
        }
      },
      "source": [
        "#21 execurções exclui um e roda novamente\n",
        "listaOptNumerica = removerLitaOp(19, listaOptNumerica) #0,074\n",
        "X_opt = X[:,listaOptNumerica]\n",
        "regressor_OLS = sm.OLS(endog=y_train, exog=X_opt).fit()\n",
        "print(regressor_OLS.summary())"
      ],
      "execution_count": null,
      "outputs": [
        {
          "output_type": "stream",
          "text": [
            "                            OLS Regression Results                            \n",
            "==============================================================================\n",
            "Dep. Variable:                      y   R-squared:                       0.928\n",
            "Model:                            OLS   Adj. R-squared:                  0.928\n",
            "Method:                 Least Squares   F-statistic:                     1227.\n",
            "Date:                Sat, 19 Sep 2020   Prob (F-statistic):               0.00\n",
            "Time:                        00:18:25   Log-Likelihood:                -22015.\n",
            "No. Observations:                3066   AIC:                         4.410e+04\n",
            "Df Residuals:                    3033   BIC:                         4.429e+04\n",
            "Df Model:                          32                                         \n",
            "Covariance Type:            nonrobust                                         \n",
            "==============================================================================\n",
            "                 coef    std err          t      P>|t|      [0.025      0.975]\n",
            "------------------------------------------------------------------------------\n",
            "const       7213.8084    520.935     13.848      0.000    6192.387    8235.230\n",
            "x1            33.2019      6.382      5.203      0.000      20.689      45.715\n",
            "x2            86.9069     11.893      7.307      0.000      63.587     110.226\n",
            "x3          -134.9243     40.936     -3.296      0.001    -215.189     -54.659\n",
            "x4           -25.5435      7.034     -3.631      0.000     -39.336     -11.751\n",
            "x5           -23.7974      6.224     -3.823      0.000     -36.002     -11.593\n",
            "x6           502.3957     10.378     48.408      0.000     482.046     522.745\n",
            "x7           -71.0264      5.951    -11.935      0.000     -82.695     -59.357\n",
            "x8           217.4342      7.309     29.747      0.000     203.102     231.766\n",
            "x9            18.9137      8.998      2.102      0.036       1.270      36.557\n",
            "x10           16.9874      5.895      2.881      0.004       5.428      28.547\n",
            "x11           48.9829     15.202      3.222      0.001      19.176      78.789\n",
            "x12         -367.2742     25.052    -14.660      0.000    -416.395    -318.153\n",
            "x13           26.6870      6.686      3.991      0.000      13.577      39.797\n",
            "x14           57.5613      7.963      7.229      0.000      41.948      73.174\n",
            "x15          229.8560     77.151      2.979      0.003      78.583     381.129\n",
            "x16           13.8474      7.064      1.960      0.050      -0.003      27.697\n",
            "x17         1258.5762     33.092     38.032      0.000    1193.690    1323.462\n",
            "x18           34.8924      7.337      4.756      0.000      20.507      49.278\n",
            "x19          618.5266     11.412     54.201      0.000     596.151     640.902\n",
            "x20         -233.7168      6.720    -34.778      0.000    -246.894    -220.540\n",
            "x21           34.0674      6.041      5.639      0.000      22.222      45.913\n",
            "x22           31.3168      7.220      4.338      0.000      17.161      45.473\n",
            "x23          137.0576      6.749     20.309      0.000     123.825     150.290\n",
            "x24          -18.5140      5.897     -3.139      0.002     -30.077      -6.951\n",
            "x25         -298.5973      6.214    -48.054      0.000    -310.781    -286.414\n",
            "x26           36.0283      6.301      5.717      0.000      23.673      48.384\n",
            "x27         -128.6275     46.885     -2.743      0.006    -220.557     -36.698\n",
            "x28           19.1352      8.033      2.382      0.017       3.384      34.887\n",
            "x29         1416.8370    180.788      7.837      0.000    1062.358    1771.316\n",
            "x30         1546.5719    181.359      8.528      0.000    1190.974    1902.170\n",
            "x31          319.7679    183.715      1.741      0.082     -40.451     679.987\n",
            "x32           32.7672     16.256      2.016      0.044       0.894      64.641\n",
            "==============================================================================\n",
            "Omnibus:                      870.448   Durbin-Watson:                   1.981\n",
            "Prob(Omnibus):                  0.000   Jarque-Bera (JB):             3336.576\n",
            "Skew:                           1.358   Prob(JB):                         0.00\n",
            "Kurtosis:                       7.329   Cond. No.                         243.\n",
            "==============================================================================\n",
            "\n",
            "Warnings:\n",
            "[1] Standard Errors assume that the covariance matrix of the errors is correctly specified.\n"
          ],
          "name": "stdout"
        }
      ]
    },
    {
      "cell_type": "code",
      "metadata": {
        "id": "8denypAdHm2r",
        "outputId": "19b95b78-adba-40b1-d397-f09455ef010d",
        "colab": {
          "base_uri": "https://localhost:8080/"
        }
      },
      "source": [
        "#22 execurções exclui um e roda novamente\n",
        "listaOptNumerica = removerLitaOp(31, listaOptNumerica) #0,082\n",
        "X_opt = X[:,listaOptNumerica]\n",
        "regressor_OLS = sm.OLS(endog=y_train, exog=X_opt).fit()\n",
        "print(regressor_OLS.summary())"
      ],
      "execution_count": null,
      "outputs": [
        {
          "output_type": "stream",
          "text": [
            "                            OLS Regression Results                            \n",
            "==============================================================================\n",
            "Dep. Variable:                      y   R-squared:                       0.928\n",
            "Model:                            OLS   Adj. R-squared:                  0.927\n",
            "Method:                 Least Squares   F-statistic:                     1265.\n",
            "Date:                Sat, 19 Sep 2020   Prob (F-statistic):               0.00\n",
            "Time:                        00:18:25   Log-Likelihood:                -22016.\n",
            "No. Observations:                3066   AIC:                         4.410e+04\n",
            "Df Residuals:                    3034   BIC:                         4.429e+04\n",
            "Df Model:                          31                                         \n",
            "Covariance Type:            nonrobust                                         \n",
            "==============================================================================\n",
            "                 coef    std err          t      P>|t|      [0.025      0.975]\n",
            "------------------------------------------------------------------------------\n",
            "const       6348.0036    154.774     41.015      0.000    6044.530    6651.477\n",
            "x1            32.8508      6.381      5.149      0.000      20.340      45.361\n",
            "x2            80.1812     11.252      7.126      0.000      58.119     102.243\n",
            "x3           -70.8830     17.950     -3.949      0.000    -106.078     -35.687\n",
            "x4           -24.9094      7.027     -3.545      0.000     -38.688     -11.131\n",
            "x5           -24.1126      6.224     -3.874      0.000     -36.316     -11.909\n",
            "x6           498.8114     10.175     49.022      0.000     478.860     518.763\n",
            "x7           -70.9577      5.953    -11.919      0.000     -82.630     -59.285\n",
            "x8           216.2631      7.281     29.703      0.000     201.987     230.539\n",
            "x9            23.7230      8.566      2.769      0.006       6.927      40.520\n",
            "x10           17.3576      5.894      2.945      0.003       5.802      28.913\n",
            "x11           50.1845     15.191      3.304      0.001      20.399      79.970\n",
            "x12         -358.0098     24.489    -14.620      0.000    -406.026    -309.994\n",
            "x13           26.9448      6.687      4.029      0.000      13.833      40.056\n",
            "x14           56.4409      7.939      7.109      0.000      40.874      72.008\n",
            "x15          112.1557     37.154      3.019      0.003      39.307     185.005\n",
            "x16           12.4941      7.023      1.779      0.075      -1.276      26.265\n",
            "x17         1252.1149     32.895     38.064      0.000    1187.617    1316.613\n",
            "x18           35.8806      7.317      4.904      0.000      21.533      50.228\n",
            "x19          615.8777     11.314     54.437      0.000     593.695     638.061\n",
            "x20         -232.5299      6.688    -34.769      0.000    -245.643    -219.417\n",
            "x21           34.1011      6.043      5.643      0.000      22.252      45.950\n",
            "x22           30.7164      7.214      4.258      0.000      16.572      44.861\n",
            "x23          136.6223      6.746     20.251      0.000     123.394     149.850\n",
            "x24          -18.4559      5.899     -3.129      0.002     -30.022      -6.889\n",
            "x25         -300.4173      6.127    -49.029      0.000    -312.431    -288.403\n",
            "x26           34.6603      6.254      5.542      0.000      22.397      46.924\n",
            "x27         -130.8408     46.883     -2.791      0.005    -222.767     -38.914\n",
            "x28           19.2080      8.036      2.390      0.017       3.452      34.964\n",
            "x29         1131.7029     76.499     14.794      0.000     981.707    1281.699\n",
            "x30         1262.4961     79.107     15.959      0.000    1107.388    1417.605\n",
            "x31           54.5268     10.394      5.246      0.000      34.147      74.907\n",
            "==============================================================================\n",
            "Omnibus:                      876.179   Durbin-Watson:                   1.981\n",
            "Prob(Omnibus):                  0.000   Jarque-Bera (JB):             3367.382\n",
            "Skew:                           1.367   Prob(JB):                         0.00\n",
            "Kurtosis:                       7.346   Cond. No.                         68.5\n",
            "==============================================================================\n",
            "\n",
            "Warnings:\n",
            "[1] Standard Errors assume that the covariance matrix of the errors is correctly specified.\n"
          ],
          "name": "stdout"
        }
      ]
    },
    {
      "cell_type": "code",
      "metadata": {
        "id": "aCk0WQiWH40t",
        "outputId": "312ba3f4-3739-4df8-bac4-c56fa663c975",
        "colab": {
          "base_uri": "https://localhost:8080/"
        }
      },
      "source": [
        "#23 execurções exclui um e roda novamente\n",
        "listaOptNumerica = removerLitaOp(16, listaOptNumerica) #0,075\n",
        "X_opt = X[:,listaOptNumerica]\n",
        "regressor_OLS = sm.OLS(endog=y_train, exog=X_opt).fit()\n",
        "print(regressor_OLS.summary())"
      ],
      "execution_count": null,
      "outputs": [
        {
          "output_type": "stream",
          "text": [
            "                            OLS Regression Results                            \n",
            "==============================================================================\n",
            "Dep. Variable:                      y   R-squared:                       0.928\n",
            "Model:                            OLS   Adj. R-squared:                  0.927\n",
            "Method:                 Least Squares   F-statistic:                     1306.\n",
            "Date:                Sat, 19 Sep 2020   Prob (F-statistic):               0.00\n",
            "Time:                        00:18:25   Log-Likelihood:                -22018.\n",
            "No. Observations:                3066   AIC:                         4.410e+04\n",
            "Df Residuals:                    3035   BIC:                         4.428e+04\n",
            "Df Model:                          30                                         \n",
            "Covariance Type:            nonrobust                                         \n",
            "==============================================================================\n",
            "                 coef    std err          t      P>|t|      [0.025      0.975]\n",
            "------------------------------------------------------------------------------\n",
            "const       6341.0569    154.780     40.968      0.000    6037.572    6644.542\n",
            "x1            31.9060      6.361      5.016      0.000      19.434      44.378\n",
            "x2            77.1689     11.128      6.935      0.000      55.351      98.987\n",
            "x3           -72.6566     17.929     -4.053      0.000    -107.810     -37.503\n",
            "x4           -22.9193      6.940     -3.302      0.001     -36.527      -9.312\n",
            "x5           -24.6398      6.219     -3.962      0.000     -36.834     -12.446\n",
            "x6           492.1502      9.465     51.998      0.000     473.592     510.708\n",
            "x7           -70.2312      5.941    -11.821      0.000     -81.881     -58.582\n",
            "x8           213.6166      7.130     29.961      0.000     199.637     227.596\n",
            "x9            21.9717      8.513      2.581      0.010       5.281      38.663\n",
            "x10           17.0149      5.893      2.888      0.004       5.461      28.569\n",
            "x11           43.8745     14.776      2.969      0.003      14.902      72.847\n",
            "x12         -338.8588     22.003    -15.400      0.000    -382.002    -295.716\n",
            "x13           25.0205      6.601      3.790      0.000      12.077      37.964\n",
            "x14           56.0942      7.940      7.065      0.000      40.526      71.662\n",
            "x15          100.7111     36.606      2.751      0.006      28.937     172.485\n",
            "x16         1250.7552     32.897     38.020      0.000    1186.252    1315.259\n",
            "x17           34.3783      7.271      4.728      0.000      20.122      48.635\n",
            "x18          608.1254     10.444     58.225      0.000     587.646     628.604\n",
            "x19         -230.0779      6.547    -35.145      0.000    -242.914    -217.242\n",
            "x20           34.2115      6.045      5.659      0.000      22.359      46.064\n",
            "x21           29.9035      7.202      4.152      0.000      15.782      44.025\n",
            "x22          138.1237      6.696     20.629      0.000     124.995     151.252\n",
            "x23          -17.9554      5.894     -3.046      0.002     -29.513      -6.398\n",
            "x24         -300.0565      6.126    -48.980      0.000    -312.068    -288.045\n",
            "x25           33.1304      6.197      5.346      0.000      20.979      45.282\n",
            "x26         -130.8282     46.900     -2.790      0.005    -222.787     -38.869\n",
            "x27           19.4151      8.038      2.415      0.016       3.655      35.175\n",
            "x28         1127.8667     76.496     14.744      0.000     977.877    1277.856\n",
            "x29         1258.9467     79.110     15.914      0.000    1103.832    1414.061\n",
            "x30           53.3495     10.377      5.141      0.000      33.004      73.695\n",
            "==============================================================================\n",
            "Omnibus:                      873.505   Durbin-Watson:                   1.984\n",
            "Prob(Omnibus):                  0.000   Jarque-Bera (JB):             3339.292\n",
            "Skew:                           1.364   Prob(JB):                         0.00\n",
            "Kurtosis:                       7.323   Cond. No.                         68.4\n",
            "==============================================================================\n",
            "\n",
            "Warnings:\n",
            "[1] Standard Errors assume that the covariance matrix of the errors is correctly specified.\n"
          ],
          "name": "stdout"
        }
      ]
    },
    {
      "cell_type": "code",
      "metadata": {
        "id": "7Cb8ctUdILgr",
        "outputId": "89fccc5a-ee82-4084-837a-42d73d8269ed",
        "colab": {
          "base_uri": "https://localhost:8080/"
        }
      },
      "source": [
        "#24 execurções exclui um e roda novamente\n",
        "listaOptNumerica = removerLitaOp(27, listaOptNumerica) #0,016\n",
        "X_opt = X[:,listaOptNumerica]\n",
        "regressor_OLS = sm.OLS(endog=y_train, exog=X_opt).fit()\n",
        "print(regressor_OLS.summary())"
      ],
      "execution_count": null,
      "outputs": [
        {
          "output_type": "stream",
          "text": [
            "                            OLS Regression Results                            \n",
            "==============================================================================\n",
            "Dep. Variable:                      y   R-squared:                       0.928\n",
            "Model:                            OLS   Adj. R-squared:                  0.927\n",
            "Method:                 Least Squares   F-statistic:                     1349.\n",
            "Date:                Sat, 19 Sep 2020   Prob (F-statistic):               0.00\n",
            "Time:                        00:18:25   Log-Likelihood:                -22021.\n",
            "No. Observations:                3066   AIC:                         4.410e+04\n",
            "Df Residuals:                    3036   BIC:                         4.428e+04\n",
            "Df Model:                          29                                         \n",
            "Covariance Type:            nonrobust                                         \n",
            "==============================================================================\n",
            "                 coef    std err          t      P>|t|      [0.025      0.975]\n",
            "------------------------------------------------------------------------------\n",
            "const       6296.0317    153.776     40.943      0.000    5994.516    6597.548\n",
            "x1            30.7395      6.347      4.843      0.000      18.294      43.185\n",
            "x2            77.4105     11.136      6.951      0.000      55.576      99.245\n",
            "x3           -68.7742     17.871     -3.848      0.000    -103.814     -33.734\n",
            "x4           -28.1276      6.602     -4.261      0.000     -41.072     -15.183\n",
            "x5           -23.1771      6.194     -3.742      0.000     -35.323     -11.032\n",
            "x6           493.5972      9.453     52.214      0.000     475.062     512.133\n",
            "x7           -67.9895      5.873    -11.577      0.000     -79.505     -56.474\n",
            "x8           215.0200      7.112     30.234      0.000     201.076     228.964\n",
            "x9            21.3908      8.516      2.512      0.012       4.693      38.089\n",
            "x10           18.3742      5.870      3.130      0.002       6.864      29.884\n",
            "x11           42.1578     14.771      2.854      0.004      13.196      71.120\n",
            "x12         -342.4357     21.971    -15.586      0.000    -385.515    -299.356\n",
            "x13           25.0359      6.606      3.790      0.000      12.082      37.989\n",
            "x14           56.2109      7.946      7.074      0.000      40.631      71.791\n",
            "x15           93.2971     36.506      2.556      0.011      21.719     164.876\n",
            "x16         1254.3178     32.891     38.136      0.000    1189.828    1318.808\n",
            "x17           33.7334      7.272      4.639      0.000      19.475      47.992\n",
            "x18          608.1912     10.453     58.185      0.000     587.696     628.686\n",
            "x19         -229.7040      6.550    -35.070      0.000    -242.547    -216.861\n",
            "x20           34.1695      6.050      5.648      0.000      22.307      46.032\n",
            "x21           29.3762      7.204      4.078      0.000      15.250      43.502\n",
            "x22          137.7925      6.700     20.567      0.000     124.656     150.929\n",
            "x23          -17.7398      5.898     -3.008      0.003     -29.305      -6.175\n",
            "x24         -301.0325      6.118    -49.207      0.000    -313.028    -289.037\n",
            "x25           33.0563      6.202      5.330      0.000      20.896      45.217\n",
            "x26         -136.1832     46.885     -2.905      0.004    -228.113     -44.254\n",
            "x27         1113.3619     76.321     14.588      0.000     963.716    1263.008\n",
            "x28         1244.2889     78.940     15.763      0.000    1089.508    1399.069\n",
            "x29           53.6065     10.384      5.162      0.000      33.245      73.968\n",
            "==============================================================================\n",
            "Omnibus:                      874.167   Durbin-Watson:                   1.980\n",
            "Prob(Omnibus):                  0.000   Jarque-Bera (JB):             3360.151\n",
            "Skew:                           1.364   Prob(JB):                         0.00\n",
            "Kurtosis:                       7.343   Cond. No.                         65.1\n",
            "==============================================================================\n",
            "\n",
            "Warnings:\n",
            "[1] Standard Errors assume that the covariance matrix of the errors is correctly specified.\n"
          ],
          "name": "stdout"
        }
      ]
    },
    {
      "cell_type": "code",
      "metadata": {
        "id": "By1OcF-nIsJ-",
        "outputId": "5741599c-9b73-433d-bbf3-6ea4139c6804",
        "colab": {
          "base_uri": "https://localhost:8080/"
        }
      },
      "source": [
        "#25 execurções exclui um e roda novamente\n",
        "listaOptNumerica = removerLitaOp(9, listaOptNumerica) #0,012\n",
        "X_opt = X[:,listaOptNumerica]\n",
        "regressor_OLS = sm.OLS(endog=y_train, exog=X_opt).fit()\n",
        "print(regressor_OLS.summary())"
      ],
      "execution_count": null,
      "outputs": [
        {
          "output_type": "stream",
          "text": [
            "                            OLS Regression Results                            \n",
            "==============================================================================\n",
            "Dep. Variable:                      y   R-squared:                       0.928\n",
            "Model:                            OLS   Adj. R-squared:                  0.927\n",
            "Method:                 Least Squares   F-statistic:                     1395.\n",
            "Date:                Sat, 19 Sep 2020   Prob (F-statistic):               0.00\n",
            "Time:                        00:18:25   Log-Likelihood:                -22024.\n",
            "No. Observations:                3066   AIC:                         4.411e+04\n",
            "Df Residuals:                    3037   BIC:                         4.428e+04\n",
            "Df Model:                          28                                         \n",
            "Covariance Type:            nonrobust                                         \n",
            "==============================================================================\n",
            "                 coef    std err          t      P>|t|      [0.025      0.975]\n",
            "------------------------------------------------------------------------------\n",
            "const       6135.0162    139.900     43.853      0.000    5860.707    6409.325\n",
            "x1            29.9924      6.346      4.726      0.000      17.550      42.435\n",
            "x2            74.7145     11.094      6.735      0.000      52.962      96.467\n",
            "x3           -43.0979     14.671     -2.938      0.003     -71.865     -14.331\n",
            "x4           -27.7770      6.606     -4.205      0.000     -40.730     -14.824\n",
            "x5           -21.1339      6.146     -3.439      0.001     -33.185      -9.083\n",
            "x6           494.8675      9.448     52.378      0.000     476.342     513.393\n",
            "x7           -67.9873      5.878    -11.566      0.000     -79.513     -56.462\n",
            "x8           214.5634      7.116     30.154      0.000     200.611     228.515\n",
            "x9            17.5496      5.866      2.992      0.003       6.047      29.052\n",
            "x10           31.6400     14.177      2.232      0.026       3.842      59.438\n",
            "x11         -344.9122     21.968    -15.701      0.000    -387.986    -301.839\n",
            "x12           22.4071      6.529      3.432      0.001       9.606      35.208\n",
            "x13           56.8297      7.949      7.149      0.000      41.243      72.416\n",
            "x14           30.2734     26.540      1.141      0.254     -21.764      82.311\n",
            "x15         1278.6719     31.456     40.649      0.000    1216.994    1340.350\n",
            "x16           31.6406      7.230      4.376      0.000      17.464      45.817\n",
            "x17          607.0405     10.452     58.080      0.000     586.547     627.534\n",
            "x18         -230.3611      6.550    -35.167      0.000    -243.205    -217.517\n",
            "x19           33.6786      6.052      5.565      0.000      21.812      45.545\n",
            "x20           26.9640      7.146      3.773      0.000      12.952      40.976\n",
            "x21          137.5109      6.705     20.510      0.000     124.365     150.657\n",
            "x22          -16.8645      5.893     -2.862      0.004     -28.420      -5.309\n",
            "x23         -302.0546      6.109    -49.441      0.000    -314.034    -290.076\n",
            "x24           30.6767      6.135      5.001      0.000      18.648      42.705\n",
            "x25         -138.4723     46.917     -2.951      0.003    -230.465     -46.480\n",
            "x26         1028.9714     68.588     15.002      0.000     894.488    1163.455\n",
            "x27         1163.2128     72.102     16.133      0.000    1021.839    1304.586\n",
            "x28           60.9968      9.968      6.120      0.000      41.453      80.541\n",
            "==============================================================================\n",
            "Omnibus:                      876.563   Durbin-Watson:                   1.978\n",
            "Prob(Omnibus):                  0.000   Jarque-Bera (JB):             3377.628\n",
            "Skew:                           1.367   Prob(JB):                         0.00\n",
            "Kurtosis:                       7.355   Cond. No.                         59.0\n",
            "==============================================================================\n",
            "\n",
            "Warnings:\n",
            "[1] Standard Errors assume that the covariance matrix of the errors is correctly specified.\n"
          ],
          "name": "stdout"
        }
      ]
    },
    {
      "cell_type": "code",
      "metadata": {
        "id": "DusOuPVGI5BU",
        "outputId": "1315961f-61f5-4942-dc86-f9ab47d3c1e4",
        "colab": {
          "base_uri": "https://localhost:8080/"
        }
      },
      "source": [
        "#26 execurções exclui um e roda novamente\n",
        "listaOptNumerica = removerLitaOp(14, listaOptNumerica) #0,254\n",
        "X_opt = X[:,listaOptNumerica]\n",
        "regressor_OLS = sm.OLS(endog=y_train, exog=X_opt).fit()\n",
        "print(regressor_OLS.summary())"
      ],
      "execution_count": null,
      "outputs": [
        {
          "output_type": "stream",
          "text": [
            "                            OLS Regression Results                            \n",
            "==============================================================================\n",
            "Dep. Variable:                      y   R-squared:                       0.928\n",
            "Model:                            OLS   Adj. R-squared:                  0.927\n",
            "Method:                 Least Squares   F-statistic:                     1446.\n",
            "Date:                Sat, 19 Sep 2020   Prob (F-statistic):               0.00\n",
            "Time:                        00:18:25   Log-Likelihood:                -22025.\n",
            "No. Observations:                3066   AIC:                         4.411e+04\n",
            "Df Residuals:                    3038   BIC:                         4.427e+04\n",
            "Df Model:                          27                                         \n",
            "Covariance Type:            nonrobust                                         \n",
            "==============================================================================\n",
            "                 coef    std err          t      P>|t|      [0.025      0.975]\n",
            "------------------------------------------------------------------------------\n",
            "const       6099.1856    136.335     44.737      0.000    5831.867    6366.504\n",
            "x1            30.9477      6.291      4.920      0.000      18.613      43.282\n",
            "x2            69.9403     10.275      6.807      0.000      49.795      90.086\n",
            "x3           -33.2977     11.893     -2.800      0.005     -56.617      -9.978\n",
            "x4           -28.0520      6.602     -4.249      0.000     -40.997     -15.107\n",
            "x5           -21.4097      6.142     -3.486      0.000     -33.452      -9.368\n",
            "x6           495.9991      9.396     52.787      0.000     477.575     514.423\n",
            "x7           -67.8979      5.878    -11.551      0.000     -79.423     -56.373\n",
            "x8           215.0604      7.103     30.279      0.000     201.134     228.987\n",
            "x9            17.1691      5.857      2.931      0.003       5.685      28.653\n",
            "x10           25.5925     13.149      1.946      0.052      -0.190      51.375\n",
            "x11         -348.3784     21.758    -16.012      0.000    -391.040    -305.717\n",
            "x12           20.6619      6.347      3.255      0.001       8.217      33.107\n",
            "x13           57.7873      7.905      7.310      0.000      42.287      73.287\n",
            "x14         1296.5440     27.278     47.530      0.000    1243.058    1350.030\n",
            "x15           30.2263      7.124      4.243      0.000      16.259      44.194\n",
            "x16          608.5463     10.369     58.691      0.000     588.216     628.877\n",
            "x17         -230.9718      6.529    -35.377      0.000    -243.773    -218.170\n",
            "x18           33.5976      6.052      5.552      0.000      21.731      45.464\n",
            "x19           25.5750      7.042      3.632      0.000      11.767      39.383\n",
            "x20          137.3557      6.704     20.490      0.000     124.212     150.500\n",
            "x21          -16.3434      5.876     -2.781      0.005     -27.864      -4.822\n",
            "x22         -302.1320      6.109    -49.454      0.000    -314.111    -290.153\n",
            "x23           29.5220      6.051      4.879      0.000      17.658      41.386\n",
            "x24         -138.9388     46.918     -2.961      0.003    -230.932     -46.945\n",
            "x25         1009.8857     66.519     15.182      0.000     879.459    1140.313\n",
            "x26         1145.4277     70.399     16.270      0.000    1007.392    1283.463\n",
            "x27           60.0712      9.935      6.046      0.000      40.591      79.551\n",
            "==============================================================================\n",
            "Omnibus:                      879.863   Durbin-Watson:                   1.977\n",
            "Prob(Omnibus):                  0.000   Jarque-Bera (JB):             3396.238\n",
            "Skew:                           1.371   Prob(JB):                         0.00\n",
            "Kurtosis:                       7.366   Cond. No.                         56.8\n",
            "==============================================================================\n",
            "\n",
            "Warnings:\n",
            "[1] Standard Errors assume that the covariance matrix of the errors is correctly specified.\n"
          ],
          "name": "stdout"
        }
      ]
    },
    {
      "cell_type": "code",
      "metadata": {
        "id": "5CeOFB6vJDZw",
        "outputId": "4edba6bf-64c9-40e5-e923-3843c5ea6e03",
        "colab": {
          "base_uri": "https://localhost:8080/"
        }
      },
      "source": [
        "#27 execurções exclui um e roda novamente\n",
        "listaOptNumerica = removerLitaOp(10, listaOptNumerica) #0,052\n",
        "X_opt = X[:,listaOptNumerica]\n",
        "regressor_OLS = sm.OLS(endog=y_train, exog=X_opt).fit()\n",
        "print(regressor_OLS.summary())"
      ],
      "execution_count": null,
      "outputs": [
        {
          "output_type": "stream",
          "text": [
            "                            OLS Regression Results                            \n",
            "==============================================================================\n",
            "Dep. Variable:                      y   R-squared:                       0.928\n",
            "Model:                            OLS   Adj. R-squared:                  0.927\n",
            "Method:                 Least Squares   F-statistic:                     1500.\n",
            "Date:                Sat, 19 Sep 2020   Prob (F-statistic):               0.00\n",
            "Time:                        00:18:25   Log-Likelihood:                -22027.\n",
            "No. Observations:                3066   AIC:                         4.411e+04\n",
            "Df Residuals:                    3039   BIC:                         4.427e+04\n",
            "Df Model:                          26                                         \n",
            "Covariance Type:            nonrobust                                         \n",
            "==============================================================================\n",
            "                 coef    std err          t      P>|t|      [0.025      0.975]\n",
            "------------------------------------------------------------------------------\n",
            "const       6291.3927     94.035     66.905      0.000    6107.015    6475.771\n",
            "x1            28.8355      6.199      4.651      0.000      16.680      40.991\n",
            "x2            71.8075     10.234      7.016      0.000      51.741      91.874\n",
            "x3           -44.7465     10.341     -4.327      0.000     -65.023     -24.470\n",
            "x4           -29.5039      6.563     -4.496      0.000     -42.372     -16.636\n",
            "x5           -21.4534      6.144     -3.492      0.000     -33.501      -9.406\n",
            "x6           496.9404      9.388     52.933      0.000     478.533     515.348\n",
            "x7           -67.6460      5.879    -11.506      0.000     -79.174     -56.118\n",
            "x8           214.7266      7.104     30.227      0.000     200.798     228.655\n",
            "x9            15.9850      5.828      2.743      0.006       4.558      27.412\n",
            "x10         -350.8995     21.729    -16.149      0.000    -393.505    -308.294\n",
            "x11           17.3721      6.121      2.838      0.005       5.371      29.373\n",
            "x12           59.1607      7.877      7.510      0.000      43.716      74.606\n",
            "x13         1325.5425     22.860     57.985      0.000    1280.720    1370.365\n",
            "x14           26.9708      6.928      3.893      0.000      13.388      40.554\n",
            "x15          606.5371     10.322     58.762      0.000     586.299     626.776\n",
            "x16         -230.5991      6.529    -35.319      0.000    -243.401    -217.797\n",
            "x17           32.9510      6.045      5.451      0.000      21.097      44.805\n",
            "x18           23.6347      6.974      3.389      0.001       9.960      37.310\n",
            "x19          137.6919      6.704     20.538      0.000     124.546     150.837\n",
            "x20          -15.2935      5.854     -2.613      0.009     -26.771      -3.816\n",
            "x21         -302.1951      6.112    -49.442      0.000    -314.179    -290.211\n",
            "x22           27.8706      5.994      4.650      0.000      16.118      39.623\n",
            "x23         -141.0004     46.927     -3.005      0.003    -233.012     -48.988\n",
            "x24         1108.0256     43.404     25.528      0.000    1022.922    1193.129\n",
            "x25         1249.6697     45.709     27.339      0.000    1160.045    1339.294\n",
            "x26           55.6937      9.681      5.753      0.000      36.711      74.677\n",
            "==============================================================================\n",
            "Omnibus:                      883.255   Durbin-Watson:                   1.978\n",
            "Prob(Omnibus):                  0.000   Jarque-Bera (JB):             3443.338\n",
            "Skew:                           1.373   Prob(JB):                         0.00\n",
            "Kurtosis:                       7.405   Cond. No.                         38.2\n",
            "==============================================================================\n",
            "\n",
            "Warnings:\n",
            "[1] Standard Errors assume that the covariance matrix of the errors is correctly specified.\n"
          ],
          "name": "stdout"
        }
      ]
    },
    {
      "cell_type": "code",
      "metadata": {
        "id": "kKsaiJwSJhet",
        "outputId": "5f65e081-9709-4793-8aef-ddf449496821",
        "colab": {
          "base_uri": "https://localhost:8080/"
        }
      },
      "source": [
        "#28 execurções exclui um e roda novamente\n",
        "listaOptNumerica = removerLitaOp(20, listaOptNumerica) #0,009\n",
        "X_opt = X[:,listaOptNumerica]\n",
        "regressor_OLS = sm.OLS(endog=y_train, exog=X_opt).fit()\n",
        "print(regressor_OLS.summary())"
      ],
      "execution_count": null,
      "outputs": [
        {
          "output_type": "stream",
          "text": [
            "                            OLS Regression Results                            \n",
            "==============================================================================\n",
            "Dep. Variable:                      y   R-squared:                       0.928\n",
            "Model:                            OLS   Adj. R-squared:                  0.927\n",
            "Method:                 Least Squares   F-statistic:                     1557.\n",
            "Date:                Sat, 19 Sep 2020   Prob (F-statistic):               0.00\n",
            "Time:                        00:18:25   Log-Likelihood:                -22030.\n",
            "No. Observations:                3066   AIC:                         4.411e+04\n",
            "Df Residuals:                    3040   BIC:                         4.427e+04\n",
            "Df Model:                          25                                         \n",
            "Covariance Type:            nonrobust                                         \n",
            "==============================================================================\n",
            "                 coef    std err          t      P>|t|      [0.025      0.975]\n",
            "------------------------------------------------------------------------------\n",
            "const       6298.6968     94.083     66.948      0.000    6114.224    6483.170\n",
            "x1            28.8643      6.205      4.652      0.000      16.698      41.031\n",
            "x2            73.3238     10.228      7.169      0.000      53.270      93.378\n",
            "x3           -46.7924     10.321     -4.534      0.000     -67.030     -26.555\n",
            "x4           -29.3548      6.569     -4.469      0.000     -42.235     -16.475\n",
            "x5           -21.3864      6.150     -3.477      0.001     -33.445      -9.327\n",
            "x6           496.9644      9.397     52.885      0.000     478.539     515.390\n",
            "x7           -67.6212      5.885    -11.491      0.000     -79.160     -56.083\n",
            "x8           214.7118      7.111     30.196      0.000     200.770     228.654\n",
            "x9            15.9161      5.834      2.728      0.006       4.478      27.354\n",
            "x10         -350.4849     21.749    -16.115      0.000    -393.130    -307.840\n",
            "x11           17.0634      6.126      2.786      0.005       5.053      29.074\n",
            "x12           59.3571      7.884      7.528      0.000      43.898      74.816\n",
            "x13         1329.2554     22.838     58.204      0.000    1284.476    1374.034\n",
            "x14           26.7555      6.934      3.859      0.000      13.160      40.351\n",
            "x15          605.6380     10.326     58.652      0.000     585.391     625.885\n",
            "x16         -230.8299      6.535    -35.324      0.000    -243.643    -218.017\n",
            "x17           33.3335      6.050      5.510      0.000      21.472      45.195\n",
            "x18           23.4285      6.981      3.356      0.001       9.741      37.116\n",
            "x19          138.3082      6.707     20.623      0.000     125.158     151.458\n",
            "x20         -302.2365      6.118    -49.402      0.000    -314.232    -290.241\n",
            "x21           27.5072      5.998      4.586      0.000      15.747      39.268\n",
            "x22         -144.0471     46.958     -3.068      0.002    -236.119     -51.975\n",
            "x23         1113.3665     43.397     25.655      0.000    1028.276    1198.457\n",
            "x24         1255.0902     45.706     27.460      0.000    1165.472    1344.708\n",
            "x25           56.6749      9.683      5.853      0.000      37.688      75.662\n",
            "==============================================================================\n",
            "Omnibus:                      887.558   Durbin-Watson:                   1.976\n",
            "Prob(Omnibus):                  0.000   Jarque-Bera (JB):             3468.233\n",
            "Skew:                           1.380   Prob(JB):                         0.00\n",
            "Kurtosis:                       7.420   Cond. No.                         38.2\n",
            "==============================================================================\n",
            "\n",
            "Warnings:\n",
            "[1] Standard Errors assume that the covariance matrix of the errors is correctly specified.\n"
          ],
          "name": "stdout"
        }
      ]
    },
    {
      "cell_type": "code",
      "metadata": {
        "id": "VCyLRxLhJxx-",
        "outputId": "4374493b-9dcf-42e6-d12e-08ece1c5c6ad",
        "colab": {
          "base_uri": "https://localhost:8080/"
        }
      },
      "source": [
        "#29 execurções exclui um e roda novamente\n",
        "listaOptNumerica = removerLitaOp(9, listaOptNumerica) #0,006\n",
        "X_opt = X[:,listaOptNumerica]\n",
        "regressor_OLS = sm.OLS(endog=y_train, exog=X_opt).fit()\n",
        "print(regressor_OLS.summary())"
      ],
      "execution_count": null,
      "outputs": [
        {
          "output_type": "stream",
          "text": [
            "                            OLS Regression Results                            \n",
            "==============================================================================\n",
            "Dep. Variable:                      y   R-squared:                       0.927\n",
            "Model:                            OLS   Adj. R-squared:                  0.927\n",
            "Method:                 Least Squares   F-statistic:                     1618.\n",
            "Date:                Sat, 19 Sep 2020   Prob (F-statistic):               0.00\n",
            "Time:                        00:18:25   Log-Likelihood:                -22034.\n",
            "No. Observations:                3066   AIC:                         4.412e+04\n",
            "Df Residuals:                    3041   BIC:                         4.427e+04\n",
            "Df Model:                          24                                         \n",
            "Covariance Type:            nonrobust                                         \n",
            "==============================================================================\n",
            "                 coef    std err          t      P>|t|      [0.025      0.975]\n",
            "------------------------------------------------------------------------------\n",
            "const       6307.8660     94.123     67.018      0.000    6123.316    6492.416\n",
            "x1            29.0033      6.212      4.669      0.000      16.824      41.183\n",
            "x2            73.3857     10.238      7.168      0.000      53.311      93.461\n",
            "x3           -47.1506     10.332     -4.564      0.000     -67.408     -26.893\n",
            "x4           -29.7393      6.574     -4.524      0.000     -42.630     -16.849\n",
            "x5           -21.6508      6.156     -3.517      0.000     -33.721      -9.581\n",
            "x6           497.9469      9.400     52.972      0.000     479.516     516.378\n",
            "x7           -67.6815      5.891    -11.489      0.000     -79.232     -56.131\n",
            "x8           214.4352      7.117     30.128      0.000     200.480     228.391\n",
            "x9          -352.8544     21.755    -16.219      0.000    -395.511    -310.198\n",
            "x10           16.6809      6.130      2.721      0.007       4.661      28.701\n",
            "x11           59.6197      7.892      7.554      0.000      44.145      75.094\n",
            "x12         1333.6505     22.805     58.481      0.000    1288.936    1378.365\n",
            "x13           26.3087      6.939      3.791      0.000      12.703      39.915\n",
            "x14          605.9182     10.336     58.620      0.000     585.651     626.185\n",
            "x15         -231.3033      6.539    -35.371      0.000    -244.125    -218.481\n",
            "x16           33.2136      6.056      5.485      0.000      21.340      45.087\n",
            "x17           23.1133      6.987      3.308      0.001       9.414      36.813\n",
            "x18          138.0420      6.713     20.563      0.000     124.880     151.204\n",
            "x19         -302.2073      6.124    -49.345      0.000    -314.216    -290.199\n",
            "x20           27.0497      6.002      4.507      0.000      15.282      38.818\n",
            "x21         -144.8592     47.006     -3.082      0.002    -237.027     -52.692\n",
            "x22         1118.5052     43.402     25.771      0.000    1033.405    1203.606\n",
            "x23         1260.3457     45.714     27.570      0.000    1170.713    1349.979\n",
            "x24           56.6190      9.694      5.841      0.000      37.612      75.626\n",
            "==============================================================================\n",
            "Omnibus:                      894.847   Durbin-Watson:                   1.980\n",
            "Prob(Omnibus):                  0.000   Jarque-Bera (JB):             3547.828\n",
            "Skew:                           1.387   Prob(JB):                         0.00\n",
            "Kurtosis:                       7.481   Cond. No.                         38.1\n",
            "==============================================================================\n",
            "\n",
            "Warnings:\n",
            "[1] Standard Errors assume that the covariance matrix of the errors is correctly specified.\n"
          ],
          "name": "stdout"
        }
      ]
    },
    {
      "cell_type": "code",
      "metadata": {
        "id": "BFZh9EUkJ_PZ",
        "outputId": "487836a6-a132-41cb-f1fa-e1214fb0a7ea",
        "colab": {
          "base_uri": "https://localhost:8080/"
        }
      },
      "source": [
        "#30 execurções exclui um e roda novamente\n",
        "listaOptNumerica = removerLitaOp(10, listaOptNumerica) #0,007\n",
        "X_opt = X[:,listaOptNumerica]\n",
        "regressor_OLS = sm.OLS(endog=y_train, exog=X_opt).fit()\n",
        "print(regressor_OLS.summary())"
      ],
      "execution_count": null,
      "outputs": [
        {
          "output_type": "stream",
          "text": [
            "                            OLS Regression Results                            \n",
            "==============================================================================\n",
            "Dep. Variable:                      y   R-squared:                       0.927\n",
            "Model:                            OLS   Adj. R-squared:                  0.927\n",
            "Method:                 Least Squares   F-statistic:                     1684.\n",
            "Date:                Sat, 19 Sep 2020   Prob (F-statistic):               0.00\n",
            "Time:                        00:18:25   Log-Likelihood:                -22038.\n",
            "No. Observations:                3066   AIC:                         4.412e+04\n",
            "Df Residuals:                    3042   BIC:                         4.427e+04\n",
            "Df Model:                          23                                         \n",
            "Covariance Type:            nonrobust                                         \n",
            "==============================================================================\n",
            "                 coef    std err          t      P>|t|      [0.025      0.975]\n",
            "------------------------------------------------------------------------------\n",
            "const       6340.7480     93.442     67.858      0.000    6157.533    6523.963\n",
            "x1            29.2204      6.218      4.700      0.000      17.029      41.411\n",
            "x2            73.7634     10.248      7.198      0.000      53.669      93.858\n",
            "x3           -51.5179     10.217     -5.042      0.000     -71.551     -31.485\n",
            "x4           -28.8794      6.574     -4.393      0.000     -41.769     -15.990\n",
            "x5           -22.0328      6.161     -3.576      0.000     -34.113      -9.953\n",
            "x6           497.0789      9.405     52.855      0.000     478.639     515.519\n",
            "x7           -67.9926      5.896    -11.532      0.000     -79.553     -56.432\n",
            "x8           213.0382      7.106     29.978      0.000     199.104     226.972\n",
            "x9          -350.9557     21.767    -16.123      0.000    -393.635    -308.277\n",
            "x10           60.2111      7.897      7.624      0.000      44.726      75.696\n",
            "x11         1342.5378     22.594     59.421      0.000    1298.238    1386.838\n",
            "x12           25.1437      6.933      3.627      0.000      11.549      38.738\n",
            "x13          607.3879     10.333     58.780      0.000     587.127     627.649\n",
            "x14         -231.4614      6.546    -35.360      0.000    -244.296    -218.626\n",
            "x15           33.5153      6.061      5.530      0.000      21.631      45.400\n",
            "x16           22.1719      6.986      3.174      0.002       8.475      35.869\n",
            "x17          138.0852      6.720     20.548      0.000     124.909     151.262\n",
            "x18         -301.7137      6.128    -49.234      0.000    -313.729    -289.698\n",
            "x19           26.1794      6.000      4.363      0.000      14.416      37.943\n",
            "x20         -147.1601     47.048     -3.128      0.002    -239.410     -54.911\n",
            "x21         1137.0074     42.911     26.497      0.000    1052.870    1221.145\n",
            "x22         1278.4939     45.272     28.240      0.000    1189.727    1367.261\n",
            "x23           54.4496      9.671      5.630      0.000      35.487      73.412\n",
            "==============================================================================\n",
            "Omnibus:                      918.615   Durbin-Watson:                   1.982\n",
            "Prob(Omnibus):                  0.000   Jarque-Bera (JB):             3829.590\n",
            "Skew:                           1.408   Prob(JB):                         0.00\n",
            "Kurtosis:                       7.696   Cond. No.                         37.8\n",
            "==============================================================================\n",
            "\n",
            "Warnings:\n",
            "[1] Standard Errors assume that the covariance matrix of the errors is correctly specified.\n"
          ],
          "name": "stdout"
        }
      ]
    },
    {
      "cell_type": "code",
      "metadata": {
        "id": "kxM0yR4VKfUR",
        "outputId": "c260b512-ab91-4225-d3d5-493519d0a736",
        "colab": {
          "base_uri": "https://localhost:8080/"
        }
      },
      "source": [
        "#31 execurções exclui um e roda novamente\n",
        "listaOptNumerica = removerLitaOp(20, listaOptNumerica) #0,002\n",
        "X_opt = X[:,listaOptNumerica]\n",
        "regressor_OLS = sm.OLS(endog=y_train, exog=X_opt).fit()\n",
        "print(regressor_OLS.summary())"
      ],
      "execution_count": null,
      "outputs": [
        {
          "output_type": "stream",
          "text": [
            "                            OLS Regression Results                            \n",
            "==============================================================================\n",
            "Dep. Variable:                      y   R-squared:                       0.927\n",
            "Model:                            OLS   Adj. R-squared:                  0.926\n",
            "Method:                 Least Squares   F-statistic:                     1756.\n",
            "Date:                Sat, 19 Sep 2020   Prob (F-statistic):               0.00\n",
            "Time:                        00:18:26   Log-Likelihood:                -22042.\n",
            "No. Observations:                3066   AIC:                         4.413e+04\n",
            "Df Residuals:                    3043   BIC:                         4.427e+04\n",
            "Df Model:                          22                                         \n",
            "Covariance Type:            nonrobust                                         \n",
            "==============================================================================\n",
            "                 coef    std err          t      P>|t|      [0.025      0.975]\n",
            "------------------------------------------------------------------------------\n",
            "const       6492.1751     80.038     81.114      0.000    6335.242    6649.109\n",
            "x1            28.5809      6.223      4.593      0.000      16.379      40.783\n",
            "x2            72.0366     10.248      7.029      0.000      51.943      92.131\n",
            "x3           -52.7515     10.224     -5.160      0.000     -72.798     -32.705\n",
            "x4           -27.7203      6.573     -4.218      0.000     -40.607     -14.833\n",
            "x5           -21.9689      6.170     -3.561      0.000     -34.066      -9.872\n",
            "x6           496.8358      9.418     52.755      0.000     478.370     515.302\n",
            "x7           -67.7813      5.904    -11.480      0.000     -79.358     -56.205\n",
            "x8           213.4008      7.116     29.990      0.000     199.449     227.353\n",
            "x9          -349.8848     21.795    -16.053      0.000    -392.620    -307.149\n",
            "x10           59.9384      7.908      7.579      0.000      44.432      75.445\n",
            "x11         1341.7145     22.625     59.303      0.000    1297.353    1386.076\n",
            "x12           25.3176      6.943      3.647      0.000      11.704      38.931\n",
            "x13          605.6477     10.333     58.613      0.000     585.387     625.908\n",
            "x14         -231.2599      6.555    -35.280      0.000    -244.113    -218.407\n",
            "x15           33.5732      6.070      5.531      0.000      21.672      45.475\n",
            "x16           22.3204      6.996      3.191      0.001       8.604      36.037\n",
            "x17          139.3160      6.718     20.737      0.000     126.143     152.489\n",
            "x18         -302.6645      6.129    -49.379      0.000    -314.683    -290.646\n",
            "x19           26.2270      6.008      4.365      0.000      14.446      38.008\n",
            "x20         1139.8484     42.963     26.531      0.000    1055.608    1224.089\n",
            "x21         1281.3006     45.329     28.267      0.000    1192.423    1370.178\n",
            "x22           54.3159      9.685      5.608      0.000      35.326      73.305\n",
            "==============================================================================\n",
            "Omnibus:                      927.167   Durbin-Watson:                   1.981\n",
            "Prob(Omnibus):                  0.000   Jarque-Bera (JB):             3896.420\n",
            "Skew:                           1.419   Prob(JB):                         0.00\n",
            "Kurtosis:                       7.738   Cond. No.                         31.0\n",
            "==============================================================================\n",
            "\n",
            "Warnings:\n",
            "[1] Standard Errors assume that the covariance matrix of the errors is correctly specified.\n"
          ],
          "name": "stdout"
        }
      ]
    },
    {
      "cell_type": "code",
      "metadata": {
        "id": "q1OncLZrLKFw",
        "outputId": "6a3e1e49-0eb1-49ef-db09-18a715914c55",
        "colab": {
          "base_uri": "https://localhost:8080/"
        }
      },
      "source": [
        "#32 execurções exclui um e roda novamente\n",
        "listaOptNumerica = removerLitaOp(16, listaOptNumerica) #0,001\n",
        "X_opt = X[:,listaOptNumerica]\n",
        "regressor_OLS = sm.OLS(endog=y_train, exog=X_opt).fit()\n",
        "print(regressor_OLS.summary())"
      ],
      "execution_count": null,
      "outputs": [
        {
          "output_type": "stream",
          "text": [
            "                            OLS Regression Results                            \n",
            "==============================================================================\n",
            "Dep. Variable:                      y   R-squared:                       0.927\n",
            "Model:                            OLS   Adj. R-squared:                  0.926\n",
            "Method:                 Least Squares   F-statistic:                     1833.\n",
            "Date:                Sat, 19 Sep 2020   Prob (F-statistic):               0.00\n",
            "Time:                        00:18:26   Log-Likelihood:                -22048.\n",
            "No. Observations:                3066   AIC:                         4.414e+04\n",
            "Df Residuals:                    3044   BIC:                         4.427e+04\n",
            "Df Model:                          21                                         \n",
            "Covariance Type:            nonrobust                                         \n",
            "==============================================================================\n",
            "                 coef    std err          t      P>|t|      [0.025      0.975]\n",
            "------------------------------------------------------------------------------\n",
            "const       6513.8236     79.870     81.556      0.000    6357.219    6670.428\n",
            "x1            30.2058      6.212      4.863      0.000      18.026      42.385\n",
            "x2            69.2777     10.227      6.774      0.000      49.225      89.330\n",
            "x3           -52.8809     10.239     -5.165      0.000     -72.957     -32.804\n",
            "x4           -28.1587      6.581     -4.279      0.000     -41.062     -15.255\n",
            "x5           -19.7452      6.139     -3.216      0.001     -31.783      -7.707\n",
            "x6           496.8713      9.432     52.679      0.000     478.378     515.365\n",
            "x7           -68.2221      5.911    -11.541      0.000     -79.813     -56.631\n",
            "x8           212.3256      7.118     29.828      0.000     198.368     226.283\n",
            "x9          -351.4167     21.823    -16.103      0.000    -394.206    -308.627\n",
            "x10           72.3079      6.903     10.474      0.000      58.772      85.843\n",
            "x11         1346.6687     22.605     59.573      0.000    1302.346    1390.992\n",
            "x12           19.2000      6.683      2.873      0.004       6.096      32.304\n",
            "x13          607.1436     10.338     58.729      0.000     586.873     627.414\n",
            "x14         -231.8796      6.562    -35.336      0.000    -244.746    -219.013\n",
            "x15           33.7460      6.079      5.551      0.000      21.827      45.665\n",
            "x16          139.2894      6.728     20.702      0.000     126.097     152.482\n",
            "x17         -302.9506      6.138    -49.357      0.000    -314.986    -290.916\n",
            "x18           25.9518      6.017      4.313      0.000      14.155      37.749\n",
            "x19         1151.3445     42.877     26.853      0.000    1067.275    1235.414\n",
            "x20         1292.3696     45.264     28.552      0.000    1203.619    1381.120\n",
            "x21           52.0403      9.673      5.380      0.000      33.074      71.007\n",
            "==============================================================================\n",
            "Omnibus:                      937.836   Durbin-Watson:                   1.982\n",
            "Prob(Omnibus):                  0.000   Jarque-Bera (JB):             4033.161\n",
            "Skew:                           1.428   Prob(JB):                         0.00\n",
            "Kurtosis:                       7.839   Cond. No.                         30.7\n",
            "==============================================================================\n",
            "\n",
            "Warnings:\n",
            "[1] Standard Errors assume that the covariance matrix of the errors is correctly specified.\n"
          ],
          "name": "stdout"
        }
      ]
    },
    {
      "cell_type": "code",
      "metadata": {
        "id": "2QUwZyOsL1dl",
        "outputId": "00027903-c2a6-4f2b-8767-00657681d335",
        "colab": {
          "base_uri": "https://localhost:8080/"
        }
      },
      "source": [
        "#33 execurções exclui um e roda novamente\n",
        "listaOptNumerica = removerLitaOp(12, listaOptNumerica) #0,004\n",
        "X_opt = X[:,listaOptNumerica]\n",
        "regressor_OLS = sm.OLS(endog=y_train, exog=X_opt).fit()\n",
        "print(regressor_OLS.summary())"
      ],
      "execution_count": null,
      "outputs": [
        {
          "output_type": "stream",
          "text": [
            "                            OLS Regression Results                            \n",
            "==============================================================================\n",
            "Dep. Variable:                      y   R-squared:                       0.927\n",
            "Model:                            OLS   Adj. R-squared:                  0.926\n",
            "Method:                 Least Squares   F-statistic:                     1920.\n",
            "Date:                Sat, 19 Sep 2020   Prob (F-statistic):               0.00\n",
            "Time:                        00:18:26   Log-Likelihood:                -22052.\n",
            "No. Observations:                3066   AIC:                         4.415e+04\n",
            "Df Residuals:                    3045   BIC:                         4.427e+04\n",
            "Df Model:                          20                                         \n",
            "Covariance Type:            nonrobust                                         \n",
            "==============================================================================\n",
            "                 coef    std err          t      P>|t|      [0.025      0.975]\n",
            "------------------------------------------------------------------------------\n",
            "const       6542.2257     79.350     82.448      0.000    6386.641    6697.811\n",
            "x1            29.1766      6.209      4.699      0.000      17.003      41.350\n",
            "x2            69.4977     10.239      6.788      0.000      49.422      89.574\n",
            "x3           -55.5335     10.210     -5.439      0.000     -75.552     -35.515\n",
            "x4           -28.3102      6.589     -4.297      0.000     -41.229     -15.392\n",
            "x5           -21.1415      6.127     -3.450      0.001     -33.156      -9.127\n",
            "x6           497.4660      9.441     52.692      0.000     478.955     515.977\n",
            "x7           -68.0673      5.918    -11.501      0.000     -79.671     -56.463\n",
            "x8           212.1083      7.126     29.763      0.000     198.135     226.082\n",
            "x9          -352.8484     21.843    -16.154      0.000    -395.677    -310.019\n",
            "x10           81.1138      6.193     13.098      0.000      68.971      93.256\n",
            "x11         1354.7273     22.457     60.325      0.000    1310.694    1398.760\n",
            "x12          606.9099     10.350     58.639      0.000     586.616     627.204\n",
            "x13         -232.3787      6.568    -35.383      0.000    -245.256    -219.501\n",
            "x14           33.4533      6.085      5.498      0.000      21.522      45.385\n",
            "x15          138.8733      6.735     20.620      0.000     125.668     152.078\n",
            "x16         -303.2002      6.145    -49.344      0.000    -315.248    -291.152\n",
            "x17           25.4538      6.021      4.227      0.000      13.647      37.260\n",
            "x18         1166.1726     42.615     27.365      0.000    1082.615    1249.731\n",
            "x19         1307.1412     45.024     29.032      0.000    1218.860    1395.422\n",
            "x20           49.2251      9.635      5.109      0.000      30.334      68.116\n",
            "==============================================================================\n",
            "Omnibus:                      941.702   Durbin-Watson:                   1.982\n",
            "Prob(Omnibus):                  0.000   Jarque-Bera (JB):             4073.697\n",
            "Skew:                           1.433   Prob(JB):                         0.00\n",
            "Kurtosis:                       7.866   Cond. No.                         30.4\n",
            "==============================================================================\n",
            "\n",
            "Warnings:\n",
            "[1] Standard Errors assume that the covariance matrix of the errors is correctly specified.\n"
          ],
          "name": "stdout"
        }
      ]
    },
    {
      "cell_type": "markdown",
      "metadata": {
        "id": "qxz2Opza1mtO"
      },
      "source": [
        "###Resultado das features reduzidas com OLS"
      ]
    },
    {
      "cell_type": "code",
      "metadata": {
        "id": "o53x3eOt45do",
        "outputId": "0a375c2f-46f7-48f6-ff02-8dd8110ec656",
        "colab": {
          "base_uri": "https://localhost:8080/",
          "height": 33
        }
      },
      "source": [
        "print('Quantidade de atributos',len(listaOptNumerica))"
      ],
      "execution_count": null,
      "outputs": [
        {
          "output_type": "stream",
          "text": [
            "Quantidade de atributos 21\n"
          ],
          "name": "stdout"
        }
      ]
    },
    {
      "cell_type": "code",
      "metadata": {
        "id": "Whd6jz8U1rrK",
        "outputId": "1a9e1076-6d2a-4990-f6a3-3b0169e0de3f",
        "colab": {
          "base_uri": "https://localhost:8080/",
          "height": 53
        }
      },
      "source": [
        "#Pegando a descrição das colunas selecionadas\n",
        "colunasEscolhidas = []\n",
        "for index, coluna in enumerate(x_train_df.columns):\n",
        "  for indexColunaEscolhida in listaOptNumerica:\n",
        "    if(index == indexColunaEscolhida):\n",
        "      colunasEscolhidas.append(coluna)\n",
        "\n",
        "print(colunasEscolhidas)"
      ],
      "execution_count": null,
      "outputs": [
        {
          "output_type": "stream",
          "text": [
            "['GRAUINSTRUCAO', 'IDADE', 'JORNADA_MENSAL', 'QTD_DEPENDENTES_IR', 'VERBA_0606', 'VERBA_0163', 'VERBA_0713', 'VERBA_0099', 'VERBA_0180', 'VERBA_0009', 'VERBA_0100', 'VERBA_0004', 'VERBA_0607', 'VERBA_0271', 'VERBA_0008', 'VERBA_0631', 'VERBA_PROVENTO_FALTANTE', 'TABELA-AMC_AGEN_MUNI_FISC_TRAN', 'DIR_NIV_SUP_2', 'DIR_ASS_SUP_1', 'VERBAS_PORCENTAGEM_100']\n"
          ],
          "name": "stdout"
        }
      ]
    },
    {
      "cell_type": "code",
      "metadata": {
        "id": "m4kBKtvoqp4p"
      },
      "source": [
        "x_train = x_train_df[colunasEscolhidas]\n",
        "x_test = x_teste_df[colunasEscolhidas]"
      ],
      "execution_count": null,
      "outputs": []
    },
    {
      "cell_type": "markdown",
      "metadata": {
        "id": "FHOy4Kp9RfRQ"
      },
      "source": [
        "##4.1 Regressão Linear Multivariaveis"
      ]
    },
    {
      "cell_type": "code",
      "metadata": {
        "id": "WcPrRSL8Rp8O"
      },
      "source": [
        "#Aplicando o modelo de Regressão linear Simples\n",
        "regressionLM = linear_model.LinearRegression() # normalize=True\n",
        "\n",
        "#Treinamos o modelo usando os dados de treinamento\n",
        "regressionLM.fit(x_train, y_train)\n",
        "\n",
        "#Predizendos os valores\n",
        "y_pred_LM = regressionLM.predict(x_test)"
      ],
      "execution_count": null,
      "outputs": []
    },
    {
      "cell_type": "code",
      "metadata": {
        "id": "hB56BxOpWIZO"
      },
      "source": [
        "#Predição está dano negativa\n",
        "y_pred_LM_novo = []\n",
        "for i in y_pred_LM:\n",
        "  if i <= 0 :\n",
        "    y_pred_LM_novo.append(0)\n",
        "    print(i)\n",
        "  else:\n",
        "    y_pred_LM_novo.append(i)\n",
        "\n",
        "#y_pred_LM = y_pred_LM_novo"
      ],
      "execution_count": null,
      "outputs": []
    },
    {
      "cell_type": "code",
      "metadata": {
        "id": "2xGypYtl4tyA"
      },
      "source": [
        "#Arredondar para duas casas decimais R$\n",
        "y_pred_LM_formatado = []\n",
        "for i in y_pred_LM:\n",
        "  y_pred_LM_formatado.append(round(i, 2))"
      ],
      "execution_count": null,
      "outputs": []
    },
    {
      "cell_type": "code",
      "metadata": {
        "id": "aZzApNzJUgYc",
        "outputId": "15782d47-01a8-4666-da2b-5e26ee3ac430",
        "colab": {
          "base_uri": "https://localhost:8080/",
          "height": 33
        }
      },
      "source": [
        "# Perda de regressão ao erro logarítmico quadrado médio\n",
        "e_LM = rmsle(y_test, y_pred_LM_formatado)\n",
        "\n",
        "# variância\n",
        "#variancia_LM = regressionLM.score(x_test, y_test)\n",
        "variancia_LM = explained_variance_score(y_test, y_pred_LM_formatado)\n",
        "\n",
        "# Valor de R2 perto de 1 nos diz que é um bom modelo\n",
        "r2_LM = r2_score(y_test, y_pred_LM_formatado)\n",
        "\n",
        "print('4.2 Regressão Liner Multivariaveis', ' | ', e_LM, '            | ', variancia_LM*100, '    | ', r2_LM*100)"
      ],
      "execution_count": null,
      "outputs": [
        {
          "output_type": "stream",
          "text": [
            "4.2 Regressão Liner Multivariaveis  |  0.12286768317307485             |  83.4482974157438     |  83.4440168664233\n"
          ],
          "name": "stdout"
        }
      ]
    },
    {
      "cell_type": "markdown",
      "metadata": {
        "id": "pdcct9iAorWS"
      },
      "source": [
        "obs - > graficos overfat"
      ]
    },
    {
      "cell_type": "code",
      "metadata": {
        "id": "fEO_LOUjoJTf",
        "outputId": "64a2b215-b69a-4494-9855-45a9fd6d3c43",
        "colab": {
          "base_uri": "https://localhost:8080/",
          "height": 404
        }
      },
      "source": [
        "tabela_dados = pd.DataFrame({'Atual': y_test.flatten(), 'Predição': y_pred_LM})\n",
        "tabela_dados"
      ],
      "execution_count": null,
      "outputs": [
        {
          "output_type": "execute_result",
          "data": {
            "text/html": [
              "<div>\n",
              "<style scoped>\n",
              "    .dataframe tbody tr th:only-of-type {\n",
              "        vertical-align: middle;\n",
              "    }\n",
              "\n",
              "    .dataframe tbody tr th {\n",
              "        vertical-align: top;\n",
              "    }\n",
              "\n",
              "    .dataframe thead th {\n",
              "        text-align: right;\n",
              "    }\n",
              "</style>\n",
              "<table border=\"1\" class=\"dataframe\">\n",
              "  <thead>\n",
              "    <tr style=\"text-align: right;\">\n",
              "      <th></th>\n",
              "      <th>Atual</th>\n",
              "      <th>Predição</th>\n",
              "    </tr>\n",
              "  </thead>\n",
              "  <tbody>\n",
              "    <tr>\n",
              "      <th>0</th>\n",
              "      <td>2203.45</td>\n",
              "      <td>2237.489316</td>\n",
              "    </tr>\n",
              "    <tr>\n",
              "      <th>1</th>\n",
              "      <td>7558.60</td>\n",
              "      <td>7374.401626</td>\n",
              "    </tr>\n",
              "    <tr>\n",
              "      <th>2</th>\n",
              "      <td>2654.89</td>\n",
              "      <td>3284.608153</td>\n",
              "    </tr>\n",
              "    <tr>\n",
              "      <th>3</th>\n",
              "      <td>6912.72</td>\n",
              "      <td>6437.275058</td>\n",
              "    </tr>\n",
              "    <tr>\n",
              "      <th>4</th>\n",
              "      <td>3806.30</td>\n",
              "      <td>4226.030727</td>\n",
              "    </tr>\n",
              "    <tr>\n",
              "      <th>...</th>\n",
              "      <td>...</td>\n",
              "      <td>...</td>\n",
              "    </tr>\n",
              "    <tr>\n",
              "      <th>1309</th>\n",
              "      <td>5676.47</td>\n",
              "      <td>5949.193468</td>\n",
              "    </tr>\n",
              "    <tr>\n",
              "      <th>1310</th>\n",
              "      <td>4035.59</td>\n",
              "      <td>4011.396905</td>\n",
              "    </tr>\n",
              "    <tr>\n",
              "      <th>1311</th>\n",
              "      <td>5315.72</td>\n",
              "      <td>4848.655000</td>\n",
              "    </tr>\n",
              "    <tr>\n",
              "      <th>1312</th>\n",
              "      <td>5655.22</td>\n",
              "      <td>4904.751464</td>\n",
              "    </tr>\n",
              "    <tr>\n",
              "      <th>1313</th>\n",
              "      <td>3674.28</td>\n",
              "      <td>3678.665057</td>\n",
              "    </tr>\n",
              "  </tbody>\n",
              "</table>\n",
              "<p>1314 rows × 2 columns</p>\n",
              "</div>"
            ],
            "text/plain": [
              "        Atual     Predição\n",
              "0     2203.45  2237.489316\n",
              "1     7558.60  7374.401626\n",
              "2     2654.89  3284.608153\n",
              "3     6912.72  6437.275058\n",
              "4     3806.30  4226.030727\n",
              "...       ...          ...\n",
              "1309  5676.47  5949.193468\n",
              "1310  4035.59  4011.396905\n",
              "1311  5315.72  4848.655000\n",
              "1312  5655.22  4904.751464\n",
              "1313  3674.28  3678.665057\n",
              "\n",
              "[1314 rows x 2 columns]"
            ]
          },
          "metadata": {
            "tags": []
          },
          "execution_count": 286
        }
      ]
    },
    {
      "cell_type": "code",
      "metadata": {
        "id": "_ac8G56TtQ5J",
        "outputId": "da00a1f1-fb61-43e3-da9b-5d99330a54b3",
        "colab": {
          "base_uri": "https://localhost:8080/",
          "height": 281
        }
      },
      "source": [
        "showPlot(y_test, y_pred_LM, \"Regressão Linear Multivariaveis\")"
      ],
      "execution_count": null,
      "outputs": [
        {
          "output_type": "display_data",
          "data": {
            "image/png": "[encoded data removed]",
            "text/plain": [
              "<Figure size 432x288 with 1 Axes>"
            ]
          },
          "metadata": {
            "tags": [],
            "needs_background": "light"
          }
        }
      ]
    },
    {
      "cell_type": "code",
      "metadata": {
        "id": "3_V-vNjGb-e_",
        "outputId": "4bc81a1d-5c57-4501-8a88-2a0296d03e29",
        "colab": {
          "base_uri": "https://localhost:8080/",
          "height": 281
        }
      },
      "source": [
        "#showPlot2(x_test['PC1'], y_test, x_train['PC1'], y_train, x_test['PC1'], y_pred_LM, \"Regressão Linear Multivariaveis\")#NIVEL_EXPERIENCIA\n",
        "showPlot2(x_teste_df['NIVEL_EXPERIENCIA'], y_test, x_train_df['NIVEL_EXPERIENCIA'], y_train, x_teste_df['NIVEL_EXPERIENCIA'], y_pred_LM, \"Regressão Linear Multivariaveis\")#NIVEL_EXPERIENCIA"
      ],
      "execution_count": null,
      "outputs": [
        {
          "output_type": "display_data",
          "data": {
            "image/png": "[encoded data removed]",
            "text/plain": [
              "<Figure size 432x288 with 1 Axes>"
            ]
          },
          "metadata": {
            "tags": [],
            "needs_background": "light"
          }
        }
      ]
    },
    {
      "cell_type": "markdown",
      "metadata": {
        "id": "Q6DFz9N1woD0"
      },
      "source": [
        "##4.2 SVR - Regressão Vetorial de Suporte"
      ]
    },
    {
      "cell_type": "code",
      "metadata": {
        "id": "EF5tw7JawtHO"
      },
      "source": [
        "#Aplicando o modelo\n",
        "regressionSVR = SVR(kernel='linear')\n",
        "\n",
        "#Treinamos o modelo usando os dados de treinamento\n",
        "regressionSVR.fit(x_train, y_train)\n",
        "\n",
        "#Predizendos os valores\n",
        "y_pred_SVR = regressionSVR.predict(x_test)"
      ],
      "execution_count": null,
      "outputs": []
    },
    {
      "cell_type": "code",
      "metadata": {
        "id": "6PeuyyVl6ITW"
      },
      "source": [
        "#Arredondar para duas casas decimais R$\n",
        "y_pred_SVR_formatado = []\n",
        "for i in y_pred_SVR:\n",
        "  y_pred_SVR_formatado.append(round(i, 2))"
      ],
      "execution_count": null,
      "outputs": []
    },
    {
      "cell_type": "code",
      "metadata": {
        "id": "poezoG6WxFiv",
        "outputId": "0a7650c3-a392-4333-969b-ef041435637c",
        "colab": {
          "base_uri": "https://localhost:8080/",
          "height": 33
        }
      },
      "source": [
        "# Perda de regressão ao erro logarítmico quadrado médio\n",
        "e_SVR = rmsle(y_test, y_pred_SVR_formatado)\n",
        "\n",
        "# variância\n",
        "variancia_SVR = explained_variance_score(y_test, y_pred_SVR_formatado)\n",
        "\n",
        "# Valor de R2 perto de 1 nos diz que é um bom modelo\n",
        "r2_SVR = r2_score(y_test, y_pred_SVR_formatado)\n",
        "\n",
        "print('4.2 Regressão Vetorial de Suporte', ' | ', e_SVR, '            | ', variancia_SVR*100, '    | ', r2_SVR*100)"
      ],
      "execution_count": null,
      "outputs": [
        {
          "output_type": "stream",
          "text": [
            "4.2 Regressão Vetorial de Suporte  |  0.14653293209096965             |  77.29092100639919     |  77.273365018231\n"
          ],
          "name": "stdout"
        }
      ]
    },
    {
      "cell_type": "markdown",
      "metadata": {
        "id": "NzXTZK6T0Ed5"
      },
      "source": [
        "##4.3 Aplicando Regressão com Random Forest"
      ]
    },
    {
      "cell_type": "markdown",
      "metadata": {
        "id": "Fe0aVy2WaN7C"
      },
      "source": [
        "n_jobs = Número de tarefas a serem execultadas em paraleto, 1significa usar todos os processadores"
      ]
    },
    {
      "cell_type": "code",
      "metadata": {
        "id": "6LyEvUALLeMO"
      },
      "source": [
        "mdl = RandomForestRegressor(max_depth = 20, n_estimators=100, n_jobs=-1, bootstrap=True)\n",
        "probs = mdl.fit(x_train, y_train)\n",
        "\n",
        "y_pred_RF = mdl.predict(x_test)"
      ],
      "execution_count": null,
      "outputs": []
    },
    {
      "cell_type": "code",
      "metadata": {
        "id": "2AKF9VJz6Vcl"
      },
      "source": [
        "#Arredondar para duas casas decimais R$\n",
        "y_pred_RF_formatado = []\n",
        "for i in y_pred_RF:\n",
        "  y_pred_RF_formatado.append(round(i, 2))"
      ],
      "execution_count": null,
      "outputs": []
    },
    {
      "cell_type": "code",
      "metadata": {
        "id": "WcegD6mtUHXa",
        "outputId": "82cba5ad-b0ec-4c8f-e7c8-6bdade9cb22e",
        "colab": {
          "base_uri": "https://localhost:8080/",
          "height": 33
        }
      },
      "source": [
        "# Perda de regressão ao erro logarítmico quadrado médio\n",
        "e_RF = rmsle(y_test, y_pred_RF_formatado)\n",
        "\n",
        "# variância\n",
        "variancia_RF = explained_variance_score(y_test, y_pred_RF_formatado)\n",
        "\n",
        "# Valor de R2 perto de 1 nos diz que é um bom modelo\n",
        "r2_RF = r2_score(y_test, y_pred_RF_formatado)\n",
        "\n",
        "print('4.3 Predição com Random Forest  100  ', ' | ', e_RF, '             | ', variancia_RF*100, '     | ', r2_RF*100)"
      ],
      "execution_count": null,
      "outputs": [
        {
          "output_type": "stream",
          "text": [
            "4.3 Predição com Random Forest  100    |  0.09450211334208146              |  90.03234413685018      |  90.03123613463383\n"
          ],
          "name": "stdout"
        }
      ]
    },
    {
      "cell_type": "code",
      "metadata": {
        "id": "Gh8SjdIpxIKZ",
        "outputId": "67424bf7-e98b-49af-bcff-b8ad3a19eee2",
        "colab": {
          "base_uri": "https://localhost:8080/",
          "height": 281
        }
      },
      "source": [
        "showPlot(y_test, y_pred_RF, \"Regressão com Random Forest\")"
      ],
      "execution_count": null,
      "outputs": [
        {
          "output_type": "display_data",
          "data": {
            "image/png": "[encoded data removed]",
            "text/plain": [
              "<Figure size 432x288 with 1 Axes>"
            ]
          },
          "metadata": {
            "tags": [],
            "needs_background": "light"
          }
        }
      ]
    },
    {
      "cell_type": "code",
      "metadata": {
        "id": "w7WH_asxxfHX",
        "outputId": "af5ff8ad-caa7-4843-f4b2-0b94ac177dfc",
        "colab": {
          "base_uri": "https://localhost:8080/",
          "height": 281
        }
      },
      "source": [
        "#showPlot2(x_test['PC1'], y_test, x_train['PC1'], y_train, x_test['PC1'], y_pred_RF, \"Regressão com Random Forest\")\n",
        "showPlot2(x_teste_df['NIVEL_EXPERIENCIA'], y_test, x_train_df['NIVEL_EXPERIENCIA'], y_train, x_teste_df['NIVEL_EXPERIENCIA'], y_pred_RF, \"Regressão com Random Forest\")"
      ],
      "execution_count": null,
      "outputs": [
        {
          "output_type": "display_data",
          "data": {
            "image/png": "[encoded data removed]",
            "text/plain": [
              "<Figure size 432x288 with 1 Axes>"
            ]
          },
          "metadata": {
            "tags": [],
            "needs_background": "light"
          }
        }
      ]
    },
    {
      "cell_type": "markdown",
      "metadata": {
        "id": "LDpIrmA28EjL"
      },
      "source": [
        "##4.4 Tentativa de Predição com GridSearchCV"
      ]
    },
    {
      "cell_type": "code",
      "metadata": {
        "id": "ZOsXYtJftZmQ"
      },
      "source": [
        "from sklearn.linear_model import Ridge\n",
        "\n",
        "params = {'alpha': np.linspace(0.1,1,200), 'random_state':[2020]}\n",
        "\n",
        "model1 = GridSearchCV(estimator = Ridge(), param_grid = params)\n",
        "model1 = model1.fit(x_train, y_train)\n",
        "\n",
        "y_pred_CV = model1.predict(x_test)"
      ],
      "execution_count": null,
      "outputs": []
    },
    {
      "cell_type": "code",
      "metadata": {
        "id": "s598UubvHxf4",
        "outputId": "171fcd38-3270-4a10-8942-399b12659ced",
        "colab": {
          "base_uri": "https://localhost:8080/",
          "height": 50
        }
      },
      "source": [
        "model1.best_estimator_"
      ],
      "execution_count": null,
      "outputs": [
        {
          "output_type": "execute_result",
          "data": {
            "text/plain": [
              "Ridge(alpha=1.0, copy_X=True, fit_intercept=True, max_iter=None,\n",
              "      normalize=False, random_state=2020, solver='auto', tol=0.001)"
            ]
          },
          "metadata": {
            "tags": []
          },
          "execution_count": 298
        }
      ]
    },
    {
      "cell_type": "code",
      "metadata": {
        "id": "McLKVmVFdZHp"
      },
      "source": [
        "#Predição está dano negativa\n",
        "y_pred_CV_novo = []\n",
        "for i in y_pred_CV:\n",
        "  if i < 0 :\n",
        "    y_pred_CV_novo.append(0)\n",
        "    print(i)\n",
        "  else:\n",
        "    y_pred_CV_novo.append(i)\n",
        "\n",
        "#y_pred_CV = y_pred_CV_novo"
      ],
      "execution_count": null,
      "outputs": []
    },
    {
      "cell_type": "code",
      "metadata": {
        "id": "Ae40PE-8J1yS",
        "outputId": "c02137c2-ee6e-44f1-e7f4-223cb02a0589",
        "colab": {
          "base_uri": "https://localhost:8080/",
          "height": 33
        }
      },
      "source": [
        "# erro logarítmico quadrado médio\n",
        "e_CV = rmsle(y_test, y_pred_CV)\n",
        "\n",
        "# variância\n",
        "variancia_CV = model1.score(x_test, y_test)\n",
        "\n",
        "# Valor de R2 perto de 1 nos diz que é um bom modelo\n",
        "r2_CV = r2_score(y_test, y_pred_CV)\n",
        "\n",
        "print('4.4 Predição com GridSearchCV     ', ' | ', e_CV, '             | ', variancia_CV*100, '    | ', r2_CV*100)"
      ],
      "execution_count": null,
      "outputs": [
        {
          "output_type": "stream",
          "text": [
            "4.4 Predição com GridSearchCV       |  0.1228847603467898              |  83.44428983440544     |  83.44428983440544\n"
          ],
          "name": "stdout"
        }
      ]
    },
    {
      "cell_type": "code",
      "metadata": {
        "id": "8fCgbI0Jvdxf",
        "outputId": "98e073ac-3387-4208-8c92-7e18e834f716",
        "colab": {
          "base_uri": "https://localhost:8080/",
          "height": 281
        }
      },
      "source": [
        "showPlot(y_test, y_pred_CV, \"Predição com GridSearchCV\")"
      ],
      "execution_count": null,
      "outputs": [
        {
          "output_type": "display_data",
          "data": {
            "image/png": "[encoded data removed]",
            "text/plain": [
              "<Figure size 432x288 with 1 Axes>"
            ]
          },
          "metadata": {
            "tags": [],
            "needs_background": "light"
          }
        }
      ]
    },
    {
      "cell_type": "code",
      "metadata": {
        "id": "2fb4iRAnd6Fo",
        "outputId": "8f562826-9438-4266-eb0e-00ff404b116b",
        "colab": {
          "base_uri": "https://localhost:8080/",
          "height": 281
        }
      },
      "source": [
        "#showPlot2(x_test['PC1'], y_test, x_train['PC1'], y_train, x_test['PC1'], y_pred_CV, \"Predição com GridSearchCV\")\n",
        "showPlot2(x_teste_df['NIVEL_EXPERIENCIA'], y_test, x_train_df['NIVEL_EXPERIENCIA'], y_train, x_teste_df['NIVEL_EXPERIENCIA'], y_pred_CV, \"Predição com GridSearchCV\")"
      ],
      "execution_count": null,
      "outputs": [
        {
          "output_type": "display_data",
          "data": {
            "image/png": "[encoded data removed]",
            "text/plain": [
              "<Figure size 432x288 with 1 Axes>"
            ]
          },
          "metadata": {
            "tags": [],
            "needs_background": "light"
          }
        }
      ]
    },
    {
      "cell_type": "code",
      "metadata": {
        "id": "vYnBnebvXrp1",
        "outputId": "e7efe31b-0fb4-46d3-a7a5-ce72cc056e15",
        "colab": {
          "base_uri": "https://localhost:8080/",
          "height": 404
        }
      },
      "source": [
        "tabela_dados = pd.DataFrame({'Atual': y_test.flatten(), 'Predição': y_pred_CV.flatten()})\n",
        "tabela_dados"
      ],
      "execution_count": null,
      "outputs": [
        {
          "output_type": "execute_result",
          "data": {
            "text/html": [
              "<div>\n",
              "<style scoped>\n",
              "    .dataframe tbody tr th:only-of-type {\n",
              "        vertical-align: middle;\n",
              "    }\n",
              "\n",
              "    .dataframe tbody tr th {\n",
              "        vertical-align: top;\n",
              "    }\n",
              "\n",
              "    .dataframe thead th {\n",
              "        text-align: right;\n",
              "    }\n",
              "</style>\n",
              "<table border=\"1\" class=\"dataframe\">\n",
              "  <thead>\n",
              "    <tr style=\"text-align: right;\">\n",
              "      <th></th>\n",
              "      <th>Atual</th>\n",
              "      <th>Predição</th>\n",
              "    </tr>\n",
              "  </thead>\n",
              "  <tbody>\n",
              "    <tr>\n",
              "      <th>0</th>\n",
              "      <td>2203.45</td>\n",
              "      <td>2237.297597</td>\n",
              "    </tr>\n",
              "    <tr>\n",
              "      <th>1</th>\n",
              "      <td>7558.60</td>\n",
              "      <td>7371.701755</td>\n",
              "    </tr>\n",
              "    <tr>\n",
              "      <th>2</th>\n",
              "      <td>2654.89</td>\n",
              "      <td>3285.802098</td>\n",
              "    </tr>\n",
              "    <tr>\n",
              "      <th>3</th>\n",
              "      <td>6912.72</td>\n",
              "      <td>6436.010204</td>\n",
              "    </tr>\n",
              "    <tr>\n",
              "      <th>4</th>\n",
              "      <td>3806.30</td>\n",
              "      <td>4226.292196</td>\n",
              "    </tr>\n",
              "    <tr>\n",
              "      <th>...</th>\n",
              "      <td>...</td>\n",
              "      <td>...</td>\n",
              "    </tr>\n",
              "    <tr>\n",
              "      <th>1309</th>\n",
              "      <td>5676.47</td>\n",
              "      <td>5950.381398</td>\n",
              "    </tr>\n",
              "    <tr>\n",
              "      <th>1310</th>\n",
              "      <td>4035.59</td>\n",
              "      <td>4010.986287</td>\n",
              "    </tr>\n",
              "    <tr>\n",
              "      <th>1311</th>\n",
              "      <td>5315.72</td>\n",
              "      <td>4848.849735</td>\n",
              "    </tr>\n",
              "    <tr>\n",
              "      <th>1312</th>\n",
              "      <td>5655.22</td>\n",
              "      <td>4903.993283</td>\n",
              "    </tr>\n",
              "    <tr>\n",
              "      <th>1313</th>\n",
              "      <td>3674.28</td>\n",
              "      <td>3678.283875</td>\n",
              "    </tr>\n",
              "  </tbody>\n",
              "</table>\n",
              "<p>1314 rows × 2 columns</p>\n",
              "</div>"
            ],
            "text/plain": [
              "        Atual     Predição\n",
              "0     2203.45  2237.297597\n",
              "1     7558.60  7371.701755\n",
              "2     2654.89  3285.802098\n",
              "3     6912.72  6436.010204\n",
              "4     3806.30  4226.292196\n",
              "...       ...          ...\n",
              "1309  5676.47  5950.381398\n",
              "1310  4035.59  4010.986287\n",
              "1311  5315.72  4848.849735\n",
              "1312  5655.22  4903.993283\n",
              "1313  3674.28  3678.283875\n",
              "\n",
              "[1314 rows x 2 columns]"
            ]
          },
          "metadata": {
            "tags": []
          },
          "execution_count": 303
        }
      ]
    },
    {
      "cell_type": "markdown",
      "metadata": {
        "id": "aVwt1dl_jZNQ"
      },
      "source": [
        "##Resultados"
      ]
    },
    {
      "cell_type": "code",
      "metadata": {
        "id": "idWcJQt0h1F7",
        "outputId": "1e0f2860-2217-409d-a1ef-32c13f56a411",
        "colab": {
          "base_uri": "https://localhost:8080/",
          "height": 84
        }
      },
      "source": [
        "print('Técnica                             | Erro logarítmico quadrado médio  |  Variancia             | R2')\n",
        "print('4.1 Regressão Linear Multivariaveis', ' | ', e_LM*100, '           | ', variancia_LM*100, '    | ', r2_LM*100)\n",
        "print('4.2 Regressão Vetorial de Suporte', ' | ', e_SVR*100, '             | ', variancia_SVR*100, '    | ', r2_SVR*100)\n",
        "print('4.3 Predição com Random Forest    ', ' | ', e_RF*100, '             | ', variancia_RF*100, '    | ', r2_RF*100)\n",
        "#print('4.4 Predição com GridSearchCV     ', ' | ', e_CV, '             | ', variancia_CV*100, '    | ', r2_CV*100)"
      ],
      "execution_count": null,
      "outputs": [
        {
          "output_type": "stream",
          "text": [
            "Técnica                             | Erro logarítmico quadrado médio  |  Variancia             | R2\n",
            "4.1 Regressão Linear Multivariaveis  |  12.286768317307486            |  83.4482974157438     |  83.4440168664233\n",
            "4.2 Regressão Vetorial de Suporte  |  14.653293209096965              |  77.29092100639919     |  77.273365018231\n",
            "4.3 Predição com Random Forest      |  9.450211334208145              |  90.03234413685018     |  90.03123613463383\n"
          ],
          "name": "stdout"
        }
      ]
    },
    {
      "cell_type": "markdown",
      "metadata": {
        "id": "7ruwG8VPf8rt"
      },
      "source": [
        "TEORIA DOS GRANDES NUMEROS"
      ]
    },
    {
      "cell_type": "markdown",
      "metadata": {
        "id": "s9i-wpRamUBf"
      },
      "source": [
        "#5 avaliação dos modelos"
      ]
    },
    {
      "cell_type": "code",
      "metadata": {
        "id": "Vs21ZuV2AClt",
        "outputId": "f2c86737-531d-4306-c334-cb2ca55cc971",
        "colab": {
          "base_uri": "https://localhost:8080/",
          "height": 33
        }
      },
      "source": [
        "#JUNTA BASE DE TESTE E TREINAMENTO PARA O CROSS VALIDATION\n",
        "x_data = []\n",
        "for dado in x_train.values:\n",
        "  x_data.append(dado)\n",
        "\n",
        "for dado in x_test.values:\n",
        "  x_data.append(dado)\n",
        "\n",
        "len(x_data)"
      ],
      "execution_count": null,
      "outputs": [
        {
          "output_type": "execute_result",
          "data": {
            "text/plain": [
              "4380"
            ]
          },
          "metadata": {
            "tags": []
          },
          "execution_count": 305
        }
      ]
    },
    {
      "cell_type": "code",
      "metadata": {
        "id": "LmXQYrpZH-0v",
        "outputId": "d2700941-fd2c-4085-e939-e2ec7efcaa49",
        "colab": {
          "base_uri": "https://localhost:8080/",
          "height": 33
        }
      },
      "source": [
        "y_data = [] \n",
        "for dado in y_train:\n",
        "  y_data.append(dado)\n",
        "\n",
        "for dado in y_test:\n",
        "  y_data.append(dado)\n",
        "\n",
        "len(y_data)"
      ],
      "execution_count": null,
      "outputs": [
        {
          "output_type": "execute_result",
          "data": {
            "text/plain": [
              "4380"
            ]
          },
          "metadata": {
            "tags": []
          },
          "execution_count": 306
        }
      ]
    },
    {
      "cell_type": "markdown",
      "metadata": {
        "id": "CqJbWJOQSF6e"
      },
      "source": [
        "###Avaliação dos Resultados Linear Multivariáveis"
      ]
    },
    {
      "cell_type": "code",
      "metadata": {
        "id": "IIbOCczlSJdm",
        "outputId": "5b0f471d-b517-4f9d-a2fa-cd4b16eb6c1a",
        "colab": {
          "base_uri": "https://localhost:8080/",
          "height": 33
        }
      },
      "source": [
        "ini = time.time()\n",
        "from sklearn.model_selection import cross_validate\n",
        "regressionLM = linear_model.LinearRegression()\n",
        "scoresLM = cross_validate(regressionLM, x_data, y_data, cv=10,\n",
        "                         scoring=('r2', 'neg_mean_squared_error', 'explained_variance', 'max_error', 'neg_mean_absolute_error', 'neg_root_mean_squared_error', \n",
        "                                  'neg_mean_squared_log_error', 'neg_mean_poisson_deviance', 'neg_mean_gamma_deviance'),\n",
        "                         return_train_score=True)\n",
        "fim = time.time()\n",
        "print(\"Tempo Gasto: \", fim-ini)"
      ],
      "execution_count": null,
      "outputs": [
        {
          "output_type": "stream",
          "text": [
            "Tempo Gasto:  0.2571582794189453\n"
          ],
          "name": "stdout"
        }
      ]
    },
    {
      "cell_type": "code",
      "metadata": {
        "id": "bP-KVTy-SVGu",
        "outputId": "0b0d3d08-877f-4674-b6e1-1946ba299cf4",
        "colab": {
          "base_uri": "https://localhost:8080/",
          "height": 67
        }
      },
      "source": [
        "print('Media Score: ', scoresLM['test_r2'].mean()*100)\n",
        "print(scoresLM['test_explained_variance'].mean()*100)\n",
        "print(np.sqrt(scoresLM['test_neg_root_mean_squared_error'].mean() * -1))"
      ],
      "execution_count": null,
      "outputs": [
        {
          "output_type": "stream",
          "text": [
            "Media Score:  83.63245714547193\n",
            "83.72390050438516\n",
            "21.887759475576733\n"
          ],
          "name": "stdout"
        }
      ]
    },
    {
      "cell_type": "markdown",
      "metadata": {
        "id": "QUlCuMfHm4Ad"
      },
      "source": [
        "###Avaliação dos Resultados Vetorial Suporte"
      ]
    },
    {
      "cell_type": "code",
      "metadata": {
        "id": "V4x2bvEsnAvV",
        "outputId": "67c67f1c-5631-41fc-c7dc-027e293061c6",
        "colab": {
          "base_uri": "https://localhost:8080/",
          "height": 33
        }
      },
      "source": [
        "ini = time.time()\n",
        "#from sklearn.model_selection import cross_validate\n",
        "regressionSVR = SVR(kernel='linear')\n",
        "scoresRV = cross_validate(regressionSVR, x_data, y_data, cv=10,\n",
        "                         scoring=('r2', 'neg_mean_squared_error', 'explained_variance', 'max_error', 'neg_mean_absolute_error', 'neg_root_mean_squared_error', \n",
        "                                  'neg_mean_squared_log_error', 'neg_mean_poisson_deviance', 'neg_mean_gamma_deviance'),\n",
        "                         return_train_score=True)\n",
        "fim = time.time()\n",
        "print(\"Tempo Gasto: \", fim-ini)"
      ],
      "execution_count": null,
      "outputs": [
        {
          "output_type": "stream",
          "text": [
            "Tempo Gasto:  13.299707412719727\n"
          ],
          "name": "stdout"
        }
      ]
    },
    {
      "cell_type": "code",
      "metadata": {
        "id": "DcH6gmuEnIRL",
        "outputId": "0b0de0bc-c23b-4b79-984c-d9bfab171a23",
        "colab": {
          "base_uri": "https://localhost:8080/",
          "height": 67
        }
      },
      "source": [
        "print('Media Score: ', scoresRV['test_r2'].mean()*100)\n",
        "print(scoresRV['test_explained_variance'].mean()*100)\n",
        "print(np.sqrt(scoresRV['test_neg_root_mean_squared_error'].mean() * -1))"
      ],
      "execution_count": null,
      "outputs": [
        {
          "output_type": "stream",
          "text": [
            "Media Score:  79.16444618057031\n",
            "79.29100455517191\n",
            "23.256612120892804\n"
          ],
          "name": "stdout"
        }
      ]
    },
    {
      "cell_type": "markdown",
      "metadata": {
        "id": "jwCWey3PL3-Y"
      },
      "source": [
        "###Avaliação dos Resultados Randow Forest"
      ]
    },
    {
      "cell_type": "code",
      "metadata": {
        "id": "t_718U9TDcWF",
        "outputId": "6155e8d1-bb9b-4d1b-e8bf-abbfa761bc87",
        "colab": {
          "base_uri": "https://localhost:8080/",
          "height": 33
        }
      },
      "source": [
        "ini = time.time()\n",
        "mdl = RandomForestRegressor(max_depth = 20, n_estimators=100, n_jobs=-1, bootstrap=True)\n",
        "scores = cross_validate(mdl, x_data, y_data, cv=10,\n",
        "                         scoring=('r2', 'neg_mean_squared_error', 'explained_variance', 'max_error', 'neg_mean_absolute_error', 'neg_root_mean_squared_error', \n",
        "                                  'neg_mean_squared_log_error', 'neg_mean_poisson_deviance', 'neg_mean_gamma_deviance'),\n",
        "                         return_train_score=True)\n",
        "fim = time.time()\n",
        "print(\"Tempo Gasto: \", fim-ini)"
      ],
      "execution_count": null,
      "outputs": [
        {
          "output_type": "stream",
          "text": [
            "Tempo Gasto:  17.162511825561523\n"
          ],
          "name": "stdout"
        }
      ]
    },
    {
      "cell_type": "code",
      "metadata": {
        "id": "8NN6kWteQAER",
        "outputId": "0fb175f0-0765-4f5d-8039-d82ded2792d0",
        "colab": {
          "base_uri": "https://localhost:8080/",
          "height": 67
        }
      },
      "source": [
        "print('Media Score: ', scores['test_r2'].mean()*100)\n",
        "print(scores['test_explained_variance'].mean()*100)\n",
        "print(np.sqrt(scores['test_neg_root_mean_squared_error'].mean() * -1))\n",
        "\n",
        "#print('Media Score: ', scores['train_r2'].mean()*100)\n",
        "#print(scores['train_explained_variance'].mean()*100)\n",
        "#print(scores['train_neg_root_mean_squared_error'].mean())\n",
        "\n",
        "#print(scores['test_neg_mean_squared_error'].mean()*100)\n",
        "#print(scores['test_explained_variance'].mean()*100)\n",
        "#print(scores['test_max_error'].mean()*100)\n",
        "#print(scores['test_neg_mean_absolute_error'].mean()*100)\n",
        "#print(scores['test_neg_root_mean_squared_error'].mean()*100)\n",
        "#print(scores['test_neg_mean_squared_log_error'].mean()*100)\n",
        "#print(scores['test_neg_mean_poisson_deviance'].mean()*100)\n",
        "#print(scores['test_neg_mean_gamma_deviance'].mean()*100)"
      ],
      "execution_count": null,
      "outputs": [
        {
          "output_type": "stream",
          "text": [
            "Media Score:  90.62989879126762\n",
            "90.67992821546746\n",
            "19.047062239800706\n"
          ],
          "name": "stdout"
        }
      ]
    },
    {
      "cell_type": "code",
      "metadata": {
        "id": "6WGR-8RSTwxo",
        "outputId": "861bfe29-79a8-41c0-8707-bec3297f2b51",
        "colab": {
          "base_uri": "https://localhost:8080/",
          "height": 67
        }
      },
      "source": [
        "scores['test_neg_root_mean_squared_error']"
      ],
      "execution_count": null,
      "outputs": [
        {
          "output_type": "execute_result",
          "data": {
            "text/plain": [
              "array([-361.05056974, -358.7952873 , -352.00869337, -350.02877614,\n",
              "       -373.46047871, -361.16530342, -364.11488773, -353.72783672,\n",
              "       -326.63050173, -426.92346481])"
            ]
          },
          "metadata": {
            "tags": []
          },
          "execution_count": 313
        }
      ]
    },
    {
      "cell_type": "markdown",
      "metadata": {
        "id": "HbNQ2ylg9BNM"
      },
      "source": [
        "##Validação Cruzada - Monte Carlo"
      ]
    },
    {
      "cell_type": "code",
      "metadata": {
        "id": "rK6GqZEIungK"
      },
      "source": [
        "def calcularMedia(lst): \n",
        "    return sum(lst) / len(lst) "
      ],
      "execution_count": null,
      "outputs": []
    },
    {
      "cell_type": "code",
      "metadata": {
        "id": "1BuOc1gMtTfH"
      },
      "source": [
        "def calcularRaiz(lista):\n",
        "  listaNova = []\n",
        "  for i in lista:\n",
        "    listaNova.append(np.sqrt(i * -1))\n",
        "  return listaNova"
      ],
      "execution_count": null,
      "outputs": []
    },
    {
      "cell_type": "markdown",
      "metadata": {
        "id": "MHXFO_qkVzyB"
      },
      "source": [
        "###Avaliação dos Resultados Linear Multivariáveis"
      ]
    },
    {
      "cell_type": "code",
      "metadata": {
        "id": "ttCZMrlXyr9Y"
      },
      "source": [
        "qtd_cv = 100\n",
        "import statistics"
      ],
      "execution_count": null,
      "outputs": []
    },
    {
      "cell_type": "code",
      "metadata": {
        "id": "l4hxe09aWC0u",
        "outputId": "8114c64d-aa1b-4e71-e1c7-60a7db5e08c8",
        "colab": {
          "base_uri": "https://localhost:8080/",
          "height": 351
        }
      },
      "source": [
        "ini = time.time()\n",
        "regressionLM = linear_model.LinearRegression()\n",
        "monte_carlo_lm = cross_val_score(regressionLM, x_data, y_data, cv=qtd_cv, scoring=('r2'))\n",
        "fim = time.time()\n",
        "print(\"Tempo Gasto: \", fim-ini)\n",
        "print(monte_carlo_lm)\n",
        "print(monte_carlo_lm.mean() * 100)\n",
        "print(statistics.stdev(monte_carlo_lm) * 100)"
      ],
      "execution_count": null,
      "outputs": [
        {
          "output_type": "stream",
          "text": [
            "Tempo Gasto:  1.0614216327667236\n",
            "[0.807332   0.8252943  0.78495135 0.79167345 0.81369002 0.86329845\n",
            " 0.81873387 0.85396375 0.86787999 0.81809257 0.83314865 0.90158319\n",
            " 0.86597677 0.84814974 0.86416218 0.87622116 0.85419752 0.85447015\n",
            " 0.85991739 0.86159946 0.89587833 0.8962036  0.83342533 0.82881406\n",
            " 0.90432132 0.82170764 0.85532007 0.8535522  0.81347437 0.78071012\n",
            " 0.79402745 0.83855292 0.71941496 0.80997401 0.83860417 0.84531732\n",
            " 0.73460748 0.78061879 0.84092703 0.79845181 0.86645898 0.77226383\n",
            " 0.87789155 0.84488413 0.75560879 0.6833632  0.75258676 0.82320627\n",
            " 0.8319324  0.71779704 0.80122041 0.89155454 0.83950644 0.85657039\n",
            " 0.8574189  0.82106581 0.84687745 0.76004624 0.83003276 0.83349806\n",
            " 0.87006155 0.85903137 0.82360463 0.74068168 0.83461694 0.74202838\n",
            " 0.85647715 0.81412804 0.86176023 0.86681172 0.85474209 0.87547631\n",
            " 0.84797639 0.81390568 0.79225311 0.84221672 0.84816076 0.85208773\n",
            " 0.8794188  0.6883885  0.82620028 0.81207686 0.80638925 0.80657514\n",
            " 0.84906939 0.7503998  0.91260057 0.82311408 0.77139417 0.77972227\n",
            " 0.84616327 0.85155399 0.88352139 0.867111   0.81171942 0.81805522\n",
            " 0.69983277 0.77669393 0.82490465 0.8118025 ]\n",
            "82.50475064146067\n",
            "4.757727913552263\n"
          ],
          "name": "stdout"
        }
      ]
    },
    {
      "cell_type": "code",
      "metadata": {
        "id": "C3d99W0SWYrm",
        "outputId": "25280c97-6916-4180-a880-dd37cae3db7c",
        "colab": {
          "base_uri": "https://localhost:8080/",
          "height": 334
        }
      },
      "source": [
        "monte_carlo_lm = cross_val_score(regressionLM, x_data, y_data, cv=qtd_cv, scoring=('explained_variance'))\n",
        "print(monte_carlo_lm)\n",
        "print(monte_carlo_lm.mean() * 100)\n",
        "print(statistics.stdev(monte_carlo_lm) * 100)"
      ],
      "execution_count": null,
      "outputs": [
        {
          "output_type": "stream",
          "text": [
            "[0.80848808 0.84431718 0.78517426 0.79249033 0.81399109 0.86354451\n",
            " 0.81883562 0.85978239 0.86807498 0.81814455 0.8351984  0.90214558\n",
            " 0.86677212 0.84860737 0.86590523 0.87887424 0.85478299 0.86377705\n",
            " 0.86931451 0.86170738 0.89651472 0.89725984 0.84340541 0.84091545\n",
            " 0.90856273 0.83118117 0.86195476 0.85814305 0.81814444 0.78251547\n",
            " 0.80326994 0.84873031 0.73425505 0.81872552 0.84447542 0.84534854\n",
            " 0.74466832 0.78621127 0.84339157 0.80717735 0.86700104 0.77240746\n",
            " 0.88753608 0.86972412 0.75934051 0.68577112 0.75369099 0.83063539\n",
            " 0.83336024 0.76273492 0.80987773 0.89167796 0.84251208 0.85677541\n",
            " 0.85742838 0.825456   0.86810495 0.76719639 0.83363825 0.83662389\n",
            " 0.87320535 0.85909227 0.8238725  0.74672238 0.85049474 0.74203961\n",
            " 0.8565699  0.81913928 0.86245383 0.86717363 0.87092133 0.88107358\n",
            " 0.84824034 0.81433205 0.79502642 0.8468286  0.84817705 0.85219672\n",
            " 0.88034603 0.69015373 0.82643689 0.812775   0.80725991 0.81744644\n",
            " 0.85657257 0.76713801 0.91343823 0.82447236 0.79137845 0.78022953\n",
            " 0.85712712 0.85369978 0.88560582 0.8675103  0.83809652 0.81812457\n",
            " 0.71007947 0.78650661 0.8289878  0.81183279]\n",
            "83.02904860831416\n",
            "4.604978739543787\n"
          ],
          "name": "stdout"
        }
      ]
    },
    {
      "cell_type": "code",
      "metadata": {
        "id": "-A6HD2AcWY-w",
        "outputId": "fcfd0685-7444-4a3f-89dc-bf205b753058",
        "colab": {
          "base_uri": "https://localhost:8080/",
          "height": 87
        }
      },
      "source": [
        "monte_carlo_lm = cross_val_score(regressionLM, x_data, y_data, cv=qtd_cv, scoring=('neg_root_mean_squared_error'))\n",
        "monte_carlo_lm = calcularRaiz(monte_carlo_lm)\n",
        "print(monte_carlo_lm)\n",
        "print(calcularMedia(monte_carlo_lm))\n",
        "print(statistics.stdev(monte_carlo_lm) * 100)"
      ],
      "execution_count": null,
      "outputs": [
        {
          "output_type": "stream",
          "text": [
            "[21.037140629577376, 21.402537850625283, 22.772640828076614, 22.31088899480718, 22.37315203735489, 21.213983225156028, 22.41566194463677, 22.064225021252724, 21.76650033369641, 22.203644057378785, 21.18768790582236, 19.073391977241766, 21.815610294582758, 21.18092407306798, 21.681423416656678, 21.446329082187322, 19.458359521090067, 21.774130241996936, 20.829630528328966, 21.160660485224533, 22.288159229209437, 21.885828236919444, 20.87126453641857, 22.60740530963832, 20.478786393007468, 24.080758814546964, 21.724433806726065, 20.598468444050937, 21.172599061564583, 21.606670584708713, 23.63879442471382, 21.73533356030557, 21.703436897964465, 21.153332314608605, 21.427835172490624, 20.993095873133917, 22.92355303477104, 21.255209908296273, 22.263859421206327, 22.855705578287328, 22.082787831815686, 22.405484027442817, 20.438727187079916, 23.208236964880314, 22.408768070381004, 23.63427592812689, 23.479767984846987, 21.62275430994006, 21.581277213220986, 22.994766115789123, 22.649108828474944, 20.83218083338628, 23.595625461055697, 21.254763305156583, 21.252162285975974, 20.59269070205798, 21.17683173186201, 22.51729564278583, 22.519067936588858, 21.0637333978076, 20.35485282379734, 20.793718010561907, 22.164264247723672, 22.982614918401527, 21.569449106639958, 21.91449795858789, 21.998935256604373, 21.712471598637915, 19.89771098305196, 23.519403683185573, 20.44933316410793, 21.607002391563082, 22.636183758099875, 21.06784446240461, 21.049465452043048, 21.34192938182021, 21.761599924608124, 20.36671850227547, 21.983720050135563, 22.157491788097854, 23.318965221952045, 23.12839073590652, 21.179864707941423, 21.34643216855907, 21.556937461663182, 22.76881394565289, 18.4765532181585, 21.94249418403247, 21.72044671897848, 22.927256068656106, 22.201793794020706, 22.6855595518932, 22.40275862122373, 21.19023802142775, 22.727593798433258, 22.74373989035226, 23.659898711046438, 22.765321793616714, 21.88193126728815, 23.129920891511517]\n",
            "21.828274770446683\n",
            "1.0132217847328353\n"
          ],
          "name": "stdout"
        }
      ]
    },
    {
      "cell_type": "markdown",
      "metadata": {
        "id": "mFnN6XfGVnrp"
      },
      "source": [
        "###Avaliação dos Resultados Vetorial Suporte"
      ]
    },
    {
      "cell_type": "code",
      "metadata": {
        "id": "oXtvLJsPWo5m",
        "outputId": "e87d3ff8-8b0c-4ca0-e940-c47ab18e3500",
        "colab": {
          "base_uri": "https://localhost:8080/",
          "height": 334
        }
      },
      "source": [
        "regressionSVR = SVR(kernel='linear')\n",
        "monte_carlo_svr = cross_val_score(regressionSVR, x_data, y_data, cv=qtd_cv, scoring=('r2'))\n",
        "print(monte_carlo_svr)\n",
        "print(monte_carlo_svr.mean() * 100)\n",
        "print(statistics.stdev(monte_carlo_svr) * 100)"
      ],
      "execution_count": null,
      "outputs": [
        {
          "output_type": "stream",
          "text": [
            "[0.75582312 0.78854184 0.76156195 0.7681201  0.75786145 0.7961727\n",
            " 0.75171431 0.78477373 0.83153403 0.75590125 0.79015408 0.89288107\n",
            " 0.81849836 0.81604297 0.81147506 0.85169835 0.78956937 0.8195512\n",
            " 0.80669917 0.84037111 0.87312779 0.89470797 0.77586397 0.73885551\n",
            " 0.89630556 0.77881066 0.80001353 0.83014826 0.77935685 0.73466335\n",
            " 0.74108136 0.8325585  0.71271778 0.79243516 0.82767594 0.80924415\n",
            " 0.70474254 0.76131273 0.79449046 0.6987732  0.81556694 0.69737623\n",
            " 0.85564068 0.78668931 0.71472119 0.63109668 0.76631176 0.75150971\n",
            " 0.76963893 0.69632513 0.77525579 0.84929551 0.84130869 0.77831262\n",
            " 0.78612539 0.76268687 0.82038622 0.72902758 0.80004043 0.77554332\n",
            " 0.83405849 0.81538106 0.7876394  0.64592374 0.7929068  0.68062568\n",
            " 0.82657011 0.81629188 0.85834455 0.80484514 0.81365723 0.79430916\n",
            " 0.84548731 0.73626875 0.7308663  0.81051026 0.81893578 0.82071938\n",
            " 0.83818175 0.75698225 0.77987913 0.85511688 0.7616199  0.75384023\n",
            " 0.75232855 0.71900721 0.8622132  0.74049057 0.71740007 0.70099299\n",
            " 0.80899868 0.80284025 0.83740966 0.84236233 0.78492688 0.75666503\n",
            " 0.70055259 0.7097896  0.7494705  0.77325252]\n",
            "78.40635127822937\n",
            "5.245698288285971\n"
          ],
          "name": "stdout"
        }
      ]
    },
    {
      "cell_type": "code",
      "metadata": {
        "id": "_RGQk84eWpIz",
        "outputId": "885b381e-cdc2-41ae-8c7b-7217f0a49484",
        "colab": {
          "base_uri": "https://localhost:8080/",
          "height": 334
        }
      },
      "source": [
        "monte_carlo_svr = cross_val_score(regressionSVR, x_data, y_data, cv=qtd_cv, scoring=('explained_variance'))\n",
        "print(monte_carlo_svr)\n",
        "print(monte_carlo_svr.mean() * 100)\n",
        "print(statistics.stdev(monte_carlo_svr * 100))"
      ],
      "execution_count": null,
      "outputs": [
        {
          "output_type": "stream",
          "text": [
            "[0.75838242 0.80456698 0.76219138 0.76816786 0.75788723 0.79653309\n",
            " 0.75211613 0.79134773 0.83153548 0.75628345 0.80359274 0.89392642\n",
            " 0.82565303 0.81902463 0.81468914 0.85739892 0.79549342 0.82339238\n",
            " 0.82185255 0.84051172 0.87342954 0.89542813 0.78061401 0.74681265\n",
            " 0.90382928 0.78802556 0.8009901  0.84173504 0.78701686 0.74327974\n",
            " 0.75272052 0.84267406 0.71612527 0.80773707 0.83800303 0.81104632\n",
            " 0.72001185 0.77478804 0.79754121 0.71220714 0.8156387  0.697395\n",
            " 0.86743567 0.80883976 0.72088202 0.63160191 0.77179342 0.76095442\n",
            " 0.77537766 0.73644719 0.77688738 0.84930122 0.84134012 0.77951965\n",
            " 0.78617764 0.76703777 0.84574528 0.7397475  0.80620275 0.77839117\n",
            " 0.83446487 0.81551414 0.78868959 0.66805383 0.80072938 0.68623679\n",
            " 0.82815729 0.81805228 0.85950638 0.8048452  0.83010727 0.80163157\n",
            " 0.8472383  0.73664952 0.73336401 0.81073874 0.81948143 0.82079544\n",
            " 0.84408904 0.75983471 0.78024345 0.86062321 0.76362339 0.76670285\n",
            " 0.77766592 0.73656222 0.86242345 0.74401987 0.7293179  0.70707998\n",
            " 0.81805951 0.80289761 0.84195219 0.84430225 0.80885586 0.75691038\n",
            " 0.70958524 0.72263669 0.75285399 0.77388843]\n",
            "79.03366254994972\n",
            "5.08689680291108\n"
          ],
          "name": "stdout"
        }
      ]
    },
    {
      "cell_type": "code",
      "metadata": {
        "id": "Eckn2s78WpV_",
        "outputId": "598d9b2c-7cb3-4875-e31d-b4924c115c14",
        "colab": {
          "base_uri": "https://localhost:8080/",
          "height": 87
        }
      },
      "source": [
        "monte_carlo_svr = cross_val_score(regressionSVR, x_data, y_data, cv=qtd_cv, scoring=('neg_root_mean_squared_error'))\n",
        "monte_carlo_svr = calcularRaiz(monte_carlo_svr)\n",
        "print(monte_carlo_svr)\n",
        "print(calcularMedia(monte_carlo_svr))\n",
        "print(statistics.stdev(monte_carlo_svr * 100))"
      ],
      "execution_count": null,
      "outputs": [
        {
          "output_type": "stream",
          "text": [
            "[22.320835606723563, 22.448876887113812, 23.368084271893046, 22.91640559737154, 23.888238760170598, 23.441988292758044, 24.24992093317089, 24.310692502700565, 23.12994008745602, 23.897530947501682, 22.43759315852071, 19.481713891179282, 23.533823240199368, 22.221333579606164, 23.532865809735064, 22.437675291659012, 21.32761204910508, 22.976892847273106, 22.575840915592888, 21.929192929926405, 23.41696203476559, 21.964245047966372, 22.47886810520131, 25.124875126938875, 20.894851283920893, 25.414292977219617, 23.555729119881622, 21.376259536698218, 22.080665520275875, 22.661179759219504, 25.03017099546454, 21.934338141732013, 21.831801373796807, 21.62539209772699, 21.781696432072184, 22.12256788499839, 23.54290125157612, 21.70815216371195, 23.736099418149283, 25.27105124405, 23.939215732916356, 24.055926352637275, 21.31221695583678, 25.13224283508081, 23.29238518584632, 24.55444349231951, 23.147136911629254, 23.543534062852974, 23.351157700237543, 23.42021181593532, 23.35502311194127, 22.618481281744923, 23.529103336305546, 23.699097547400555, 23.519465061697385, 22.098876981743263, 22.03870706889772, 23.212163083876874, 23.45279754018516, 22.696749336123347, 21.63825839519895, 22.24439478551419, 23.216674191841157, 24.843646673525285, 22.816958834131153, 23.116045549735826, 23.064942918439705, 21.649002254277395, 20.019498348414363, 25.876447125866413, 21.763179188002294, 24.49544114750451, 22.72827584049348, 22.986731582451846, 22.456881919539125, 22.341630359985928, 22.740655139563078, 21.369942281761574, 23.66127581764417, 20.822205334685, 24.737870426279674, 21.672289857771172, 22.310449062665942, 22.67260885095408, 24.398420876938527, 23.453246574346686, 20.70359239525067, 24.14910082549241, 22.902871650170194, 24.74741120076367, 23.435927707603224, 24.35353014962836, 24.350822713170565, 22.114573898721822, 23.49625309146436, 24.458403890886594, 23.64570147710629, 24.30675042051586, 23.932149856498725, 24.232950830975245]\n",
            "23.03875105956011\n",
            "1.203224116437756\n"
          ],
          "name": "stdout"
        }
      ]
    },
    {
      "cell_type": "markdown",
      "metadata": {
        "id": "SWhvukD0RDTR"
      },
      "source": [
        "###Avaliação dos Resultados Randow Forest"
      ]
    },
    {
      "cell_type": "code",
      "metadata": {
        "id": "LhC4b6sf9mTA",
        "outputId": "5a3d2686-f605-4e49-991b-d3e6fbea49ee",
        "colab": {
          "base_uri": "https://localhost:8080/",
          "height": 334
        }
      },
      "source": [
        "mdl = RandomForestRegressor(max_depth = 20, n_estimators=100, n_jobs=-1, bootstrap=True)\n",
        "monte_carlo_rf = cross_val_score(mdl, x_data, y_data, cv=qtd_cv, scoring=('r2'))\n",
        "print(monte_carlo_rf)\n",
        "print(monte_carlo_rf.mean() * 100)\n",
        "print(statistics.stdev(monte_carlo_rf * 100))"
      ],
      "execution_count": null,
      "outputs": [
        {
          "output_type": "stream",
          "text": [
            "[0.9101298  0.8984929  0.88305837 0.91269109 0.89922755 0.91279064\n",
            " 0.81876367 0.94175644 0.88935428 0.95990212 0.89979416 0.96072911\n",
            " 0.8900962  0.89688455 0.89048432 0.92513415 0.94348472 0.84560926\n",
            " 0.92003433 0.95518816 0.93283534 0.93673781 0.88408947 0.92638084\n",
            " 0.93730285 0.90863401 0.92449937 0.91322649 0.94239744 0.91373853\n",
            " 0.90970642 0.87932045 0.83092548 0.91345822 0.89488744 0.9021182\n",
            " 0.88748026 0.87734219 0.9289997  0.92450995 0.94603402 0.9184679\n",
            " 0.92503133 0.90862244 0.87474883 0.8685603  0.89327923 0.89426472\n",
            " 0.90546364 0.83569849 0.8983976  0.94812539 0.90326088 0.93027329\n",
            " 0.9311386  0.89120321 0.87868356 0.89647513 0.8795518  0.90069317\n",
            " 0.92239482 0.949455   0.91224279 0.85517428 0.87643536 0.86467092\n",
            " 0.9354356  0.91078672 0.84564759 0.9284645  0.90011462 0.93193568\n",
            " 0.9458029  0.85215776 0.85419612 0.90314069 0.90952693 0.93205799\n",
            " 0.90164304 0.8688649  0.91969561 0.89513272 0.92475933 0.89212728\n",
            " 0.92237344 0.94066457 0.92372411 0.93393443 0.89339685 0.91838545\n",
            " 0.94103232 0.88002929 0.92628177 0.94135447 0.89232167 0.81152227\n",
            " 0.8652547  0.85920669 0.87764045 0.85429808]\n",
            "90.36345354176379\n",
            "3.154334532288339\n"
          ],
          "name": "stdout"
        }
      ]
    },
    {
      "cell_type": "code",
      "metadata": {
        "id": "qf1HVEcORRTl",
        "outputId": "4b11847c-5bb6-489e-bfd7-5c38515554a5",
        "colab": {
          "base_uri": "https://localhost:8080/",
          "height": 334
        }
      },
      "source": [
        "monte_carlo_rf = cross_val_score(mdl, x_data, y_data, cv=qtd_cv, scoring=('explained_variance'))\n",
        "print(monte_carlo_rf)\n",
        "print(monte_carlo_rf.mean() * 100)\n",
        "print(statistics.stdev(monte_carlo_rf * 100))"
      ],
      "execution_count": null,
      "outputs": [
        {
          "output_type": "stream",
          "text": [
            "[0.91939425 0.90392484 0.87522603 0.90462639 0.89770304 0.91096346\n",
            " 0.82769924 0.95299382 0.89111035 0.96065905 0.89853994 0.95764663\n",
            " 0.89423824 0.89673068 0.89291316 0.9313866  0.93522895 0.85870538\n",
            " 0.91487381 0.95497685 0.94551289 0.93855798 0.89127453 0.92451468\n",
            " 0.93866448 0.91448949 0.92506646 0.92515673 0.94382778 0.93146253\n",
            " 0.91660561 0.8927922  0.83827291 0.90992379 0.89343073 0.91052173\n",
            " 0.89403139 0.87928846 0.93052097 0.93611726 0.94667993 0.92228975\n",
            " 0.92337689 0.91186291 0.88819382 0.86942399 0.89546865 0.91561851\n",
            " 0.90229674 0.83938698 0.8998768  0.95085368 0.91642921 0.93583364\n",
            " 0.93216854 0.89701236 0.89126506 0.89597668 0.87730411 0.89943756\n",
            " 0.92876659 0.9529023  0.90051498 0.85915159 0.87684043 0.85323638\n",
            " 0.93627826 0.92314162 0.84934733 0.92954705 0.90440412 0.9395025\n",
            " 0.94157895 0.86085626 0.85352751 0.90478009 0.90869908 0.92591347\n",
            " 0.90004778 0.88052459 0.92738991 0.89322986 0.91716295 0.89917602\n",
            " 0.9341558  0.94572832 0.92420352 0.93324758 0.90228161 0.92730995\n",
            " 0.93912993 0.8882668  0.92410483 0.94244335 0.89464633 0.81900405\n",
            " 0.88325323 0.84839433 0.885625   0.85106019]\n",
            "90.67970357458717\n",
            "3.0933630971946657\n"
          ],
          "name": "stdout"
        }
      ]
    },
    {
      "cell_type": "code",
      "metadata": {
        "id": "OH2RYwiYSt_N",
        "outputId": "2957d9d4-4b18-4603-e901-c67a289cc058",
        "colab": {
          "base_uri": "https://localhost:8080/",
          "height": 87
        }
      },
      "source": [
        "monte_carlo_rf = cross_val_score(mdl, x_data, y_data, cv=qtd_cv, scoring=('neg_root_mean_squared_error'))\n",
        "monte_carlo_rf = calcularRaiz(monte_carlo_rf)\n",
        "print(monte_carlo_rf)\n",
        "print(calcularMedia(monte_carlo_rf))\n",
        "print(statistics.stdev(monte_carlo_rf * 100))"
      ],
      "execution_count": null,
      "outputs": [
        {
          "output_type": "stream",
          "text": [
            "[17.53997827020665, 18.675890505173246, 20.08758467744679, 18.01634096946764, 19.399036660883265, 18.687234682608917, 22.804470785488046, 17.98145010298672, 20.72340726107989, 15.058010778433827, 18.396728379651833, 15.265557616325045, 20.627512412575378, 19.07514224016749, 20.600415372892734, 18.47982615166567, 15.888355553286779, 21.767088221642247, 18.038390537765565, 15.600293151544527, 19.805993674392035, 19.13183940842498, 18.765091062222776, 18.43182191160617, 18.361242347086563, 20.692066282471213, 18.80321499774903, 18.34294104183687, 15.310983763399376, 17.061761402191795, 19.177010166123207, 20.45419531884081, 19.107607343427773, 17.293024057151637, 19.524146376861356, 18.373366717003634, 18.35621376689369, 18.08892488784113, 18.060080627009935, 17.87402664903561, 17.095528734680368, 16.816565580552012, 18.43048928644059, 20.750733807373443, 18.418663861809705, 19.05726642269815, 18.868038173870307, 19.22813259038676, 18.55476641809383, 20.31733790393714, 19.01229200768173, 17.17535460517768, 19.95530381651269, 17.702089848344283, 17.759444338138564, 17.996554653298467, 19.539197749270876, 18.090288089213477, 20.915345659518128, 18.71235105119544, 17.937122791363766, 16.462410237171422, 18.995253039474093, 19.880276469043775, 19.92706288921361, 18.6827718142295, 17.989018920870937, 17.610269388775215, 20.61703888496428, 20.491748088517152, 18.63870711654852, 18.523845650239643, 17.64566678526328, 19.565857837786158, 19.116820957851488, 18.90093826352429, 18.926665172838415, 16.89190245479529, 21.028107739569073, 17.538728257564184, 19.241061529237477, 20.22698535350009, 16.991805814594002, 18.499372621128813, 17.555688534648393, 16.202933277140065, 17.76730152745932, 17.17766410535087, 17.859991209513073, 17.735689175529913, 17.53997502995275, 21.291714250061112, 20.183488123135408, 17.515894485939135, 19.58187838072802, 23.123514939762362, 19.037064261046325, 20.683052906751684, 19.847648706688847, 21.843423730019374]\n",
            "18.734003714528466\n",
            "1.5289883519427634\n"
          ],
          "name": "stdout"
        }
      ]
    },
    {
      "cell_type": "markdown",
      "metadata": {
        "id": "0_H0nqojp564"
      },
      "source": [
        "#índice classificatório"
      ]
    },
    {
      "cell_type": "code",
      "metadata": {
        "id": "nDh5XprKc1__"
      },
      "source": [
        "base = pd.DataFrame({ 'Y_TEST': y_test.flatten(), 'Y_PRED': y_pred_RF.flatten()}) #Base para juntar o valor real com o valor predito na lista não usada nos modelos\n",
        "baseEscalonada = x_test #41 features geradas pela OLS\n",
        "eps = 19"
      ],
      "execution_count": null,
      "outputs": []
    },
    {
      "cell_type": "code",
      "metadata": {
        "id": "7XYQ7Q8NuEHq"
      },
      "source": [
        "class Anomalia(object):  \n",
        "    def __init__(self, indice, salario, salario_predicao, diferenca, referencia, porcentagem):  \n",
        "        self.indice = indice  \n",
        "        self.salario = salario \n",
        "        self.salario_predicao = salario_predicao\n",
        "        self.diferenca = diferenca\n",
        "        self.referencia = referencia\n",
        "        self.porcentagem = porcentagem\n",
        "\n",
        "    def getDiferenca(self):\n",
        "        return float(self.diferenca)"
      ],
      "execution_count": null,
      "outputs": []
    },
    {
      "cell_type": "code",
      "metadata": {
        "id": "h88oG-0jAOHh",
        "outputId": "0c7f427f-94eb-4cb9-80f5-a0e3681525d1",
        "colab": {
          "base_uri": "https://localhost:8080/",
          "height": 1000
        }
      },
      "source": [
        "#Lista Final para passar para os analistas fiscais\n",
        "#usar esse cara  -> y_test_completa\n",
        "listaIndiceSalario = []\n",
        "for indice, dado in enumerate(base.values):\n",
        "  salario = dado[0]\n",
        "  predicao = round(dado[1], 2)\n",
        "  diferenca = round(salario - predicao, 2)\n",
        "  referencia = False \n",
        "  porcentagem = round((diferenca * 100) / salario, 2)\n",
        "  if(diferenca > 0):\n",
        "      referencia = True\n",
        "  else:\n",
        "      porcentagem = porcentagem * (-1)\n",
        "  listaIndiceSalario.append(Anomalia(indice, salario, predicao, abs(diferenca), referencia, porcentagem))\n",
        "\n",
        "#Ordenando a lista da maior diferença, podendo ser positivo ou negativo\n",
        "listaIndiceSalario = sorted(listaIndiceSalario, key = Anomalia.getDiferenca, reverse=True)\n",
        "\n",
        "#Exibir a lista\n",
        "print('Id & Indice & Salário & Predição & Diferença & Porcentagem & Positivo')\n",
        "for indice, obj in enumerate(listaIndiceSalario): \n",
        "    print( indice+1, obj.indice, obj.salario, obj.salario_predicao, obj.diferenca, obj.porcentagem, obj.referencia, sep =' & ' ) "
      ],
      "execution_count": null,
      "outputs": [
        {
          "output_type": "stream",
          "text": [
            "Id & Indice & Salário & Predição & Diferença & Porcentagem & Positivo\n",
            "1 & 1290 & 3961.66 & 5667.95 & 1706.29 & 43.07 & False\n",
            "2 & 1117 & 2894.45 & 4436.57 & 1542.12 & 53.28 & False\n",
            "3 & 1072 & 5337.48 & 6523.23 & 1185.75 & 22.22 & False\n",
            "4 & 1214 & 6606.1 & 5423.75 & 1182.35 & 17.9 & True\n",
            "5 & 997 & 6838.21 & 5681.63 & 1156.58 & 16.91 & True\n",
            "6 & 1058 & 9252.96 & 8103.23 & 1149.73 & 12.43 & True\n",
            "7 & 943 & 5865.63 & 4719.48 & 1146.15 & 19.54 & True\n",
            "8 & 306 & 4769.89 & 3662.65 & 1107.24 & 23.21 & True\n",
            "9 & 938 & 2688.78 & 3784.75 & 1095.97 & 40.76 & False\n",
            "10 & 1289 & 4924.69 & 6000.04 & 1075.35 & 21.84 & False\n",
            "11 & 815 & 5462.93 & 4414.84 & 1048.09 & 19.19 & True\n",
            "12 & 1199 & 2614.98 & 3657.54 & 1042.56 & 39.87 & False\n",
            "13 & 966 & 4973.98 & 6006.74 & 1032.76 & 20.76 & False\n",
            "14 & 516 & 3529.37 & 2508.17 & 1021.2 & 28.93 & True\n",
            "15 & 70 & 3674.07 & 4692.6 & 1018.53 & 27.72 & False\n",
            "16 & 987 & 3348.79 & 4351.46 & 1002.67 & 29.94 & False\n",
            "17 & 584 & 4871.88 & 3887.82 & 984.06 & 20.2 & True\n",
            "18 & 177 & 4238.57 & 3293.83 & 944.74 & 22.29 & True\n",
            "19 & 401 & 2635.18 & 3576.57 & 941.39 & 35.72 & False\n",
            "20 & 398 & 5172.94 & 4231.68 & 941.26 & 18.2 & True\n",
            "21 & 1101 & 3719.88 & 4659.93 & 940.05 & 25.27 & False\n",
            "22 & 83 & 3232.31 & 4166.43 & 934.12 & 28.9 & False\n",
            "23 & 771 & 3248.29 & 4181.32 & 933.03 & 28.72 & False\n",
            "24 & 20 & 4888.13 & 5819.09 & 930.96 & 19.05 & False\n",
            "25 & 145 & 2670.65 & 3600.38 & 929.73 & 34.81 & False\n",
            "26 & 498 & 3413.98 & 4342.72 & 928.74 & 27.2 & False\n",
            "27 & 381 & 4468.45 & 5393.67 & 925.22 & 20.71 & False\n",
            "28 & 1261 & 3524.95 & 2600.51 & 924.44 & 26.23 & True\n",
            "29 & 1044 & 4199.88 & 3276.54 & 923.34 & 21.98 & True\n",
            "30 & 1006 & 4864.02 & 5785.86 & 921.84 & 18.95 & False\n",
            "31 & 1114 & 3842.29 & 4757.76 & 915.47 & 23.83 & False\n",
            "32 & 397 & 5301.74 & 4387.05 & 914.69 & 17.25 & True\n",
            "33 & 245 & 5016.85 & 5930.85 & 914.0 & 18.22 & False\n",
            "34 & 904 & 4590.48 & 3677.53 & 912.95 & 19.89 & True\n",
            "35 & 880 & 5032.23 & 4121.65 & 910.58 & 18.09 & True\n",
            "36 & 126 & 5239.36 & 4329.81 & 909.55 & 17.36 & True\n",
            "37 & 226 & 3754.71 & 4652.36 & 897.65 & 23.91 & False\n",
            "38 & 600 & 5670.81 & 4786.44 & 884.37 & 15.6 & True\n",
            "39 & 5 & 3329.62 & 4212.21 & 882.59 & 26.51 & False\n",
            "40 & 437 & 5752.92 & 4872.1 & 880.82 & 15.31 & True\n",
            "41 & 1258 & 3317.29 & 4195.27 & 877.98 & 26.47 & False\n",
            "42 & 995 & 2294.45 & 3171.21 & 876.76 & 38.21 & False\n",
            "43 & 1301 & 4829.54 & 3955.24 & 874.3 & 18.1 & True\n",
            "44 & 723 & 3615.66 & 2741.43 & 874.23 & 24.18 & True\n",
            "45 & 224 & 3385.83 & 4253.85 & 868.02 & 25.64 & False\n",
            "46 & 1298 & 2788.54 & 1929.82 & 858.72 & 30.79 & True\n",
            "47 & 790 & 5525.3 & 4668.95 & 856.35 & 15.5 & True\n",
            "48 & 942 & 3397.4 & 4253.47 & 856.07 & 25.2 & False\n",
            "49 & 345 & 4670.64 & 5524.08 & 853.44 & 18.27 & False\n",
            "50 & 376 & 3473.76 & 2621.72 & 852.04 & 24.53 & True\n",
            "51 & 495 & 3994.05 & 4845.46 & 851.41 & 21.32 & False\n",
            "52 & 1124 & 3230.24 & 2382.29 & 847.95 & 26.25 & True\n",
            "53 & 1129 & 4596.04 & 5439.51 & 843.47 & 18.35 & False\n",
            "54 & 1157 & 5065.06 & 5907.54 & 842.48 & 16.63 & False\n",
            "55 & 173 & 3497.56 & 4334.63 & 837.07 & 23.93 & False\n",
            "56 & 185 & 4459.01 & 5286.89 & 827.88 & 18.57 & False\n",
            "57 & 250 & 2703.68 & 1876.76 & 826.92 & 30.58 & True\n",
            "58 & 658 & 4500.38 & 3673.8 & 826.58 & 18.37 & True\n",
            "59 & 1 & 7558.6 & 8382.94 & 824.34 & 10.91 & False\n",
            "60 & 514 & 9396.73 & 8577.09 & 819.64 & 8.72 & True\n",
            "61 & 286 & 4714.27 & 3896.25 & 818.02 & 17.35 & True\n",
            "62 & 165 & 4608.09 & 3790.35 & 817.74 & 17.75 & True\n",
            "63 & 1310 & 4035.59 & 4846.3 & 810.71 & 20.09 & False\n",
            "64 & 643 & 4236.9 & 5047.17 & 810.27 & 19.12 & False\n",
            "65 & 1234 & 4236.9 & 5047.17 & 810.27 & 19.12 & False\n",
            "66 & 508 & 4532.82 & 3726.45 & 806.37 & 17.79 & True\n",
            "67 & 1130 & 3138.08 & 2340.16 & 797.92 & 25.43 & True\n",
            "68 & 490 & 4348.4 & 5144.5 & 796.1 & 18.31 & False\n",
            "69 & 1020 & 2860.76 & 3653.64 & 792.88 & 27.72 & False\n",
            "70 & 1189 & 4748.39 & 5536.69 & 788.3 & 16.6 & False\n",
            "71 & 936 & 3535.27 & 4323.52 & 788.25 & 22.3 & False\n",
            "72 & 927 & 3469.17 & 4256.92 & 787.75 & 22.71 & False\n",
            "73 & 406 & 2581.23 & 3368.54 & 787.31 & 30.5 & False\n",
            "74 & 1201 & 4653.87 & 3869.31 & 784.56 & 16.86 & True\n",
            "75 & 59 & 2608.7 & 3391.24 & 782.54 & 30.0 & False\n",
            "76 & 1240 & 5365.89 & 4586.81 & 779.08 & 14.52 & True\n",
            "77 & 1180 & 6325.28 & 5549.18 & 776.1 & 12.27 & True\n",
            "78 & 497 & 5389.75 & 4619.16 & 770.59 & 14.3 & True\n",
            "79 & 1272 & 3232.73 & 3999.08 & 766.35 & 23.71 & False\n",
            "80 & 1087 & 4746.35 & 3980.11 & 766.24 & 16.14 & True\n",
            "81 & 1312 & 5655.22 & 4891.81 & 763.41 & 13.5 & True\n",
            "82 & 786 & 2774.53 & 3536.47 & 761.94 & 27.46 & False\n",
            "83 & 1132 & 4413.06 & 5174.15 & 761.09 & 17.25 & False\n",
            "84 & 824 & 5208.86 & 4451.37 & 757.49 & 14.54 & True\n",
            "85 & 364 & 4371.97 & 3615.52 & 756.45 & 17.3 & True\n",
            "86 & 625 & 4010.08 & 4765.55 & 755.47 & 18.84 & False\n",
            "87 & 123 & 5406.82 & 4651.37 & 755.45 & 13.97 & True\n",
            "88 & 1078 & 4781.03 & 4025.61 & 755.42 & 15.8 & True\n",
            "89 & 976 & 4919.67 & 5673.41 & 753.74 & 15.32 & False\n",
            "90 & 1119 & 4512.15 & 3759.99 & 752.16 & 16.67 & True\n",
            "91 & 151 & 3836.3 & 3085.27 & 751.03 & 19.58 & True\n",
            "92 & 595 & 5512.21 & 6262.38 & 750.17 & 13.61 & False\n",
            "93 & 881 & 5337.64 & 4591.99 & 745.65 & 13.97 & True\n",
            "94 & 1121 & 2963.92 & 3708.19 & 744.27 & 25.11 & False\n",
            "95 & 1127 & 3805.05 & 4547.93 & 742.88 & 19.52 & False\n",
            "96 & 1111 & 3891.66 & 3149.04 & 742.62 & 19.08 & True\n",
            "97 & 1079 & 4444.17 & 5185.15 & 740.98 & 16.67 & False\n",
            "98 & 209 & 3263.97 & 2523.59 & 740.38 & 22.68 & True\n",
            "99 & 1045 & 2418.39 & 3155.73 & 737.34 & 30.49 & False\n",
            "100 & 665 & 4913.21 & 5647.67 & 734.46 & 14.95 & False\n",
            "101 & 794 & 3830.74 & 3101.76 & 728.98 & 19.03 & True\n",
            "102 & 47 & 5167.58 & 4441.79 & 725.79 & 14.05 & True\n",
            "103 & 803 & 4391.07 & 3669.59 & 721.48 & 16.43 & True\n",
            "104 & 536 & 3980.55 & 4700.87 & 720.32 & 18.1 & False\n",
            "105 & 121 & 4046.87 & 4763.72 & 716.85 & 17.71 & False\n",
            "106 & 650 & 6567.68 & 5856.37 & 711.31 & 10.83 & True\n",
            "107 & 1147 & 3909.41 & 4619.11 & 709.7 & 18.15 & False\n",
            "108 & 555 & 6603.25 & 5897.26 & 705.99 & 10.69 & True\n",
            "109 & 1269 & 2454.47 & 3155.73 & 701.26 & 28.57 & False\n",
            "110 & 1246 & 2135.55 & 2836.2 & 700.65 & 32.81 & False\n",
            "111 & 175 & 3936.43 & 3237.19 & 699.24 & 17.76 & True\n",
            "112 & 941 & 3109.18 & 3807.03 & 697.85 & 22.44 & False\n",
            "113 & 319 & 3730.81 & 4428.55 & 697.74 & 18.7 & False\n",
            "114 & 462 & 6027.63 & 5332.38 & 695.25 & 11.53 & True\n",
            "115 & 548 & 2447.22 & 3141.11 & 693.89 & 28.35 & False\n",
            "116 & 964 & 4066.05 & 3373.47 & 692.58 & 17.03 & True\n",
            "117 & 218 & 3569.04 & 2876.72 & 692.32 & 19.4 & True\n",
            "118 & 1137 & 3552.98 & 4245.27 & 692.29 & 19.48 & False\n",
            "119 & 1235 & 5495.03 & 6187.22 & 692.19 & 12.6 & False\n",
            "120 & 962 & 5120.84 & 5810.63 & 689.79 & 13.47 & False\n",
            "121 & 323 & 4496.4 & 3806.87 & 689.53 & 15.34 & True\n",
            "122 & 481 & 6153.96 & 5466.38 & 687.58 & 11.17 & True\n",
            "123 & 1125 & 5920.9 & 6604.68 & 683.78 & 11.55 & False\n",
            "124 & 945 & 3799.27 & 3115.56 & 683.71 & 18.0 & True\n",
            "125 & 988 & 3767.22 & 3084.07 & 683.15 & 18.13 & True\n",
            "126 & 217 & 3921.3 & 4595.59 & 674.29 & 17.2 & False\n",
            "127 & 1053 & 4707.4 & 4033.56 & 673.84 & 14.31 & True\n",
            "128 & 857 & 4706.37 & 4032.7 & 673.67 & 14.31 & True\n",
            "129 & 1175 & 5798.28 & 6471.38 & 673.1 & 11.61 & False\n",
            "130 & 659 & 4714.66 & 4042.06 & 672.6 & 14.27 & True\n",
            "131 & 1186 & 3340.94 & 4012.55 & 671.61 & 20.1 & False\n",
            "132 & 1248 & 3661.35 & 2996.09 & 665.26 & 18.17 & True\n",
            "133 & 377 & 5957.72 & 5292.7 & 665.02 & 11.16 & True\n",
            "134 & 486 & 7479.83 & 6817.26 & 662.57 & 8.86 & True\n",
            "135 & 232 & 5082.03 & 5744.23 & 662.2 & 13.03 & False\n",
            "136 & 1110 & 5431.17 & 4774.41 & 656.76 & 12.09 & True\n",
            "137 & 1185 & 3463.68 & 2808.77 & 654.91 & 18.91 & True\n",
            "138 & 494 & 4228.02 & 3575.52 & 652.5 & 15.43 & True\n",
            "139 & 553 & 3645.12 & 4297.49 & 652.37 & 17.9 & False\n",
            "140 & 17 & 3104.07 & 2454.03 & 650.04 & 20.94 & True\n",
            "141 & 405 & 3077.53 & 3724.96 & 647.43 & 21.04 & False\n",
            "142 & 1135 & 6400.22 & 5754.89 & 645.33 & 10.08 & True\n",
            "143 & 918 & 5663.92 & 5018.66 & 645.26 & 11.39 & True\n",
            "144 & 233 & 3872.12 & 3230.36 & 641.76 & 16.57 & True\n",
            "145 & 1024 & 2765.2 & 3403.22 & 638.02 & 23.07 & False\n",
            "146 & 278 & 4661.16 & 5299.06 & 637.9 & 13.69 & False\n",
            "147 & 745 & 4269.14 & 4904.4 & 635.26 & 14.88 & False\n",
            "148 & 1145 & 3059.79 & 3694.53 & 634.74 & 20.74 & False\n",
            "149 & 1252 & 3841.04 & 4475.69 & 634.65 & 16.52 & False\n",
            "150 & 1093 & 3953.66 & 4586.6 & 632.94 & 16.01 & False\n",
            "151 & 468 & 2272.43 & 2902.08 & 629.65 & 27.71 & False\n",
            "152 & 799 & 2560.86 & 1932.49 & 628.37 & 24.54 & True\n",
            "153 & 36 & 5222.96 & 4597.19 & 625.77 & 11.98 & True\n",
            "154 & 637 & 5881.4 & 5256.33 & 625.07 & 10.63 & True\n",
            "155 & 255 & 5671.36 & 5047.17 & 624.19 & 11.01 & True\n",
            "156 & 501 & 5388.54 & 4765.46 & 623.08 & 11.56 & True\n",
            "157 & 1277 & 5547.45 & 6170.07 & 622.62 & 11.22 & False\n",
            "158 & 1177 & 5065.28 & 5683.28 & 618.0 & 12.2 & False\n",
            "159 & 724 & 5097.78 & 4482.03 & 615.75 & 12.08 & True\n",
            "160 & 684 & 5271.29 & 4660.23 & 611.06 & 11.59 & True\n",
            "161 & 1060 & 3200.13 & 3810.95 & 610.82 & 19.09 & False\n",
            "162 & 1200 & 2731.2 & 3340.81 & 609.61 & 22.32 & False\n",
            "163 & 120 & 3894.64 & 4501.69 & 607.05 & 15.59 & False\n",
            "164 & 477 & 2560.94 & 3166.39 & 605.45 & 23.64 & False\n",
            "165 & 1000 & 6627.08 & 6023.0 & 604.08 & 9.12 & True\n",
            "166 & 449 & 5447.41 & 4847.62 & 599.79 & 11.01 & True\n",
            "167 & 496 & 3966.91 & 4566.67 & 599.76 & 15.12 & False\n",
            "168 & 968 & 4326.1 & 3728.12 & 597.98 & 13.82 & True\n",
            "169 & 1264 & 2911.93 & 3509.66 & 597.73 & 20.53 & False\n",
            "170 & 417 & 4936.48 & 5534.19 & 597.71 & 12.11 & False\n",
            "171 & 1228 & 2719.99 & 3317.55 & 597.56 & 21.97 & False\n",
            "172 & 990 & 5070.83 & 4473.71 & 597.12 & 11.78 & True\n",
            "173 & 1276 & 4619.56 & 4023.42 & 596.14 & 12.9 & True\n",
            "174 & 1193 & 5391.69 & 5986.98 & 595.29 & 11.04 & False\n",
            "175 & 1070 & 4984.86 & 5579.04 & 594.18 & 11.92 & False\n",
            "176 & 472 & 6012.54 & 5418.44 & 594.1 & 9.88 & True\n",
            "177 & 1283 & 4369.72 & 4962.11 & 592.39 & 13.56 & False\n",
            "178 & 817 & 3126.32 & 3718.12 & 591.8 & 18.93 & False\n",
            "179 & 667 & 4813.55 & 4224.96 & 588.59 & 12.23 & True\n",
            "180 & 81 & 3631.34 & 4219.89 & 588.55 & 16.21 & False\n",
            "181 & 974 & 3136.26 & 3723.96 & 587.7 & 18.74 & False\n",
            "182 & 573 & 3949.38 & 4534.43 & 585.05 & 14.81 & False\n",
            "183 & 382 & 3114.6 & 3699.48 & 584.88 & 18.78 & False\n",
            "184 & 925 & 4631.14 & 4047.55 & 583.59 & 12.6 & True\n",
            "185 & 400 & 7852.31 & 7269.8 & 582.51 & 7.42 & True\n",
            "186 & 862 & 1612.23 & 2193.48 & 581.25 & 36.05 & False\n",
            "187 & 585 & 2695.98 & 2114.86 & 581.12 & 21.56 & True\n",
            "188 & 1158 & 3632.2 & 3053.29 & 578.91 & 15.94 & True\n",
            "189 & 914 & 4950.45 & 4376.68 & 573.77 & 11.59 & True\n",
            "190 & 473 & 5323.0 & 4756.04 & 566.96 & 10.65 & True\n",
            "191 & 458 & 2694.92 & 3260.23 & 565.31 & 20.98 & False\n",
            "192 & 99 & 3614.97 & 4180.07 & 565.1 & 15.63 & False\n",
            "193 & 283 & 2855.42 & 3420.27 & 564.85 & 19.78 & False\n",
            "194 & 1026 & 3767.27 & 4331.39 & 564.12 & 14.97 & False\n",
            "195 & 380 & 4508.83 & 5072.88 & 564.05 & 12.51 & False\n",
            "196 & 1306 & 5548.73 & 4984.7 & 564.03 & 10.17 & True\n",
            "197 & 1113 & 8122.43 & 7558.78 & 563.65 & 6.94 & True\n",
            "198 & 993 & 5455.89 & 6018.05 & 562.16 & 10.3 & False\n",
            "199 & 1311 & 5315.72 & 4754.12 & 561.6 & 10.56 & True\n",
            "200 & 22 & 3194.72 & 3754.32 & 559.6 & 17.52 & False\n",
            "201 & 893 & 7034.83 & 6478.24 & 556.59 & 7.91 & True\n",
            "202 & 1055 & 5321.42 & 4766.32 & 555.1 & 10.43 & True\n",
            "203 & 256 & 3157.26 & 3711.28 & 554.02 & 17.55 & False\n",
            "204 & 1274 & 6326.34 & 5773.78 & 552.56 & 8.73 & True\n",
            "205 & 742 & 4380.66 & 3828.36 & 552.3 & 12.61 & True\n",
            "206 & 438 & 4056.74 & 4608.45 & 551.71 & 13.6 & False\n",
            "207 & 141 & 3422.0 & 3972.32 & 550.32 & 16.08 & False\n",
            "208 & 717 & 6095.27 & 5544.95 & 550.32 & 9.03 & True\n",
            "209 & 882 & 3864.46 & 4410.52 & 546.06 & 14.13 & False\n",
            "210 & 1183 & 4544.23 & 5089.4 & 545.17 & 12.0 & False\n",
            "211 & 1154 & 6628.24 & 6084.01 & 544.23 & 8.21 & True\n",
            "212 & 1268 & 5314.04 & 4772.03 & 542.01 & 10.2 & True\n",
            "213 & 184 & 3399.83 & 3934.51 & 534.68 & 15.73 & False\n",
            "214 & 1088 & 3998.86 & 4532.52 & 533.66 & 13.35 & False\n",
            "215 & 9 & 2935.38 & 3467.73 & 532.35 & 18.14 & False\n",
            "216 & 331 & 3252.85 & 3783.86 & 531.01 & 16.32 & False\n",
            "217 & 241 & 5903.85 & 5374.13 & 529.72 & 8.97 & True\n",
            "218 & 198 & 5552.42 & 6081.8 & 529.38 & 9.53 & False\n",
            "219 & 730 & 4413.78 & 3884.52 & 529.26 & 11.99 & True\n",
            "220 & 906 & 6748.99 & 6219.92 & 529.07 & 7.84 & True\n",
            "221 & 1152 & 3922.59 & 4449.98 & 527.39 & 13.44 & False\n",
            "222 & 889 & 3100.63 & 3626.19 & 525.56 & 16.95 & False\n",
            "223 & 535 & 3193.93 & 3719.22 & 525.29 & 16.45 & False\n",
            "224 & 178 & 2197.48 & 2720.12 & 522.64 & 23.78 & False\n",
            "225 & 289 & 2215.27 & 2732.22 & 516.95 & 23.34 & False\n",
            "226 & 714 & 3658.42 & 4173.71 & 515.29 & 14.09 & False\n",
            "227 & 1243 & 4159.73 & 4674.14 & 514.41 & 12.37 & False\n",
            "228 & 62 & 3884.95 & 4398.15 & 513.2 & 13.21 & False\n",
            "229 & 163 & 5289.69 & 5802.84 & 513.15 & 9.7 & False\n",
            "230 & 663 & 6870.77 & 6359.25 & 511.52 & 7.44 & True\n",
            "231 & 737 & 7596.18 & 8106.52 & 510.34 & 6.72 & False\n",
            "232 & 1236 & 5234.1 & 4725.87 & 508.23 & 9.71 & True\n",
            "233 & 666 & 7003.48 & 7509.97 & 506.49 & 7.23 & False\n",
            "234 & 672 & 4503.23 & 3996.89 & 506.34 & 11.24 & True\n",
            "235 & 176 & 6049.27 & 5544.45 & 504.82 & 8.35 & True\n",
            "236 & 453 & 3329.41 & 3832.34 & 502.93 & 15.11 & False\n",
            "237 & 206 & 3446.35 & 2944.57 & 501.78 & 14.56 & True\n",
            "238 & 143 & 3907.99 & 4407.65 & 499.66 & 12.79 & False\n",
            "239 & 440 & 2745.49 & 3242.98 & 497.49 & 18.12 & False\n",
            "240 & 419 & 4606.67 & 4111.03 & 495.64 & 10.76 & True\n",
            "241 & 872 & 4436.19 & 3941.25 & 494.94 & 11.16 & True\n",
            "242 & 807 & 3829.78 & 3335.19 & 494.59 & 12.91 & True\n",
            "243 & 726 & 2982.55 & 3476.29 & 493.74 & 16.55 & False\n",
            "244 & 182 & 5559.34 & 5066.21 & 493.13 & 8.87 & True\n",
            "245 & 1005 & 3134.37 & 3627.43 & 493.06 & 15.73 & False\n",
            "246 & 309 & 3570.04 & 4062.66 & 492.62 & 13.8 & False\n",
            "247 & 607 & 4264.81 & 3772.42 & 492.39 & 11.55 & True\n",
            "248 & 530 & 4485.27 & 3993.8 & 491.47 & 10.96 & True\n",
            "249 & 1071 & 5418.25 & 5907.61 & 489.36 & 9.03 & False\n",
            "250 & 763 & 3894.58 & 4380.2 & 485.62 & 12.47 & False\n",
            "251 & 897 & 4131.6 & 4616.22 & 484.62 & 11.73 & False\n",
            "252 & 1278 & 4843.44 & 4359.42 & 484.02 & 9.99 & True\n",
            "253 & 677 & 4847.71 & 4363.83 & 483.88 & 9.98 & True\n",
            "254 & 58 & 3129.95 & 3613.41 & 483.46 & 15.45 & False\n",
            "255 & 867 & 3433.07 & 3915.19 & 482.12 & 14.04 & False\n",
            "256 & 314 & 4619.89 & 5101.44 & 481.55 & 10.42 & False\n",
            "257 & 26 & 4643.98 & 4162.66 & 481.32 & 10.36 & True\n",
            "258 & 156 & 4073.34 & 4554.47 & 481.13 & 11.81 & False\n",
            "259 & 325 & 5162.5 & 5643.4 & 480.9 & 9.32 & False\n",
            "260 & 764 & 5915.69 & 5436.78 & 478.91 & 8.1 & True\n",
            "261 & 276 & 4146.43 & 4625.24 & 478.81 & 11.55 & False\n",
            "262 & 1112 & 5110.09 & 4632.53 & 477.56 & 9.35 & True\n",
            "263 & 95 & 3030.82 & 3507.66 & 476.84 & 15.73 & False\n",
            "264 & 117 & 2538.89 & 3014.57 & 475.68 & 18.74 & False\n",
            "265 & 207 & 4799.76 & 4324.63 & 475.13 & 9.9 & True\n",
            "266 & 243 & 6543.5 & 6069.97 & 473.53 & 7.24 & True\n",
            "267 & 25 & 3692.19 & 3219.07 & 473.12 & 12.81 & True\n",
            "268 & 558 & 3878.81 & 4349.53 & 470.72 & 12.14 & False\n",
            "269 & 1041 & 3812.17 & 4282.86 & 470.69 & 12.35 & False\n",
            "270 & 933 & 5981.05 & 5511.25 & 469.8 & 7.85 & True\n",
            "271 & 951 & 7412.13 & 7881.71 & 469.58 & 6.34 & False\n",
            "272 & 73 & 5555.45 & 5087.2 & 468.25 & 8.43 & True\n",
            "273 & 1226 & 4144.18 & 3675.99 & 468.19 & 11.3 & True\n",
            "274 & 1210 & 4397.34 & 3929.45 & 467.89 & 10.64 & True\n",
            "275 & 551 & 5879.82 & 5412.89 & 466.93 & 7.94 & True\n",
            "276 & 506 & 3846.68 & 4311.96 & 465.28 & 12.1 & False\n",
            "277 & 788 & 5049.68 & 5513.99 & 464.31 & 9.19 & False\n",
            "278 & 40 & 5173.05 & 4709.1 & 463.95 & 8.97 & True\n",
            "279 & 608 & 4082.83 & 4546.53 & 463.7 & 11.36 & False\n",
            "280 & 261 & 3979.42 & 4442.97 & 463.55 & 11.65 & False\n",
            "281 & 1102 & 2151.28 & 2614.53 & 463.25 & 21.53 & False\n",
            "282 & 543 & 3302.92 & 3762.85 & 459.93 & 13.92 & False\n",
            "283 & 301 & 3159.89 & 3618.8 & 458.91 & 14.52 & False\n",
            "284 & 731 & 4670.13 & 4212.4 & 457.73 & 9.8 & True\n",
            "285 & 950 & 6418.23 & 5961.92 & 456.31 & 7.11 & True\n",
            "286 & 1230 & 2255.83 & 2711.48 & 455.65 & 20.2 & False\n",
            "287 & 1191 & 4721.99 & 4267.76 & 454.23 & 9.62 & True\n",
            "288 & 1286 & 6482.89 & 6031.64 & 451.25 & 6.96 & True\n",
            "289 & 429 & 4799.51 & 4350.77 & 448.74 & 9.35 & True\n",
            "290 & 24 & 5895.66 & 5448.67 & 446.99 & 7.58 & True\n",
            "291 & 1256 & 3566.8 & 4013.26 & 446.46 & 12.52 & False\n",
            "292 & 57 & 4466.7 & 4023.83 & 442.87 & 9.91 & True\n",
            "293 & 521 & 3624.98 & 3182.81 & 442.17 & 12.2 & True\n",
            "294 & 43 & 5491.19 & 5049.33 & 441.86 & 8.05 & True\n",
            "295 & 61 & 5116.87 & 4675.21 & 441.66 & 8.63 & True\n",
            "296 & 894 & 5861.66 & 5420.03 & 441.63 & 7.53 & True\n",
            "297 & 791 & 2188.78 & 2625.79 & 437.01 & 19.97 & False\n",
            "298 & 302 & 2749.62 & 3186.39 & 436.77 & 15.88 & False\n",
            "299 & 1207 & 3876.45 & 4312.25 & 435.8 & 11.24 & False\n",
            "300 & 836 & 4971.85 & 4536.08 & 435.77 & 8.76 & True\n",
            "301 & 104 & 2184.35 & 2619.54 & 435.19 & 19.92 & False\n",
            "302 & 239 & 5114.6 & 5549.18 & 434.58 & 8.5 & False\n",
            "303 & 728 & 4776.45 & 4343.64 & 432.81 & 9.06 & True\n",
            "304 & 1294 & 4994.8 & 4562.81 & 431.99 & 8.65 & True\n",
            "305 & 582 & 3139.69 & 2709.16 & 430.53 & 13.71 & True\n",
            "306 & 890 & 2672.86 & 3103.27 & 430.41 & 16.1 & False\n",
            "307 & 362 & 3691.03 & 3260.98 & 430.05 & 11.65 & True\n",
            "308 & 744 & 4811.61 & 4382.23 & 429.38 & 8.92 & True\n",
            "309 & 1166 & 4297.52 & 4726.39 & 428.87 & 9.98 & False\n",
            "310 & 445 & 5232.32 & 4805.05 & 427.27 & 8.17 & True\n",
            "311 & 279 & 3848.64 & 4275.69 & 427.05 & 11.1 & False\n",
            "312 & 48 & 3853.43 & 3430.81 & 422.62 & 10.97 & True\n",
            "313 & 55 & 2760.26 & 3181.77 & 421.51 & 15.27 & False\n",
            "314 & 451 & 6603.79 & 7025.23 & 421.44 & 6.38 & False\n",
            "315 & 372 & 4547.54 & 4127.31 & 420.23 & 9.24 & True\n",
            "316 & 1010 & 3055.65 & 3475.26 & 419.61 & 13.73 & False\n",
            "317 & 1176 & 4184.32 & 4603.74 & 419.42 & 10.02 & False\n",
            "318 & 341 & 4495.47 & 4076.48 & 418.99 & 9.32 & True\n",
            "319 & 709 & 3847.98 & 4266.69 & 418.71 & 10.88 & False\n",
            "320 & 361 & 6563.74 & 6145.3 & 418.44 & 6.38 & True\n",
            "321 & 158 & 3322.62 & 3739.66 & 417.04 & 12.55 & False\n",
            "322 & 1106 & 4529.35 & 4114.15 & 415.2 & 9.17 & True\n",
            "323 & 268 & 2328.9 & 2742.74 & 413.84 & 17.77 & False\n",
            "324 & 957 & 4189.8 & 4603.32 & 413.52 & 9.87 & False\n",
            "325 & 312 & 4468.96 & 4881.75 & 412.79 & 9.24 & False\n",
            "326 & 1293 & 3395.13 & 2982.74 & 412.39 & 12.15 & True\n",
            "327 & 1076 & 3986.73 & 4398.9 & 412.17 & 10.34 & False\n",
            "328 & 326 & 4537.34 & 4125.76 & 411.58 & 9.07 & True\n",
            "329 & 499 & 4760.65 & 4349.12 & 411.53 & 8.64 & True\n",
            "330 & 1062 & 4016.63 & 4426.99 & 410.36 & 10.22 & False\n",
            "331 & 183 & 4331.71 & 4741.05 & 409.34 & 9.45 & False\n",
            "332 & 1218 & 3071.44 & 3479.19 & 407.75 & 13.28 & False\n",
            "333 & 878 & 4997.91 & 4590.17 & 407.74 & 8.16 & True\n",
            "334 & 338 & 4075.66 & 4483.11 & 407.45 & 10.0 & False\n",
            "335 & 46 & 3684.08 & 3277.48 & 406.6 & 11.04 & True\n",
            "336 & 826 & 4115.59 & 3712.09 & 403.5 & 9.8 & True\n",
            "337 & 15 & 4344.93 & 3942.41 & 402.52 & 9.26 & True\n",
            "338 & 960 & 6992.13 & 6592.21 & 399.92 & 5.72 & True\n",
            "339 & 124 & 4631.17 & 5030.65 & 399.48 & 8.63 & False\n",
            "340 & 394 & 5020.46 & 4623.02 & 397.44 & 7.92 & True\n",
            "341 & 144 & 4313.96 & 4710.62 & 396.66 & 9.19 & False\n",
            "342 & 216 & 4069.43 & 3673.41 & 396.02 & 9.73 & True\n",
            "343 & 392 & 4353.31 & 3957.31 & 396.0 & 9.1 & True\n",
            "344 & 708 & 4305.69 & 4701.65 & 395.96 & 9.2 & False\n",
            "345 & 452 & 4987.42 & 5383.34 & 395.92 & 7.94 & False\n",
            "346 & 515 & 4543.72 & 4148.76 & 394.96 & 8.69 & True\n",
            "347 & 879 & 2587.69 & 2982.45 & 394.76 & 15.26 & False\n",
            "348 & 715 & 5387.36 & 5781.17 & 393.81 & 7.31 & False\n",
            "349 & 955 & 3577.5 & 3970.43 & 392.93 & 10.98 & False\n",
            "350 & 671 & 5204.17 & 5596.16 & 391.99 & 7.53 & False\n",
            "351 & 393 & 6399.42 & 6007.75 & 391.67 & 6.12 & True\n",
            "352 & 8 & 3729.25 & 4120.78 & 391.53 & 10.5 & False\n",
            "353 & 866 & 4401.15 & 4791.89 & 390.74 & 8.88 & False\n",
            "354 & 583 & 3667.52 & 3277.09 & 390.43 & 10.65 & True\n",
            "355 & 732 & 3191.33 & 3581.06 & 389.73 & 12.21 & False\n",
            "356 & 877 & 3631.5 & 4020.62 & 389.12 & 10.72 & False\n",
            "357 & 146 & 4195.51 & 3807.03 & 388.48 & 9.26 & True\n",
            "358 & 916 & 3920.74 & 4308.76 & 388.02 & 9.9 & False\n",
            "359 & 63 & 3909.55 & 4296.97 & 387.42 & 9.91 & False\n",
            "360 & 91 & 5763.87 & 5377.26 & 386.61 & 6.71 & True\n",
            "361 & 44 & 6396.23 & 6010.93 & 385.3 & 6.02 & True\n",
            "362 & 1098 & 4099.92 & 4484.43 & 384.51 & 9.38 & False\n",
            "363 & 1160 & 4587.22 & 4204.0 & 383.22 & 8.35 & True\n",
            "364 & 285 & 4885.27 & 4502.52 & 382.75 & 7.83 & True\n",
            "365 & 1108 & 3171.9 & 3553.84 & 381.94 & 12.04 & False\n",
            "366 & 72 & 5691.04 & 6071.51 & 380.47 & 6.69 & False\n",
            "367 & 107 & 5691.04 & 6071.51 & 380.47 & 6.69 & False\n",
            "368 & 110 & 5691.04 & 6071.51 & 380.47 & 6.69 & False\n",
            "369 & 1174 & 5691.04 & 6071.51 & 380.47 & 6.69 & False\n",
            "370 & 905 & 6027.23 & 5647.02 & 380.21 & 6.31 & True\n",
            "371 & 935 & 6859.0 & 7238.54 & 379.54 & 5.53 & False\n",
            "372 & 23 & 4477.27 & 4098.12 & 379.15 & 8.47 & True\n",
            "373 & 41 & 1773.76 & 2152.77 & 379.01 & 21.37 & False\n",
            "374 & 793 & 2522.0 & 2900.28 & 378.28 & 15.0 & False\n",
            "375 & 467 & 4955.19 & 5333.45 & 378.26 & 7.63 & False\n",
            "376 & 855 & 3266.15 & 3644.24 & 378.09 & 11.58 & False\n",
            "377 & 168 & 3808.19 & 3430.27 & 377.92 & 9.92 & True\n",
            "378 & 161 & 4815.2 & 4437.45 & 377.75 & 7.84 & True\n",
            "379 & 626 & 5752.13 & 5374.64 & 377.49 & 6.56 & True\n",
            "380 & 247 & 5741.63 & 6118.68 & 377.05 & 6.57 & False\n",
            "381 & 971 & 7794.4 & 7417.83 & 376.57 & 4.83 & True\n",
            "382 & 324 & 5687.33 & 5310.95 & 376.38 & 6.62 & True\n",
            "383 & 105 & 7348.01 & 6971.91 & 376.1 & 5.12 & True\n",
            "384 & 374 & 6006.57 & 5631.67 & 374.9 & 6.24 & True\n",
            "385 & 520 & 4198.25 & 4572.56 & 374.31 & 8.92 & False\n",
            "386 & 488 & 2762.52 & 3133.66 & 371.14 & 13.43 & False\n",
            "387 & 431 & 4638.33 & 5008.44 & 370.11 & 7.98 & False\n",
            "388 & 1194 & 4832.26 & 5202.18 & 369.92 & 7.66 & False\n",
            "389 & 692 & 4988.26 & 4619.5 & 368.76 & 7.39 & True\n",
            "390 & 810 & 4722.8 & 4355.18 & 367.62 & 7.78 & True\n",
            "391 & 710 & 4689.42 & 4322.14 & 367.28 & 7.83 & True\n",
            "392 & 1208 & 3366.69 & 3732.66 & 365.97 & 10.87 & False\n",
            "393 & 653 & 3477.1 & 3842.93 & 365.83 & 10.52 & False\n",
            "394 & 816 & 4836.45 & 4470.7 & 365.75 & 7.56 & True\n",
            "395 & 49 & 4742.74 & 5108.22 & 365.48 & 7.71 & False\n",
            "396 & 887 & 4754.72 & 5119.07 & 364.35 & 7.66 & False\n",
            "397 & 567 & 3542.27 & 3905.71 & 363.44 & 10.26 & False\n",
            "398 & 633 & 5005.24 & 4642.91 & 362.33 & 7.24 & True\n",
            "399 & 545 & 4180.19 & 3818.25 & 361.94 & 8.66 & True\n",
            "400 & 384 & 4981.02 & 4619.47 & 361.55 & 7.26 & True\n",
            "401 & 295 & 2474.74 & 2836.07 & 361.33 & 14.6 & False\n",
            "402 & 1131 & 3681.38 & 3320.07 & 361.31 & 9.81 & True\n",
            "403 & 615 & 2724.97 & 3085.27 & 360.3 & 13.22 & False\n",
            "404 & 814 & 5089.49 & 5449.07 & 359.58 & 7.07 & False\n",
            "405 & 1211 & 4276.67 & 3918.66 & 358.01 & 8.37 & True\n",
            "406 & 402 & 7038.25 & 7395.75 & 357.5 & 5.08 & False\n",
            "407 & 629 & 4694.55 & 4337.18 & 357.37 & 7.61 & True\n",
            "408 & 1165 & 3986.39 & 3629.39 & 357.0 & 8.96 & True\n",
            "409 & 601 & 3169.03 & 2815.37 & 353.66 & 11.16 & True\n",
            "410 & 1049 & 4380.8 & 4027.67 & 353.13 & 8.06 & True\n",
            "411 & 212 & 4679.42 & 4326.39 & 353.03 & 7.54 & True\n",
            "412 & 343 & 4764.24 & 4411.47 & 352.77 & 7.4 & True\n",
            "413 & 1205 & 2665.06 & 3016.21 & 351.15 & 13.18 & False\n",
            "414 & 266 & 6066.36 & 5716.37 & 349.99 & 5.77 & True\n",
            "415 & 1162 & 3062.78 & 3411.86 & 349.08 & 11.4 & False\n",
            "416 & 612 & 3964.44 & 3616.24 & 348.2 & 8.78 & True\n",
            "417 & 290 & 5550.39 & 5898.24 & 347.85 & 6.27 & False\n",
            "418 & 932 & 3380.63 & 3728.48 & 347.85 & 10.29 & False\n",
            "419 & 645 & 3795.07 & 4142.81 & 347.74 & 9.16 & False\n",
            "420 & 229 & 3937.34 & 3592.23 & 345.11 & 8.77 & True\n",
            "421 & 1168 & 4913.06 & 4568.94 & 344.12 & 7.0 & True\n",
            "422 & 408 & 4991.33 & 4647.92 & 343.41 & 6.88 & True\n",
            "423 & 590 & 4117.39 & 3774.92 & 342.47 & 8.32 & True\n",
            "424 & 784 & 4374.4 & 4716.4 & 342.0 & 7.82 & False\n",
            "425 & 767 & 3431.27 & 3772.21 & 340.94 & 9.94 & False\n",
            "426 & 934 & 4349.46 & 4008.68 & 340.78 & 7.83 & True\n",
            "427 & 944 & 5111.53 & 4771.23 & 340.3 & 6.66 & True\n",
            "428 & 1151 & 2840.69 & 3180.41 & 339.72 & 11.96 & False\n",
            "429 & 450 & 5417.47 & 5078.17 & 339.3 & 6.26 & True\n",
            "430 & 594 & 3919.78 & 4258.64 & 338.86 & 8.64 & False\n",
            "431 & 465 & 3954.4 & 3617.76 & 336.64 & 8.51 & True\n",
            "432 & 1015 & 5304.55 & 4967.95 & 336.6 & 6.35 & True\n",
            "433 & 230 & 6129.99 & 5795.87 & 334.12 & 5.45 & True\n",
            "434 & 442 & 4013.0 & 4346.88 & 333.88 & 8.32 & False\n",
            "435 & 199 & 3615.15 & 3948.82 & 333.67 & 9.23 & False\n",
            "436 & 560 & 3944.07 & 4277.29 & 333.22 & 8.45 & False\n",
            "437 & 100 & 4561.31 & 4228.63 & 332.68 & 7.29 & True\n",
            "438 & 201 & 5640.99 & 5308.34 & 332.65 & 5.9 & True\n",
            "439 & 610 & 3019.3 & 3351.95 & 332.65 & 11.02 & False\n",
            "440 & 1284 & 4342.05 & 4010.48 & 331.57 & 7.64 & True\n",
            "441 & 148 & 3654.51 & 3985.7 & 331.19 & 9.06 & False\n",
            "442 & 87 & 3592.07 & 3923.13 & 331.06 & 9.22 & False\n",
            "443 & 1025 & 3815.72 & 4146.54 & 330.82 & 8.67 & False\n",
            "444 & 1198 & 4854.86 & 4525.11 & 329.75 & 6.79 & True\n",
            "445 & 648 & 2016.86 & 2345.69 & 328.83 & 16.3 & False\n",
            "446 & 200 & 5855.41 & 5527.26 & 328.15 & 5.6 & True\n",
            "447 & 523 & 6129.66 & 5802.18 & 327.48 & 5.34 & True\n",
            "448 & 538 & 3994.36 & 4321.38 & 327.02 & 8.19 & False\n",
            "449 & 82 & 6232.29 & 5906.18 & 326.11 & 5.23 & True\n",
            "450 & 569 & 4904.46 & 4578.87 & 325.59 & 6.64 & True\n",
            "451 & 639 & 6043.84 & 6368.6 & 324.76 & 5.37 & False\n",
            "452 & 287 & 5592.63 & 5916.87 & 324.24 & 5.8 & False\n",
            "453 & 571 & 5065.84 & 4741.74 & 324.1 & 6.4 & True\n",
            "454 & 1109 & 3669.95 & 3993.96 & 324.01 & 8.83 & False\n",
            "455 & 557 & 3678.3 & 4001.03 & 322.73 & 8.77 & False\n",
            "456 & 844 & 4486.72 & 4808.22 & 321.5 & 7.17 & False\n",
            "457 & 56 & 3107.43 & 2787.18 & 320.25 & 10.31 & True\n",
            "458 & 720 & 4141.33 & 4461.27 & 319.94 & 7.73 & False\n",
            "459 & 85 & 4478.31 & 4798.05 & 319.74 & 7.14 & False\n",
            "460 & 931 & 3419.15 & 3738.12 & 318.97 & 9.33 & False\n",
            "461 & 1195 & 5767.86 & 5449.66 & 318.2 & 5.52 & True\n",
            "462 & 706 & 6872.52 & 6554.33 & 318.19 & 4.63 & True\n",
            "463 & 559 & 3985.03 & 4303.11 & 318.08 & 7.98 & False\n",
            "464 & 1083 & 3985.03 & 4302.78 & 317.75 & 7.97 & False\n",
            "465 & 434 & 5288.42 & 4972.33 & 316.09 & 5.98 & True\n",
            "466 & 670 & 4005.09 & 3689.05 & 316.04 & 7.89 & True\n",
            "467 & 1255 & 4861.33 & 4546.05 & 315.28 & 6.49 & True\n",
            "468 & 424 & 5727.34 & 6041.28 & 313.94 & 5.48 & False\n",
            "469 & 972 & 4030.7 & 4343.93 & 313.23 & 7.77 & False\n",
            "470 & 210 & 3501.78 & 3812.97 & 311.19 & 8.89 & False\n",
            "471 & 482 & 4555.81 & 4244.72 & 311.09 & 6.83 & True\n",
            "472 & 892 & 4595.61 & 4284.87 & 310.74 & 6.76 & True\n",
            "473 & 480 & 3033.06 & 2722.74 & 310.32 & 10.23 & True\n",
            "474 & 1067 & 3969.5 & 3659.18 & 310.32 & 7.82 & True\n",
            "475 & 1267 & 4101.95 & 4411.81 & 309.86 & 7.55 & False\n",
            "476 & 578 & 3857.02 & 3548.05 & 308.97 & 8.01 & True\n",
            "477 & 549 & 3158.24 & 3466.74 & 308.5 & 9.77 & False\n",
            "478 & 885 & 4161.15 & 3852.85 & 308.3 & 7.41 & True\n",
            "479 & 617 & 4944.14 & 4636.05 & 308.09 & 6.23 & True\n",
            "480 & 900 & 4887.73 & 4580.09 & 307.64 & 6.29 & True\n",
            "481 & 1091 & 6129.36 & 5821.97 & 307.39 & 5.02 & True\n",
            "482 & 542 & 4129.64 & 4436.66 & 307.02 & 7.43 & False\n",
            "483 & 457 & 5977.47 & 5670.97 & 306.5 & 5.13 & True\n",
            "484 & 503 & 4123.04 & 4429.47 & 306.43 & 7.43 & False\n",
            "485 & 1167 & 3597.92 & 3291.52 & 306.4 & 8.52 & True\n",
            "486 & 1192 & 4990.07 & 4684.17 & 305.9 & 6.13 & True\n",
            "487 & 909 & 5321.32 & 5015.52 & 305.8 & 5.75 & True\n",
            "488 & 849 & 2775.43 & 3079.69 & 304.26 & 10.96 & False\n",
            "489 & 337 & 3010.95 & 3313.73 & 302.78 & 10.06 & False\n",
            "490 & 174 & 3096.15 & 3397.98 & 301.83 & 9.75 & False\n",
            "491 & 939 & 4870.02 & 4568.23 & 301.79 & 6.2 & True\n",
            "492 & 922 & 7771.77 & 7470.48 & 301.29 & 3.88 & True\n",
            "493 & 236 & 5748.02 & 5447.15 & 300.87 & 5.23 & True\n",
            "494 & 215 & 4960.49 & 4660.19 & 300.3 & 6.05 & True\n",
            "495 & 102 & 2377.58 & 2676.28 & 298.7 & 12.56 & False\n",
            "496 & 130 & 4776.98 & 4479.46 & 297.52 & 6.23 & True\n",
            "497 & 1232 & 3810.44 & 4107.49 & 297.05 & 7.8 & False\n",
            "498 & 205 & 4265.63 & 4562.5 & 296.87 & 6.96 & False\n",
            "499 & 1169 & 5317.78 & 5021.97 & 295.81 & 5.56 & True\n",
            "500 & 139 & 3994.26 & 3698.64 & 295.62 & 7.4 & True\n",
            "501 & 160 & 4390.75 & 4095.15 & 295.6 & 6.73 & True\n",
            "502 & 409 & 3954.17 & 4249.58 & 295.41 & 7.47 & False\n",
            "503 & 1202 & 3192.24 & 3487.42 & 295.18 & 9.25 & False\n",
            "504 & 847 & 3121.63 & 3414.39 & 292.76 & 9.38 & False\n",
            "505 & 996 & 4842.18 & 4551.43 & 290.75 & 6.0 & True\n",
            "506 & 769 & 4539.94 & 4250.17 & 289.77 & 6.38 & True\n",
            "507 & 264 & 4230.61 & 4520.27 & 289.66 & 6.85 & False\n",
            "508 & 589 & 5818.32 & 5529.24 & 289.08 & 4.97 & True\n",
            "509 & 956 & 4787.37 & 4498.41 & 288.96 & 6.04 & True\n",
            "510 & 622 & 5475.86 & 5188.26 & 287.6 & 5.25 & True\n",
            "511 & 478 & 5792.88 & 5505.3 & 287.58 & 4.96 & True\n",
            "512 & 510 & 6281.05 & 5994.67 & 286.38 & 4.56 & True\n",
            "513 & 1089 & 3727.44 & 4013.6 & 286.16 & 7.68 & False\n",
            "514 & 701 & 4586.9 & 4301.48 & 285.42 & 6.22 & True\n",
            "515 & 967 & 3493.12 & 3773.8 & 280.68 & 8.04 & False\n",
            "516 & 808 & 2617.33 & 2897.04 & 279.71 & 10.69 & False\n",
            "517 & 680 & 4864.54 & 4585.0 & 279.54 & 5.75 & True\n",
            "518 & 204 & 3362.24 & 3641.74 & 279.5 & 8.31 & False\n",
            "519 & 1035 & 4170.76 & 4449.76 & 279.0 & 6.69 & False\n",
            "520 & 297 & 4669.48 & 4391.05 & 278.43 & 5.96 & True\n",
            "521 & 166 & 2984.87 & 3261.65 & 276.78 & 9.27 & False\n",
            "522 & 363 & 2247.26 & 2523.59 & 276.33 & 12.3 & False\n",
            "523 & 775 & 4759.82 & 4483.61 & 276.21 & 5.8 & True\n",
            "524 & 1103 & 4638.29 & 4362.86 & 275.43 & 5.94 & True\n",
            "525 & 873 & 3779.45 & 4054.65 & 275.2 & 7.28 & False\n",
            "526 & 544 & 3755.74 & 3480.87 & 274.87 & 7.32 & True\n",
            "527 & 389 & 3680.31 & 3955.11 & 274.8 & 7.47 & False\n",
            "528 & 528 & 5161.7 & 4887.27 & 274.43 & 5.32 & True\n",
            "529 & 806 & 4270.94 & 3999.38 & 271.56 & 6.36 & True\n",
            "530 & 532 & 4302.74 & 4574.22 & 271.48 & 6.31 & False\n",
            "531 & 869 & 4476.04 & 4746.69 & 270.65 & 6.05 & False\n",
            "532 & 718 & 5380.87 & 5110.69 & 270.18 & 5.02 & True\n",
            "533 & 479 & 5634.84 & 5364.99 & 269.85 & 4.79 & True\n",
            "534 & 540 & 1893.62 & 2163.22 & 269.6 & 14.24 & False\n",
            "535 & 689 & 4977.86 & 5247.29 & 269.43 & 5.41 & False\n",
            "536 & 761 & 5733.47 & 5465.06 & 268.41 & 4.68 & True\n",
            "537 & 181 & 6197.58 & 5931.16 & 266.42 & 4.3 & True\n",
            "538 & 251 & 5624.65 & 5359.05 & 265.6 & 4.72 & True\n",
            "539 & 592 & 3294.82 & 3560.27 & 265.45 & 8.06 & False\n",
            "540 & 1099 & 4858.26 & 4592.94 & 265.32 & 5.46 & True\n",
            "541 & 812 & 5027.48 & 4762.56 & 264.92 & 5.27 & True\n",
            "542 & 839 & 4903.87 & 4639.17 & 264.7 & 5.4 & True\n",
            "543 & 89 & 3425.82 & 3161.77 & 264.05 & 7.71 & True\n",
            "544 & 436 & 3685.09 & 3948.86 & 263.77 & 7.16 & False\n",
            "545 & 223 & 4131.56 & 3867.87 & 263.69 & 6.38 & True\n",
            "546 & 721 & 4018.9 & 4282.54 & 263.64 & 6.56 & False\n",
            "547 & 513 & 3364.1 & 3626.37 & 262.27 & 7.8 & False\n",
            "548 & 835 & 4982.6 & 4720.99 & 261.61 & 5.25 & True\n",
            "549 & 537 & 3083.86 & 2822.56 & 261.3 & 8.47 & True\n",
            "550 & 797 & 6555.17 & 6294.04 & 261.13 & 3.98 & True\n",
            "551 & 876 & 6645.34 & 6386.43 & 258.91 & 3.9 & True\n",
            "552 & 1056 & 2591.45 & 2850.23 & 258.78 & 9.99 & False\n",
            "553 & 949 & 6710.9 & 6453.32 & 257.58 & 3.84 & True\n",
            "554 & 78 & 3486.42 & 3743.77 & 257.35 & 7.38 & False\n",
            "555 & 257 & 3611.5 & 3868.85 & 257.35 & 7.13 & False\n",
            "556 & 1011 & 3321.67 & 3578.97 & 257.3 & 7.75 & False\n",
            "557 & 861 & 2993.79 & 2737.76 & 256.03 & 8.55 & True\n",
            "558 & 577 & 4125.36 & 3870.09 & 255.27 & 6.19 & True\n",
            "559 & 1023 & 4694.31 & 4439.4 & 254.91 & 5.43 & True\n",
            "560 & 821 & 3692.04 & 3945.23 & 253.19 & 6.86 & False\n",
            "561 & 683 & 5699.83 & 5447.21 & 252.62 & 4.43 & True\n",
            "562 & 50 & 5981.37 & 5729.3 & 252.07 & 4.21 & True\n",
            "563 & 747 & 3536.15 & 3785.59 & 249.44 & 7.05 & False\n",
            "564 & 1061 & 4194.6 & 4443.99 & 249.39 & 5.95 & False\n",
            "565 & 1179 & 3540.87 & 3292.07 & 248.8 & 7.03 & True\n",
            "566 & 713 & 3997.39 & 4246.06 & 248.67 & 6.22 & False\n",
            "567 & 868 & 2809.45 & 2560.87 & 248.58 & 8.85 & True\n",
            "568 & 138 & 4536.52 & 4288.52 & 248.0 & 5.47 & True\n",
            "569 & 303 & 2584.99 & 2832.45 & 247.46 & 9.57 & False\n",
            "570 & 1021 & 4696.47 & 4449.93 & 246.54 & 5.25 & True\n",
            "571 & 620 & 4432.34 & 4185.99 & 246.35 & 5.56 & True\n",
            "572 & 991 & 3579.42 & 3825.23 & 245.81 & 6.87 & False\n",
            "573 & 344 & 3035.07 & 3280.18 & 245.11 & 8.08 & False\n",
            "574 & 423 & 4098.58 & 4343.11 & 244.53 & 5.97 & False\n",
            "575 & 93 & 3918.1 & 4160.72 & 242.62 & 6.19 & False\n",
            "576 & 1095 & 3927.59 & 4170.02 & 242.43 & 6.17 & False\n",
            "577 & 1237 & 4247.79 & 4006.23 & 241.56 & 5.69 & True\n",
            "578 & 425 & 4001.79 & 4242.85 & 241.06 & 6.02 & False\n",
            "579 & 489 & 5712.31 & 5471.95 & 240.36 & 4.21 & True\n",
            "580 & 705 & 4182.49 & 3942.72 & 239.77 & 5.73 & True\n",
            "581 & 1216 & 4775.99 & 5015.59 & 239.6 & 5.02 & False\n",
            "582 & 358 & 3386.41 & 3625.49 & 239.08 & 7.06 & False\n",
            "583 & 634 & 3325.59 & 3564.55 & 238.96 & 7.19 & False\n",
            "584 & 627 & 4129.47 & 4366.89 & 237.42 & 5.75 & False\n",
            "585 & 681 & 4121.8 & 4358.53 & 236.73 & 5.74 & False\n",
            "586 & 298 & 3310.14 & 3545.55 & 235.41 & 7.11 & False\n",
            "587 & 476 & 3310.14 & 3545.55 & 235.41 & 7.11 & False\n",
            "588 & 1007 & 3609.74 & 3843.72 & 233.98 & 6.48 & False\n",
            "589 & 1224 & 4159.0 & 4392.78 & 233.78 & 5.62 & False\n",
            "590 & 891 & 3880.97 & 3647.47 & 233.5 & 6.02 & True\n",
            "591 & 1142 & 3494.63 & 3727.8 & 233.17 & 6.67 & False\n",
            "592 & 291 & 4915.94 & 4684.29 & 231.65 & 4.71 & True\n",
            "593 & 631 & 2235.21 & 2466.27 & 231.06 & 10.34 & False\n",
            "594 & 676 & 4458.6 & 4228.92 & 229.68 & 5.15 & True\n",
            "595 & 1128 & 4807.14 & 4578.0 & 229.14 & 4.77 & True\n",
            "596 & 656 & 4501.54 & 4272.54 & 229.0 & 5.09 & True\n",
            "597 & 754 & 5240.81 & 5012.65 & 228.16 & 4.35 & True\n",
            "598 & 1136 & 3542.94 & 3770.76 & 227.82 & 6.43 & False\n",
            "599 & 766 & 4227.83 & 4455.26 & 227.43 & 5.38 & False\n",
            "600 & 131 & 4385.31 & 4612.54 & 227.23 & 5.18 & False\n",
            "601 & 696 & 5011.68 & 4784.81 & 226.87 & 4.53 & True\n",
            "602 & 366 & 3041.96 & 2816.14 & 225.82 & 7.42 & True\n",
            "603 & 572 & 4708.8 & 4483.34 & 225.46 & 4.79 & True\n",
            "604 & 910 & 4412.91 & 4187.67 & 225.24 & 5.1 & True\n",
            "605 & 1030 & 4129.44 & 3905.3 & 224.14 & 5.43 & True\n",
            "606 & 35 & 5142.49 & 4920.34 & 222.15 & 4.32 & True\n",
            "607 & 493 & 3430.1 & 3652.23 & 222.13 & 6.48 & False\n",
            "608 & 1013 & 4291.61 & 4513.18 & 221.57 & 5.16 & False\n",
            "609 & 1163 & 5582.56 & 5361.22 & 221.34 & 3.96 & True\n",
            "610 & 352 & 4541.18 & 4321.3 & 219.88 & 4.84 & True\n",
            "611 & 1209 & 4902.13 & 4682.49 & 219.64 & 4.48 & True\n",
            "612 & 954 & 6218.95 & 6000.32 & 218.63 & 3.52 & True\n",
            "613 & 246 & 3439.78 & 3658.36 & 218.58 & 6.35 & False\n",
            "614 & 819 & 3515.6 & 3297.95 & 217.65 & 6.19 & True\n",
            "615 & 74 & 6771.47 & 6556.31 & 215.16 & 3.18 & True\n",
            "616 & 456 & 4766.4 & 4553.67 & 212.73 & 4.46 & True\n",
            "617 & 1299 & 1991.15 & 2203.61 & 212.46 & 10.67 & False\n",
            "618 & 1075 & 4324.27 & 4536.34 & 212.07 & 4.9 & False\n",
            "619 & 292 & 5117.84 & 4906.05 & 211.79 & 4.14 & True\n",
            "620 & 564 & 4783.1 & 4571.45 & 211.65 & 4.42 & True\n",
            "621 & 112 & 3619.09 & 3830.66 & 211.57 & 5.85 & False\n",
            "622 & 7 & 2832.2 & 3043.58 & 211.38 & 7.46 & False\n",
            "623 & 827 & 3252.27 & 3041.49 & 210.78 & 6.48 & True\n",
            "624 & 447 & 4929.27 & 5139.93 & 210.66 & 4.27 & False\n",
            "625 & 716 & 5058.05 & 5266.77 & 208.72 & 4.13 & False\n",
            "626 & 336 & 3657.33 & 3448.86 & 208.47 & 5.7 & True\n",
            "627 & 113 & 4596.29 & 4387.88 & 208.41 & 4.53 & True\n",
            "628 & 242 & 3568.61 & 3776.47 & 207.86 & 5.82 & False\n",
            "629 & 484 & 4074.28 & 3867.83 & 206.45 & 5.07 & True\n",
            "630 & 1063 & 5320.13 & 5114.04 & 206.09 & 3.87 & True\n",
            "631 & 77 & 3645.63 & 3439.57 & 206.06 & 5.65 & True\n",
            "632 & 1019 & 7012.99 & 6807.48 & 205.51 & 2.93 & True\n",
            "633 & 1271 & 5034.5 & 4829.18 & 205.32 & 4.08 & True\n",
            "634 & 850 & 3120.24 & 3324.81 & 204.57 & 6.56 & False\n",
            "635 & 282 & 4161.13 & 3956.67 & 204.46 & 4.91 & True\n",
            "636 & 1170 & 3445.02 & 3649.01 & 203.99 & 5.92 & False\n",
            "637 & 106 & 5795.87 & 5999.63 & 203.76 & 3.52 & False\n",
            "638 & 1161 & 5409.97 & 5613.71 & 203.74 & 3.77 & False\n",
            "639 & 34 & 4962.64 & 4759.75 & 202.89 & 4.09 & True\n",
            "640 & 825 & 3683.84 & 3480.96 & 202.88 & 5.51 & True\n",
            "641 & 587 & 4763.38 & 4560.51 & 202.87 & 4.26 & True\n",
            "642 & 978 & 3350.98 & 3553.84 & 202.86 & 6.05 & False\n",
            "643 & 1231 & 2476.86 & 2679.71 & 202.85 & 8.19 & False\n",
            "644 & 118 & 4606.82 & 4809.16 & 202.34 & 4.39 & False\n",
            "645 & 416 & 4572.94 & 4775.21 & 202.27 & 4.42 & False\n",
            "646 & 500 & 3603.67 & 3805.92 & 202.25 & 5.61 & False\n",
            "647 & 736 & 4943.04 & 4740.8 & 202.24 & 4.09 & True\n",
            "648 & 609 & 2782.35 & 2984.52 & 202.17 & 7.27 & False\n",
            "649 & 149 & 4084.63 & 3882.79 & 201.84 & 4.94 & True\n",
            "650 & 586 & 5647.84 & 5848.34 & 200.5 & 3.55 & False\n",
            "651 & 134 & 2330.88 & 2531.28 & 200.4 & 8.6 & False\n",
            "652 & 743 & 4750.44 & 4550.04 & 200.4 & 4.22 & True\n",
            "653 & 863 & 4126.97 & 3926.87 & 200.1 & 4.85 & True\n",
            "654 & 1287 & 4433.04 & 4633.1 & 200.06 & 4.51 & False\n",
            "655 & 529 & 3633.17 & 3832.95 & 199.78 & 5.5 & False\n",
            "656 & 271 & 4395.71 & 4594.79 & 199.08 & 4.53 & False\n",
            "657 & 832 & 3213.12 & 3014.19 & 198.93 & 6.19 & True\n",
            "658 & 1120 & 4415.09 & 4613.56 & 198.47 & 4.5 & False\n",
            "659 & 755 & 4385.64 & 4583.1 & 197.46 & 4.5 & False\n",
            "660 & 603 & 3423.6 & 3226.43 & 197.17 & 5.76 & True\n",
            "661 & 871 & 4994.44 & 4799.34 & 195.1 & 3.91 & True\n",
            "662 & 830 & 4007.51 & 4201.93 & 194.42 & 4.85 & False\n",
            "663 & 67 & 3854.42 & 3660.91 & 193.51 & 5.02 & True\n",
            "664 & 632 & 5393.02 & 5586.5 & 193.48 & 3.59 & False\n",
            "665 & 661 & 6677.28 & 6483.8 & 193.48 & 2.9 & True\n",
            "666 & 491 & 2455.48 & 2648.34 & 192.86 & 7.85 & False\n",
            "667 & 1016 & 2304.15 & 2496.52 & 192.37 & 8.35 & False\n",
            "668 & 1270 & 6178.37 & 5986.07 & 192.3 & 3.11 & True\n",
            "669 & 1245 & 5513.52 & 5705.36 & 191.84 & 3.48 & False\n",
            "670 & 758 & 4779.89 & 4588.55 & 191.34 & 4.0 & True\n",
            "671 & 596 & 4947.03 & 4755.81 & 191.22 & 3.87 & True\n",
            "672 & 1038 & 4947.03 & 4755.81 & 191.22 & 3.87 & True\n",
            "673 & 38 & 4892.03 & 4701.3 & 190.73 & 3.9 & True\n",
            "674 & 899 & 5368.14 & 5177.42 & 190.72 & 3.55 & True\n",
            "675 & 45 & 5797.47 & 5606.86 & 190.61 & 3.29 & True\n",
            "676 & 115 & 2264.82 & 2454.26 & 189.44 & 8.36 & False\n",
            "677 & 1123 & 4148.78 & 4337.77 & 188.99 & 4.56 & False\n",
            "678 & 391 & 4321.71 & 4510.53 & 188.82 & 4.37 & False\n",
            "679 & 649 & 3799.53 & 3985.87 & 186.34 & 4.9 & False\n",
            "680 & 244 & 4733.02 & 4547.51 & 185.51 & 3.92 & True\n",
            "681 & 940 & 3761.54 & 3576.57 & 184.97 & 4.92 & True\n",
            "682 & 1260 & 4852.86 & 4669.04 & 183.82 & 3.79 & True\n",
            "683 & 375 & 4724.23 & 4540.71 & 183.52 & 3.88 & True\n",
            "684 & 1080 & 4082.27 & 4264.36 & 182.09 & 4.46 & False\n",
            "685 & 1213 & 3066.64 & 3248.35 & 181.71 & 5.93 & False\n",
            "686 & 4 & 3806.3 & 3987.89 & 181.59 & 4.77 & False\n",
            "687 & 597 & 5064.19 & 4883.01 & 181.18 & 3.58 & True\n",
            "688 & 195 & 3963.98 & 3784.4 & 179.58 & 4.53 & True\n",
            "689 & 313 & 3695.72 & 3875.27 & 179.55 & 4.86 & False\n",
            "690 & 660 & 4313.66 & 4134.52 & 179.14 & 4.15 & True\n",
            "691 & 580 & 5795.32 & 5974.07 & 178.75 & 3.08 & False\n",
            "692 & 621 & 4626.98 & 4448.6 & 178.38 & 3.86 & True\n",
            "693 & 300 & 2311.24 & 2133.45 & 177.79 & 7.69 & True\n",
            "694 & 385 & 5704.76 & 5527.3 & 177.46 & 3.11 & True\n",
            "695 & 519 & 4703.7 & 4526.27 & 177.43 & 3.77 & True\n",
            "696 & 1018 & 3959.31 & 4136.73 & 177.42 & 4.48 & False\n",
            "697 & 1086 & 4682.72 & 4505.85 & 176.87 & 3.78 & True\n",
            "698 & 132 & 5942.29 & 5765.63 & 176.66 & 2.97 & True\n",
            "699 & 753 & 3667.92 & 3844.53 & 176.61 & 4.81 & False\n",
            "700 & 1309 & 5676.47 & 5499.96 & 176.51 & 3.11 & True\n",
            "701 & 1215 & 3135.75 & 3311.99 & 176.24 & 5.62 & False\n",
            "702 & 1126 & 4410.37 & 4234.69 & 175.68 & 3.98 & True\n",
            "703 & 636 & 6373.3 & 6198.31 & 174.99 & 2.75 & True\n",
            "704 & 435 & 4808.29 & 4633.35 & 174.94 & 3.64 & True\n",
            "705 & 588 & 1951.42 & 2126.07 & 174.65 & 8.95 & False\n",
            "706 & 563 & 5243.3 & 5417.83 & 174.53 & 3.33 & False\n",
            "707 & 310 & 3253.57 & 3427.74 & 174.17 & 5.35 & False\n",
            "708 & 591 & 2135.54 & 2309.23 & 173.69 & 8.13 & False\n",
            "709 & 707 & 2135.54 & 2309.23 & 173.69 & 8.13 & False\n",
            "710 & 735 & 2135.54 & 2309.23 & 173.69 & 8.13 & False\n",
            "711 & 813 & 2135.54 & 2309.23 & 173.69 & 8.13 & False\n",
            "712 & 1281 & 4156.75 & 4330.13 & 173.38 & 4.17 & False\n",
            "713 & 1092 & 4063.57 & 3891.29 & 172.28 & 4.24 & True\n",
            "714 & 1001 & 2134.94 & 2307.09 & 172.15 & 8.06 & False\n",
            "715 & 470 & 6680.29 & 6508.15 & 172.14 & 2.58 & True\n",
            "716 & 958 & 2799.61 & 2971.28 & 171.67 & 6.13 & False\n",
            "717 & 1003 & 2359.88 & 2531.28 & 171.4 & 7.26 & False\n",
            "718 & 1059 & 2720.81 & 2891.99 & 171.18 & 6.29 & False\n",
            "719 & 848 & 4712.88 & 4883.46 & 170.58 & 3.62 & False\n",
            "720 & 522 & 5306.72 & 5136.49 & 170.23 & 3.21 & True\n",
            "721 & 1138 & 2301.16 & 2471.0 & 169.84 & 7.38 & False\n",
            "722 & 834 & 4583.1 & 4751.75 & 168.65 & 3.68 & False\n",
            "723 & 946 & 5736.44 & 5568.57 & 167.87 & 2.93 & True\n",
            "724 & 179 & 4148.84 & 3982.27 & 166.57 & 4.01 & True\n",
            "725 & 444 & 4884.31 & 4718.42 & 165.89 & 3.4 & True\n",
            "726 & 288 & 6745.36 & 6579.54 & 165.82 & 2.46 & True\n",
            "727 & 781 & 2391.73 & 2557.41 & 165.68 & 6.93 & False\n",
            "728 & 1288 & 2391.73 & 2557.41 & 165.68 & 6.93 & False\n",
            "729 & 387 & 5821.24 & 5656.48 & 164.76 & 2.83 & True\n",
            "730 & 524 & 3804.04 & 3968.33 & 164.29 & 4.32 & False\n",
            "731 & 155 & 3301.46 & 3137.23 & 164.23 & 4.97 & True\n",
            "732 & 875 & 2115.63 & 2278.3 & 162.67 & 7.69 & False\n",
            "733 & 811 & 3104.3 & 3266.43 & 162.13 & 5.22 & False\n",
            "734 & 986 & 5685.76 & 5524.11 & 161.65 & 2.84 & True\n",
            "735 & 228 & 4426.91 & 4265.41 & 161.5 & 3.65 & True\n",
            "736 & 33 & 3812.44 & 3973.02 & 160.58 & 4.21 & False\n",
            "737 & 339 & 3941.75 & 4102.15 & 160.4 & 4.07 & False\n",
            "738 & 274 & 2340.57 & 2500.91 & 160.34 & 6.85 & False\n",
            "739 & 762 & 3621.56 & 3461.47 & 160.09 & 4.42 & True\n",
            "740 & 152 & 4089.1 & 4248.88 & 159.78 & 3.91 & False\n",
            "741 & 1227 & 4062.35 & 4221.7 & 159.35 & 3.92 & False\n",
            "742 & 606 & 4866.61 & 4707.67 & 158.94 & 3.27 & True\n",
            "743 & 1273 & 3760.73 & 3602.06 & 158.67 & 4.22 & True\n",
            "744 & 1036 & 4655.48 & 4496.97 & 158.51 & 3.4 & True\n",
            "745 & 395 & 4170.95 & 4012.84 & 158.11 & 3.79 & True\n",
            "746 & 432 & 2929.13 & 3087.14 & 158.01 & 5.39 & False\n",
            "747 & 259 & 4830.42 & 4673.31 & 157.11 & 3.25 & True\n",
            "748 & 1033 & 4951.97 & 5108.69 & 156.72 & 3.16 & False\n",
            "749 & 575 & 2844.62 & 2999.32 & 154.7 & 5.44 & False\n",
            "750 & 533 & 3678.76 & 3524.36 & 154.4 & 4.2 & True\n",
            "751 & 1196 & 3857.12 & 4011.15 & 154.03 & 3.99 & False\n",
            "752 & 593 & 4643.05 & 4489.56 & 153.49 & 3.31 & True\n",
            "753 & 796 & 4938.07 & 4784.77 & 153.3 & 3.1 & True\n",
            "754 & 698 & 4094.26 & 3941.58 & 152.68 & 3.73 & True\n",
            "755 & 504 & 1862.46 & 2014.94 & 152.48 & 8.19 & False\n",
            "756 & 412 & 3688.72 & 3536.85 & 151.87 & 4.12 & True\n",
            "757 & 568 & 3688.72 & 3536.85 & 151.87 & 4.12 & True\n",
            "758 & 773 & 3342.2 & 3494.07 & 151.87 & 4.54 & False\n",
            "759 & 798 & 3699.15 & 3547.9 & 151.25 & 4.09 & True\n",
            "760 & 768 & 4022.59 & 3871.7 & 150.89 & 3.75 & True\n",
            "761 & 428 & 3853.33 & 3702.59 & 150.74 & 3.91 & True\n",
            "762 & 801 & 5598.34 & 5447.79 & 150.55 & 2.69 & True\n",
            "763 & 854 & 4424.5 & 4274.7 & 149.8 & 3.39 & True\n",
            "764 & 1181 & 3467.84 & 3617.46 & 149.62 & 4.31 & False\n",
            "765 & 441 & 4938.97 & 4790.35 & 148.62 & 3.01 & True\n",
            "766 & 37 & 4143.91 & 4291.88 & 147.97 & 3.57 & False\n",
            "767 & 60 & 4600.77 & 4452.83 & 147.94 & 3.22 & True\n",
            "768 & 674 & 2557.57 & 2705.22 & 147.65 & 5.77 & False\n",
            "769 & 749 & 3853.94 & 3706.69 & 147.25 & 3.82 & True\n",
            "770 & 321 & 5472.52 & 5328.06 & 144.46 & 2.64 & True\n",
            "771 & 999 & 3754.42 & 3898.83 & 144.41 & 3.85 & False\n",
            "772 & 1090 & 2597.66 & 2454.03 & 143.63 & 5.53 & True\n",
            "773 & 657 & 4835.02 & 4691.43 & 143.59 & 2.97 & True\n",
            "774 & 695 & 3195.06 & 3338.28 & 143.22 & 4.48 & False\n",
            "775 & 566 & 4867.05 & 4724.0 & 143.05 & 2.94 & True\n",
            "776 & 348 & 3409.12 & 3552.0 & 142.88 & 4.19 & False\n",
            "777 & 1262 & 3936.51 & 3793.89 & 142.62 & 3.62 & True\n",
            "778 & 346 & 3994.43 & 3852.19 & 142.24 & 3.56 & True\n",
            "779 & 1139 & 3530.13 & 3672.02 & 141.89 & 4.02 & False\n",
            "780 & 1305 & 4086.17 & 4227.98 & 141.81 & 3.47 & False\n",
            "781 & 699 & 5794.35 & 5653.54 & 140.81 & 2.43 & True\n",
            "782 & 369 & 5456.0 & 5316.04 & 139.96 & 2.57 & True\n",
            "783 & 981 & 3685.72 & 3545.9 & 139.82 & 3.79 & True\n",
            "784 & 992 & 6380.93 & 6241.48 & 139.45 & 2.19 & True\n",
            "785 & 783 & 2410.27 & 2549.09 & 138.82 & 5.76 & False\n",
            "786 & 13 & 4694.61 & 4556.06 & 138.55 & 2.95 & True\n",
            "787 & 1238 & 3825.64 & 3964.05 & 138.41 & 3.62 & False\n",
            "788 & 281 & 2608.95 & 2746.92 & 137.97 & 5.29 & False\n",
            "789 & 511 & 4936.16 & 4800.05 & 136.11 & 2.76 & True\n",
            "790 & 858 & 3699.02 & 3834.91 & 135.89 & 3.67 & False\n",
            "791 & 66 & 3884.8 & 4020.65 & 135.85 & 3.5 & False\n",
            "792 & 734 & 4339.76 & 4474.8 & 135.04 & 3.11 & False\n",
            "793 & 315 & 4173.03 & 4307.95 & 134.92 & 3.23 & False\n",
            "794 & 293 & 2968.5 & 2833.75 & 134.75 & 4.54 & True\n",
            "795 & 800 & 3384.11 & 3517.91 & 133.8 & 3.95 & False\n",
            "796 & 52 & 3059.7 & 3192.74 & 133.04 & 4.35 & False\n",
            "797 & 673 & 4781.92 & 4649.29 & 132.63 & 2.77 & True\n",
            "798 & 837 & 3263.15 & 3395.0 & 131.85 & 4.04 & False\n",
            "799 & 296 & 4781.85 & 4651.09 & 130.76 & 2.73 & True\n",
            "800 & 1046 & 5480.47 & 5350.84 & 129.63 & 2.37 & True\n",
            "801 & 388 & 4829.9 & 4700.62 & 129.28 & 2.68 & True\n",
            "802 & 140 & 3306.22 & 3434.0 & 127.78 & 3.86 & False\n",
            "803 & 1085 & 2879.24 & 2751.85 & 127.39 & 4.42 & True\n",
            "804 & 1159 & 3796.97 & 3669.72 & 127.25 & 3.35 & True\n",
            "805 & 969 & 4554.26 & 4681.34 & 127.08 & 2.79 & False\n",
            "806 & 157 & 3276.92 & 3150.01 & 126.91 & 3.87 & True\n",
            "807 & 258 & 5328.43 & 5201.89 & 126.54 & 2.37 & True\n",
            "808 & 739 & 2704.78 & 2578.47 & 126.31 & 4.67 & True\n",
            "809 & 19 & 4716.58 & 4590.69 & 125.89 & 2.67 & True\n",
            "810 & 562 & 4153.8 & 4028.12 & 125.68 & 3.03 & True\n",
            "811 & 704 & 4363.38 & 4238.3 & 125.08 & 2.87 & True\n",
            "812 & 367 & 3144.09 & 3268.43 & 124.34 & 3.95 & False\n",
            "813 & 16 & 3514.72 & 3637.62 & 122.9 & 3.5 & False\n",
            "814 & 159 & 5429.75 & 5307.16 & 122.59 & 2.26 & True\n",
            "815 & 461 & 3326.03 & 3203.65 & 122.38 & 3.68 & True\n",
            "816 & 1291 & 5517.21 & 5394.9 & 122.31 & 2.22 & True\n",
            "817 & 635 & 4215.92 & 4338.14 & 122.22 & 2.9 & False\n",
            "818 & 965 & 2652.54 & 2774.7 & 122.16 & 4.61 & False\n",
            "819 & 464 & 3585.76 & 3707.58 & 121.82 & 3.4 & False\n",
            "820 & 30 & 4339.05 & 4460.78 & 121.73 & 2.81 & False\n",
            "821 & 487 & 4157.42 & 4278.68 & 121.26 & 2.92 & False\n",
            "822 & 162 & 1988.17 & 2109.27 & 121.1 & 6.09 & False\n",
            "823 & 778 & 4614.27 & 4735.24 & 120.97 & 2.62 & False\n",
            "824 & 833 & 4135.3 & 4014.64 & 120.66 & 2.92 & True\n",
            "825 & 685 & 5712.51 & 5591.95 & 120.56 & 2.11 & True\n",
            "826 & 1141 & 2261.63 & 2141.5 & 120.13 & 5.31 & True\n",
            "827 & 1155 & 2556.88 & 2676.76 & 119.88 & 4.69 & False\n",
            "828 & 998 & 4763.84 & 4644.08 & 119.76 & 2.51 & True\n",
            "829 & 448 & 3694.1 & 3575.52 & 118.58 & 3.21 & True\n",
            "830 & 1082 & 4137.96 & 4256.11 & 118.15 & 2.86 & False\n",
            "831 & 598 & 4335.78 & 4453.89 & 118.11 & 2.72 & False\n",
            "832 & 227 & 4247.14 & 4129.69 & 117.45 & 2.77 & True\n",
            "833 & 547 & 4342.49 & 4459.47 & 116.98 & 2.69 & False\n",
            "834 & 831 & 5779.21 & 5662.52 & 116.69 & 2.02 & True\n",
            "835 & 686 & 4055.82 & 4172.42 & 116.6 & 2.87 & False\n",
            "836 & 1222 & 5868.36 & 5752.71 & 115.65 & 1.97 & True\n",
            "837 & 1219 & 3350.2 & 3465.25 & 115.05 & 3.43 & False\n",
            "838 & 415 & 3512.41 & 3397.66 & 114.75 & 3.27 & True\n",
            "839 & 908 & 4467.98 & 4581.92 & 113.94 & 2.55 & False\n",
            "840 & 1300 & 3732.38 & 3618.58 & 113.8 & 3.05 & True\n",
            "841 & 267 & 5492.33 & 5605.51 & 113.18 & 2.06 & False\n",
            "842 & 502 & 5488.69 & 5600.76 & 112.07 & 2.04 & False\n",
            "843 & 517 & 3579.18 & 3467.45 & 111.73 & 3.12 & True\n",
            "844 & 192 & 4085.95 & 4197.09 & 111.14 & 2.72 & False\n",
            "845 & 527 & 4412.86 & 4303.0 & 109.86 & 2.49 & True\n",
            "846 & 421 & 3580.72 & 3690.53 & 109.81 & 3.07 & False\n",
            "847 & 994 & 4116.57 & 4007.58 & 108.99 & 2.65 & True\n",
            "848 & 1164 & 3835.78 & 3727.0 & 108.78 & 2.84 & True\n",
            "849 & 874 & 3111.76 & 3003.01 & 108.75 & 3.49 & True\n",
            "850 & 273 & 4791.88 & 4683.39 & 108.49 & 2.26 & True\n",
            "851 & 613 & 4756.59 & 4648.26 & 108.33 & 2.28 & True\n",
            "852 & 1002 & 2673.73 & 2565.47 & 108.26 & 4.05 & True\n",
            "853 & 103 & 3568.32 & 3460.11 & 108.21 & 3.03 & True\n",
            "854 & 270 & 4943.7 & 5051.25 & 107.55 & 2.18 & False\n",
            "855 & 842 & 4537.1 & 4429.97 & 107.13 & 2.36 & True\n",
            "856 & 84 & 4138.96 & 4245.88 & 106.92 & 2.58 & False\n",
            "857 & 1133 & 4453.77 & 4346.85 & 106.92 & 2.4 & True\n",
            "858 & 930 & 4681.57 & 4574.96 & 106.61 & 2.28 & True\n",
            "859 & 725 & 2926.98 & 3033.46 & 106.48 & 3.64 & False\n",
            "860 & 1047 & 2587.89 & 2693.88 & 105.99 & 4.1 & False\n",
            "861 & 638 & 4284.64 & 4178.7 & 105.94 & 2.47 & True\n",
            "862 & 340 & 6157.07 & 6262.75 & 105.68 & 1.72 & False\n",
            "863 & 277 & 3404.29 & 3509.94 & 105.65 & 3.1 & False\n",
            "864 & 1107 & 3810.28 & 3915.64 & 105.36 & 2.77 & False\n",
            "865 & 1051 & 4639.24 & 4534.08 & 105.16 & 2.27 & True\n",
            "866 & 98 & 6105.17 & 6000.04 & 105.13 & 1.72 & True\n",
            "867 & 1171 & 6105.17 & 6000.04 & 105.13 & 1.72 & True\n",
            "868 & 1239 & 3552.29 & 3447.3 & 104.99 & 2.96 & True\n",
            "869 & 809 & 5606.04 & 5501.24 & 104.8 & 1.87 & True\n",
            "870 & 187 & 5205.45 & 5101.23 & 104.22 & 2.0 & True\n",
            "871 & 525 & 5205.45 & 5101.23 & 104.22 & 2.0 & True\n",
            "872 & 454 & 4306.72 & 4410.53 & 103.81 & 2.41 & False\n",
            "873 & 153 & 2455.01 & 2351.54 & 103.47 & 4.21 & True\n",
            "874 & 697 & 3726.43 & 3623.13 & 103.3 & 2.77 & True\n",
            "875 & 1081 & 4306.69 & 4409.99 & 103.3 & 2.4 & False\n",
            "876 & 1178 & 3798.67 & 3901.86 & 103.19 & 2.72 & False\n",
            "877 & 443 & 3766.34 & 3869.52 & 103.18 & 2.74 & False\n",
            "878 & 219 & 2736.54 & 2839.47 & 102.93 & 3.76 & False\n",
            "879 & 770 & 3285.3 & 3388.05 & 102.75 & 3.13 & False\n",
            "880 & 694 & 4115.67 & 4013.03 & 102.64 & 2.49 & True\n",
            "881 & 901 & 2497.05 & 2598.12 & 101.07 & 4.05 & False\n",
            "882 & 3 & 6912.72 & 7013.39 & 100.67 & 1.46 & False\n",
            "883 & 864 & 4373.61 & 4272.95 & 100.66 & 2.3 & True\n",
            "884 & 220 & 4276.49 & 4176.88 & 99.61 & 2.33 & True\n",
            "885 & 700 & 5135.43 & 5035.88 & 99.55 & 1.94 & True\n",
            "886 & 31 & 5593.07 & 5493.62 & 99.45 & 1.78 & True\n",
            "887 & 79 & 4124.16 & 4024.95 & 99.21 & 2.41 & True\n",
            "888 & 1012 & 5554.94 & 5456.65 & 98.29 & 1.77 & True\n",
            "889 & 883 & 3344.22 & 3245.99 & 98.23 & 2.94 & True\n",
            "890 & 88 & 3378.51 & 3476.36 & 97.85 & 2.9 & False\n",
            "891 & 651 & 4947.78 & 4850.03 & 97.75 & 1.98 & True\n",
            "892 & 378 & 4851.32 & 4756.77 & 94.55 & 1.95 & True\n",
            "893 & 54 & 5275.4 & 5368.98 & 93.58 & 1.77 & False\n",
            "894 & 334 & 3415.44 & 3321.86 & 93.58 & 2.74 & True\n",
            "895 & 368 & 2189.43 & 2282.62 & 93.19 & 4.26 & False\n",
            "896 & 838 & 2707.35 & 2800.09 & 92.74 & 3.43 & False\n",
            "897 & 1313 & 3674.28 & 3581.72 & 92.56 & 2.52 & True\n",
            "898 & 12 & 2834.26 & 2741.8 & 92.46 & 3.26 & True\n",
            "899 & 937 & 3988.03 & 3895.92 & 92.11 & 2.31 & True\n",
            "900 & 1064 & 5674.57 & 5582.61 & 91.96 & 1.62 & True\n",
            "901 & 411 & 5805.58 & 5713.77 & 91.81 & 1.58 & True\n",
            "902 & 829 & 3767.9 & 3859.59 & 91.69 & 2.43 & False\n",
            "903 & 979 & 4735.17 & 4643.63 & 91.54 & 1.93 & True\n",
            "904 & 512 & 4256.57 & 4347.95 & 91.38 & 2.15 & False\n",
            "905 & 1042 & 3111.55 & 3020.17 & 91.38 & 2.94 & True\n",
            "906 & 135 & 4882.5 & 4791.4 & 91.1 & 1.87 & True\n",
            "907 & 460 & 4777.57 & 4687.86 & 89.71 & 1.88 & True\n",
            "908 & 624 & 4908.37 & 4819.19 & 89.18 & 1.82 & True\n",
            "909 & 561 & 3812.36 & 3723.91 & 88.45 & 2.32 & True\n",
            "910 & 53 & 3202.66 & 3114.29 & 88.37 & 2.76 & True\n",
            "911 & 97 & 3253.76 & 3166.21 & 87.55 & 2.69 & True\n",
            "912 & 329 & 3865.34 & 3952.14 & 86.8 & 2.25 & False\n",
            "913 & 961 & 4997.06 & 5083.58 & 86.52 & 1.73 & False\n",
            "914 & 316 & 4070.14 & 3983.89 & 86.25 & 2.12 & True\n",
            "915 & 96 & 3958.41 & 4044.56 & 86.15 & 2.18 & False\n",
            "916 & 556 & 2563.14 & 2477.46 & 85.68 & 3.34 & True\n",
            "917 & 1149 & 4057.85 & 4143.42 & 85.57 & 2.11 & False\n",
            "918 & 275 & 3502.18 & 3416.8 & 85.38 & 2.44 & True\n",
            "919 & 354 & 4869.73 & 4784.75 & 84.98 & 1.75 & True\n",
            "920 & 420 & 3388.94 & 3304.14 & 84.8 & 2.5 & True\n",
            "921 & 1254 & 3523.4 & 3607.89 & 84.49 & 2.4 & False\n",
            "922 & 284 & 7079.84 & 6995.48 & 84.36 & 1.19 & True\n",
            "923 & 774 & 4326.8 & 4411.06 & 84.26 & 1.95 & False\n",
            "924 & 1054 & 5620.08 & 5703.27 & 83.19 & 1.48 & False\n",
            "925 & 777 & 4069.85 & 4152.66 & 82.81 & 2.03 & False\n",
            "926 & 970 & 5418.84 & 5336.16 & 82.68 & 1.53 & True\n",
            "927 & 351 & 4055.8 & 4138.31 & 82.51 & 2.03 & False\n",
            "928 & 269 & 3549.94 & 3632.3 & 82.36 & 2.32 & False\n",
            "929 & 518 & 3144.82 & 3062.86 & 81.96 & 2.61 & True\n",
            "930 & 234 & 2832.41 & 2750.63 & 81.78 & 2.89 & True\n",
            "931 & 618 & 3965.62 & 3883.99 & 81.63 & 2.06 & True\n",
            "932 & 413 & 5127.73 & 5046.29 & 81.44 & 1.59 & True\n",
            "933 & 654 & 3503.54 & 3584.97 & 81.43 & 2.32 & False\n",
            "934 & 169 & 3449.23 & 3368.45 & 80.78 & 2.34 & True\n",
            "935 & 789 & 4638.34 & 4719.11 & 80.77 & 1.74 & False\n",
            "936 & 51 & 3531.92 & 3451.79 & 80.13 & 2.27 & True\n",
            "937 & 111 & 5738.55 & 5658.44 & 80.11 & 1.4 & True\n",
            "938 & 923 & 3095.53 & 3175.41 & 79.88 & 2.58 & False\n",
            "939 & 483 & 3519.87 & 3598.51 & 78.64 & 2.23 & False\n",
            "940 & 903 & 4116.82 & 4038.27 & 78.55 & 1.91 & True\n",
            "941 & 1212 & 2965.5 & 3043.83 & 78.33 & 2.64 & False\n",
            "942 & 1014 & 5665.52 & 5587.26 & 78.26 & 1.38 & True\n",
            "943 & 929 & 4436.1 & 4358.68 & 77.42 & 1.75 & True\n",
            "944 & 396 & 4363.62 & 4286.56 & 77.06 & 1.77 & True\n",
            "945 & 1282 & 3755.49 & 3679.41 & 76.08 & 2.03 & True\n",
            "946 & 335 & 3513.74 & 3589.62 & 75.88 & 2.16 & False\n",
            "947 & 356 & 3794.73 & 3720.41 & 74.32 & 1.96 & True\n",
            "948 & 254 & 4600.93 & 4675.22 & 74.29 & 1.61 & False\n",
            "949 & 10 & 4259.35 & 4185.18 & 74.17 & 1.74 & True\n",
            "950 & 280 & 2800.69 & 2874.24 & 73.55 & 2.63 & False\n",
            "951 & 119 & 3174.11 & 3100.67 & 73.44 & 2.31 & True\n",
            "952 & 86 & 5457.6 & 5384.31 & 73.29 & 1.34 & True\n",
            "953 & 1052 & 3065.98 & 2992.8 & 73.18 & 2.39 & True\n",
            "954 & 248 & 4630.01 & 4557.99 & 72.02 & 1.56 & True\n",
            "955 & 29 & 3668.71 & 3596.89 & 71.82 & 1.96 & True\n",
            "956 & 823 & 3693.81 & 3622.18 & 71.63 & 1.94 & True\n",
            "957 & 843 & 4518.07 & 4446.83 & 71.24 & 1.58 & True\n",
            "958 & 1122 & 2853.87 & 2924.61 & 70.74 & 2.48 & False\n",
            "959 & 1297 & 3713.38 & 3643.04 & 70.34 & 1.89 & True\n",
            "960 & 439 & 3853.99 & 3783.7 & 70.29 & 1.82 & True\n",
            "961 & 748 & 2092.93 & 2162.87 & 69.94 & 3.34 & False\n",
            "962 & 1144 & 3653.15 & 3583.26 & 69.89 & 1.91 & True\n",
            "963 & 546 & 3417.24 & 3347.55 & 69.69 & 2.04 & True\n",
            "964 & 691 & 4083.65 & 4153.24 & 69.59 & 1.7 & False\n",
            "965 & 630 & 4787.31 & 4717.74 & 69.57 & 1.45 & True\n",
            "966 & 760 & 3956.0 & 4025.26 & 69.26 & 1.75 & False\n",
            "967 & 1251 & 2093.63 & 2162.87 & 69.24 & 3.31 & False\n",
            "968 & 190 & 3607.02 & 3537.89 & 69.13 & 1.92 & True\n",
            "969 & 322 & 3820.94 & 3889.95 & 69.01 & 1.81 & False\n",
            "970 & 1303 & 3956.24 & 3887.58 & 68.66 & 1.74 & True\n",
            "971 & 475 & 3688.66 & 3757.07 & 68.41 & 1.85 & False\n",
            "972 & 1233 & 2832.39 & 2900.73 & 68.34 & 2.41 & False\n",
            "973 & 570 & 3532.7 & 3464.57 & 68.13 & 1.93 & True\n",
            "974 & 136 & 4072.83 & 4140.93 & 68.1 & 1.67 & False\n",
            "975 & 305 & 3966.81 & 3898.92 & 67.89 & 1.71 & True\n",
            "976 & 652 & 6327.67 & 6260.08 & 67.59 & 1.07 & True\n",
            "977 & 856 & 4172.27 & 4105.11 & 67.16 & 1.61 & True\n",
            "978 & 1153 & 3490.7 & 3424.03 & 66.67 & 1.91 & True\n",
            "979 & 154 & 3608.28 & 3674.23 & 65.95 & 1.83 & False\n",
            "980 & 1302 & 4893.63 & 4828.1 & 65.53 & 1.34 & True\n",
            "981 & 422 & 4502.16 & 4438.09 & 64.07 & 1.42 & True\n",
            "982 & 114 & 1500.65 & 1564.31 & 63.66 & 4.24 & False\n",
            "983 & 1221 & 4592.68 & 4655.69 & 63.01 & 1.37 & False\n",
            "984 & 404 & 2256.13 & 2319.09 & 62.96 & 2.79 & False\n",
            "985 & 647 & 4647.86 & 4585.17 & 62.69 & 1.35 & True\n",
            "986 & 1156 & 2725.31 & 2663.08 & 62.23 & 2.28 & True\n",
            "987 & 1280 & 2100.94 & 2162.87 & 61.93 & 2.95 & False\n",
            "988 & 122 & 4700.46 & 4638.83 & 61.63 & 1.31 & True\n",
            "989 & 172 & 3782.45 & 3720.95 & 61.5 & 1.63 & True\n",
            "990 & 320 & 2853.86 & 2793.19 & 60.67 & 2.13 & True\n",
            "991 & 370 & 6382.73 & 6323.6 & 59.13 & 0.93 & True\n",
            "992 & 359 & 4659.23 & 4600.12 & 59.11 & 1.27 & True\n",
            "993 & 531 & 4114.49 & 4172.57 & 58.08 & 1.41 & False\n",
            "994 & 776 & 2667.67 & 2609.63 & 58.04 & 2.18 & True\n",
            "995 & 18 & 4356.59 & 4299.61 & 56.98 & 1.31 & True\n",
            "996 & 426 & 4749.39 & 4692.45 & 56.94 & 1.2 & True\n",
            "997 & 64 & 6382.87 & 6439.59 & 56.72 & 0.89 & False\n",
            "998 & 1188 & 3580.67 & 3636.42 & 55.75 & 1.56 & False\n",
            "999 & 485 & 4417.95 & 4473.08 & 55.13 & 1.25 & False\n",
            "1000 & 782 & 2943.19 & 2888.1 & 55.09 & 1.87 & True\n",
            "1001 & 240 & 3971.58 & 4026.01 & 54.43 & 1.37 & False\n",
            "1002 & 1184 & 5729.89 & 5784.09 & 54.2 & 0.95 & False\n",
            "1003 & 474 & 4888.5 & 4834.49 & 54.01 & 1.1 & True\n",
            "1004 & 116 & 4101.49 & 4155.23 & 53.74 & 1.31 & False\n",
            "1005 & 1032 & 4544.17 & 4597.88 & 53.71 & 1.18 & False\n",
            "1006 & 262 & 4357.77 & 4411.44 & 53.67 & 1.23 & False\n",
            "1007 & 948 & 3137.72 & 3191.29 & 53.57 & 1.71 & False\n",
            "1008 & 738 & 3622.55 & 3569.58 & 52.97 & 1.46 & True\n",
            "1009 & 975 & 2116.53 & 2169.25 & 52.72 & 2.49 & False\n",
            "1010 & 785 & 4347.1 & 4294.39 & 52.71 & 1.21 & True\n",
            "1011 & 802 & 3414.65 & 3361.97 & 52.68 & 1.54 & True\n",
            "1012 & 898 & 5578.44 & 5630.91 & 52.47 & 0.94 & False\n",
            "1013 & 371 & 4683.93 & 4631.6 & 52.33 & 1.12 & True\n",
            "1014 & 662 & 4257.05 & 4204.75 & 52.3 & 1.23 & True\n",
            "1015 & 860 & 3682.99 & 3734.65 & 51.66 & 1.4 & False\n",
            "1016 & 1307 & 3399.14 & 3450.65 & 51.51 & 1.52 & False\n",
            "1017 & 926 & 4967.64 & 4916.35 & 51.29 & 1.03 & True\n",
            "1018 & 492 & 3311.9 & 3362.49 & 50.59 & 1.53 & False\n",
            "1019 & 21 & 3892.02 & 3942.58 & 50.56 & 1.3 & False\n",
            "1020 & 919 & 5015.36 & 4964.83 & 50.53 & 1.01 & True\n",
            "1021 & 1009 & 7309.31 & 7359.68 & 50.37 & 0.69 & False\n",
            "1022 & 1094 & 3165.76 & 3115.46 & 50.3 & 1.59 & True\n",
            "1023 & 328 & 3449.94 & 3500.21 & 50.27 & 1.46 & False\n",
            "1024 & 333 & 4735.32 & 4785.56 & 50.24 & 1.06 & False\n",
            "1025 & 28 & 2833.35 & 2882.88 & 49.53 & 1.75 & False\n",
            "1026 & 687 & 4191.13 & 4240.57 & 49.44 & 1.18 & False\n",
            "1027 & 2 & 2654.89 & 2605.5 & 49.39 & 1.86 & True\n",
            "1028 & 859 & 2157.98 & 2207.28 & 49.3 & 2.28 & False\n",
            "1029 & 924 & 2157.98 & 2207.28 & 49.3 & 2.28 & False\n",
            "1030 & 1249 & 4000.62 & 3951.55 & 49.07 & 1.23 & True\n",
            "1031 & 203 & 4732.55 & 4683.6 & 48.95 & 1.03 & True\n",
            "1032 & 427 & 5001.07 & 4952.24 & 48.83 & 0.98 & True\n",
            "1033 & 414 & 5878.97 & 5927.69 & 48.72 & 0.83 & False\n",
            "1034 & 895 & 3716.8 & 3669.12 & 47.68 & 1.28 & True\n",
            "1035 & 985 & 4612.54 & 4565.09 & 47.45 & 1.03 & True\n",
            "1036 & 1037 & 4801.23 & 4753.82 & 47.41 & 0.99 & True\n",
            "1037 & 231 & 4993.51 & 4946.49 & 47.02 & 0.94 & True\n",
            "1038 & 142 & 3656.06 & 3702.55 & 46.49 & 1.27 & False\n",
            "1039 & 1057 & 2856.32 & 2811.25 & 45.07 & 1.58 & True\n",
            "1040 & 669 & 5567.89 & 5523.01 & 44.88 & 0.81 & True\n",
            "1041 & 1146 & 4662.86 & 4618.01 & 44.85 & 0.96 & True\n",
            "1042 & 65 & 3121.24 & 3076.65 & 44.59 & 1.43 & True\n",
            "1043 & 189 & 3121.24 & 3076.65 & 44.59 & 1.43 & True\n",
            "1044 & 616 & 6238.31 & 6193.75 & 44.56 & 0.71 & True\n",
            "1045 & 355 & 2475.88 & 2520.41 & 44.53 & 1.8 & False\n",
            "1046 & 1265 & 2475.88 & 2520.41 & 44.53 & 1.8 & False\n",
            "1047 & 1096 & 4113.7 & 4157.81 & 44.11 & 1.07 & False\n",
            "1048 & 360 & 5666.14 & 5709.83 & 43.69 & 0.77 & False\n",
            "1049 & 574 & 2682.34 & 2638.83 & 43.51 & 1.62 & True\n",
            "1050 & 265 & 4420.37 & 4463.59 & 43.22 & 0.98 & False\n",
            "1051 & 1225 & 3915.55 & 3958.62 & 43.07 & 1.1 & False\n",
            "1052 & 913 & 4119.68 & 4162.66 & 42.98 & 1.04 & False\n",
            "1053 & 628 & 3366.13 & 3408.87 & 42.74 & 1.27 & False\n",
            "1054 & 1247 & 4900.46 & 4942.89 & 42.43 & 0.87 & False\n",
            "1055 & 550 & 3138.08 & 3180.13 & 42.05 & 1.34 & False\n",
            "1056 & 202 & 3995.48 & 3953.46 & 42.02 & 1.05 & True\n",
            "1057 & 719 & 2258.59 & 2216.93 & 41.66 & 1.84 & True\n",
            "1058 & 214 & 4672.93 & 4631.6 & 41.33 & 0.88 & True\n",
            "1059 & 1043 & 3321.49 & 3362.6 & 41.11 & 1.24 & False\n",
            "1060 & 688 & 4251.13 & 4210.2 & 40.93 & 0.96 & True\n",
            "1061 & 466 & 4530.91 & 4490.07 & 40.84 & 0.9 & True\n",
            "1062 & 980 & 3161.07 & 3201.51 & 40.44 & 1.28 & False\n",
            "1063 & 644 & 5456.44 & 5496.65 & 40.21 & 0.74 & False\n",
            "1064 & 39 & 4631.92 & 4592.37 & 39.55 & 0.85 & True\n",
            "1065 & 1259 & 3829.94 & 3869.46 & 39.52 & 1.03 & False\n",
            "1066 & 1182 & 4136.56 & 4098.09 & 38.47 & 0.93 & True\n",
            "1067 & 712 & 4995.84 & 5034.28 & 38.44 & 0.77 & False\n",
            "1068 & 27 & 5753.09 & 5714.74 & 38.35 & 0.67 & True\n",
            "1069 & 959 & 4801.11 & 4762.94 & 38.17 & 0.8 & True\n",
            "1070 & 703 & 2095.66 & 2133.45 & 37.79 & 1.8 & False\n",
            "1071 & 327 & 3162.45 & 3199.95 & 37.5 & 1.19 & False\n",
            "1072 & 1004 & 4121.23 & 4158.47 & 37.24 & 0.9 & False\n",
            "1073 & 1285 & 3246.9 & 3283.8 & 36.9 & 1.14 & False\n",
            "1074 & 194 & 4727.0 & 4690.14 & 36.86 & 0.78 & True\n",
            "1075 & 299 & 3957.52 & 3920.67 & 36.85 & 0.93 & True\n",
            "1076 & 756 & 4201.22 & 4164.48 & 36.74 & 0.87 & True\n",
            "1077 & 1065 & 4798.06 & 4761.52 & 36.54 & 0.76 & True\n",
            "1078 & 682 & 4574.85 & 4611.24 & 36.39 & 0.8 & False\n",
            "1079 & 693 & 3433.37 & 3397.05 & 36.32 & 1.06 & True\n",
            "1080 & 984 & 2926.14 & 2962.17 & 36.03 & 1.23 & False\n",
            "1081 & 605 & 2743.98 & 2779.84 & 35.86 & 1.31 & False\n",
            "1082 & 1150 & 3063.54 & 3027.75 & 35.79 & 1.17 & True\n",
            "1083 & 1104 & 5538.23 & 5502.46 & 35.77 & 0.65 & True\n",
            "1084 & 690 & 6473.7 & 6438.0 & 35.7 & 0.55 & True\n",
            "1085 & 109 & 3487.31 & 3451.7 & 35.61 & 1.02 & True\n",
            "1086 & 128 & 3172.91 & 3208.22 & 35.31 & 1.11 & False\n",
            "1087 & 702 & 4728.27 & 4693.31 & 34.96 & 0.74 & True\n",
            "1088 & 186 & 4210.73 & 4245.45 & 34.72 & 0.82 & False\n",
            "1089 & 1203 & 2098.79 & 2133.45 & 34.66 & 1.65 & False\n",
            "1090 & 1097 & 4108.72 & 4074.22 & 34.5 & 0.84 & True\n",
            "1091 & 42 & 2877.39 & 2911.82 & 34.43 & 1.2 & False\n",
            "1092 & 357 & 3525.15 & 3559.54 & 34.39 & 0.98 & False\n",
            "1093 & 32 & 2741.29 & 2707.88 & 33.41 & 1.22 & True\n",
            "1094 & 108 & 4471.36 & 4438.09 & 33.27 & 0.74 & True\n",
            "1095 & 349 & 2100.54 & 2133.45 & 32.91 & 1.57 & False\n",
            "1096 & 977 & 3588.84 & 3556.04 & 32.8 & 0.91 & True\n",
            "1097 & 318 & 2100.74 & 2133.45 & 32.71 & 1.56 & False\n",
            "1098 & 196 & 4459.04 & 4426.79 & 32.25 & 0.72 & True\n",
            "1099 & 330 & 4459.04 & 4426.79 & 32.25 & 0.72 & True\n",
            "1100 & 928 & 4459.04 & 4426.79 & 32.25 & 0.72 & True\n",
            "1101 & 90 & 2407.97 & 2439.78 & 31.81 & 1.32 & False\n",
            "1102 & 410 & 4770.79 & 4739.14 & 31.65 & 0.66 & True\n",
            "1103 & 211 & 3100.45 & 3132.08 & 31.63 & 1.02 & False\n",
            "1104 & 1250 & 3994.63 & 3963.09 & 31.54 & 0.79 & True\n",
            "1105 & 822 & 3758.57 & 3789.59 & 31.02 & 0.83 & False\n",
            "1106 & 1143 & 3577.26 & 3546.73 & 30.53 & 0.85 & True\n",
            "1107 & 902 & 3622.25 & 3591.91 & 30.34 & 0.84 & True\n",
            "1108 & 125 & 2874.32 & 2904.61 & 30.29 & 1.05 & False\n",
            "1109 & 252 & 2874.32 & 2904.61 & 30.29 & 1.05 & False\n",
            "1110 & 1173 & 4228.68 & 4258.67 & 29.99 & 0.71 & False\n",
            "1111 & 820 & 3694.15 & 3664.57 & 29.58 & 0.8 & True\n",
            "1112 & 888 & 4563.84 & 4592.82 & 28.98 & 0.63 & False\n",
            "1113 & 870 & 4862.75 & 4834.2 & 28.55 & 0.59 & True\n",
            "1114 & 1304 & 4616.9 & 4588.58 & 28.32 & 0.61 & True\n",
            "1115 & 1074 & 4606.12 & 4634.31 & 28.19 & 0.61 & False\n",
            "1116 & 379 & 5449.02 & 5420.99 & 28.03 & 0.51 & True\n",
            "1117 & 539 & 4828.49 & 4800.83 & 27.66 & 0.57 & True\n",
            "1118 & 1257 & 5259.74 & 5232.24 & 27.5 & 0.52 & True\n",
            "1119 & 729 & 3041.88 & 3014.46 & 27.42 & 0.9 & True\n",
            "1120 & 787 & 3041.88 & 3014.46 & 27.42 & 0.9 & True\n",
            "1121 & 1039 & 3041.88 & 3014.46 & 27.42 & 0.9 & True\n",
            "1122 & 225 & 2975.6 & 2948.59 & 27.01 & 0.91 & True\n",
            "1123 & 1050 & 6133.53 & 6160.53 & 27.0 & 0.44 & False\n",
            "1124 & 1022 & 3063.4 & 3036.58 & 26.82 & 0.88 & True\n",
            "1125 & 611 & 3573.4 & 3546.73 & 26.67 & 0.75 & True\n",
            "1126 & 80 & 7369.57 & 7395.75 & 26.18 & 0.36 & False\n",
            "1127 & 383 & 5405.29 & 5379.13 & 26.16 & 0.48 & True\n",
            "1128 & 307 & 4546.48 & 4520.69 & 25.79 & 0.57 & True\n",
            "1129 & 1296 & 2890.17 & 2864.68 & 25.49 & 0.88 & True\n",
            "1130 & 828 & 2638.06 & 2663.5 & 25.44 & 0.96 & False\n",
            "1131 & 505 & 5225.13 & 5200.13 & 25.0 & 0.48 & True\n",
            "1132 & 752 & 4473.64 & 4498.53 & 24.89 & 0.56 & False\n",
            "1133 & 167 & 4191.33 & 4216.04 & 24.71 & 0.59 & False\n",
            "1134 & 920 & 4244.33 & 4219.85 & 24.48 & 0.58 & True\n",
            "1135 & 1242 & 4506.32 & 4481.9 & 24.42 & 0.54 & True\n",
            "1136 & 853 & 6475.4 & 6451.3 & 24.1 & 0.37 & True\n",
            "1137 & 1068 & 3161.52 & 3185.52 & 24.0 & 0.76 & False\n",
            "1138 & 1308 & 6773.04 & 6749.08 & 23.96 & 0.35 & True\n",
            "1139 & 1116 & 5718.85 & 5695.15 & 23.7 & 0.41 & True\n",
            "1140 & 1220 & 4570.86 & 4594.13 & 23.27 & 0.51 & False\n",
            "1141 & 92 & 3463.79 & 3441.07 & 22.72 & 0.66 & True\n",
            "1142 & 208 & 4018.14 & 3995.59 & 22.55 & 0.56 & True\n",
            "1143 & 76 & 2753.04 & 2730.53 & 22.51 & 0.82 & True\n",
            "1144 & 896 & 4466.21 & 4443.9 & 22.31 & 0.5 & True\n",
            "1145 & 430 & 2711.06 & 2732.92 & 21.86 & 0.81 & False\n",
            "1146 & 947 & 1545.04 & 1566.51 & 21.47 & 1.39 & False\n",
            "1147 & 1266 & 4638.31 & 4617.01 & 21.3 & 0.46 & True\n",
            "1148 & 805 & 5504.13 & 5483.19 & 20.94 & 0.38 & True\n",
            "1149 & 740 & 4716.21 & 4736.87 & 20.66 & 0.44 & False\n",
            "1150 & 71 & 6449.61 & 6428.97 & 20.64 & 0.32 & True\n",
            "1151 & 1263 & 5446.35 & 5425.74 & 20.61 & 0.38 & True\n",
            "1152 & 921 & 1802.36 & 1821.84 & 19.48 & 1.08 & False\n",
            "1153 & 101 & 3027.66 & 3008.25 & 19.41 & 0.64 & True\n",
            "1154 & 534 & 3027.66 & 3008.25 & 19.41 & 0.64 & True\n",
            "1155 & 237 & 4216.68 & 4235.46 & 18.78 & 0.45 & False\n",
            "1156 & 129 & 5703.76 & 5722.48 & 18.72 & 0.33 & False\n",
            "1157 & 911 & 3485.58 & 3504.02 & 18.44 & 0.53 & False\n",
            "1158 & 463 & 5655.94 & 5674.33 & 18.39 & 0.33 & False\n",
            "1159 & 1172 & 4735.53 & 4753.81 & 18.28 & 0.39 & False\n",
            "1160 & 365 & 6162.69 & 6180.78 & 18.09 & 0.29 & False\n",
            "1161 & 711 & 2219.44 & 2201.36 & 18.08 & 0.81 & True\n",
            "1162 & 188 & 3752.39 & 3770.27 & 17.88 & 0.48 & False\n",
            "1163 & 733 & 3174.41 & 3157.72 & 16.69 & 0.53 & True\n",
            "1164 & 599 & 5666.14 & 5682.5 & 16.36 & 0.29 & False\n",
            "1165 & 614 & 3789.78 & 3805.65 & 15.87 & 0.42 & False\n",
            "1166 & 917 & 3928.1 & 3912.31 & 15.79 & 0.4 & True\n",
            "1167 & 907 & 3496.75 & 3512.33 & 15.58 & 0.45 & False\n",
            "1168 & 722 & 4004.81 & 4019.84 & 15.03 & 0.38 & False\n",
            "1169 & 386 & 3597.73 & 3582.98 & 14.75 & 0.41 & True\n",
            "1170 & 973 & 4023.93 & 4009.24 & 14.69 & 0.37 & True\n",
            "1171 & 433 & 4406.06 & 4420.57 & 14.51 & 0.33 & False\n",
            "1172 & 604 & 5697.61 & 5711.84 & 14.23 & 0.25 & False\n",
            "1173 & 1029 & 6257.2 & 6243.06 & 14.14 & 0.23 & True\n",
            "1174 & 180 & 4044.88 & 4058.71 & 13.83 & 0.34 & False\n",
            "1175 & 554 & 2471.63 & 2485.43 & 13.8 & 0.56 & False\n",
            "1176 & 1244 & 2755.18 & 2742.17 & 13.01 & 0.47 & True\n",
            "1177 & 133 & 4460.74 & 4473.6 & 12.86 & 0.29 & False\n",
            "1178 & 69 & 2140.37 & 2152.94 & 12.57 & 0.59 & False\n",
            "1179 & 846 & 3217.95 & 3205.68 & 12.27 & 0.38 & True\n",
            "1180 & 164 & 6215.04 & 6202.8 & 12.24 & 0.2 & True\n",
            "1181 & 1295 & 2189.95 & 2178.17 & 11.78 & 0.54 & True\n",
            "1182 & 446 & 5339.75 & 5351.31 & 11.56 & 0.22 & False\n",
            "1183 & 6 & 5917.8 & 5929.21 & 11.41 & 0.19 & False\n",
            "1184 & 263 & 3448.28 & 3436.96 & 11.32 & 0.33 & True\n",
            "1185 & 1223 & 2098.96 & 2087.76 & 11.2 & 0.53 & True\n",
            "1186 & 507 & 3499.05 & 3487.98 & 11.07 & 0.32 & True\n",
            "1187 & 213 & 4045.79 & 4034.88 & 10.91 & 0.27 & True\n",
            "1188 & 765 & 4045.79 & 4034.88 & 10.91 & 0.27 & True\n",
            "1189 & 646 & 3576.77 & 3565.87 & 10.9 & 0.3 & True\n",
            "1190 & 1253 & 6182.07 & 6171.46 & 10.61 & 0.17 & True\n",
            "1191 & 222 & 1834.03 & 1844.51 & 10.48 & 0.57 & False\n",
            "1192 & 668 & 4779.11 & 4768.88 & 10.23 & 0.21 & True\n",
            "1193 & 952 & 3139.59 & 3129.39 & 10.2 & 0.32 & True\n",
            "1194 & 1118 & 3139.59 & 3129.39 & 10.2 & 0.32 & True\n",
            "1195 & 350 & 2984.26 & 2974.35 & 9.91 & 0.33 & True\n",
            "1196 & 509 & 3125.48 & 3135.33 & 9.85 & 0.32 & False\n",
            "1197 & 418 & 4607.51 & 4617.01 & 9.5 & 0.21 & False\n",
            "1198 & 272 & 4252.32 & 4261.45 & 9.13 & 0.21 & False\n",
            "1199 & 963 & 3829.83 & 3838.61 & 8.78 & 0.23 & False\n",
            "1200 & 679 & 4071.12 & 4062.37 & 8.75 & 0.21 & True\n",
            "1201 & 541 & 2436.64 & 2445.21 & 8.57 & 0.35 & False\n",
            "1202 & 137 & 7335.82 & 7344.33 & 8.51 & 0.12 & False\n",
            "1203 & 342 & 3976.97 & 3985.36 & 8.39 & 0.21 & False\n",
            "1204 & 235 & 2921.35 & 2913.08 & 8.27 & 0.28 & True\n",
            "1205 & 0 & 2203.45 & 2211.64 & 8.19 & 0.37 & False\n",
            "1206 & 915 & 3793.26 & 3801.13 & 7.87 & 0.21 & False\n",
            "1207 & 150 & 3016.96 & 3024.64 & 7.68 & 0.25 & False\n",
            "1208 & 294 & 5246.51 & 5253.17 & 6.66 & 0.13 & False\n",
            "1209 & 353 & 5246.51 & 5253.17 & 6.66 & 0.13 & False\n",
            "1210 & 727 & 3769.33 & 3775.97 & 6.64 & 0.18 & False\n",
            "1211 & 576 & 3007.49 & 3000.86 & 6.63 & 0.22 & True\n",
            "1212 & 640 & 2953.97 & 2947.34 & 6.63 & 0.22 & True\n",
            "1213 & 253 & 2995.88 & 2989.7 & 6.18 & 0.21 & True\n",
            "1214 & 249 & 2411.84 & 2417.93 & 6.09 & 0.25 & False\n",
            "1215 & 565 & 3113.68 & 3107.67 & 6.01 & 0.19 & True\n",
            "1216 & 1048 & 3056.97 & 3062.86 & 5.89 & 0.19 & False\n",
            "1217 & 147 & 5157.36 & 5151.55 & 5.81 & 0.11 & True\n",
            "1218 & 841 & 3038.26 & 3032.52 & 5.74 & 0.19 & True\n",
            "1219 & 390 & 6821.38 & 6827.05 & 5.67 & 0.08 & False\n",
            "1220 & 912 & 2915.5 & 2909.86 & 5.64 & 0.19 & True\n",
            "1221 & 75 & 5920.69 & 5915.26 & 5.43 & 0.09 & True\n",
            "1222 & 818 & 4341.07 & 4346.34 & 5.27 & 0.12 & False\n",
            "1223 & 1069 & 4341.07 & 4346.34 & 5.27 & 0.12 & False\n",
            "1224 & 1190 & 4341.07 & 4346.34 & 5.27 & 0.12 & False\n",
            "1225 & 11 & 3110.31 & 3105.34 & 4.97 & 0.16 & True\n",
            "1226 & 1084 & 3110.31 & 3105.34 & 4.97 & 0.16 & True\n",
            "1227 & 1031 & 2176.46 & 2181.38 & 4.92 & 0.23 & False\n",
            "1228 & 602 & 4816.47 & 4821.21 & 4.74 & 0.1 & False\n",
            "1229 & 1077 & 4715.41 & 4719.88 & 4.47 & 0.09 & False\n",
            "1230 & 1140 & 4220.54 & 4216.09 & 4.45 & 0.11 & True\n",
            "1231 & 260 & 2355.33 & 2350.92 & 4.41 & 0.19 & True\n",
            "1232 & 1148 & 3101.3 & 3105.65 & 4.35 & 0.14 & False\n",
            "1233 & 780 & 5270.42 & 5274.76 & 4.34 & 0.08 & False\n",
            "1234 & 197 & 6252.6 & 6248.33 & 4.27 & 0.07 & True\n",
            "1235 & 641 & 6252.6 & 6248.33 & 4.27 & 0.07 & True\n",
            "1236 & 886 & 6252.6 & 6248.33 & 4.27 & 0.07 & True\n",
            "1237 & 1204 & 2414.92 & 2419.15 & 4.23 & 0.18 & False\n",
            "1238 & 1017 & 4078.9 & 4083.02 & 4.12 & 0.1 & False\n",
            "1239 & 304 & 2129.34 & 2133.45 & 4.11 & 0.19 & False\n",
            "1240 & 795 & 6244.47 & 6248.33 & 3.86 & 0.06 & False\n",
            "1241 & 884 & 3183.08 & 3186.92 & 3.84 & 0.12 & False\n",
            "1242 & 1292 & 2357.79 & 2353.99 & 3.8 & 0.16 & True\n",
            "1243 & 642 & 5749.75 & 5746.03 & 3.72 & 0.06 & True\n",
            "1244 & 1206 & 5749.75 & 5746.03 & 3.72 & 0.06 & True\n",
            "1245 & 751 & 2570.99 & 2567.28 & 3.71 & 0.14 & True\n",
            "1246 & 526 & 2084.27 & 2087.76 & 3.49 & 0.17 & False\n",
            "1247 & 459 & 2084.42 & 2087.76 & 3.34 & 0.16 & False\n",
            "1248 & 68 & 2084.56 & 2087.76 & 3.2 & 0.15 & False\n",
            "1249 & 1134 & 3011.16 & 3014.11 & 2.95 & 0.1 & False\n",
            "1250 & 1197 & 2457.18 & 2454.29 & 2.89 & 0.12 & True\n",
            "1251 & 845 & 2462.37 & 2459.49 & 2.88 & 0.12 & True\n",
            "1252 & 1040 & 2979.54 & 2982.41 & 2.87 & 0.1 & False\n",
            "1253 & 741 & 2956.6 & 2953.77 & 2.83 & 0.1 & True\n",
            "1254 & 1115 & 3230.65 & 3233.39 & 2.74 & 0.08 & False\n",
            "1255 & 332 & 2096.29 & 2098.99 & 2.7 & 0.13 & False\n",
            "1256 & 347 & 2096.29 & 2098.99 & 2.7 & 0.13 & False\n",
            "1257 & 757 & 2096.29 & 2098.99 & 2.7 & 0.13 & False\n",
            "1258 & 1105 & 2096.29 & 2098.99 & 2.7 & 0.13 & False\n",
            "1259 & 678 & 4787.07 & 4784.4 & 2.67 & 0.06 & True\n",
            "1260 & 1034 & 2253.91 & 2251.28 & 2.63 & 0.12 & True\n",
            "1261 & 1073 & 2253.91 & 2251.28 & 2.63 & 0.12 & True\n",
            "1262 & 308 & 2161.39 & 2163.94 & 2.55 & 0.12 & False\n",
            "1263 & 317 & 3936.6 & 3934.1 & 2.5 & 0.06 & True\n",
            "1264 & 471 & 2167.04 & 2169.36 & 2.32 & 0.11 & False\n",
            "1265 & 865 & 5285.96 & 5283.69 & 2.27 & 0.04 & True\n",
            "1266 & 1241 & 2153.03 & 2155.08 & 2.05 & 0.1 & False\n",
            "1267 & 750 & 6329.11 & 6331.13 & 2.02 & 0.03 & False\n",
            "1268 & 804 & 6329.11 & 6331.13 & 2.02 & 0.03 & False\n",
            "1269 & 1279 & 6329.11 & 6331.13 & 2.02 & 0.03 & False\n",
            "1270 & 455 & 2784.7 & 2786.55 & 1.85 & 0.07 & False\n",
            "1271 & 675 & 2789.49 & 2791.14 & 1.65 & 0.06 & False\n",
            "1272 & 759 & 2789.49 & 2791.14 & 1.65 & 0.06 & False\n",
            "1273 & 1275 & 2789.49 & 2791.14 & 1.65 & 0.06 & False\n",
            "1274 & 170 & 2160.95 & 2162.3 & 1.35 & 0.06 & False\n",
            "1275 & 1027 & 6214.83 & 6215.76 & 0.93 & 0.01 & False\n",
            "1276 & 469 & 3480.42 & 3481.16 & 0.74 & 0.02 & False\n",
            "1277 & 1028 & 2170.21 & 2169.48 & 0.73 & 0.03 & True\n",
            "1278 & 989 & 2088.41 & 2087.76 & 0.65 & 0.03 & True\n",
            "1279 & 221 & 2329.13 & 2329.73 & 0.6 & 0.03 & False\n",
            "1280 & 399 & 2329.13 & 2329.73 & 0.6 & 0.03 & False\n",
            "1281 & 1229 & 2329.13 & 2329.73 & 0.6 & 0.03 & False\n",
            "1282 & 1187 & 3037.61 & 3037.09 & 0.52 & 0.02 & True\n",
            "1283 & 311 & 2736.75 & 2737.19 & 0.44 & 0.02 & False\n",
            "1284 & 746 & 2690.25 & 2690.61 & 0.36 & 0.01 & False\n",
            "1285 & 982 & 2690.25 & 2690.61 & 0.36 & 0.01 & False\n",
            "1286 & 619 & 4304.71 & 4305.05 & 0.34 & 0.01 & False\n",
            "1287 & 664 & 4304.71 & 4305.05 & 0.34 & 0.01 & False\n",
            "1288 & 840 & 4304.71 & 4305.05 & 0.34 & 0.01 & False\n",
            "1289 & 14 & 2087.26 & 2087.55 & 0.29 & 0.01 & False\n",
            "1290 & 193 & 2082.12 & 2082.38 & 0.26 & 0.01 & False\n",
            "1291 & 127 & 2412.87 & 2412.63 & 0.24 & 0.01 & True\n",
            "1292 & 171 & 2412.87 & 2412.63 & 0.24 & 0.01 & True\n",
            "1293 & 772 & 2082.16 & 2082.38 & 0.22 & 0.01 & False\n",
            "1294 & 403 & 4289.77 & 4289.92 & 0.15 & 0.0 & False\n",
            "1295 & 581 & 4289.77 & 4289.92 & 0.15 & 0.0 & False\n",
            "1296 & 623 & 4289.77 & 4289.92 & 0.15 & 0.0 & False\n",
            "1297 & 852 & 2413.9 & 2413.8 & 0.1 & 0.0 & True\n",
            "1298 & 579 & 2413.55 & 2413.48 & 0.07 & 0.0 & True\n",
            "1299 & 779 & 2413.55 & 2413.48 & 0.07 & 0.0 & True\n",
            "1300 & 191 & 3415.6 & 3415.64 & 0.04 & 0.0 & False\n",
            "1301 & 792 & 3415.6 & 3415.64 & 0.04 & 0.0 & False\n",
            "1302 & 552 & 2413.32 & 2413.35 & 0.03 & 0.0 & False\n",
            "1303 & 655 & 6273.7 & 6273.68 & 0.02 & 0.0 & True\n",
            "1304 & 1008 & 6273.7 & 6273.68 & 0.02 & 0.0 & True\n",
            "1305 & 238 & 2329.47 & 2329.46 & 0.01 & 0.0 & True\n",
            "1306 & 373 & 2331.13 & 2331.12 & 0.01 & 0.0 & True\n",
            "1307 & 851 & 2330.13 & 2330.12 & 0.01 & 0.0 & True\n",
            "1308 & 953 & 2330.13 & 2330.12 & 0.01 & 0.0 & True\n",
            "1309 & 983 & 2331.13 & 2331.12 & 0.01 & 0.0 & True\n",
            "1310 & 1066 & 2331.13 & 2331.12 & 0.01 & 0.0 & True\n",
            "1311 & 1100 & 2329.47 & 2329.46 & 0.01 & 0.0 & True\n",
            "1312 & 94 & 2579.24 & 2579.24 & 0.0 & -0.0 & False\n",
            "1313 & 407 & 2330.8 & 2330.8 & 0.0 & -0.0 & False\n",
            "1314 & 1217 & 2330.58 & 2330.58 & 0.0 & -0.0 & False\n"
          ],
          "name": "stdout"
        }
      ]
    }
  ]
}
